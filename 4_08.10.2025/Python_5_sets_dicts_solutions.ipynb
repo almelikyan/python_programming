{
 "cells": [
  {
   "cell_type": "markdown",
   "metadata": {},
   "source": [
    "# Курс \"Программирование на Python\"\n",
    "\n",
    "\n",
    "# Тема 5. Множества и словари"
   ]
  },
  {
   "cell_type": "markdown",
   "metadata": {},
   "source": [
    "## Содержание\n",
    "* [1. Множества](#chapter1)\n",
    "    * [1.1. Специфика множеств](#section_1_1)\n",
    "    * [1.2. Операции над множествами](#section_1_2)\n",
    "    * [1.3. Методы по работе со множествами](#section_1_3)\n",
    "    * [1.4. Неизменяемые множества (frozenset)](#section_1_4) \n",
    "    * [1.5. Генераторы множеств (Set Comprehensions)](#section_1_5) \n",
    "* [2. Словари](#chapter2)\n",
    "    * [2.1. Создание словарей](#section_2_1)\n",
    "    * [2.2. Доступ к элементам словаря](#section_2_2)\n",
    "    * [2.3. Операции над словарями](#section_2_3)\n",
    "    * [2.4. Словарные включения (Dictionary Comprehensions)](#section_2_4)    \n",
    "* [3. Сравнение списков, кортежей, словарей и множеств](#chapter3)"
   ]
  },
  {
   "cell_type": "markdown",
   "metadata": {},
   "source": [
    "## 1. Множества <a class=\"anchor\" id=\"chapter1\"></a>"
   ]
  },
  {
   "cell_type": "markdown",
   "metadata": {},
   "source": [
    "### 1.1. Специфика множеств <a id=\"section_1_1\"></a>"
   ]
  },
  {
   "cell_type": "markdown",
   "metadata": {},
   "source": [
    "Множество хранит некоторое количество объектов, но, в отличие от списка, может состоять только из уникальных объектов. Элементы во множестве не хранятся упорядоченно, индексация к ним не применима.\n",
    "\n",
    "Тип данных называется `set`. Функции `set()` можно передать произвольную последовательность, которая будет преобразована во множество."
   ]
  },
  {
   "cell_type": "code",
   "execution_count": 1,
   "metadata": {},
   "outputs": [
    {
     "name": "stdout",
     "output_type": "stream",
     "text": [
      "{10, 20, 30}\n",
      "{4, 5, 6}\n",
      "{0, 1, 2, 3, 4, 5, 6, 7, 8, 9}\n",
      "set()\n"
     ]
    }
   ],
   "source": [
    "print(set([10, 20, 30]))  # передаем список\n",
    "print(set((4, 5, 6)))  # передаем кортеж\n",
    "print(set(range(10)))\n",
    "print(set()) # пустое множество"
   ]
  },
  {
   "cell_type": "markdown",
   "metadata": {},
   "source": [
    "После преобразования списка во множество дубликаты удаляются."
   ]
  },
  {
   "cell_type": "code",
   "execution_count": 2,
   "metadata": {},
   "outputs": [
    {
     "name": "stdout",
     "output_type": "stream",
     "text": [
      "{10, 20, 50, 30}\n"
     ]
    }
   ],
   "source": [
    "print(set([20, 10, 30, 10, 20, 10, 30, 50, 10])) "
   ]
  },
  {
   "cell_type": "markdown",
   "metadata": {},
   "source": [
    "Можно также перечислить элементы множества в фигурных скобках."
   ]
  },
  {
   "cell_type": "code",
   "execution_count": 3,
   "metadata": {},
   "outputs": [
    {
     "name": "stdout",
     "output_type": "stream",
     "text": [
      "{32, 2, 3, 5, 54, 7, 12}\n",
      "{'синий', 'белый', 'красный'}\n"
     ]
    }
   ],
   "source": [
    "numbers = {2, 3, 12, 54, 5, 32, 7, 2, 54, 5}\n",
    "colors = {\"красный\", \"синий\", \"белый\", \"синий\"}\n",
    "print(numbers)\n",
    "print(colors)"
   ]
  },
  {
   "cell_type": "code",
   "execution_count": 4,
   "metadata": {},
   "outputs": [
    {
     "name": "stdout",
     "output_type": "stream",
     "text": [
      "7\n",
      "True\n",
      "True\n",
      "False\n"
     ]
    }
   ],
   "source": [
    "print(len(numbers)) # длина множества\n",
    "print(5 in numbers) # проверка на наличие элемента во множестве\n",
    "print(\"синий\" in colors)\n",
    "print(\"желтый\" in colors)"
   ]
  },
  {
   "cell_type": "code",
   "execution_count": 5,
   "metadata": {},
   "outputs": [
    {
     "ename": "TypeError",
     "evalue": "'set' object is not subscriptable",
     "output_type": "error",
     "traceback": [
      "\u001b[0;31m---------------------------------------------------------------------------\u001b[0m",
      "\u001b[0;31mTypeError\u001b[0m                                 Traceback (most recent call last)",
      "Cell \u001b[0;32mIn[5], line 1\u001b[0m\n\u001b[0;32m----> 1\u001b[0m numbers[\u001b[38;5;241m1\u001b[39m]\n",
      "\u001b[0;31mTypeError\u001b[0m: 'set' object is not subscriptable"
     ]
    }
   ],
   "source": [
    "numbers[1]  # нельзя обратиться к элементу по индексу"
   ]
  },
  {
   "cell_type": "markdown",
   "metadata": {},
   "source": [
    "### 1.2. Операции над множествами <a id=\"section_1_2\"></a>"
   ]
  },
  {
   "cell_type": "markdown",
   "metadata": {},
   "source": [
    "Операции над множествами могут использоваться для решения задач, связанных с обработкой и сравнением уникальных данных. Они позволяют быстро находить общие элементы разных коллекций (пересечение), объединять данные без дубликатов (объединение), определять различия между наборами (разность и симметрическая разность), а также проверять включение одного множества в другое. Такие операции применяются в анализе данных, работе с базами данных, фильтрации, проверке условий и оптимизации алгоритмов, где важно учитывать только уникальные значения и их взаимные отношения."
   ]
  },
  {
   "cell_type": "markdown",
   "metadata": {},
   "source": [
    "__Проверка на вхождение подмножества во множество__"
   ]
  },
  {
   "cell_type": "code",
   "execution_count": 6,
   "metadata": {},
   "outputs": [],
   "source": [
    "a = {1, 2, 3, 4}\n",
    "b = {3, 4, 5, 6}\n",
    "c = {2, 3}\n",
    "d = {12, 13}"
   ]
  },
  {
   "cell_type": "code",
   "execution_count": 7,
   "metadata": {},
   "outputs": [
    {
     "data": {
      "text/plain": [
       "True"
      ]
     },
     "execution_count": 7,
     "metadata": {},
     "output_type": "execute_result"
    }
   ],
   "source": [
    "c <= a  # с является подмножеством а"
   ]
  },
  {
   "cell_type": "code",
   "execution_count": 8,
   "metadata": {},
   "outputs": [
    {
     "data": {
      "text/plain": [
       "True"
      ]
     },
     "execution_count": 8,
     "metadata": {},
     "output_type": "execute_result"
    }
   ],
   "source": [
    "c.issubset(a)  # можно также использовать метод issubset()"
   ]
  },
  {
   "cell_type": "code",
   "execution_count": 9,
   "metadata": {},
   "outputs": [
    {
     "data": {
      "text/plain": [
       "False"
      ]
     },
     "execution_count": 9,
     "metadata": {},
     "output_type": "execute_result"
    }
   ],
   "source": [
    "c <= b  # с не является подмножеством b"
   ]
  },
  {
   "cell_type": "code",
   "execution_count": 10,
   "metadata": {},
   "outputs": [
    {
     "data": {
      "text/plain": [
       "False"
      ]
     },
     "execution_count": 10,
     "metadata": {},
     "output_type": "execute_result"
    }
   ],
   "source": [
    "c.issubset(b)"
   ]
  },
  {
   "cell_type": "code",
   "execution_count": 11,
   "metadata": {},
   "outputs": [
    {
     "data": {
      "text/plain": [
       "False"
      ]
     },
     "execution_count": 11,
     "metadata": {},
     "output_type": "execute_result"
    }
   ],
   "source": [
    "a.issuperset(b)  # а не является надмножеством b"
   ]
  },
  {
   "cell_type": "code",
   "execution_count": 12,
   "metadata": {},
   "outputs": [
    {
     "ename": "NameError",
     "evalue": "name 'с' is not defined",
     "output_type": "error",
     "traceback": [
      "\u001b[0;31m---------------------------------------------------------------------------\u001b[0m",
      "\u001b[0;31mNameError\u001b[0m                                 Traceback (most recent call last)",
      "Cell \u001b[0;32mIn[12], line 1\u001b[0m\n\u001b[0;32m----> 1\u001b[0m a\u001b[38;5;241m.\u001b[39missuperset(с)\n",
      "\u001b[0;31mNameError\u001b[0m: name 'с' is not defined"
     ]
    }
   ],
   "source": [
    "a.issuperset(с)  # а является надмножеством с"
   ]
  },
  {
   "cell_type": "code",
   "execution_count": 13,
   "metadata": {},
   "outputs": [
    {
     "data": {
      "text/plain": [
       "False"
      ]
     },
     "execution_count": 13,
     "metadata": {},
     "output_type": "execute_result"
    }
   ],
   "source": [
    "a.isdisjoint(b)  # эти множества пересекаются (не прошли проверку на непересекающиеся множества)"
   ]
  },
  {
   "cell_type": "code",
   "execution_count": 14,
   "metadata": {},
   "outputs": [
    {
     "data": {
      "text/plain": [
       "True"
      ]
     },
     "execution_count": 14,
     "metadata": {},
     "output_type": "execute_result"
    }
   ],
   "source": [
    "a.isdisjoint(d)  # эти множества не пересекаются (прошли проверку на непересекающиеся множества)"
   ]
  },
  {
   "cell_type": "markdown",
   "metadata": {},
   "source": [
    "__Объединение множеств__"
   ]
  },
  {
   "cell_type": "code",
   "execution_count": 15,
   "metadata": {},
   "outputs": [
    {
     "name": "stdout",
     "output_type": "stream",
     "text": [
      "{'yellow', 'orange', 'red', 'blue', 'green'}\n",
      "{'yellow', 'orange', 'red', 'blue', 'green'}\n"
     ]
    }
   ],
   "source": [
    "A = {'red', 'green', 'blue'}\n",
    "B = {'yellow', 'red', 'orange'}\n",
    "\n",
    "print(A | B)\n",
    "print(A.union(B))"
   ]
  },
  {
   "cell_type": "code",
   "execution_count": 128,
   "metadata": {},
   "outputs": [
    {
     "data": {
      "image/png": "[encoded data removed]",
      "text/plain": [
       "<IPython.core.display.Image object>"
      ]
     },
     "execution_count": 128,
     "metadata": {
      "image/png": {
       "width": "280"
      }
     },
     "output_type": "execute_result"
    }
   ],
   "source": [
    "from IPython.display import Image\n",
    "Image(\"pic12.png\", width=\"280\")"
   ]
  },
  {
   "cell_type": "markdown",
   "metadata": {},
   "source": [
    "__Пересечение множеств__"
   ]
  },
  {
   "cell_type": "code",
   "execution_count": 17,
   "metadata": {},
   "outputs": [
    {
     "name": "stdout",
     "output_type": "stream",
     "text": [
      "{'red'}\n",
      "{'red'}\n"
     ]
    }
   ],
   "source": [
    "print(A & B)\n",
    "print(A.intersection(B))"
   ]
  },
  {
   "cell_type": "code",
   "execution_count": 18,
   "metadata": {},
   "outputs": [
    {
     "data": {
      "image/png": "[encoded data removed]",
      "text/plain": [
       "<IPython.core.display.Image object>"
      ]
     },
     "execution_count": 18,
     "metadata": {
      "image/png": {
       "width": "280"
      }
     },
     "output_type": "execute_result"
    }
   ],
   "source": [
    "Image(\"pic13.png\", width=\"280\")"
   ]
  },
  {
   "cell_type": "markdown",
   "metadata": {},
   "source": [
    "__Разность множеств__"
   ]
  },
  {
   "cell_type": "code",
   "execution_count": 19,
   "metadata": {},
   "outputs": [
    {
     "name": "stdout",
     "output_type": "stream",
     "text": [
      "{'green', 'blue'}\n",
      "{'green', 'blue'}\n"
     ]
    }
   ],
   "source": [
    "print(A - B)  # то, что есть в А, но нет в B\n",
    "print(A.difference(B))"
   ]
  },
  {
   "cell_type": "code",
   "execution_count": 20,
   "metadata": {},
   "outputs": [
    {
     "data": {
      "image/png": "[encoded data removed]",
      "text/plain": [
       "<IPython.core.display.Image object>"
      ]
     },
     "execution_count": 20,
     "metadata": {
      "image/png": {
       "width": "280"
      }
     },
     "output_type": "execute_result"
    }
   ],
   "source": [
    "Image(\"pic14.png\", width=\"280\")"
   ]
  },
  {
   "cell_type": "markdown",
   "metadata": {},
   "source": [
    "__Симметрическая разность множеств__"
   ]
  },
  {
   "cell_type": "code",
   "execution_count": 21,
   "metadata": {},
   "outputs": [
    {
     "name": "stdout",
     "output_type": "stream",
     "text": [
      "{'orange', 'blue', 'yellow', 'green'}\n",
      "{'orange', 'blue', 'yellow', 'green'}\n"
     ]
    }
   ],
   "source": [
    "print(A ^ B)  # объединение без пересечения\n",
    "print(A.symmetric_difference(B))"
   ]
  },
  {
   "cell_type": "code",
   "execution_count": 22,
   "metadata": {},
   "outputs": [
    {
     "data": {
      "image/png": "[encoded data removed]",
      "text/plain": [
       "<IPython.core.display.Image object>"
      ]
     },
     "execution_count": 22,
     "metadata": {
      "image/png": {
       "width": "280"
      }
     },
     "output_type": "execute_result"
    }
   ],
   "source": [
    "Image(\"pic15.png\", width=\"280\")"
   ]
  },
  {
   "cell_type": "markdown",
   "metadata": {},
   "source": [
    "### 1.3. Методы по работе со множествами <a id=\"section_1_3\"></a>"
   ]
  },
  {
   "cell_type": "code",
   "execution_count": 23,
   "metadata": {},
   "outputs": [],
   "source": [
    "s = {4, 12, 7, 2, 5, 16}"
   ]
  },
  {
   "cell_type": "code",
   "execution_count": 24,
   "metadata": {},
   "outputs": [
    {
     "name": "stdout",
     "output_type": "stream",
     "text": [
      "Help on set object:\n",
      "\n",
      "class set(object)\n",
      " |  set() -> new empty set object\n",
      " |  set(iterable) -> new set object\n",
      " |  \n",
      " |  Build an unordered collection of unique elements.\n",
      " |  \n",
      " |  Methods defined here:\n",
      " |  \n",
      " |  __and__(self, value, /)\n",
      " |      Return self&value.\n",
      " |  \n",
      " |  __contains__(...)\n",
      " |      x.__contains__(y) <==> y in x.\n",
      " |  \n",
      " |  __eq__(self, value, /)\n",
      " |      Return self==value.\n",
      " |  \n",
      " |  __ge__(self, value, /)\n",
      " |      Return self>=value.\n",
      " |  \n",
      " |  __getattribute__(self, name, /)\n",
      " |      Return getattr(self, name).\n",
      " |  \n",
      " |  __gt__(self, value, /)\n",
      " |      Return self>value.\n",
      " |  \n",
      " |  __iand__(self, value, /)\n",
      " |      Return self&=value.\n",
      " |  \n",
      " |  __init__(self, /, *args, **kwargs)\n",
      " |      Initialize self.  See help(type(self)) for accurate signature.\n",
      " |  \n",
      " |  __ior__(self, value, /)\n",
      " |      Return self|=value.\n",
      " |  \n",
      " |  __isub__(self, value, /)\n",
      " |      Return self-=value.\n",
      " |  \n",
      " |  __iter__(self, /)\n",
      " |      Implement iter(self).\n",
      " |  \n",
      " |  __ixor__(self, value, /)\n",
      " |      Return self^=value.\n",
      " |  \n",
      " |  __le__(self, value, /)\n",
      " |      Return self<=value.\n",
      " |  \n",
      " |  __len__(self, /)\n",
      " |      Return len(self).\n",
      " |  \n",
      " |  __lt__(self, value, /)\n",
      " |      Return self<value.\n",
      " |  \n",
      " |  __ne__(self, value, /)\n",
      " |      Return self!=value.\n",
      " |  \n",
      " |  __or__(self, value, /)\n",
      " |      Return self|value.\n",
      " |  \n",
      " |  __rand__(self, value, /)\n",
      " |      Return value&self.\n",
      " |  \n",
      " |  __reduce__(...)\n",
      " |      Return state information for pickling.\n",
      " |  \n",
      " |  __repr__(self, /)\n",
      " |      Return repr(self).\n",
      " |  \n",
      " |  __ror__(self, value, /)\n",
      " |      Return value|self.\n",
      " |  \n",
      " |  __rsub__(self, value, /)\n",
      " |      Return value-self.\n",
      " |  \n",
      " |  __rxor__(self, value, /)\n",
      " |      Return value^self.\n",
      " |  \n",
      " |  __sizeof__(...)\n",
      " |      S.__sizeof__() -> size of S in memory, in bytes\n",
      " |  \n",
      " |  __sub__(self, value, /)\n",
      " |      Return self-value.\n",
      " |  \n",
      " |  __xor__(self, value, /)\n",
      " |      Return self^value.\n",
      " |  \n",
      " |  add(...)\n",
      " |      Add an element to a set.\n",
      " |      \n",
      " |      This has no effect if the element is already present.\n",
      " |  \n",
      " |  clear(...)\n",
      " |      Remove all elements from this set.\n",
      " |  \n",
      " |  copy(...)\n",
      " |      Return a shallow copy of a set.\n",
      " |  \n",
      " |  difference(...)\n",
      " |      Return the difference of two or more sets as a new set.\n",
      " |      \n",
      " |      (i.e. all elements that are in this set but not the others.)\n",
      " |  \n",
      " |  difference_update(...)\n",
      " |      Remove all elements of another set from this set.\n",
      " |  \n",
      " |  discard(...)\n",
      " |      Remove an element from a set if it is a member.\n",
      " |      \n",
      " |      Unlike set.remove(), the discard() method does not raise\n",
      " |      an exception when an element is missing from the set.\n",
      " |  \n",
      " |  intersection(...)\n",
      " |      Return the intersection of two sets as a new set.\n",
      " |      \n",
      " |      (i.e. all elements that are in both sets.)\n",
      " |  \n",
      " |  intersection_update(...)\n",
      " |      Update a set with the intersection of itself and another.\n",
      " |  \n",
      " |  isdisjoint(...)\n",
      " |      Return True if two sets have a null intersection.\n",
      " |  \n",
      " |  issubset(...)\n",
      " |      Report whether another set contains this set.\n",
      " |  \n",
      " |  issuperset(...)\n",
      " |      Report whether this set contains another set.\n",
      " |  \n",
      " |  pop(...)\n",
      " |      Remove and return an arbitrary set element.\n",
      " |      Raises KeyError if the set is empty.\n",
      " |  \n",
      " |  remove(...)\n",
      " |      Remove an element from a set; it must be a member.\n",
      " |      \n",
      " |      If the element is not a member, raise a KeyError.\n",
      " |  \n",
      " |  symmetric_difference(...)\n",
      " |      Return the symmetric difference of two sets as a new set.\n",
      " |      \n",
      " |      (i.e. all elements that are in exactly one of the sets.)\n",
      " |  \n",
      " |  symmetric_difference_update(...)\n",
      " |      Update a set with the symmetric difference of itself and another.\n",
      " |  \n",
      " |  union(...)\n",
      " |      Return the union of sets as a new set.\n",
      " |      \n",
      " |      (i.e. all elements that are in either set.)\n",
      " |  \n",
      " |  update(...)\n",
      " |      Update a set with the union of itself and others.\n",
      " |  \n",
      " |  ----------------------------------------------------------------------\n",
      " |  Class methods defined here:\n",
      " |  \n",
      " |  __class_getitem__(...) from builtins.type\n",
      " |      See PEP 585\n",
      " |  \n",
      " |  ----------------------------------------------------------------------\n",
      " |  Static methods defined here:\n",
      " |  \n",
      " |  __new__(*args, **kwargs) from builtins.type\n",
      " |      Create and return a new object.  See help(type) for accurate signature.\n",
      " |  \n",
      " |  ----------------------------------------------------------------------\n",
      " |  Data and other attributes defined here:\n",
      " |  \n",
      " |  __hash__ = None\n",
      "\n"
     ]
    }
   ],
   "source": [
    "help(s)"
   ]
  },
  {
   "cell_type": "code",
   "execution_count": 25,
   "metadata": {},
   "outputs": [
    {
     "data": {
      "text/plain": [
       "{2, 4, 5, 7, 12, 16}"
      ]
     },
     "execution_count": 25,
     "metadata": {},
     "output_type": "execute_result"
    }
   ],
   "source": [
    "c = s.copy()  # копирование множества\n",
    "c"
   ]
  },
  {
   "cell_type": "code",
   "execution_count": 26,
   "metadata": {},
   "outputs": [
    {
     "data": {
      "text/plain": [
       "{2, 4, 5, 7, 10, 12, 16}"
      ]
     },
     "execution_count": 26,
     "metadata": {},
     "output_type": "execute_result"
    }
   ],
   "source": [
    "s.add(10)  # добавление одного элемента во множество\n",
    "s"
   ]
  },
  {
   "cell_type": "code",
   "execution_count": 27,
   "metadata": {},
   "outputs": [
    {
     "data": {
      "text/plain": [
       "{2, 4, 5, 7, 10, 12, 16, 97, 98, 99}"
      ]
     },
     "execution_count": 27,
     "metadata": {},
     "output_type": "execute_result"
    }
   ],
   "source": [
    "s.update({97, 98, 99})  # добавление нескольких элементов во множество\n",
    "s"
   ]
  },
  {
   "cell_type": "code",
   "execution_count": 28,
   "metadata": {},
   "outputs": [
    {
     "data": {
      "text/plain": [
       "{4, 5, 7, 10, 12, 16, 97, 98, 99}"
      ]
     },
     "execution_count": 28,
     "metadata": {},
     "output_type": "execute_result"
    }
   ],
   "source": [
    "s.remove(2)  # удаление элемента из множества\n",
    "s"
   ]
  },
  {
   "cell_type": "code",
   "execution_count": 29,
   "metadata": {},
   "outputs": [
    {
     "ename": "KeyError",
     "evalue": "100",
     "output_type": "error",
     "traceback": [
      "\u001b[0;31m---------------------------------------------------------------------------\u001b[0m",
      "\u001b[0;31mKeyError\u001b[0m                                  Traceback (most recent call last)",
      "Cell \u001b[0;32mIn[29], line 1\u001b[0m\n\u001b[0;32m----> 1\u001b[0m s\u001b[38;5;241m.\u001b[39mremove(\u001b[38;5;241m100\u001b[39m)  \u001b[38;5;66;03m# возвращает ошибку, если нет такого элемента\u001b[39;00m\n\u001b[1;32m      2\u001b[0m s\n",
      "\u001b[0;31mKeyError\u001b[0m: 100"
     ]
    }
   ],
   "source": [
    "s.remove(100)  # возвращает ошибку, если нет такого элемента\n",
    "s"
   ]
  },
  {
   "cell_type": "code",
   "execution_count": 30,
   "metadata": {},
   "outputs": [
    {
     "data": {
      "text/plain": [
       "{4, 5, 7, 10, 16, 97, 98, 99}"
      ]
     },
     "execution_count": 30,
     "metadata": {},
     "output_type": "execute_result"
    }
   ],
   "source": [
    "s.discard(12)  # удаление элемента из множества\n",
    "s"
   ]
  },
  {
   "cell_type": "code",
   "execution_count": 31,
   "metadata": {},
   "outputs": [
    {
     "data": {
      "text/plain": [
       "{4, 5, 7, 10, 16, 97, 98, 99}"
      ]
     },
     "execution_count": 31,
     "metadata": {},
     "output_type": "execute_result"
    }
   ],
   "source": [
    "s.discard(100)  # не возвращает ошибку, если нет такого элемента\n",
    "s"
   ]
  },
  {
   "cell_type": "code",
   "execution_count": 32,
   "metadata": {},
   "outputs": [
    {
     "data": {
      "text/plain": [
       "97"
      ]
     },
     "execution_count": 32,
     "metadata": {},
     "output_type": "execute_result"
    }
   ],
   "source": [
    "s.pop()  # удаляет случайный элемент и возвращает его"
   ]
  },
  {
   "cell_type": "code",
   "execution_count": 33,
   "metadata": {},
   "outputs": [
    {
     "data": {
      "text/plain": [
       "{4, 5, 7, 10, 16, 98, 99}"
      ]
     },
     "execution_count": 33,
     "metadata": {},
     "output_type": "execute_result"
    }
   ],
   "source": [
    "s"
   ]
  },
  {
   "cell_type": "code",
   "execution_count": 34,
   "metadata": {},
   "outputs": [
    {
     "data": {
      "text/plain": [
       "set()"
      ]
     },
     "execution_count": 34,
     "metadata": {},
     "output_type": "execute_result"
    }
   ],
   "source": [
    "s.clear()  # очищение множества\n",
    "s"
   ]
  },
  {
   "cell_type": "markdown",
   "metadata": {},
   "source": [
    "### 1.4. Неизменяемые множества (frozenset) <a id=\"section_1_4\"></a>"
   ]
  },
  {
   "cell_type": "markdown",
   "metadata": {},
   "source": [
    "Неизменяемое множество (`frozenset`) - это специальная версия множества (`set`), которое после создания не может быть изменено.\n",
    "\n",
    "Для создания неизменяемого множества используется встроенная функция `frozenset()`. Она принимает итерируемый объект, например, список, кортеж или строку и возвращает frozenset. \n",
    "\n",
    "Frozenset поддерживает такие операции над множествами, как объединение, пересечение, разность и симметрическая разность.\n",
    "\n",
    "\n",
    "Frozenset может быть полезен в следующих случаях: \n",
    "- нужно использовать множество в качестве ключа, так как ключи в словаре должны быть неизменяемыми;\n",
    "- нужно хранить множества внутри другого множества, так как элементы множества должны быть неизменяемыми;\n",
    "- нужно хранить конфигурации или наборы данных, которые не должны изменяться в процессе работы программы."
   ]
  },
  {
   "cell_type": "code",
   "execution_count": 35,
   "metadata": {},
   "outputs": [
    {
     "data": {
      "text/plain": [
       "frozenset({1, 2, 3, 4})"
      ]
     },
     "execution_count": 35,
     "metadata": {},
     "output_type": "execute_result"
    }
   ],
   "source": [
    "frozenset([1, 2, 3, 4, 2, 1, 4, 1])  # создаем из списка"
   ]
  },
  {
   "cell_type": "code",
   "execution_count": 36,
   "metadata": {},
   "outputs": [
    {
     "data": {
      "text/plain": [
       "frozenset({1, 2, 3, 4})"
      ]
     },
     "execution_count": 36,
     "metadata": {},
     "output_type": "execute_result"
    }
   ],
   "source": [
    "frozenset({1, 2, 3, 4})  # создаем из множества"
   ]
  },
  {
   "cell_type": "code",
   "execution_count": 37,
   "metadata": {},
   "outputs": [
    {
     "data": {
      "text/plain": [
       "frozenset({1, 2, 3, 4})"
      ]
     },
     "execution_count": 37,
     "metadata": {},
     "output_type": "execute_result"
    }
   ],
   "source": [
    "frozenset((1, 2, 3, 4, 2, 1, 4, 1))  # создаем из кортежа"
   ]
  },
  {
   "cell_type": "code",
   "execution_count": 38,
   "metadata": {},
   "outputs": [
    {
     "data": {
      "text/plain": [
       "frozenset({'e', 'h', 'l', 'o'})"
      ]
     },
     "execution_count": 38,
     "metadata": {},
     "output_type": "execute_result"
    }
   ],
   "source": [
    "frozenset(\"hello\")  # создаем из строки"
   ]
  },
  {
   "cell_type": "markdown",
   "metadata": {},
   "source": [
    "__Операции с frozenset__"
   ]
  },
  {
   "cell_type": "markdown",
   "metadata": {},
   "source": [
    "Проверка принадлежности"
   ]
  },
  {
   "cell_type": "code",
   "execution_count": 39,
   "metadata": {},
   "outputs": [
    {
     "name": "stdout",
     "output_type": "stream",
     "text": [
      "True\n",
      "False\n"
     ]
    }
   ],
   "source": [
    "fruits = frozenset([\"apple\", \"banana\", \"orange\"])\n",
    "print(\"apple\" in fruits)  \n",
    "print(\"grape\" in fruits)"
   ]
  },
  {
   "cell_type": "markdown",
   "metadata": {},
   "source": [
    "Определение размера"
   ]
  },
  {
   "cell_type": "code",
   "execution_count": 40,
   "metadata": {},
   "outputs": [
    {
     "data": {
      "text/plain": [
       "3"
      ]
     },
     "execution_count": 40,
     "metadata": {},
     "output_type": "execute_result"
    }
   ],
   "source": [
    "len(fruits)"
   ]
  },
  {
   "cell_type": "code",
   "execution_count": 41,
   "metadata": {},
   "outputs": [
    {
     "ename": "AttributeError",
     "evalue": "'frozenset' object has no attribute 'add'",
     "output_type": "error",
     "traceback": [
      "\u001b[0;31m---------------------------------------------------------------------------\u001b[0m",
      "\u001b[0;31mAttributeError\u001b[0m                            Traceback (most recent call last)",
      "Cell \u001b[0;32mIn[41], line 1\u001b[0m\n\u001b[0;32m----> 1\u001b[0m fruits\u001b[38;5;241m.\u001b[39madd(\u001b[38;5;124m\"\u001b[39m\u001b[38;5;124mlemon\u001b[39m\u001b[38;5;124m\"\u001b[39m)\n",
      "\u001b[0;31mAttributeError\u001b[0m: 'frozenset' object has no attribute 'add'"
     ]
    }
   ],
   "source": [
    "fruits.add(\"lemon\")  # добавить элемент не получится"
   ]
  },
  {
   "cell_type": "code",
   "execution_count": 42,
   "metadata": {},
   "outputs": [
    {
     "ename": "AttributeError",
     "evalue": "'frozenset' object has no attribute 'remove'",
     "output_type": "error",
     "traceback": [
      "\u001b[0;31m---------------------------------------------------------------------------\u001b[0m",
      "\u001b[0;31mAttributeError\u001b[0m                            Traceback (most recent call last)",
      "Cell \u001b[0;32mIn[42], line 1\u001b[0m\n\u001b[0;32m----> 1\u001b[0m fruits\u001b[38;5;241m.\u001b[39mremove(\u001b[38;5;124m\"\u001b[39m\u001b[38;5;124mapple\u001b[39m\u001b[38;5;124m\"\u001b[39m)\n",
      "\u001b[0;31mAttributeError\u001b[0m: 'frozenset' object has no attribute 'remove'"
     ]
    }
   ],
   "source": [
    "fruits.remove(\"apple\")  # удалить элемент не получится"
   ]
  },
  {
   "cell_type": "code",
   "execution_count": 43,
   "metadata": {},
   "outputs": [
    {
     "data": {
      "text/plain": [
       "frozenset({'apple', 'banana', 'orange'})"
      ]
     },
     "execution_count": 43,
     "metadata": {},
     "output_type": "execute_result"
    }
   ],
   "source": [
    "fruits_copy = fruits.copy()  # копировать можно\n",
    "fruits_copy"
   ]
  },
  {
   "cell_type": "code",
   "execution_count": 44,
   "metadata": {},
   "outputs": [
    {
     "ename": "AttributeError",
     "evalue": "'frozenset' object has no attribute 'clear'",
     "output_type": "error",
     "traceback": [
      "\u001b[0;31m---------------------------------------------------------------------------\u001b[0m",
      "\u001b[0;31mAttributeError\u001b[0m                            Traceback (most recent call last)",
      "Cell \u001b[0;32mIn[44], line 1\u001b[0m\n\u001b[0;32m----> 1\u001b[0m fruits\u001b[38;5;241m.\u001b[39mclear()\n",
      "\u001b[0;31mAttributeError\u001b[0m: 'frozenset' object has no attribute 'clear'"
     ]
    }
   ],
   "source": [
    "fruits.clear()  # очищать нельзя"
   ]
  },
  {
   "cell_type": "markdown",
   "metadata": {},
   "source": [
    "Проверка на подмножество"
   ]
  },
  {
   "cell_type": "code",
   "execution_count": 45,
   "metadata": {},
   "outputs": [],
   "source": [
    "a = frozenset([1, 2, 3, 4, 5])\n",
    "b = frozenset([3, 4, 5, 6, 7])\n",
    "с = frozenset([3, 4])\n",
    "d = frozenset([6, 7, 8])"
   ]
  },
  {
   "cell_type": "code",
   "execution_count": 46,
   "metadata": {},
   "outputs": [
    {
     "name": "stdout",
     "output_type": "stream",
     "text": [
      "False\n",
      "True\n"
     ]
    }
   ],
   "source": [
    "print(a.issubset(b))  # b не является подмножеством а\n",
    "print(с.issubset(a))  # с является подмножеством a"
   ]
  },
  {
   "cell_type": "markdown",
   "metadata": {},
   "source": [
    "Проверка на надмножество"
   ]
  },
  {
   "cell_type": "code",
   "execution_count": 47,
   "metadata": {},
   "outputs": [
    {
     "name": "stdout",
     "output_type": "stream",
     "text": [
      "False\n",
      "True\n"
     ]
    }
   ],
   "source": [
    "print(a.issuperset(b))  # а не является надмножеством b\n",
    "print(a.issuperset(с))  # а является надмножеством с"
   ]
  },
  {
   "cell_type": "markdown",
   "metadata": {},
   "source": [
    "Проверка на непересекающиеся множества"
   ]
  },
  {
   "cell_type": "code",
   "execution_count": 48,
   "metadata": {},
   "outputs": [
    {
     "name": "stdout",
     "output_type": "stream",
     "text": [
      "False\n",
      "True\n"
     ]
    }
   ],
   "source": [
    "print(a.isdisjoint(b))  # эти множества пересекаются\n",
    "print(a.isdisjoint(d))  # эти множества не пересекаются"
   ]
  },
  {
   "cell_type": "markdown",
   "metadata": {},
   "source": [
    "Объединение"
   ]
  },
  {
   "cell_type": "code",
   "execution_count": 49,
   "metadata": {},
   "outputs": [
    {
     "data": {
      "text/plain": [
       "frozenset({1, 2, 3, 4, 5, 6, 7})"
      ]
     },
     "execution_count": 49,
     "metadata": {},
     "output_type": "execute_result"
    }
   ],
   "source": [
    "a.union(b)"
   ]
  },
  {
   "cell_type": "markdown",
   "metadata": {},
   "source": [
    "Пересечение"
   ]
  },
  {
   "cell_type": "code",
   "execution_count": 50,
   "metadata": {},
   "outputs": [
    {
     "data": {
      "text/plain": [
       "frozenset({3, 4, 5})"
      ]
     },
     "execution_count": 50,
     "metadata": {},
     "output_type": "execute_result"
    }
   ],
   "source": [
    "a.intersection(b)"
   ]
  },
  {
   "cell_type": "markdown",
   "metadata": {},
   "source": [
    "Разность"
   ]
  },
  {
   "cell_type": "code",
   "execution_count": 51,
   "metadata": {},
   "outputs": [
    {
     "data": {
      "text/plain": [
       "frozenset({1, 2})"
      ]
     },
     "execution_count": 51,
     "metadata": {},
     "output_type": "execute_result"
    }
   ],
   "source": [
    "a.difference(b)"
   ]
  },
  {
   "cell_type": "markdown",
   "metadata": {},
   "source": [
    "Симметрическая разность"
   ]
  },
  {
   "cell_type": "code",
   "execution_count": 52,
   "metadata": {},
   "outputs": [
    {
     "data": {
      "text/plain": [
       "frozenset({1, 2, 6, 7})"
      ]
     },
     "execution_count": 52,
     "metadata": {},
     "output_type": "execute_result"
    }
   ],
   "source": [
    "a.symmetric_difference(b)"
   ]
  },
  {
   "cell_type": "markdown",
   "metadata": {},
   "source": [
    "Множество множеств (с использованием frozenset)"
   ]
  },
  {
   "cell_type": "code",
   "execution_count": 53,
   "metadata": {},
   "outputs": [
    {
     "name": "stdout",
     "output_type": "stream",
     "text": [
      "{frozenset({1, 2, 3}), frozenset({4, 5, 6}), frozenset({8, 9, 7})}\n"
     ]
    }
   ],
   "source": [
    "set_of_sets = {\n",
    "    frozenset([1, 2, 3]),\n",
    "    frozenset([4, 5, 6]),\n",
    "    frozenset([7, 8, 9])\n",
    "}\n",
    "print(set_of_sets)"
   ]
  },
  {
   "cell_type": "markdown",
   "metadata": {},
   "source": [
    "### 1.5. Генераторы множеств (Set Comprehensions) <a id=\"section_1_5\"></a>"
   ]
  },
  {
   "cell_type": "markdown",
   "metadata": {},
   "source": [
    "Генератор коллекции — обобщенное название для генератора списка (list comprehension), генератора словаря (dictionary comprehension) и генератора множества (set comprehension). List Comprehension был рассмотрен ранее. "
   ]
  },
  {
   "cell_type": "code",
   "execution_count": 54,
   "metadata": {},
   "outputs": [
    {
     "data": {
      "image/png": "[encoded data removed]",
      "text/plain": [
       "<IPython.core.display.Image object>"
      ]
     },
     "execution_count": 54,
     "metadata": {
      "image/png": {
       "width": "680"
      }
     },
     "output_type": "execute_result"
    }
   ],
   "source": [
    "Image(\"pic16.png\", width=\"680\")"
   ]
  },
  {
   "cell_type": "markdown",
   "metadata": {},
   "source": [
    "По-русски set comprehension можно назвать генератором множеств или абстракцией множеств или включением для множества. Это конструкция, позволяющая лаконично и эффективно создавать множества на основе итерируемых объектов. \n",
    "\n",
    "Преимущества set comprehensions:\n",
    "- позволяют писать многострочный код в одной строке; \n",
    "- создают коллекции быстрее, с меньшими затратами ресурсов; \n",
    "- делают код более простым и понятным.\n",
    "\n",
    "Можно использовать set comprehensions, когда нужно выполнить следующие операции:\n",
    "- создать множество из существующих итерируемых объектов, применяя преобразования к изначальным данным;\n",
    "- преобразовать элементы существующего множества;\n",
    "- отфильтровать элементы существующего множества.\n",
    "\n",
    "Вы уже знакомы с list comprehensions. Эти конструкции имеют схожий синтаксис. Основное отличие заключается в том, что set comprehensions используют фигурные скобки вместо квадратных.\n",
    "\n",
    "Синтаксис: `{expression for item in iterable if condition}`"
   ]
  },
  {
   "cell_type": "markdown",
   "metadata": {},
   "source": [
    "Создадим множество из значений от 0 до 5, возведенных в квадрат."
   ]
  },
  {
   "cell_type": "code",
   "execution_count": 55,
   "metadata": {},
   "outputs": [
    {
     "data": {
      "text/plain": [
       "{0, 1, 4, 9, 16, 25}"
      ]
     },
     "execution_count": 55,
     "metadata": {},
     "output_type": "execute_result"
    }
   ],
   "source": [
    "{x**2 for x in range(6)}"
   ]
  },
  {
   "cell_type": "markdown",
   "metadata": {},
   "source": [
    "Создадим множество из списка, умножив значения на 2 (только для четных начальных значений)."
   ]
  },
  {
   "cell_type": "code",
   "execution_count": 56,
   "metadata": {},
   "outputs": [
    {
     "data": {
      "text/plain": [
       "{0, 8, 32}"
      ]
     },
     "execution_count": 56,
     "metadata": {},
     "output_type": "execute_result"
    }
   ],
   "source": [
    "numbers = [0, 1, 4, 9, 16, 25]\n",
    "new_set1 = {x*2 for x in numbers if x % 2 == 0}\n",
    "new_set1 "
   ]
  },
  {
   "cell_type": "markdown",
   "metadata": {},
   "source": [
    "Создадим множество из списка строк удалив дубликаты и изменив регистр текста на нижний."
   ]
  },
  {
   "cell_type": "code",
   "execution_count": 57,
   "metadata": {},
   "outputs": [
    {
     "name": "stdout",
     "output_type": "stream",
     "text": [
      "{'python', 'numpy', 'pandas', 'flask', 'django'}\n"
     ]
    }
   ],
   "source": [
    "tools = [\"Python\", \"Django\", \"Flask\", \"pandas\", \"NumPy\", \"python\"]\n",
    "tools_set = {tool.lower() for tool in tools}\n",
    "print(tools_set)"
   ]
  },
  {
   "cell_type": "markdown",
   "metadata": {},
   "source": [
    "Создадим множество уникальных слов из исходного текста."
   ]
  },
  {
   "cell_type": "code",
   "execution_count": 58,
   "metadata": {},
   "outputs": [
    {
     "name": "stdout",
     "output_type": "stream",
     "text": [
      "{'beautiful', 'ugly', 'simple', 'complex', 'than', 'better', 'implicit', 'complicated', 'is', 'explicit'}\n"
     ]
    }
   ],
   "source": [
    "text = \"\"\"\n",
    "Beautiful is better than ugly\n",
    "Explicit is better than implicit\n",
    "Simple is better than complex\n",
    "Complex is better than complicated\n",
    "\"\"\".lower()\n",
    "\n",
    "print({word for word in text.split()})"
   ]
  },
  {
   "cell_type": "markdown",
   "metadata": {},
   "source": [
    "Преобразуем список электронных адресов:\n",
    "- удаляем пробелы с начала и конца каждого адреса при помощи метода .strip(), \n",
    "- приводим к нижнему регистру при помощи .lower(),\n",
    "- удаляем дубликаты путем преобразования во множество."
   ]
  },
  {
   "cell_type": "code",
   "execution_count": 59,
   "metadata": {},
   "outputs": [],
   "source": [
    "emails = [\n",
    "    \" alice@example.org \",\n",
    "    \"BOB@example.com\",\n",
    "    \"charlie@EXAMPLE.com\",\n",
    "    \"David@example.net\",\n",
    "    \" bob@example.com\",\n",
    "    \"JohnDoe@example.com\",\n",
    "]"
   ]
  },
  {
   "cell_type": "code",
   "execution_count": 60,
   "metadata": {},
   "outputs": [
    {
     "data": {
      "text/plain": [
       "{'alice@example.org',\n",
       " 'bob@example.com',\n",
       " 'charlie@example.com',\n",
       " 'david@example.net',\n",
       " 'johndoe@example.com'}"
      ]
     },
     "execution_count": 60,
     "metadata": {},
     "output_type": "execute_result"
    }
   ],
   "source": [
    "new_emails = {email.strip().lower() for email in emails}\n",
    "new_emails"
   ]
  },
  {
   "cell_type": "markdown",
   "metadata": {},
   "source": [
    "Отберем адреса электронной почты в домене .com."
   ]
  },
  {
   "cell_type": "code",
   "execution_count": 61,
   "metadata": {},
   "outputs": [
    {
     "data": {
      "text/plain": [
       "{'bob@example.com', 'charlie@example.com', 'johndoe@example.com'}"
      ]
     },
     "execution_count": 61,
     "metadata": {},
     "output_type": "execute_result"
    }
   ],
   "source": [
    "{email for email in new_emails if email.endswith(\".com\")}"
   ]
  },
  {
   "cell_type": "markdown",
   "metadata": {},
   "source": [
    "# Задание 1\n",
    "\n",
    "Создайте множество из списка my_list, убрав из него все дубликаты и посчитайте число уникальных значений."
   ]
  },
  {
   "cell_type": "code",
   "execution_count": 2,
   "metadata": {},
   "outputs": [],
   "source": [
    "my_list = [5, 2, 7, 65, 43,  23, 1, 23, 45, 34, 87, 2, 3, 6, 4, 34, 3, 1]"
   ]
  },
  {
   "cell_type": "code",
   "execution_count": 3,
   "metadata": {},
   "outputs": [
    {
     "data": {
      "text/plain": [
       "{1, 2, 3, 4, 5, 6, 7, 23, 34, 43, 45, 65, 87}"
      ]
     },
     "execution_count": 3,
     "metadata": {},
     "output_type": "execute_result"
    }
   ],
   "source": [
    "# здесь напишите решение задания 1 (..＞◡＜..)\n",
    "\n",
    "a = set(my_list)\n",
    "a"
   ]
  },
  {
   "cell_type": "code",
   "execution_count": 4,
   "metadata": {},
   "outputs": [
    {
     "data": {
      "text/plain": [
       "13"
      ]
     },
     "execution_count": 4,
     "metadata": {},
     "output_type": "execute_result"
    }
   ],
   "source": [
    "len(a)"
   ]
  },
  {
   "cell_type": "markdown",
   "metadata": {},
   "source": [
    "# Задание 2\n",
    "\n",
    "Добавьте во множество langs элемент \"Python\" и удалите \"Java\"."
   ]
  },
  {
   "cell_type": "code",
   "execution_count": 6,
   "metadata": {},
   "outputs": [],
   "source": [
    "langs = {\"Java\", \"C++\", \"C\", \"C#\", \"Kotlin\", \"Scala\", \"R\", \"Pascal\", \"SQL\", \"Julia\"}"
   ]
  },
  {
   "cell_type": "code",
   "execution_count": 7,
   "metadata": {},
   "outputs": [
    {
     "data": {
      "text/plain": [
       "{'C', 'C#', 'C++', 'Julia', 'Kotlin', 'Pascal', 'Python', 'R', 'SQL', 'Scala'}"
      ]
     },
     "execution_count": 7,
     "metadata": {},
     "output_type": "execute_result"
    }
   ],
   "source": [
    "# здесь напишите решение задания 2 /ᐠ｡‸｡ᐟ\\\n",
    "langs.add(\"Python\")\n",
    "langs.remove(\"Java\")\n",
    "langs"
   ]
  },
  {
   "cell_type": "markdown",
   "metadata": {},
   "source": [
    "# Задание 3"
   ]
  },
  {
   "cell_type": "markdown",
   "metadata": {},
   "source": [
    "Есть множество посещенных пользователем ресурсов за каждую неделю (week1 и week2).\n",
    "\n",
    "- Какие ресурсы пользователь посетил за две недели (вывести список без дублирований)?\n",
    "- Сколько всего уникальных ресурсов пользователь посетил за две недели (вывести число)?\n",
    "- Какие ресурсы пользователь посетил на второй неделе, но не посещал на первой?\n",
    "- Какие ресурсы пользователь посетил и на первой неделе, и на второй?"
   ]
  },
  {
   "cell_type": "code",
   "execution_count": 9,
   "metadata": {},
   "outputs": [],
   "source": [
    "week1 = {\"google\", \"youtube\", \"vk\", \"yandex\"}\n",
    "week2 = {\"google\", \"vk\", \"telegram\", \"yandex\", \"mail\"}"
   ]
  },
  {
   "cell_type": "code",
   "execution_count": 12,
   "metadata": {},
   "outputs": [
    {
     "data": {
      "text/plain": [
       "{'google', 'mail', 'telegram', 'vk', 'yandex', 'youtube'}"
      ]
     },
     "execution_count": 12,
     "metadata": {},
     "output_type": "execute_result"
    }
   ],
   "source": [
    "# здесь напишите решение задания 3 ٩(◕‿◕｡)۶\n",
    "week1 | week2  # 1"
   ]
  },
  {
   "cell_type": "code",
   "execution_count": 13,
   "metadata": {},
   "outputs": [
    {
     "data": {
      "text/plain": [
       "6"
      ]
     },
     "execution_count": 13,
     "metadata": {},
     "output_type": "execute_result"
    }
   ],
   "source": [
    "len(week1 | week2)  # 2"
   ]
  },
  {
   "cell_type": "code",
   "execution_count": 14,
   "metadata": {},
   "outputs": [
    {
     "data": {
      "text/plain": [
       "{'mail', 'telegram'}"
      ]
     },
     "execution_count": 14,
     "metadata": {},
     "output_type": "execute_result"
    }
   ],
   "source": [
    "week2 - week1  # 3"
   ]
  },
  {
   "cell_type": "code",
   "execution_count": 15,
   "metadata": {},
   "outputs": [
    {
     "data": {
      "text/plain": [
       "{'google', 'vk', 'yandex'}"
      ]
     },
     "execution_count": 15,
     "metadata": {},
     "output_type": "execute_result"
    }
   ],
   "source": [
    "week1 & week2  # 4"
   ]
  },
  {
   "cell_type": "markdown",
   "metadata": {},
   "source": [
    "## 2. Словари <a class=\"anchor\" id=\"chapter2\"></a>"
   ]
  },
  {
   "cell_type": "markdown",
   "metadata": {},
   "source": [
    "Тип данных, в котором элементы нумеруются не натуральными числами, а произвольными объектами. Каждая запись в словаре состоит из двух частей: ключ (до двоеточия) и значение (после двоеточия). Ключи уникальны, а значения нет. Одному ключу соответствует ровно одно значение. Одно значение можно сопоставить разным ключам."
   ]
  },
  {
   "cell_type": "code",
   "execution_count": 69,
   "metadata": {},
   "outputs": [
    {
     "data": {
      "image/png": "[encoded data removed]",
      "text/plain": [
       "<IPython.core.display.Image object>"
      ]
     },
     "execution_count": 69,
     "metadata": {
      "image/png": {
       "width": "680"
      }
     },
     "output_type": "execute_result"
    }
   ],
   "source": [
    "Image(\"pic17.png\", width=\"680\")"
   ]
  },
  {
   "cell_type": "markdown",
   "metadata": {},
   "source": [
    "### 2.1. Создание словарей <a id=\"section_2_1\"></a>"
   ]
  },
  {
   "cell_type": "markdown",
   "metadata": {},
   "source": [
    "Создание с помощью фигурных скобок."
   ]
  },
  {
   "cell_type": "code",
   "execution_count": 70,
   "metadata": {},
   "outputs": [
    {
     "name": "stdout",
     "output_type": "stream",
     "text": [
      "{}\n"
     ]
    }
   ],
   "source": [
    "empty_dict = {}  # пустой словарь\n",
    "print(empty_dict)"
   ]
  },
  {
   "cell_type": "code",
   "execution_count": 71,
   "metadata": {},
   "outputs": [
    {
     "name": "stdout",
     "output_type": "stream",
     "text": [
      "{'name': 'John', 'age': 30, 'city': 'New York'}\n"
     ]
    }
   ],
   "source": [
    "person = {\"name\": \"John\", \"age\": 30, \"city\": \"New York\"}  # cловарь с элементами\n",
    "print(person)"
   ]
  },
  {
   "cell_type": "markdown",
   "metadata": {},
   "source": [
    "Словарь с разными типами ключей и значений."
   ]
  },
  {
   "cell_type": "code",
   "execution_count": 72,
   "metadata": {},
   "outputs": [
    {
     "name": "stdout",
     "output_type": "stream",
     "text": [
      "{'string_key': 'value', 123: 'integer key', (1, 2, 3): 'tuple key', True: 'boolean key'}\n"
     ]
    }
   ],
   "source": [
    "mixed_dict = {  \n",
    "    \"string_key\": \"value\",\n",
    "    123: \"integer key\",\n",
    "    (1, 2, 3): \"tuple key\",\n",
    "    True: \"boolean key\"\n",
    "}\n",
    "print(mixed_dict) "
   ]
  },
  {
   "cell_type": "markdown",
   "metadata": {},
   "source": [
    "Постепенное добавление элементов в словарь."
   ]
  },
  {
   "cell_type": "code",
   "execution_count": 73,
   "metadata": {},
   "outputs": [
    {
     "name": "stdout",
     "output_type": "stream",
     "text": [
      "{'name': 'John', 'age': 30, 'city': 'New York'}\n"
     ]
    }
   ],
   "source": [
    "person = {}\n",
    "person[\"name\"] = \"John\"\n",
    "person[\"age\"] = 30\n",
    "person[\"city\"] = \"New York\"\n",
    "print(person)  "
   ]
  },
  {
   "cell_type": "markdown",
   "metadata": {},
   "source": [
    "Создание вложенных словарей."
   ]
  },
  {
   "cell_type": "code",
   "execution_count": 74,
   "metadata": {},
   "outputs": [
    {
     "name": "stdout",
     "output_type": "stream",
     "text": [
      "{'employee1': {'name': 'John', 'age': 30}, 'employee2': {'name': 'Alice', 'age': 25}, 'employee3': {'name': 'Bob', 'age': 35}}\n"
     ]
    }
   ],
   "source": [
    "company = {\n",
    "    \"employee1\": {\"name\": \"John\", \"age\": 30},\n",
    "    \"employee2\": {\"name\": \"Alice\", \"age\": 25},\n",
    "    \"employee3\": {\"name\": \"Bob\", \"age\": 35}\n",
    "}\n",
    "print(company)"
   ]
  },
  {
   "cell_type": "markdown",
   "metadata": {},
   "source": [
    "Пример: создание словаря конфигурации."
   ]
  },
  {
   "cell_type": "code",
   "execution_count": 75,
   "metadata": {},
   "outputs": [
    {
     "data": {
      "text/plain": [
       "{'database': {'host': 'localhost', 'port': 5432, 'name': 'mydb'},\n",
       " 'server': {'host': '0.0.0.0', 'port': 8000},\n",
       " 'debug': True}"
      ]
     },
     "execution_count": 75,
     "metadata": {},
     "output_type": "execute_result"
    }
   ],
   "source": [
    "config = {\n",
    "    \"database\": {\n",
    "        \"host\": \"localhost\",\n",
    "        \"port\": 5432,\n",
    "        \"name\": \"mydb\"\n",
    "    },\n",
    "    \"server\": {\n",
    "        \"host\": \"0.0.0.0\",\n",
    "        \"port\": 8000\n",
    "    },\n",
    "    \"debug\": True\n",
    "}\n",
    "config"
   ]
  },
  {
   "cell_type": "markdown",
   "metadata": {},
   "source": [
    "### 2.2. Доступ к элементам словаря <a id=\"section_2_2\"></a>"
   ]
  },
  {
   "cell_type": "code",
   "execution_count": 76,
   "metadata": {},
   "outputs": [],
   "source": [
    "population = {\"Russia\": 146, \"USA\": 340, \"UK\":68, \"Canada\": 41}"
   ]
  },
  {
   "cell_type": "code",
   "execution_count": 77,
   "metadata": {},
   "outputs": [
    {
     "data": {
      "text/plain": [
       "{'Russia': 146, 'USA': 340, 'UK': 68, 'Canada': 41}"
      ]
     },
     "execution_count": 77,
     "metadata": {},
     "output_type": "execute_result"
    }
   ],
   "source": [
    "population"
   ]
  },
  {
   "cell_type": "code",
   "execution_count": 78,
   "metadata": {},
   "outputs": [
    {
     "data": {
      "text/plain": [
       "146"
      ]
     },
     "execution_count": 78,
     "metadata": {},
     "output_type": "execute_result"
    }
   ],
   "source": [
    "population[\"Russia\"]  # поиск значения по ключу"
   ]
  },
  {
   "cell_type": "code",
   "execution_count": 79,
   "metadata": {},
   "outputs": [
    {
     "ename": "KeyError",
     "evalue": "0",
     "output_type": "error",
     "traceback": [
      "\u001b[0;31m---------------------------------------------------------------------------\u001b[0m",
      "\u001b[0;31mKeyError\u001b[0m                                  Traceback (most recent call last)",
      "Cell \u001b[0;32mIn[79], line 1\u001b[0m\n\u001b[0;32m----> 1\u001b[0m population[\u001b[38;5;241m0\u001b[39m]\n",
      "\u001b[0;31mKeyError\u001b[0m: 0"
     ]
    }
   ],
   "source": [
    "population[0]  # нельзя как в списках обратиться, например, к первой записи по индексу "
   ]
  },
  {
   "cell_type": "markdown",
   "metadata": {},
   "source": [
    "Ключ – это уникальный идентификатор элемента. Если добавить в словарь новый элемент с уже существующим ключом, то старый элемент заменится на новый. "
   ]
  },
  {
   "cell_type": "code",
   "execution_count": 80,
   "metadata": {},
   "outputs": [
    {
     "data": {
      "text/plain": [
       "{'Russia': 145, 'USA': 340, 'UK': 68, 'Canada': 41}"
      ]
     },
     "execution_count": 80,
     "metadata": {},
     "output_type": "execute_result"
    }
   ],
   "source": [
    "population['Russia'] = 145  # изменение значения\n",
    "population"
   ]
  },
  {
   "cell_type": "markdown",
   "metadata": {},
   "source": [
    "В словаре могут присутствовать одинаковые значения, но не одинаковые ключи."
   ]
  },
  {
   "cell_type": "code",
   "execution_count": 81,
   "metadata": {},
   "outputs": [
    {
     "data": {
      "text/plain": [
       "{'Russia': 145, 'USA': 340, 'UK': 68, 'Canada': 41, 'Russia2': 145}"
      ]
     },
     "execution_count": 81,
     "metadata": {},
     "output_type": "execute_result"
    }
   ],
   "source": [
    "population['Russia2'] = 145\n",
    "population"
   ]
  },
  {
   "cell_type": "code",
   "execution_count": 82,
   "metadata": {},
   "outputs": [
    {
     "data": {
      "text/plain": [
       "{'Russia': 145,\n",
       " 'USA': 340,\n",
       " 'UK': 68,\n",
       " 'Canada': 41,\n",
       " 'Russia2': 145,\n",
       " 'Germany': 84}"
      ]
     },
     "execution_count": 82,
     "metadata": {},
     "output_type": "execute_result"
    }
   ],
   "source": [
    "population['Germany'] = 84  # добавление новой записи\n",
    "population"
   ]
  },
  {
   "cell_type": "code",
   "execution_count": 83,
   "metadata": {},
   "outputs": [
    {
     "ename": "KeyError",
     "evalue": "'France'",
     "output_type": "error",
     "traceback": [
      "\u001b[0;31m---------------------------------------------------------------------------\u001b[0m",
      "\u001b[0;31mKeyError\u001b[0m                                  Traceback (most recent call last)",
      "Cell \u001b[0;32mIn[83], line 1\u001b[0m\n\u001b[0;32m----> 1\u001b[0m population[\u001b[38;5;124m'\u001b[39m\u001b[38;5;124mFrance\u001b[39m\u001b[38;5;124m'\u001b[39m]\n",
      "\u001b[0;31mKeyError\u001b[0m: 'France'"
     ]
    }
   ],
   "source": [
    "population['France'] # этого ключа нет"
   ]
  },
  {
   "cell_type": "markdown",
   "metadata": {},
   "source": [
    "Кроме обращения по ключу, можно получить значение с помощью метода .get(). Отличие работы метода в том, что если ключа еще нет в словаре, он возвращает не ошибку, а  объект типа None или же заданное значение."
   ]
  },
  {
   "cell_type": "code",
   "execution_count": 84,
   "metadata": {},
   "outputs": [
    {
     "name": "stdout",
     "output_type": "stream",
     "text": [
      "None\n",
      "84\n"
     ]
    }
   ],
   "source": [
    "print(population.get('France'))\n",
    "print(population.get('Germany'))"
   ]
  },
  {
   "cell_type": "markdown",
   "metadata": {},
   "source": [
    "Можно передать get() второй аргумент, если такого ключа в словаре нет, то будет возвращен он."
   ]
  },
  {
   "cell_type": "code",
   "execution_count": 85,
   "metadata": {},
   "outputs": [
    {
     "data": {
      "text/plain": [
       "'No such country'"
      ]
     },
     "execution_count": 85,
     "metadata": {},
     "output_type": "execute_result"
    }
   ],
   "source": [
    "population.get('France', 'No such country') "
   ]
  },
  {
   "cell_type": "code",
   "execution_count": 86,
   "metadata": {},
   "outputs": [
    {
     "data": {
      "text/plain": [
       "dict_keys(['Russia', 'USA', 'UK', 'Canada', 'Russia2', 'Germany'])"
      ]
     },
     "execution_count": 86,
     "metadata": {},
     "output_type": "execute_result"
    }
   ],
   "source": [
    "population.keys()  # список всех ключей словаря"
   ]
  },
  {
   "cell_type": "code",
   "execution_count": 87,
   "metadata": {},
   "outputs": [
    {
     "data": {
      "text/plain": [
       "dict_values([145, 340, 68, 41, 145, 84])"
      ]
     },
     "execution_count": 87,
     "metadata": {},
     "output_type": "execute_result"
    }
   ],
   "source": [
    "population.values()  # список всех значений без ключей"
   ]
  },
  {
   "cell_type": "code",
   "execution_count": 88,
   "metadata": {},
   "outputs": [
    {
     "name": "stdout",
     "output_type": "stream",
     "text": [
      "Russia\n",
      "USA\n",
      "UK\n",
      "Canada\n",
      "Russia2\n",
      "Germany\n"
     ]
    }
   ],
   "source": [
    "# перебор ключей в словаре\n",
    "for k in population:\n",
    "    print(k)"
   ]
  },
  {
   "cell_type": "code",
   "execution_count": 89,
   "metadata": {},
   "outputs": [
    {
     "name": "stdout",
     "output_type": "stream",
     "text": [
      "Population in Russia is 145 mln people\n",
      "Population in USA is 340 mln people\n",
      "Population in UK is 68 mln people\n",
      "Population in Canada is 41 mln people\n",
      "Population in Russia2 is 145 mln people\n",
      "Population in Germany is 84 mln people\n"
     ]
    }
   ],
   "source": [
    "# перебор ключей и значений \n",
    "for k in population:\n",
    "    print(\"Population in\", k, \"is\", population[k], \"mln people\")"
   ]
  },
  {
   "cell_type": "markdown",
   "metadata": {},
   "source": [
    "Метод `items()` возвращает специальный итерируемый объект, похожий на список кортежей (ключ, значение)."
   ]
  },
  {
   "cell_type": "code",
   "execution_count": 90,
   "metadata": {},
   "outputs": [
    {
     "data": {
      "text/plain": [
       "dict_items([('Russia', 145), ('USA', 340), ('UK', 68), ('Canada', 41), ('Russia2', 145), ('Germany', 84)])"
      ]
     },
     "execution_count": 90,
     "metadata": {},
     "output_type": "execute_result"
    }
   ],
   "source": [
    "population.items()"
   ]
  },
  {
   "cell_type": "code",
   "execution_count": 91,
   "metadata": {},
   "outputs": [
    {
     "name": "stdout",
     "output_type": "stream",
     "text": [
      "Population in Russia is 145 mln people\n",
      "Population in USA is 340 mln people\n",
      "Population in UK is 68 mln people\n",
      "Population in Canada is 41 mln people\n",
      "Population in Russia2 is 145 mln people\n",
      "Population in Germany is 84 mln people\n"
     ]
    }
   ],
   "source": [
    "for k, v in population.items():\n",
    "    print(\"Population in\", k, \"is\", v, \"mln people\")"
   ]
  },
  {
   "cell_type": "code",
   "execution_count": 92,
   "metadata": {},
   "outputs": [
    {
     "name": "stdout",
     "output_type": "stream",
     "text": [
      "Russia\n",
      "USA\n",
      "Russia2\n"
     ]
    }
   ],
   "source": [
    "# найти страны с населением более 100 млн\n",
    "for k, v in population.items():\n",
    "    if v > 100:\n",
    "        print(k)"
   ]
  },
  {
   "cell_type": "markdown",
   "metadata": {},
   "source": [
    "Значениями словаря могут быть списки."
   ]
  },
  {
   "cell_type": "code",
   "execution_count": 93,
   "metadata": {},
   "outputs": [
    {
     "data": {
      "text/plain": [
       "['Петр', 'Сергеевич']"
      ]
     },
     "execution_count": 93,
     "metadata": {},
     "output_type": "execute_result"
    }
   ],
   "source": [
    "my_dict = {'Иванов' : ['Петр', 'Сергеевич'], 'Петров' : ['Илья', 'Ярославович']}\n",
    "my_dict['Иванов']"
   ]
  },
  {
   "cell_type": "code",
   "execution_count": 94,
   "metadata": {},
   "outputs": [
    {
     "data": {
      "text/plain": [
       "'Петр'"
      ]
     },
     "execution_count": 94,
     "metadata": {},
     "output_type": "execute_result"
    }
   ],
   "source": [
    "my_dict['Иванов'][0]"
   ]
  },
  {
   "cell_type": "code",
   "execution_count": 95,
   "metadata": {},
   "outputs": [
    {
     "data": {
      "text/plain": [
       "'Сергеевич'"
      ]
     },
     "execution_count": 95,
     "metadata": {},
     "output_type": "execute_result"
    }
   ],
   "source": [
    "my_dict['Иванов'][1]"
   ]
  },
  {
   "cell_type": "markdown",
   "metadata": {},
   "source": [
    "Проверка наличия ключа в словаре"
   ]
  },
  {
   "cell_type": "code",
   "execution_count": 96,
   "metadata": {},
   "outputs": [
    {
     "data": {
      "text/plain": [
       "True"
      ]
     },
     "execution_count": 96,
     "metadata": {},
     "output_type": "execute_result"
    }
   ],
   "source": [
    "\"Russia\" in population"
   ]
  },
  {
   "cell_type": "code",
   "execution_count": 97,
   "metadata": {},
   "outputs": [
    {
     "data": {
      "text/plain": [
       "False"
      ]
     },
     "execution_count": 97,
     "metadata": {},
     "output_type": "execute_result"
    }
   ],
   "source": [
    "\"Italy\" in population"
   ]
  },
  {
   "cell_type": "markdown",
   "metadata": {},
   "source": [
    "Проверка наличия значения в словаре"
   ]
  },
  {
   "cell_type": "code",
   "execution_count": 98,
   "metadata": {},
   "outputs": [
    {
     "data": {
      "text/plain": [
       "False"
      ]
     },
     "execution_count": 98,
     "metadata": {},
     "output_type": "execute_result"
    }
   ],
   "source": [
    "10 in population.values()"
   ]
  },
  {
   "cell_type": "code",
   "execution_count": 99,
   "metadata": {},
   "outputs": [
    {
     "data": {
      "text/plain": [
       "True"
      ]
     },
     "execution_count": 99,
     "metadata": {},
     "output_type": "execute_result"
    }
   ],
   "source": [
    "145 in population.values()"
   ]
  },
  {
   "cell_type": "markdown",
   "metadata": {},
   "source": [
    "### 2.3. Операции над словарями <a id=\"section_2_3\"></a> "
   ]
  },
  {
   "cell_type": "markdown",
   "metadata": {},
   "source": [
    "Можно объединять два словаря"
   ]
  },
  {
   "cell_type": "code",
   "execution_count": 100,
   "metadata": {},
   "outputs": [],
   "source": [
    "d1 = {'Математика': 3, 'Информатика': 5, 'Литература': 4}\n",
    "d2 = {'Информатика': 4, 'История': 5, 'География': 4}"
   ]
  },
  {
   "cell_type": "code",
   "execution_count": 101,
   "metadata": {},
   "outputs": [
    {
     "data": {
      "text/plain": [
       "{'Математика': 3,\n",
       " 'Информатика': 4,\n",
       " 'Литература': 4,\n",
       " 'История': 5,\n",
       " 'География': 4}"
      ]
     },
     "execution_count": 101,
     "metadata": {},
     "output_type": "execute_result"
    }
   ],
   "source": [
    "d1 | d2  # первый способ объединения"
   ]
  },
  {
   "cell_type": "markdown",
   "metadata": {},
   "source": [
    "При совпадении ключей берётся значение из второго словаря (d2)."
   ]
  },
  {
   "cell_type": "code",
   "execution_count": 102,
   "metadata": {},
   "outputs": [
    {
     "data": {
      "text/plain": [
       "{'Математика': 3,\n",
       " 'Информатика': 4,\n",
       " 'Литература': 4,\n",
       " 'История': 5,\n",
       " 'География': 4}"
      ]
     },
     "execution_count": 102,
     "metadata": {},
     "output_type": "execute_result"
    }
   ],
   "source": [
    "d1.update(d2)  # второй способ объединения\n",
    "d1"
   ]
  },
  {
   "cell_type": "markdown",
   "metadata": {},
   "source": [
    "Удаление элементов"
   ]
  },
  {
   "cell_type": "code",
   "execution_count": 103,
   "metadata": {},
   "outputs": [
    {
     "data": {
      "text/plain": [
       "{'Информатика': 4, 'Литература': 4, 'История': 5, 'География': 4}"
      ]
     },
     "execution_count": 103,
     "metadata": {},
     "output_type": "execute_result"
    }
   ],
   "source": [
    "del d1['Математика']\n",
    "d1"
   ]
  },
  {
   "cell_type": "code",
   "execution_count": 104,
   "metadata": {},
   "outputs": [
    {
     "data": {
      "text/plain": [
       "4"
      ]
     },
     "execution_count": 104,
     "metadata": {},
     "output_type": "execute_result"
    }
   ],
   "source": [
    "d1.pop(\"Литература\")  # удаление с возвратом значения"
   ]
  },
  {
   "cell_type": "code",
   "execution_count": 105,
   "metadata": {},
   "outputs": [
    {
     "data": {
      "text/plain": [
       "{}"
      ]
     },
     "execution_count": 105,
     "metadata": {},
     "output_type": "execute_result"
    }
   ],
   "source": [
    "d1.clear()  # очистака словаря\n",
    "d1"
   ]
  },
  {
   "cell_type": "markdown",
   "metadata": {},
   "source": [
    "### 2.4. Словарные включения (Dictionary Comprehensions) <a id=\"section_2_4\"></a> "
   ]
  },
  {
   "cell_type": "markdown",
   "metadata": {},
   "source": [
    "Словарные включения — это компактный и выразительный способ создания словарей, аналогичный списковым включениям. Они позволяют создавать словари в одной строке, используя циклы и условия.\n",
    "\n"
   ]
  },
  {
   "cell_type": "markdown",
   "metadata": {},
   "source": [
    "Синтаксис: `{key_expression: value_expression for item in iterable}`"
   ]
  },
  {
   "cell_type": "markdown",
   "metadata": {},
   "source": [
    "Создание словаря из диапазона чисел"
   ]
  },
  {
   "cell_type": "code",
   "execution_count": 106,
   "metadata": {},
   "outputs": [
    {
     "data": {
      "text/plain": [
       "{0: 0, 1: 1, 2: 4, 3: 9, 4: 16}"
      ]
     },
     "execution_count": 106,
     "metadata": {},
     "output_type": "execute_result"
    }
   ],
   "source": [
    "{x: x**2 for x in range(5)}  # ключ - число от 0 до 4, значение - число в квадрате"
   ]
  },
  {
   "cell_type": "code",
   "execution_count": 107,
   "metadata": {},
   "outputs": [
    {
     "data": {
      "text/plain": [
       "{'0': 0, '1': 1, '2': 4, '3': 9, '4': 16}"
      ]
     },
     "execution_count": 107,
     "metadata": {},
     "output_type": "execute_result"
    }
   ],
   "source": [
    "{str(x): x**2 for x in range(5)}  # ключ - строки с числами от 0 до 4, значение - число в квадрате"
   ]
  },
  {
   "cell_type": "markdown",
   "metadata": {},
   "source": [
    "Создание словаря из списка"
   ]
  },
  {
   "cell_type": "code",
   "execution_count": 108,
   "metadata": {},
   "outputs": [
    {
     "name": "stdout",
     "output_type": "stream",
     "text": [
      "{'apple': 5, 'banana': 6, 'cherry': 6}\n"
     ]
    }
   ],
   "source": [
    "fruits = [\"apple\", \"banana\", \"cherry\"]\n",
    "lengths = {fruit: len(fruit) for fruit in fruits}  # ключ - слово в списке, значение - число символов в нем\n",
    "print(lengths) "
   ]
  },
  {
   "cell_type": "markdown",
   "metadata": {},
   "source": [
    "Преобразование существующего словаря"
   ]
  },
  {
   "cell_type": "code",
   "execution_count": 109,
   "metadata": {},
   "outputs": [
    {
     "name": "stdout",
     "output_type": "stream",
     "text": [
      "{'a': 2, 'b': 4, 'c': 6}\n"
     ]
    }
   ],
   "source": [
    "original = {\"a\": 1, \"b\": 2, \"c\": 3}\n",
    "doubled = {k: v * 2 for k, v in original.items()}  # удвоение значений\n",
    "print(doubled)"
   ]
  },
  {
   "cell_type": "code",
   "execution_count": 110,
   "metadata": {},
   "outputs": [
    {
     "name": "stdout",
     "output_type": "stream",
     "text": [
      "{'A': 1, 'B': 2, 'C': 3}\n"
     ]
    }
   ],
   "source": [
    "uppercase_keys = {k.upper(): v for k, v in original.items()}  # преобразование ключей в верхний регистр\n",
    "print(uppercase_keys) "
   ]
  },
  {
   "cell_type": "markdown",
   "metadata": {},
   "source": [
    "Словарные включения с условиями"
   ]
  },
  {
   "cell_type": "code",
   "execution_count": 111,
   "metadata": {},
   "outputs": [
    {
     "name": "stdout",
     "output_type": "stream",
     "text": [
      "{'0': 0, '1': 1, '2': 2, '3': 3, '4': 4, '5': 5, '6': 6, '7': 7, '8': 8, '9': 9}\n"
     ]
    }
   ],
   "source": [
    "numbers = {str(x): x for x in range(10)}  # создаем словарь\n",
    "print(numbers)"
   ]
  },
  {
   "cell_type": "code",
   "execution_count": 112,
   "metadata": {},
   "outputs": [
    {
     "name": "stdout",
     "output_type": "stream",
     "text": [
      "{'0': 0, '2': 2, '4': 4, '6': 6, '8': 8}\n"
     ]
    }
   ],
   "source": [
    "even_only = {k: v for k, v in numbers.items() if v % 2 == 0}  # отбираем только четные значения\n",
    "print(even_only)"
   ]
  },
  {
   "cell_type": "markdown",
   "metadata": {},
   "source": [
    "Условные выражения в значениях"
   ]
  },
  {
   "cell_type": "code",
   "execution_count": 113,
   "metadata": {},
   "outputs": [
    {
     "name": "stdout",
     "output_type": "stream",
     "text": [
      "{'0': 'четные', '1': 'нечетные', '2': 'четные', '3': 'нечетные', '4': 'четные', '5': 'нечетные', '6': 'четные', '7': 'нечетные', '8': 'четные', '9': 'нечетные'}\n"
     ]
    }
   ],
   "source": [
    "parity = {k: \"четные\" if v % 2 == 0 else \"нечетные\" for k, v in numbers.items()}\n",
    "print(parity)  # пометить четные и нечетные числа"
   ]
  },
  {
   "cell_type": "markdown",
   "metadata": {},
   "source": [
    "Преобразование вложенных структур"
   ]
  },
  {
   "cell_type": "code",
   "execution_count": 114,
   "metadata": {},
   "outputs": [
    {
     "data": {
      "text/plain": [
       "[{'name': 'Alice', 'grades': [85, 90, 78]},\n",
       " {'name': 'Bob', 'grades': [92, 88, 95]},\n",
       " {'name': 'Charlie', 'grades': [76, 82, 80]}]"
      ]
     },
     "execution_count": 114,
     "metadata": {},
     "output_type": "execute_result"
    }
   ],
   "source": [
    "# Список студентов с оценками\n",
    "students = [\n",
    "    {\"name\": \"Alice\", \"grades\": [85, 90, 78]},\n",
    "    {\"name\": \"Bob\", \"grades\": [92, 88, 95]},\n",
    "    {\"name\": \"Charlie\", \"grades\": [76, 82, 80]}\n",
    "]\n",
    "students"
   ]
  },
  {
   "cell_type": "code",
   "execution_count": 115,
   "metadata": {},
   "outputs": [
    {
     "name": "stdout",
     "output_type": "stream",
     "text": [
      "{'Alice': 84.33333333333333, 'Bob': 91.66666666666667, 'Charlie': 79.33333333333333}\n"
     ]
    }
   ],
   "source": [
    "# Создание словаря {имя: средняя оценка}\n",
    "averages = {student[\"name\"]: sum(student[\"grades\"])/len(student[\"grades\"]) \n",
    "            for student in students}\n",
    "print(averages)"
   ]
  },
  {
   "cell_type": "markdown",
   "metadata": {},
   "source": [
    "# Задание 4"
   ]
  },
  {
   "cell_type": "markdown",
   "metadata": {},
   "source": [
    "Проанализируйте навыки кандидатов, подавших заявки на позицию \"Data Scientist\", с помощью Set Comprehensions.\n",
    "\n",
    "В вашем распоряжении три множества:\n",
    "\n",
    "- candidates содержит информацию о навыках каждого кандидата;\n",
    "- required_skills содержит информацию об обязательных навыках, необходимых для этой позиции.\n",
    "- bonus_skills содержит информацию о дополнительных навыках, необходимых для этой позиции.\n",
    "\n",
    "Задания:\n",
    "\n",
    "1. Создайте множество имен кандидатов, которые обладают всеми обязательными навыками.\n",
    "2. Создайте множество имен кандидатов, которые обладают всеми обязательными и дополнительными навыками.\n",
    "3. Создайте множество имен кандидатов, которые обладают всеми обязательными и хотя бы одним дополнительным навыком.\n",
    "4. Создайте множество имен кандидатов, которые не обладают ни одним обязательным навыком.\n",
    "5. Создайте словарь, где ключ — имя кандидата, а значение — множество навыков, которых ему не хватает до идеального профиля (обязательные + бонусные)."
   ]
  },
  {
   "cell_type": "code",
   "execution_count": 17,
   "metadata": {},
   "outputs": [],
   "source": [
    "candidates = {\n",
    "    \"Анна\": {\"Python\", \"SQL\", \"Математика\", \"Статистика\", \"ML\", \"Deep Learning\", \"Spark\"},\n",
    "    \"Борис\": {\"Python\", \"R\", \"SQL\", \"Статистика\", \"Визуализация\", \"Эконометрика\"},\n",
    "    \"Виктория\": {\"R\", \"SQL\", \"Статистика\", \"Эконометрика\", \"Tableau\"},\n",
    "    \"Григорий\": {\"Python\", \"ML\", \"SQL\", \"Deep Learning\", \"NLP\", \"Компьютерное зрение\", \"Статистика\"},\n",
    "    \"Дарья\": {\"Python\", \"SQL\", \"Статистика\", \"Spark\", \"Hadoop\", \"Метематика\", \"ML\", \"Deep Learning\"},\n",
    "    \"Ирина\": {\"Аналитика\", \"Excel\", \"Визуализация\"}\n",
    "}"
   ]
  },
  {
   "cell_type": "code",
   "execution_count": 18,
   "metadata": {},
   "outputs": [],
   "source": [
    "required_skills = {\"Python\", \"SQL\", \"Статистика\"}"
   ]
  },
  {
   "cell_type": "code",
   "execution_count": 19,
   "metadata": {},
   "outputs": [],
   "source": [
    "bonus_skills = {\"ML\", \"Deep Learning\", \"Spark\"}"
   ]
  },
  {
   "cell_type": "code",
   "execution_count": 20,
   "metadata": {},
   "outputs": [
    {
     "data": {
      "text/plain": [
       "{'Анна', 'Борис', 'Григорий', 'Дарья'}"
      ]
     },
     "execution_count": 20,
     "metadata": {},
     "output_type": "execute_result"
    }
   ],
   "source": [
    "# здесь напишите решение задания 4 ( ͡° ͜ʖ ͡°)づ ━━ ✫・*。\n",
    "\n",
    "qualified_candidates = {name for name, skills in candidates.items() \n",
    "                        if required_skills.issubset(skills)}  # 1\n",
    "qualified_candidates"
   ]
  },
  {
   "cell_type": "code",
   "execution_count": 21,
   "metadata": {},
   "outputs": [
    {
     "data": {
      "text/plain": [
       "{'Анна', 'Дарья'}"
      ]
     },
     "execution_count": 21,
     "metadata": {},
     "output_type": "execute_result"
    }
   ],
   "source": [
    "{name for name, skills in candidates.items() \n",
    " if required_skills.issubset(skills) and bonus_skills.issubset(skills)}  # 2"
   ]
  },
  {
   "cell_type": "code",
   "execution_count": 22,
   "metadata": {},
   "outputs": [
    {
     "data": {
      "text/plain": [
       "{'Анна', 'Григорий', 'Дарья'}"
      ]
     },
     "execution_count": 22,
     "metadata": {},
     "output_type": "execute_result"
    }
   ],
   "source": [
    "{name for name, skills in candidates.items() \n",
    " if required_skills.issubset(skills) and bonus_skills.intersection(skills)}  # 3"
   ]
  },
  {
   "cell_type": "code",
   "execution_count": 23,
   "metadata": {},
   "outputs": [
    {
     "data": {
      "text/plain": [
       "{'Ирина'}"
      ]
     },
     "execution_count": 23,
     "metadata": {},
     "output_type": "execute_result"
    }
   ],
   "source": [
    "{name for name, skills in candidates.items()\n",
    "    if not skills.intersection(required_skills)}  # 4"
   ]
  },
  {
   "cell_type": "code",
   "execution_count": 24,
   "metadata": {},
   "outputs": [
    {
     "data": {
      "text/plain": [
       "{'Анна': set(),\n",
       " 'Борис': {'Deep Learning', 'ML', 'Spark'},\n",
       " 'Виктория': {'Deep Learning', 'ML', 'Python', 'Spark'},\n",
       " 'Григорий': {'Spark'},\n",
       " 'Дарья': set(),\n",
       " 'Ирина': {'Deep Learning', 'ML', 'Python', 'SQL', 'Spark', 'Статистика'}}"
      ]
     },
     "execution_count": 24,
     "metadata": {},
     "output_type": "execute_result"
    }
   ],
   "source": [
    "ideal_skills = required_skills | bonus_skills\n",
    "missing_skills = {name: ideal_skills - skills for name, skills in candidates.items()}\n",
    "missing_skills "
   ]
  },
  {
   "cell_type": "markdown",
   "metadata": {},
   "source": [
    "# Задание 5"
   ]
  },
  {
   "cell_type": "markdown",
   "metadata": {},
   "source": [
    "Есть словарь с именами и заработными платами сотрудников (salaries). Выполните следующие задания:\n",
    "\n",
    "- Выведите количество сотрудников.\n",
    "- Выведите среднюю зарплату.\n",
    "- Проверьте, есть ли в словаре данные о Борисе.\n",
    "- Проверьте, есть ли сотрудник с зарплатой 45000.\n",
    "- Добавьте нового сотрудника Сергея с заработной платой 90000.\n",
    "- Увеличьте зарплату Анны на 10000.\n",
    "- Выведите имена сотрудников с зарплатой более 50000.\n",
    "- Выведите вторую по величине зарплату.\n",
    "- Создайте новый словарь, в котором ключом будет имя, а значением число символов в имени.\n",
    "- Введите с клавиатуры имя сотрудника. Если такого имени нет, то выведите текст \"Сотрудника нет в списке\". Если есть, и его зарплата меньше 50000, то увеличьте ее на 10% и выведите текст \"Зарплата увеличена\". Если есть, и его зарплата не меньше 50000, то выведите текст \"Сотрудник есть и его зарплата не ниже нормы\"."
   ]
  },
  {
   "cell_type": "code",
   "execution_count": 25,
   "metadata": {},
   "outputs": [
    {
     "data": {
      "text/plain": [
       "{'Анна': 50000,\n",
       " 'Борис': 60000,\n",
       " 'Ольга': 45000,\n",
       " 'Иван': 65000,\n",
       " 'Петр': 45000,\n",
       " 'Илья': 35000}"
      ]
     },
     "execution_count": 25,
     "metadata": {},
     "output_type": "execute_result"
    }
   ],
   "source": [
    "salaries = {\"Анна\": 50000, \"Борис\": 60000, \"Ольга\": 45000, \"Иван\": 65000, \"Петр\": 45000, \"Илья\": 35000}\n",
    "salaries\n"
   ]
  },
  {
   "cell_type": "code",
   "execution_count": 26,
   "metadata": {},
   "outputs": [
    {
     "data": {
      "text/plain": [
       "6"
      ]
     },
     "execution_count": 26,
     "metadata": {},
     "output_type": "execute_result"
    }
   ],
   "source": [
    "# здесь записать решение задания 5 (..＞◡＜..)\n",
    "\n",
    "len(salaries)  # 1"
   ]
  },
  {
   "cell_type": "code",
   "execution_count": 27,
   "metadata": {},
   "outputs": [
    {
     "data": {
      "text/plain": [
       "50000.0"
      ]
     },
     "execution_count": 27,
     "metadata": {},
     "output_type": "execute_result"
    }
   ],
   "source": [
    "sum(salaries.values()) / len(salaries)  # 2"
   ]
  },
  {
   "cell_type": "code",
   "execution_count": 28,
   "metadata": {},
   "outputs": [
    {
     "data": {
      "text/plain": [
       "True"
      ]
     },
     "execution_count": 28,
     "metadata": {},
     "output_type": "execute_result"
    }
   ],
   "source": [
    "\"Борис\" in salaries  # 3"
   ]
  },
  {
   "cell_type": "code",
   "execution_count": 29,
   "metadata": {},
   "outputs": [
    {
     "data": {
      "text/plain": [
       "True"
      ]
     },
     "execution_count": 29,
     "metadata": {},
     "output_type": "execute_result"
    }
   ],
   "source": [
    "45000 in salaries.values()  # 4"
   ]
  },
  {
   "cell_type": "code",
   "execution_count": 30,
   "metadata": {},
   "outputs": [
    {
     "data": {
      "text/plain": [
       "{'Анна': 50000,\n",
       " 'Борис': 60000,\n",
       " 'Ольга': 45000,\n",
       " 'Иван': 65000,\n",
       " 'Петр': 45000,\n",
       " 'Илья': 35000,\n",
       " 'Сергей': 90000}"
      ]
     },
     "execution_count": 30,
     "metadata": {},
     "output_type": "execute_result"
    }
   ],
   "source": [
    "salaries['Сергей'] = 90000  # 5\n",
    "salaries"
   ]
  },
  {
   "cell_type": "code",
   "execution_count": 31,
   "metadata": {},
   "outputs": [
    {
     "data": {
      "text/plain": [
       "{'Анна': 60000,\n",
       " 'Борис': 60000,\n",
       " 'Ольга': 45000,\n",
       " 'Иван': 65000,\n",
       " 'Петр': 45000,\n",
       " 'Илья': 35000,\n",
       " 'Сергей': 90000}"
      ]
     },
     "execution_count": 31,
     "metadata": {},
     "output_type": "execute_result"
    }
   ],
   "source": [
    "salaries[\"Анна\"] += 10000  # 6\n",
    "salaries"
   ]
  },
  {
   "cell_type": "code",
   "execution_count": 32,
   "metadata": {},
   "outputs": [
    {
     "data": {
      "text/plain": [
       "['Анна', 'Борис', 'Иван', 'Сергей']"
      ]
     },
     "execution_count": 32,
     "metadata": {},
     "output_type": "execute_result"
    }
   ],
   "source": [
    "[name for name, salary in salaries.items() if salary > 50000]  # 7"
   ]
  },
  {
   "cell_type": "code",
   "execution_count": 33,
   "metadata": {},
   "outputs": [
    {
     "data": {
      "text/plain": [
       "65000"
      ]
     },
     "execution_count": 33,
     "metadata": {},
     "output_type": "execute_result"
    }
   ],
   "source": [
    "sorted(set(salaries.values()), reverse=True)[1]  # 8"
   ]
  },
  {
   "cell_type": "code",
   "execution_count": 34,
   "metadata": {},
   "outputs": [
    {
     "data": {
      "text/plain": [
       "{'Анна': 4,\n",
       " 'Борис': 5,\n",
       " 'Ольга': 5,\n",
       " 'Иван': 4,\n",
       " 'Петр': 4,\n",
       " 'Илья': 4,\n",
       " 'Сергей': 6}"
      ]
     },
     "execution_count": 34,
     "metadata": {},
     "output_type": "execute_result"
    }
   ],
   "source": [
    "{k: len(k) for k in salaries}  # 9"
   ]
  },
  {
   "cell_type": "code",
   "execution_count": 35,
   "metadata": {},
   "outputs": [
    {
     "name": "stdout",
     "output_type": "stream",
     "text": [
      "Введине имя сотрудника:Анна\n",
      "Сотрудник есть и его зарплата не ниже нормы\n"
     ]
    }
   ],
   "source": [
    "employee = input('Введине имя сотрудника:')  # 10\n",
    "\n",
    "if employee not in salaries:\n",
    "    print(\"Сотрудника нет в списке\")\n",
    "else:\n",
    "    if salaries[employee] < 50000:\n",
    "        salaries[employee] *= 1.1\n",
    "        print(\"Зарплата увеличена\")\n",
    "    else:\n",
    "        print(\"Сотрудник есть и его зарплата не ниже нормы\")"
   ]
  },
  {
   "cell_type": "markdown",
   "metadata": {},
   "source": [
    "# Задание 6"
   ]
  },
  {
   "cell_type": "markdown",
   "metadata": {},
   "source": [
    "Есть данные о конфигурации в виде списка кортежей (config_list). Преобразуйте его в словарь, используя dictionary comprehensions.\n",
    "\n",
    "_Пример:_\n",
    "\n",
    "_In: `[(\"host\", \"localhost\"), (\"port\", 8080), (\"debug\", True)]`_\n",
    "\n",
    "_Out: `{'host': 'localhost', 'port': 8080, 'debug': True}`_"
   ]
  },
  {
   "cell_type": "code",
   "execution_count": 37,
   "metadata": {},
   "outputs": [],
   "source": [
    "config_list = [\n",
    "    ('host', 'localhost'),\n",
    "    ('port', 8080),\n",
    "    ('debug', True),\n",
    "    ('timeout', 30),\n",
    "    ('max_connections', 100),\n",
    "    ('enable_logging', False),\n",
    "    ('database', 'postgresql'),\n",
    "    ('username', 'admin'),\n",
    "    ('password', 'secret123'),\n",
    "    ('ssl_enabled', True),\n",
    "    ('cache_size', 1024),\n",
    "    ('retry_attempts', 3),\n",
    "    ('environment', 'production')\n",
    "]"
   ]
  },
  {
   "cell_type": "code",
   "execution_count": 38,
   "metadata": {},
   "outputs": [
    {
     "data": {
      "text/plain": [
       "{'host': 'localhost',\n",
       " 'port': 8080,\n",
       " 'debug': True,\n",
       " 'timeout': 30,\n",
       " 'max_connections': 100,\n",
       " 'enable_logging': False,\n",
       " 'database': 'postgresql',\n",
       " 'username': 'admin',\n",
       " 'password': 'secret123',\n",
       " 'ssl_enabled': True,\n",
       " 'cache_size': 1024,\n",
       " 'retry_attempts': 3,\n",
       " 'environment': 'production'}"
      ]
     },
     "execution_count": 38,
     "metadata": {},
     "output_type": "execute_result"
    }
   ],
   "source": [
    "# здесь напишите решение задания 6 ¯\\_(ツ)_/¯\n",
    "\n",
    "{key: value for key, value in config_list}"
   ]
  },
  {
   "cell_type": "markdown",
   "metadata": {},
   "source": [
    "# Задание 7"
   ]
  },
  {
   "cell_type": "markdown",
   "metadata": {},
   "source": [
    "Есть данные о температуре в разных городах в градусах по Цельсию (словарь `temperatures`). Конвертируйте значения температуры из Цельсия в Фаренгейт, используя dictionary comprehensions. Формула преобразования: `F = C × 9/5 + 32`. Округлите результаты расчётов до одного знака после запятой.\n",
    "\n",
    "_Пример:_\n",
    "\n",
    "_In: `{'New York': 22.5, 'Los Angeles': 28.7, 'Chicago': 19.8, 'Miami': 31.2}`_\n",
    "\n",
    "_Out: `{'New York': 72.5, 'Los Angeles': 83.7, 'Chicago': 67.6, 'Miami': 88.2}`_"
   ]
  },
  {
   "cell_type": "code",
   "execution_count": 40,
   "metadata": {},
   "outputs": [
    {
     "name": "stdout",
     "output_type": "stream",
     "text": [
      "{'Москва': -5.3, 'Санкт-Петербург': -3.1, 'Новосибирск': -15.7, 'Сочи': 8.9, 'Владивосток': -8.2, 'Екатеринбург': -12.6, 'Краснодар': 2.4}\n"
     ]
    }
   ],
   "source": [
    "temperatures = {\n",
    "    \"Москва\": -5.3,\n",
    "    \"Санкт-Петербург\": -3.1,\n",
    "    \"Новосибирск\": -15.7,\n",
    "    \"Сочи\": 8.9,\n",
    "    \"Владивосток\": -8.2,\n",
    "    \"Екатеринбург\": -12.6,\n",
    "    \"Краснодар\": 2.4\n",
    "}\n",
    "print(temperatures)"
   ]
  },
  {
   "cell_type": "code",
   "execution_count": 41,
   "metadata": {},
   "outputs": [
    {
     "data": {
      "text/plain": [
       "{'Москва': 22.5,\n",
       " 'Санкт-Петербург': 26.4,\n",
       " 'Новосибирск': 3.7,\n",
       " 'Сочи': 48.0,\n",
       " 'Владивосток': 17.2,\n",
       " 'Екатеринбург': 9.3,\n",
       " 'Краснодар': 36.3}"
      ]
     },
     "execution_count": 41,
     "metadata": {},
     "output_type": "execute_result"
    }
   ],
   "source": [
    "# здесь напишите решение задания 7 ♪ ♫ ♬\n",
    "\n",
    "{\n",
    "    city: round(temp * 9/5 + 32, 1)  # Округляем до одного знака после запятой\n",
    "    for city, temp in temperatures.items()\n",
    "}"
   ]
  },
  {
   "cell_type": "markdown",
   "metadata": {},
   "source": [
    "## 3. Сравнение списков, кортежей, словарей и множеств <a class=\"anchor\" id=\"chapter3\"></a>"
   ]
  },
  {
   "cell_type": "markdown",
   "metadata": {},
   "source": [
    "Выбор подходящего типа данных в Python зависит от задачи. `Списки`, `кортежи`, `словари` и `множества` — это сложные типы данных, которые позволяют хранить и обрабатывать коллекции элементов. "
   ]
  },
  {
   "cell_type": "markdown",
   "metadata": {},
   "source": [
    "`Списки` используются, когда важен порядок элементов и коллекция может изменяться. Например, список задач на день, где элементы можно добавлять, изменять и удалять. К элементам можно обращаться по индексу.\n",
    "\n",
    "`Кортежи` используются, когда данные не должны изменяться, при этом важен порядок. Например, дни недели («понедельник», «вторник») — кортеж подойдёт, потому что эти данные не должны меняться. К элементам можно обращаться по индексу.\n",
    "\n",
    "`Словари` используются, когда данные организованы в виде пар «ключ-значение». Например, данные о пользователях, где каждому пользователю соответствует уникальный идентификатор. Ключи в словаре должны быть уникальными и относиться к неизменяемым типам данных (строки, числа, кортежи), в то время как значения могут быть любыми объектами Python. \n",
    "\n",
    "`Множества` используются, когда нужны только уникальные элементы и не важен порядок. Например, уникальные IP-адреса, посетивших сайт. Элементы не хранятся в предсказуемом порядке, порядок при итерации может меняться. Множества не поддерживают дубликаты.\n",
    "\n",
    "`Неизменяемые множества (frozenset)` — это версия обычного множества (`set`), которое нельзя изменить после создания, что позволяет использовать его в качестве ключа словаря или элемента другого множества. Как и обычные множества, frozenset содержит только уникальные элементы. Элементы во frozenset хранятся без какого-либо порядка, поэтому доступ к ним по индексу невозможен. "
   ]
  },
  {
   "cell_type": "markdown",
   "metadata": {},
   "source": [
    "| Структура           | Изменяемость   | Упорядоченность                 | Допускает дубликаты       | Ключевые особенности                                                     | Пример                |\n",
    "| ------------------- | -------------- | ------------------------------- | ------------------------- | ------------------------------------------------------------------------ | ---------------------- |\n",
    "| **list (список)**   | ✅ изменяемый   | ✅ упорядоченный                 | ✅ да         | Универсальная последовательность, индексированный доступ                 | `[1, 2, 2, 3]`         |\n",
    "| **tuple (кортеж)**  | ❌ неизменяемый | ✅ упорядоченный                 | ✅ да         | Как список, но неизменяемый (можно использовать как ключ словаря)        | `(1, 2, 2, 3)`         |\n",
    "| **dict (словарь)**  | ✅ изменяемый   | ✅ упорядоченный (с Python 3.7+) | ❌ нет | Хранит пары `ключ: значение`, быстрый доступ по ключу                    | `{\"a\": 1, \"b\": 2}`     |\n",
    "| **set (множество)** | ✅ изменяемый   | ❌ неупорядоченный               | ❌ нет        | Хранит только уникальные элементы, поддерживает операции теории множеств | `{1, 2, 3}`            |\n",
    "| **frozenset (неизменяемое множество)**       | ❌ неизменяемый | ❌ неупорядоченный               | ❌ нет        | То же, что `set`, но неизменяемый (может быть ключом словаря)            | `frozenset({1, 2, 3})` |\n"
   ]
  },
  {
   "cell_type": "markdown",
   "metadata": {},
   "source": [
    "| Задача                                                               | Подходит структура | Почему                                                 |\n",
    "| -------------------------------------------------------------------- | ------------------ | ------------------------------------------------------ |\n",
    "| Нужно хранить список студентов в порядке регистрации                 | **list**           | Сохраняет порядок, допускает дубликаты, можно изменять |\n",
    "| Нужно зафиксировать координаты (x, y, z), которые не должны меняться | **tuple**          | Неизменяемый, можно использовать как ключ словаря      |\n",
    "| Нужно хранить зарплаты сотрудников по именам                         | **dict**           | Доступ по ключу, пары «имя → значение»                 |\n",
    "| Нужно быстро проверить, встречалось ли значение в данных             | **set**            | Только уникальные элементы, быстрый поиск              |\n",
    "| Нужно убрать дубликаты из списка                                     | **set**            | Хранит только уникальные значения                      |\n",
    "| Нужно сравнить два списка навыков и найти общие                      | **set**            | Пересечение множеств (`&`)                             |\n",
    "| Нужно сохранить «настройки по умолчанию», которые нельзя менять      | **frozenset**      | Неизменяемое множество, можно использовать как ключ    |\n",
    "| Нужно хранить оценки экзаменов, включая повторы                      | **list**           | Поддерживает дубликаты                                 |\n",
    "| Нужно хранить уникальные идентификаторы сотрудников                  | **set**            | Исключает дубликаты автоматически                      |\n",
    "| Нужно сопоставить id сотрудника и его должность                      | **dict**           | Ключ — id, значение — должность                        |\n"
   ]
  },
  {
   "cell_type": "markdown",
   "metadata": {},
   "source": [
    "__Сравнение списков, кортежей, словарей и множеств по занимаемой памяти__"
   ]
  },
  {
   "cell_type": "code",
   "execution_count": 126,
   "metadata": {},
   "outputs": [
    {
     "name": "stdout",
     "output_type": "stream",
     "text": [
      "Пустой кортеж: 40 байт\n",
      "Пустой список: 56 байт\n",
      "Пустой словарь: 64 байт\n",
      "Пустое множество: 216 байт\n"
     ]
    }
   ],
   "source": [
    "import sys\n",
    "\n",
    "# Размеры пустых контейнеров\n",
    "empty_list = []\n",
    "empty_tuple = ()\n",
    "empty_dict = {}\n",
    "empty_set = set()\n",
    "\n",
    "print(f\"Пустой кортеж: {sys.getsizeof(empty_tuple)} байт\")\n",
    "print(f\"Пустой список: {sys.getsizeof(empty_list)} байт\")\n",
    "print(f\"Пустой словарь: {sys.getsizeof(empty_dict)} байт\")\n",
    "print(f\"Пустое множество: {sys.getsizeof(empty_set)} байт\")"
   ]
  },
  {
   "cell_type": "code",
   "execution_count": 127,
   "metadata": {},
   "outputs": [
    {
     "name": "stdout",
     "output_type": "stream",
     "text": [
      "Кортеж из 1000 элементов: 8040 байт\n",
      "Список из 1000 элементов: 8056 байт\n",
      "Словарь из 1000 элементов: 36952 байт\n",
      "Множество из 1000 элементов: 32984 байт\n"
     ]
    }
   ],
   "source": [
    "# Создаем контейнеры с 1000 целых чисел\n",
    "numbers = list(range(1000))\n",
    "numbers_tuple = tuple(range(1000))\n",
    "numbers_dict = {i: i for i in range(1000)}\n",
    "numbers_set = set(range(1000))\n",
    "\n",
    "print(f\"Кортеж из 1000 элементов: {sys.getsizeof(numbers_tuple)} байт\")\n",
    "print(f\"Список из 1000 элементов: {sys.getsizeof(numbers)} байт\")\n",
    "print(f\"Словарь из 1000 элементов: {sys.getsizeof(numbers_dict)} байт\")\n",
    "print(f\"Множество из 1000 элементов: {sys.getsizeof(numbers_set)} байт\")"
   ]
  },
  {
   "cell_type": "markdown",
   "metadata": {},
   "source": [
    "Меньше всего памяти занимают кортежи, а больше всего множества."
   ]
  },
  {
   "cell_type": "markdown",
   "metadata": {},
   "source": [
    "<div style=\"font-family: monospace; white-space: pre; line-height: 1.1;\">\n",
    "\n",
    "<span style=\"color:#FF0000;\">⠀⠀⠀⠀⠀⠀⠀⠀⠀⠀⠀⢀⣀⣀</span>  \n",
    "<span style=\"color:#FF4500;\">⠀⠀⠀⠀⠀⠀⠀⠀⢀⣴⠟⠋⠉⠉⠙⢦</span>  \n",
    "<span style=\"color:#FF8C00;\">⠀⠀⠀⠀⠀⠀⠀⢀⡾⠁⠀⠀⠀⣀⠀⠀⢻</span>  \n",
    "<span style=\"color:#FFD700;\">⠀⠀⠀⠀⠀⠀⠀⢸⡇⠀⠀⠀⡞⠁</span>  \n",
    "<span style=\"color:#ADFF2F;\">⠀⠀⠀⠀⠀⠀⠀⠀⢷⡀⠀⠈⣧</span>  \n",
    "<span style=\"color:#7FFF00;\">⠀⠀⠀⠀⠀⠀⠀⠀⠈⠳⣄⠀⠙⢷⣄</span>  \n",
    "<span style=\"color:#32CD32;\">⠀⠀⠀⢀⣦⠀⠀⠀⠀⠀⠈⠑⠀⣀⣭⣷⣦⣤⣀</span>  \n",
    "<span style=\"color:#00FA9A;\">⠀⠀⠀⣘⠁⠡⠀⠀⠀⠀⠀⠠⠚⠁⠀⠀⠀⠀⠹⣧</span>  \n",
    "<span style=\"color:#00CED1;\">⠀⠀⠀⠛⠀⠀⠐⠒⢤⡀⠀⠀⠀⠀⠀⠀⠀⠀⠀⢹⡇</span>  \n",
    "<span style=\"color:#1E90FF;\">⠀⡐⠁⢴⡄⠀⠀⠀⠀⠐⠈⠉⡽⠂⠀⠀⠀⠀⠀⢸⡇</span>  \n",
    "<span style=\"color:#4169E1;\">⠀⡇⠀⠀⣤⠀⠶⡦⠀⠀⠴⠚⠀⠀⠀⠀⠀⠀⠀⣸⠇</span>  \n",
    "<span style=\"color:#0000CD;\">⠀⡼⠂⠀⠒⠀⠀⠀⠀⢠⠇⠀⠀⠀⠀⠀⢀⠀⣠⠏</span>  \n",
    "<span style=\"color:#8A2BE2;\">⢸⠀⠀⠀⠀⠀⠀⠀⠘⠁⠀⠀⠀⠀⠀⢀⣎⠴⠋</span>  \n",
    "<span style=\"color:#9400D3;\">⠘⠀⠀⠀⠀⠀⠀⠀⠀⠀⠀⠀⠀⢀⡴⠋</span>  \n",
    "<span style=\"color:#8B0000;\">⠀⠘⠋⢠⡤⠂⠐⠀⠤⠤⠴⠚</span>  \n",
    "\n",
    "<br>\n",
    "<strong>\n",
    "<span style=\"color:#FF0000;\">С</span><span style=\"color:#FF4500;\">п</span><span style=\"color:#FF8C00;\">а</span><span style=\"color:#FFD700;\">с</span><span style=\"color:#ADFF2F;\">и</span><span style=\"color:#7FFF00;\">б</span><span style=\"color:#32CD32;\">о</span> \n",
    "<span style=\"color:#00FA9A;\">з</span><span style=\"color:#00CED1;\">а</span> \n",
    "<span style=\"color:#1E90FF;\">з</span><span style=\"color:#4169E1;\">а</span><span style=\"color:#0000CD;\">н</span><span style=\"color:#8A2BE2;\">я</span><span style=\"color:#9400D3;\">т</span><span style=\"color:#8B0000;\">и</span><span style=\"color:#FF0000;\">е</span><span style=\"color:#FF4500;\">!</span>\n",
    "</strong>\n",
    "</div>\n"
   ]
  }
 ],
 "metadata": {
  "kernelspec": {
   "display_name": "Python 3 (ipykernel)",
   "language": "python",
   "name": "python3"
  },
  "language_info": {
   "codemirror_mode": {
    "name": "ipython",
    "version": 3
   },
   "file_extension": ".py",
   "mimetype": "text/x-python",
   "name": "python",
   "nbconvert_exporter": "python",
   "pygments_lexer": "ipython3",
   "version": "3.11.5"
  }
 },
 "nbformat": 4,
 "nbformat_minor": 2
}
