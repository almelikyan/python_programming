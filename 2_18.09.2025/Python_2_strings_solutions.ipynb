{
 "cells": [
  {
   "cell_type": "markdown",
   "metadata": {},
   "source": [
    "# Курс \"Программирование на Python\"\n",
    "\n",
    "\n",
    "# Тема 2. Работа со строками"
   ]
  },
  {
   "cell_type": "markdown",
   "metadata": {},
   "source": [
    "## Содержание\n",
    "* [1. Работа со строками](#chapter1)\n",
    "    * [1.1. Индексы и срезы](#section_1_1)\n",
    "    * [1.2. Методы работы со строками](#section_1_2)    \n",
    "* [2. Форматирование строк](#chapter2)\n",
    "    * [2.1. Оператор %](#section_2_1)\n",
    "    * [2.1. Метод format()](#section_2_2)\n",
    "    * [2.3. F-строки](#section_2_3)    "
   ]
  },
  {
   "cell_type": "markdown",
   "metadata": {},
   "source": [
    "## 1. Работа со строками <a class=\"anchor\" id=\"chapter1\"></a>"
   ]
  },
  {
   "cell_type": "markdown",
   "metadata": {},
   "source": [
    "Строка - это неизменяемая упорядоченная последовательность символов, которая используются для хранения текстовой информации. В качестве символов в строке могут использоваться буквы, цифры, знаки препинания и специальные символы. "
   ]
  },
  {
   "cell_type": "code",
   "execution_count": 4,
   "metadata": {},
   "outputs": [
    {
     "name": "stdout",
     "output_type": "stream",
     "text": [
      "Hi!\n"
     ]
    }
   ],
   "source": [
    "x = 'Hi!'\n",
    "\n",
    "y = \"Hel'lo!\"\n",
    "print(x)"
   ]
  },
  {
   "cell_type": "code",
   "execution_count": 1,
   "metadata": {},
   "outputs": [
    {
     "name": "stdout",
     "output_type": "stream",
     "text": [
      "Python's advantages\n",
      "\"Python is great\"\n",
      "Python's advantages\n"
     ]
    }
   ],
   "source": [
    "print(\"Python's advantages\")  # здесь двойные кавычки используются для обозначения начала и окончания строки \n",
    "print('\"Python is great\"')  # здесь одинарные кавычки используются для обозначения начала и окончания строки\n",
    "print('Python\\'s advantages')  # здесь используется экранирование символа"
   ]
  },
  {
   "cell_type": "code",
   "execution_count": 2,
   "metadata": {},
   "outputs": [],
   "source": [
    "a = '''Beautiful is better than ugly.\n",
    "Explicit is better than implicit.\n",
    "Simple is better than complex.'''"
   ]
  },
  {
   "cell_type": "code",
   "execution_count": 3,
   "metadata": {},
   "outputs": [
    {
     "data": {
      "text/plain": [
       "'Beautiful is better than ugly.\\nExplicit is better than implicit.\\nSimple is better than complex.'"
      ]
     },
     "execution_count": 3,
     "metadata": {},
     "output_type": "execute_result"
    }
   ],
   "source": [
    "a"
   ]
  },
  {
   "cell_type": "markdown",
   "metadata": {},
   "source": [
    "Здесь `\\n` - это перенос строки."
   ]
  },
  {
   "cell_type": "code",
   "execution_count": 4,
   "metadata": {},
   "outputs": [
    {
     "name": "stdout",
     "output_type": "stream",
     "text": [
      "Beautiful is better than ugly.\n",
      "Explicit is better than implicit.\n",
      "Simple is better than complex.\n"
     ]
    }
   ],
   "source": [
    "print(a)"
   ]
  },
  {
   "cell_type": "markdown",
   "metadata": {},
   "source": [
    "### 1.1. Индексы и срезы <a id=\"section_1_1\"></a>"
   ]
  },
  {
   "cell_type": "markdown",
   "metadata": {},
   "source": [
    "Индекс - это порядковый номер элемента в упорядоченной последовательности. Нумерация элементов в Python начинается с нуля и далее идет по возрастанию."
   ]
  },
  {
   "cell_type": "code",
   "execution_count": 116,
   "metadata": {},
   "outputs": [
    {
     "data": {
      "image/png": "[encoded data removed]",
      "text/plain": [
       "<IPython.core.display.Image object>"
      ]
     },
     "execution_count": 116,
     "metadata": {
      "image/png": {
       "width": "450"
      }
     },
     "output_type": "execute_result"
    }
   ],
   "source": [
    "from IPython.display import Image\n",
    "Image(\"pic6.png\", width=\"450\")"
   ]
  },
  {
   "cell_type": "code",
   "execution_count": 5,
   "metadata": {},
   "outputs": [],
   "source": [
    "pname = 'HR-Tech'"
   ]
  },
  {
   "cell_type": "code",
   "execution_count": 6,
   "metadata": {},
   "outputs": [
    {
     "data": {
      "text/plain": [
       "'HR-Tech'"
      ]
     },
     "execution_count": 6,
     "metadata": {},
     "output_type": "execute_result"
    }
   ],
   "source": [
    "pname"
   ]
  },
  {
   "cell_type": "code",
   "execution_count": 7,
   "metadata": {},
   "outputs": [
    {
     "name": "stdout",
     "output_type": "stream",
     "text": [
      "7\n"
     ]
    }
   ],
   "source": [
    "print(len(pname))  # число символов"
   ]
  },
  {
   "cell_type": "code",
   "execution_count": 13,
   "metadata": {},
   "outputs": [
    {
     "name": "stdout",
     "output_type": "stream",
     "text": [
      "T\n"
     ]
    }
   ],
   "source": [
    "print(pname[3]) # нумерация начинается с нуля, это первый символ"
   ]
  },
  {
   "cell_type": "code",
   "execution_count": 10,
   "metadata": {},
   "outputs": [
    {
     "name": "stdout",
     "output_type": "stream",
     "text": [
      "e\n"
     ]
    }
   ],
   "source": [
    "print(pname[4]) # 5-й символ"
   ]
  },
  {
   "cell_type": "markdown",
   "metadata": {},
   "source": [
    "Срез позволяет извлекать не один символ из строки, а сразу несколько. Операция получения среза выполняется  при помощи квадратных скобок `[]`, в которых указываются два значения, разделенные двоеточием `:`. \n",
    "\n",
    "`строка[начало_среза:конец_среза]`\n",
    "\n",
    "- `начало_среза` - это индекс позиции (включительно), начиная с которой нужно брать срез\n",
    "\n",
    "- `конец_среза` - это индекс позиции (не включительно), на которой необходимо закончить взятие среза"
   ]
  },
  {
   "cell_type": "code",
   "execution_count": 14,
   "metadata": {},
   "outputs": [
    {
     "data": {
      "text/plain": [
       "'HR-Tech'"
      ]
     },
     "execution_count": 14,
     "metadata": {},
     "output_type": "execute_result"
    }
   ],
   "source": [
    "pname"
   ]
  },
  {
   "cell_type": "code",
   "execution_count": 17,
   "metadata": {},
   "outputs": [
    {
     "data": {
      "text/plain": [
       "'HR-'"
      ]
     },
     "execution_count": 17,
     "metadata": {},
     "output_type": "execute_result"
    }
   ],
   "source": [
    "pname[:3]"
   ]
  },
  {
   "cell_type": "code",
   "execution_count": null,
   "metadata": {},
   "outputs": [],
   "source": []
  },
  {
   "cell_type": "code",
   "execution_count": null,
   "metadata": {},
   "outputs": [],
   "source": []
  },
  {
   "cell_type": "code",
   "execution_count": 11,
   "metadata": {},
   "outputs": [
    {
     "name": "stdout",
     "output_type": "stream",
     "text": [
      "HR\n"
     ]
    }
   ],
   "source": [
    "print(pname[:2]) # первые 2 символа"
   ]
  },
  {
   "cell_type": "code",
   "execution_count": 12,
   "metadata": {},
   "outputs": [
    {
     "name": "stdout",
     "output_type": "stream",
     "text": [
      "Tech\n"
     ]
    }
   ],
   "source": [
    "print(pname[3:]) # с 4 символа до конца"
   ]
  },
  {
   "cell_type": "code",
   "execution_count": 18,
   "metadata": {},
   "outputs": [
    {
     "name": "stdout",
     "output_type": "stream",
     "text": [
      "ch\n"
     ]
    }
   ],
   "source": [
    "print(pname[-2:]) # последний символ"
   ]
  },
  {
   "cell_type": "code",
   "execution_count": 14,
   "metadata": {},
   "outputs": [
    {
     "name": "stdout",
     "output_type": "stream",
     "text": [
      "ch\n"
     ]
    }
   ],
   "source": [
    "print(pname[-2:]) # два последних символа"
   ]
  },
  {
   "cell_type": "code",
   "execution_count": 15,
   "metadata": {},
   "outputs": [
    {
     "name": "stdout",
     "output_type": "stream",
     "text": [
      "Tec\n"
     ]
    }
   ],
   "source": [
    "print(pname[3:6]) # с 4 по 6 символы (левая граница включительно, а правая нет)"
   ]
  },
  {
   "cell_type": "code",
   "execution_count": 16,
   "metadata": {},
   "outputs": [
    {
     "name": "stdout",
     "output_type": "stream",
     "text": [
      "Beautiful is better than ugly.\n",
      "Explicit is better than implicit.\n",
      "Simple is better than complex.\n"
     ]
    }
   ],
   "source": [
    "print(a[:]) # вся фраза"
   ]
  },
  {
   "cell_type": "code",
   "execution_count": 17,
   "metadata": {},
   "outputs": [
    {
     "name": "stdout",
     "output_type": "stream",
     "text": [
      "better\n"
     ]
    }
   ],
   "source": [
    "print(a[13:19]) # слово better (c 14 по 19 символы)"
   ]
  },
  {
   "cell_type": "markdown",
   "metadata": {},
   "source": [
    "Операция взятия среза допускает использование третьего необязательного параметра, отвечающего за `шаг среза`. \n",
    "\n",
    "`строка[начало_среза:конец_среза:шаг]`"
   ]
  },
  {
   "cell_type": "code",
   "execution_count": 18,
   "metadata": {},
   "outputs": [
    {
     "name": "stdout",
     "output_type": "stream",
     "text": [
      "bte\n"
     ]
    }
   ],
   "source": [
    "print(a[13:19:2])  # каждая вторая буква в слове better"
   ]
  },
  {
   "cell_type": "markdown",
   "metadata": {},
   "source": [
    "`\\n` - перенос строки"
   ]
  },
  {
   "cell_type": "code",
   "execution_count": 20,
   "metadata": {},
   "outputs": [
    {
     "name": "stdout",
     "output_type": "stream",
     "text": [
      "Hello\n",
      "World\n"
     ]
    }
   ],
   "source": [
    "print(\"Hello\\nWorld\")"
   ]
  },
  {
   "cell_type": "markdown",
   "metadata": {},
   "source": [
    "`+` - склеивание или конкатенация строк"
   ]
  },
  {
   "cell_type": "code",
   "execution_count": 20,
   "metadata": {},
   "outputs": [
    {
     "name": "stdout",
     "output_type": "stream",
     "text": [
      "Hello, World!\n"
     ]
    }
   ],
   "source": [
    "print(\"Hello, \" + \"World!\")"
   ]
  },
  {
   "cell_type": "markdown",
   "metadata": {},
   "source": [
    "`\\` - экранирование\n",
    "\n",
    "Экранирование строк позволяет вставлять специальные символы внутри строк, чтобы они интерпретировались буквально, а не как часть синтаксиса языка."
   ]
  },
  {
   "cell_type": "code",
   "execution_count": 21,
   "metadata": {},
   "outputs": [
    {
     "name": "stdout",
     "output_type": "stream",
     "text": [
      "Hello\"World\n"
     ]
    }
   ],
   "source": [
    "print(\"Hello\\\"World\")"
   ]
  },
  {
   "cell_type": "markdown",
   "metadata": {},
   "source": [
    "Экранирование с помощью символа `\\` отменяет действие кавычки, и она воспринимается, как часть текста."
   ]
  },
  {
   "cell_type": "code",
   "execution_count": 22,
   "metadata": {},
   "outputs": [],
   "source": [
    "s1 = 'D:\\Python\\Projects\\hse\\task1.ipynb'  # \\t - это табуляция"
   ]
  },
  {
   "cell_type": "code",
   "execution_count": 23,
   "metadata": {},
   "outputs": [
    {
     "name": "stdout",
     "output_type": "stream",
     "text": [
      "D:\\Python\\Projects\\hse\task1.ipynb\n"
     ]
    }
   ],
   "source": [
    "print(s1)"
   ]
  },
  {
   "cell_type": "code",
   "execution_count": 24,
   "metadata": {},
   "outputs": [],
   "source": [
    "s2 = 'D:\\Python\\Projects\\hse\\\\task1.ipynb'"
   ]
  },
  {
   "cell_type": "code",
   "execution_count": 25,
   "metadata": {},
   "outputs": [
    {
     "name": "stdout",
     "output_type": "stream",
     "text": [
      "D:\\Python\\Projects\\hse\\task1.ipynb\n"
     ]
    }
   ],
   "source": [
    "print(s2)  # теперь \\t воспринимается как набор символов"
   ]
  },
  {
   "cell_type": "markdown",
   "metadata": {},
   "source": [
    "Можно использовать Raw string, добавив символ `r` перед строкой. Это специальный тип строки, который игнорирует escape-последовательности (экранирование) и рассматривает каждый символ внутри строки как литеральный."
   ]
  },
  {
   "cell_type": "code",
   "execution_count": 26,
   "metadata": {},
   "outputs": [],
   "source": [
    "s3 = r'D:\\Python\\Projects\\hse\\task1.ipynb'  "
   ]
  },
  {
   "cell_type": "code",
   "execution_count": 27,
   "metadata": {},
   "outputs": [
    {
     "name": "stdout",
     "output_type": "stream",
     "text": [
      "D:\\Python\\Projects\\hse\\task1.ipynb\n"
     ]
    }
   ],
   "source": [
    "print(s3)"
   ]
  },
  {
   "cell_type": "markdown",
   "metadata": {},
   "source": [
    "Повторение строки"
   ]
  },
  {
   "cell_type": "code",
   "execution_count": 23,
   "metadata": {},
   "outputs": [],
   "source": [
    "x = '5'"
   ]
  },
  {
   "cell_type": "code",
   "execution_count": 24,
   "metadata": {},
   "outputs": [
    {
     "data": {
      "text/plain": [
       "'5555555555'"
      ]
     },
     "execution_count": 24,
     "metadata": {},
     "output_type": "execute_result"
    }
   ],
   "source": [
    "x * 10"
   ]
  },
  {
   "cell_type": "markdown",
   "metadata": {},
   "source": [
    "Проверка наличия символа в строке"
   ]
  },
  {
   "cell_type": "code",
   "execution_count": 30,
   "metadata": {},
   "outputs": [
    {
     "data": {
      "text/plain": [
       "'hse'"
      ]
     },
     "execution_count": 30,
     "metadata": {},
     "output_type": "execute_result"
    }
   ],
   "source": [
    "x"
   ]
  },
  {
   "cell_type": "code",
   "execution_count": 31,
   "metadata": {},
   "outputs": [
    {
     "data": {
      "text/plain": [
       "True"
      ]
     },
     "execution_count": 31,
     "metadata": {},
     "output_type": "execute_result"
    }
   ],
   "source": [
    "'h' in x"
   ]
  },
  {
   "cell_type": "code",
   "execution_count": 32,
   "metadata": {},
   "outputs": [
    {
     "data": {
      "text/plain": [
       "False"
      ]
     },
     "execution_count": 32,
     "metadata": {},
     "output_type": "execute_result"
    }
   ],
   "source": [
    "'a' in x"
   ]
  },
  {
   "cell_type": "markdown",
   "metadata": {},
   "source": [
    "### 1.2. Методы работы со строками <a id=\"section_1_2\"></a>"
   ]
  },
  {
   "cell_type": "markdown",
   "metadata": {},
   "source": [
    "**Метод** — это функция, связанная с определенным типом объекта. То есть методы специфичны для каждого отдельного типа.  Используются для выполнения операций над данными объекта, к которому они привязаны. Вызов метода происходит через точку после названия объекта, аргументы в метод передаются аналогично функциям."
   ]
  },
  {
   "cell_type": "code",
   "execution_count": 25,
   "metadata": {},
   "outputs": [],
   "source": [
    "phrase = \"Hi, HSE!\""
   ]
  },
  {
   "cell_type": "code",
   "execution_count": 27,
   "metadata": {},
   "outputs": [
    {
     "data": {
      "text/plain": [
       "'Hi, HSE!'"
      ]
     },
     "execution_count": 27,
     "metadata": {},
     "output_type": "execute_result"
    }
   ],
   "source": [
    "phrase"
   ]
  },
  {
   "cell_type": "code",
   "execution_count": 30,
   "metadata": {},
   "outputs": [],
   "source": [
    "phrase = phrase.lower() # перевод в нижний регистр"
   ]
  },
  {
   "cell_type": "code",
   "execution_count": 31,
   "metadata": {},
   "outputs": [
    {
     "data": {
      "text/plain": [
       "'hi, hse!'"
      ]
     },
     "execution_count": 31,
     "metadata": {},
     "output_type": "execute_result"
    }
   ],
   "source": [
    "phrase"
   ]
  },
  {
   "cell_type": "code",
   "execution_count": 36,
   "metadata": {},
   "outputs": [
    {
     "data": {
      "text/plain": [
       "'HI, HSE!'"
      ]
     },
     "execution_count": 36,
     "metadata": {},
     "output_type": "execute_result"
    }
   ],
   "source": [
    "phrase.upper() # перевод в верхний регистр"
   ]
  },
  {
   "cell_type": "code",
   "execution_count": 37,
   "metadata": {},
   "outputs": [
    {
     "data": {
      "text/plain": [
       "'Hi, Hse!'"
      ]
     },
     "execution_count": 37,
     "metadata": {},
     "output_type": "execute_result"
    }
   ],
   "source": [
    "phrase.title() # каждое слово начинается с буквы в верхнем регистре, остальные в нижнем"
   ]
  },
  {
   "cell_type": "code",
   "execution_count": 38,
   "metadata": {},
   "outputs": [
    {
     "data": {
      "text/plain": [
       "'Hi, hse!'"
      ]
     },
     "execution_count": 38,
     "metadata": {},
     "output_type": "execute_result"
    }
   ],
   "source": [
    "phrase.capitalize() # первый символ в верхнем регистре, остальные в нижнем"
   ]
  },
  {
   "cell_type": "code",
   "execution_count": 39,
   "metadata": {},
   "outputs": [
    {
     "data": {
      "text/plain": [
       "'hI, hse!'"
      ]
     },
     "execution_count": 39,
     "metadata": {},
     "output_type": "execute_result"
    }
   ],
   "source": [
    "phrase.swapcase() # замена верхнего регистра на нижний и наоборот"
   ]
  },
  {
   "cell_type": "code",
   "execution_count": 26,
   "metadata": {},
   "outputs": [
    {
     "data": {
      "text/plain": [
       "'Hi, HSE!'"
      ]
     },
     "execution_count": 26,
     "metadata": {},
     "output_type": "execute_result"
    }
   ],
   "source": [
    "phrase"
   ]
  },
  {
   "cell_type": "code",
   "execution_count": 40,
   "metadata": {},
   "outputs": [
    {
     "data": {
      "text/plain": [
       "4"
      ]
     },
     "execution_count": 40,
     "metadata": {},
     "output_type": "execute_result"
    }
   ],
   "source": [
    "phrase.index(\"HSE\") # позиция слова в строке, т.е. с какого символа начинается"
   ]
  },
  {
   "cell_type": "code",
   "execution_count": 41,
   "metadata": {},
   "outputs": [
    {
     "data": {
      "text/plain": [
       "'Zi, ZSE!'"
      ]
     },
     "execution_count": 41,
     "metadata": {},
     "output_type": "execute_result"
    }
   ],
   "source": [
    "phrase.replace(\"H\", \"Z\")  # замена символа"
   ]
  },
  {
   "cell_type": "code",
   "execution_count": 42,
   "metadata": {},
   "outputs": [
    {
     "data": {
      "text/plain": [
       "'Hi, HSE!'"
      ]
     },
     "execution_count": 42,
     "metadata": {},
     "output_type": "execute_result"
    }
   ],
   "source": [
    "phrase  # исходная фраза при этом не поменялась"
   ]
  },
  {
   "cell_type": "code",
   "execution_count": 43,
   "metadata": {},
   "outputs": [],
   "source": [
    "phrase = phrase.replace(\"H\", \"Z\")"
   ]
  },
  {
   "cell_type": "code",
   "execution_count": 44,
   "metadata": {},
   "outputs": [
    {
     "data": {
      "text/plain": [
       "'Zi, ZSE!'"
      ]
     },
     "execution_count": 44,
     "metadata": {},
     "output_type": "execute_result"
    }
   ],
   "source": [
    "phrase  # исходная фраза поменялась"
   ]
  },
  {
   "cell_type": "code",
   "execution_count": 45,
   "metadata": {},
   "outputs": [
    {
     "data": {
      "text/plain": [
       "2"
      ]
     },
     "execution_count": 45,
     "metadata": {},
     "output_type": "execute_result"
    }
   ],
   "source": [
    "phrase.count('Z')  # сколько раз в строке встречается символ"
   ]
  },
  {
   "cell_type": "code",
   "execution_count": 46,
   "metadata": {},
   "outputs": [
    {
     "data": {
      "text/plain": [
       "1"
      ]
     },
     "execution_count": 46,
     "metadata": {},
     "output_type": "execute_result"
    }
   ],
   "source": [
    "phrase.count('Z', 3)  # сколько раз в строке встречается символ начиная с 4 символа"
   ]
  },
  {
   "cell_type": "code",
   "execution_count": 47,
   "metadata": {},
   "outputs": [],
   "source": [
    "fname = 'Computer Science Faculty'"
   ]
  },
  {
   "cell_type": "code",
   "execution_count": 48,
   "metadata": {},
   "outputs": [
    {
     "data": {
      "text/plain": [
       "9"
      ]
     },
     "execution_count": 48,
     "metadata": {},
     "output_type": "execute_result"
    }
   ],
   "source": [
    "fname.find('Science')  # возвращает индекс первого вхождения подстроки"
   ]
  },
  {
   "cell_type": "code",
   "execution_count": 49,
   "metadata": {},
   "outputs": [
    {
     "data": {
      "text/plain": [
       "False"
      ]
     },
     "execution_count": 49,
     "metadata": {},
     "output_type": "execute_result"
    }
   ],
   "source": [
    "fname.isalpha()  # проверяет состоит ли строка только из буквенных символов\n",
    "# вернул False потому что строка содержит пробелы"
   ]
  },
  {
   "cell_type": "code",
   "execution_count": 50,
   "metadata": {},
   "outputs": [
    {
     "data": {
      "text/plain": [
       "True"
      ]
     },
     "execution_count": 50,
     "metadata": {},
     "output_type": "execute_result"
    }
   ],
   "source": [
    "myword = \"Conference\"\n",
    "myword.isalpha() # вернул True потому что строка содержит только буквы"
   ]
  },
  {
   "cell_type": "code",
   "execution_count": 51,
   "metadata": {},
   "outputs": [
    {
     "data": {
      "text/plain": [
       "True"
      ]
     },
     "execution_count": 51,
     "metadata": {},
     "output_type": "execute_result"
    }
   ],
   "source": [
    "myword2 = '12143464'\n",
    "myword2.isdigit()  # проверяет состоит ли строка только из цифр"
   ]
  },
  {
   "cell_type": "code",
   "execution_count": 52,
   "metadata": {},
   "outputs": [
    {
     "name": "stdout",
     "output_type": "stream",
     "text": [
      "    \t   hello           \n",
      "\n"
     ]
    }
   ],
   "source": [
    "a = '    \\t   hello           \\n'  # есть табуляция и перевод строки\n",
    "print(a)"
   ]
  },
  {
   "cell_type": "code",
   "execution_count": 53,
   "metadata": {},
   "outputs": [
    {
     "data": {
      "text/plain": [
       "'    \\t   hello           \\n'"
      ]
     },
     "execution_count": 53,
     "metadata": {},
     "output_type": "execute_result"
    }
   ],
   "source": [
    "a"
   ]
  },
  {
   "cell_type": "code",
   "execution_count": 54,
   "metadata": {},
   "outputs": [
    {
     "data": {
      "text/plain": [
       "'hello'"
      ]
     },
     "execution_count": 54,
     "metadata": {},
     "output_type": "execute_result"
    }
   ],
   "source": [
    "a.strip()  # удаляет символы c концов строки (по умолчанию пробелы, табуляции, переводы строк)"
   ]
  },
  {
   "cell_type": "code",
   "execution_count": 55,
   "metadata": {},
   "outputs": [],
   "source": [
    "s = \"   python, SQl, Java, C++\""
   ]
  },
  {
   "cell_type": "code",
   "execution_count": 56,
   "metadata": {},
   "outputs": [
    {
     "name": "stdout",
     "output_type": "stream",
     "text": [
      "False\n"
     ]
    }
   ],
   "source": [
    "# проверка начала строки\n",
    "print(s.startswith(\"python\"))  # False из-за пробелов"
   ]
  },
  {
   "cell_type": "code",
   "execution_count": 57,
   "metadata": {},
   "outputs": [
    {
     "name": "stdout",
     "output_type": "stream",
     "text": [
      "True\n"
     ]
    }
   ],
   "source": [
    "# проверка конца строки\n",
    "print(s.endswith(\"C++\"))"
   ]
  },
  {
   "cell_type": "markdown",
   "metadata": {},
   "source": [
    "| Метод                         | Что делает                                                 | Пример                         | Результат                |      |   |      |\n",
    "| ----------------------------- | ---------------------------------------------------------- | ------------------------------ | ------------------------ | ---- | - | ---- |\n",
    "| `str.upper()`                 | Преобразует все символы в верхний регистр                  | `\"python\".upper()`             | `'PYTHON'`               |      |   |      |\n",
    "| `str.lower()`                 | Преобразует все символы в нижний регистр                   | `\"Python\".lower()`             | `'python'`               |      |   |      |\n",
    "| `str.capitalize()`            | Делает первую букву заглавной                              | `\"python\".capitalize()`        | `'Python'`               |      |   |      |\n",
    "| `str.title()`                 | Делает первую букву каждого слова заглавной                | `\"data scientist\".title()`     | `'Data Scientist'`       |      |   |      |\n",
    "| `str.strip()`                 | Убирает пробелы с начала и конца строки                    | `\"  hello  \".strip()`          | `'hello'`                |      |   |      |\n",
    "| `str.lstrip()`                | Убирает пробелы слева                                      | `\"  hello  \".lstrip()`           | `'hello  '`                |      |   |      |\n",
    "| `str.rstrip()`                | Убирает пробелы справа                                     | `\"  hello  \".rstrip()`           | `'  hello'`                |      |   |      |\n",
    "| `str.replace(old, new)`       | Заменяет `old` на `new`                                    | `\"Python 2\".replace(\"2\", \"3\")` | `'Python 3'`             |      |   |      |\n",
    "| `str.split(sep=None)`         | Разделяет строку по `sep` (по умолчанию пробел)            | `\"a,b,c\".split(\",\")`           | `['a', 'b', 'c']`        |      |   |      |\n",
    "| `str.startswith(prefix)`      | Проверяет, начинается ли строка с `prefix`                 | `\"Python\".startswith(\"Py\")`    | `True`                   |      |   |      |\n",
    "| `str.endswith(suffix)`        | Проверяет, заканчивается ли строка на `suffix`             | `\"Python\".endswith(\"on\")`      | `True`                   |      |   |      |\n",
    "| `str.find(sub)`               | Возвращает индекс первого вхождения подстроки, -1 если нет | `\"Python\".find(\"th\")`          | `2`                      |      |   |      |\n",
    "| `str.index(sub)`              | Как `find`, но вызывает ошибку, если нет подстроки         | `\"Python\".index(\"th\")`         | `2`                      |      |   |      |\n",
    "| `str.count(sub)`              | Считает, сколько раз встречается подстрока                 | `\"banana\".count(\"a\")`          | `3`                      |      |   |      |\n",
    "| `str.isalpha()`               | Проверяет, только ли буквы                                 | `\"abc\".isalpha()`              | `True`                   |      |   |      |\n",
    "| `str.isdigit()`               | Проверяет, только ли цифры                                 | `\"123\".isdigit()`              | `True`                   |      |   |      |\n",
    "| `str.isalnum()`               | Проверяет, буквы + цифры                                   | `\"abc123\".isalnum()`           | `True`                   |      |   |      |\n",
    "| `str.isspace()`               | Проверяет, состоит ли строка только из пробелов            | `\"   \".isspace()`              | `True`                   |      |   |      |\n",
    "| `str.swapcase()`              | Меняет регистр на противоположный                          | `\"PyThOn\".swapcase()`          | `'pYtHoN'`               |      |   |      |\n",
    "| `str.zfill(width)`            | Заполняет строку нулями слева до ширины `width`            | `\"42\".zfill(5)`                | `'00042'`                |      |   |      |\n",
    "| `str.partition(sep)`          | Делит строку на три части: до `sep`, `sep`, после `sep`    | `\"a,b,c\".partition(\",\")`       | `('a', ',', 'b,c')`      |      |   |      |\n",
    "| `str.rpartition(sep)`         | Как `partition`, но ищет `sep` с конца                     | `\"a,b,c\".rpartition(\",\")`      | `('a,b', ',', 'c')`      |      |   |      |\n",
    "| `str.splitlines()`            | Делит строку на строки по `\\n`                             | `\"line1\\nline2\".splitlines()`  | `['line1','line2']`      |      |   |      |"
   ]
  },
  {
   "cell_type": "markdown",
   "metadata": {},
   "source": [
    "# Задание 1"
   ]
  },
  {
   "cell_type": "markdown",
   "metadata": {},
   "source": [
    "Напишите программу, которая получает на вход строку и выводит первые 4 символа этой строки. Гарантируется, что на вход будет поступать строка, длина которой не менее 4 символов.\n",
    "\n",
    "_Пример:_\n",
    "\n",
    "_In: `Science`_\n",
    "\n",
    "_Out: `Scie`_"
   ]
  },
  {
   "cell_type": "code",
   "execution_count": 33,
   "metadata": {},
   "outputs": [
    {
     "name": "stdout",
     "output_type": "stream",
     "text": [
      "Science\n",
      "Scie\n"
     ]
    }
   ],
   "source": [
    "# здесь напишите решение задания 1 ✿˚ ༘ ⋆｡♡˚\n",
    "x = input()\n",
    "print(x[:4])"
   ]
  },
  {
   "cell_type": "markdown",
   "metadata": {},
   "source": [
    "# Задание 2"
   ]
  },
  {
   "cell_type": "markdown",
   "metadata": {},
   "source": [
    "Напишите программу, которая получает на вход строку, разворачивает и выводит ее на экран.\n",
    "\n",
    "_Пример:_\n",
    "\n",
    "_In: `Hello`_\n",
    "\n",
    "_Out: `olleH`_"
   ]
  },
  {
   "cell_type": "code",
   "execution_count": 38,
   "metadata": {},
   "outputs": [
    {
     "name": "stdout",
     "output_type": "stream",
     "text": [
      "5\n",
      "5\n"
     ]
    }
   ],
   "source": [
    "# здесь напишите решение задания 2 ∘⋆⋅✯⋅⋆∘\n",
    "x = input()\n",
    "print(x[::-1])"
   ]
  },
  {
   "cell_type": "markdown",
   "metadata": {},
   "source": [
    "# Задание 3\n",
    "\n",
    "Напишите программу, которая получает строку и заменяет все вхождения слова `Java` на `Python`.\n",
    "\n",
    "_Пример:_\n",
    "\n",
    "_In: `I know Java and JavaScript`_\n",
    "\n",
    "_Out: `I know Python and PythonScript`_"
   ]
  },
  {
   "cell_type": "code",
   "execution_count": 40,
   "metadata": {},
   "outputs": [
    {
     "name": "stdout",
     "output_type": "stream",
     "text": [
      "I know Java and JavaScript\n",
      "I know Python and PythonScript\n"
     ]
    }
   ],
   "source": [
    "# здесь напишите решение задания 3 (▽◕ ᴥ ◕▽)\n",
    "a = input()\n",
    "print(a.replace('Java', 'Python'))"
   ]
  },
  {
   "cell_type": "markdown",
   "metadata": {},
   "source": [
    "# Задание 4\n",
    "\n",
    "Проверьте, что введённое имя начинается с заглавной буквы, а остальные символы — строчные (`True`) или нет (`False`).\n",
    "\n",
    "_Пример 1:_\n",
    "\n",
    "_In: `Иван`_\n",
    "\n",
    "_Out: `True`_\n",
    "\n",
    "---\n",
    "\n",
    "_Пример 2:_\n",
    "\n",
    "_In: `ольга`_\n",
    "\n",
    "_Out: `False`_\n",
    "\n",
    "---\n",
    "\n",
    "_Пример 3:_\n",
    "\n",
    "_In: `вАсилий`_\n",
    "\n",
    "_Out: `False`_\n",
    "\n",
    "---\n",
    "\n",
    "_Пример 4:_\n",
    "\n",
    "_In: `ИЛЬя`_\n",
    "\n",
    "_Out: `False`_"
   ]
  },
  {
   "cell_type": "code",
   "execution_count": 44,
   "metadata": {},
   "outputs": [
    {
     "name": "stdout",
     "output_type": "stream",
     "text": [
      "иван\n",
      "False\n"
     ]
    }
   ],
   "source": [
    "# здесь напишите решение задания 4 ٩(◕‿◕｡)۶\n",
    "a = input()\n",
    "print(a == a.capitalize())"
   ]
  },
  {
   "cell_type": "markdown",
   "metadata": {},
   "source": [
    "# Задание 5\n",
    "\n",
    "Проверьте, что email соответствует заданному формату:\n",
    "- заканчивается на .ru,\n",
    "- содержит символ @.\n",
    "\n",
    "_Пример 1:_\n",
    "\n",
    "_In: `test@hse.ru`_\n",
    "\n",
    "_Out: `True`_\n",
    "\n",
    "---\n",
    "_Пример 2:_\n",
    "\n",
    "_In: `test@gmail.com`_\n",
    "\n",
    "_Out: `False`_"
   ]
  },
  {
   "cell_type": "code",
   "execution_count": 47,
   "metadata": {},
   "outputs": [
    {
     "name": "stdout",
     "output_type": "stream",
     "text": [
      "test@gmail.com\n"
     ]
    },
    {
     "data": {
      "text/plain": [
       "False"
      ]
     },
     "execution_count": 47,
     "metadata": {},
     "output_type": "execute_result"
    }
   ],
   "source": [
    "# здесь записать решение задания 5 (..＞◡＜..)\n",
    "email = input()\n",
    "email.endswith('.ru') and '@' in email"
   ]
  },
  {
   "cell_type": "markdown",
   "metadata": {},
   "source": [
    "### 1.3. Сравнение строк <a id=\"section_1_3\"></a>"
   ]
  },
  {
   "cell_type": "markdown",
   "metadata": {},
   "source": [
    "В Python строки — это последовательности символов. Их можно сравнивать между собой с помощью операторов сравнения:\n",
    "\n",
    "`==` равенство\n",
    "\n",
    "`!=` неравенство\n",
    "\n",
    "`<, >, <=, >=` лексикографическое сравнение (как в словаре, по символам слева направо)"
   ]
  },
  {
   "cell_type": "code",
   "execution_count": 65,
   "metadata": {},
   "outputs": [
    {
     "data": {
      "text/plain": [
       "True"
      ]
     },
     "execution_count": 65,
     "metadata": {},
     "output_type": "execute_result"
    }
   ],
   "source": [
    "'hello' == 'hello'  # идентичные строки"
   ]
  },
  {
   "cell_type": "code",
   "execution_count": 66,
   "metadata": {},
   "outputs": [
    {
     "data": {
      "text/plain": [
       "False"
      ]
     },
     "execution_count": 66,
     "metadata": {},
     "output_type": "execute_result"
    }
   ],
   "source": [
    "'hello' == 'Hello'  # разный регистр"
   ]
  },
  {
   "cell_type": "code",
   "execution_count": 67,
   "metadata": {},
   "outputs": [
    {
     "data": {
      "text/plain": [
       "False"
      ]
     },
     "execution_count": 67,
     "metadata": {},
     "output_type": "execute_result"
    }
   ],
   "source": [
    "'hello' != 'hello'"
   ]
  },
  {
   "cell_type": "code",
   "execution_count": 68,
   "metadata": {},
   "outputs": [
    {
     "data": {
      "text/plain": [
       "True"
      ]
     },
     "execution_count": 68,
     "metadata": {},
     "output_type": "execute_result"
    }
   ],
   "source": [
    "'hello' != 'Hello'"
   ]
  },
  {
   "cell_type": "code",
   "execution_count": 69,
   "metadata": {},
   "outputs": [
    {
     "data": {
      "text/plain": [
       "True"
      ]
     },
     "execution_count": 69,
     "metadata": {},
     "output_type": "execute_result"
    }
   ],
   "source": [
    "'hello' != 'hello '  # пробел тоже учитывается"
   ]
  },
  {
   "cell_type": "markdown",
   "metadata": {},
   "source": [
    "__Лексикографическое сравнение__\n",
    "\n",
    "Python сравнивает строки по символам слева направо, используя их Unicode-коды. В Unicode коды заглавных букв меньше кодов строчных, поэтому `\"Z\" < \"a\"`."
   ]
  },
  {
   "cell_type": "code",
   "execution_count": 70,
   "metadata": {},
   "outputs": [
    {
     "data": {
      "text/plain": [
       "True"
      ]
     },
     "execution_count": 70,
     "metadata": {},
     "output_type": "execute_result"
    }
   ],
   "source": [
    "\"apple\" < \"banana\"  # a < b"
   ]
  },
  {
   "cell_type": "code",
   "execution_count": 71,
   "metadata": {},
   "outputs": [
    {
     "data": {
      "text/plain": [
       "True"
      ]
     },
     "execution_count": 71,
     "metadata": {},
     "output_type": "execute_result"
    }
   ],
   "source": [
    "\"кот\" > \"кит\"  # и < о"
   ]
  },
  {
   "cell_type": "code",
   "execution_count": 72,
   "metadata": {},
   "outputs": [
    {
     "data": {
      "text/plain": [
       "True"
      ]
     },
     "execution_count": 72,
     "metadata": {},
     "output_type": "execute_result"
    }
   ],
   "source": [
    "\"abc\" < \"abd\"  # c < d (сравнение посимвольно)"
   ]
  },
  {
   "cell_type": "code",
   "execution_count": 73,
   "metadata": {},
   "outputs": [
    {
     "data": {
      "text/plain": [
       "False"
      ]
     },
     "execution_count": 73,
     "metadata": {},
     "output_type": "execute_result"
    }
   ],
   "source": [
    "\"abc\" > \"r\"  # a < r"
   ]
  },
  {
   "cell_type": "code",
   "execution_count": 74,
   "metadata": {},
   "outputs": [
    {
     "data": {
      "text/plain": [
       "True"
      ]
     },
     "execution_count": 74,
     "metadata": {},
     "output_type": "execute_result"
    }
   ],
   "source": [
    "\"abc\" > \"Abc\"  # строчная 'a' > заглавной 'A'"
   ]
  },
  {
   "cell_type": "code",
   "execution_count": 75,
   "metadata": {},
   "outputs": [
    {
     "data": {
      "text/plain": [
       "True"
      ]
     },
     "execution_count": 75,
     "metadata": {},
     "output_type": "execute_result"
    }
   ],
   "source": [
    "\"кит\" > \"Кот\" "
   ]
  },
  {
   "cell_type": "code",
   "execution_count": 76,
   "metadata": {},
   "outputs": [
    {
     "data": {
      "text/plain": [
       "False"
      ]
     },
     "execution_count": 76,
     "metadata": {},
     "output_type": "execute_result"
    }
   ],
   "source": [
    "\"G\" > \"a\"  # строчные больше заглавных"
   ]
  },
  {
   "cell_type": "markdown",
   "metadata": {},
   "source": [
    "Функция `ord()` (от ordinal) возвращает числовой код символа в Unicode."
   ]
  },
  {
   "cell_type": "code",
   "execution_count": 77,
   "metadata": {},
   "outputs": [
    {
     "data": {
      "text/plain": [
       "71"
      ]
     },
     "execution_count": 77,
     "metadata": {},
     "output_type": "execute_result"
    }
   ],
   "source": [
    "ord('G')"
   ]
  },
  {
   "cell_type": "code",
   "execution_count": 78,
   "metadata": {},
   "outputs": [
    {
     "data": {
      "text/plain": [
       "65"
      ]
     },
     "execution_count": 78,
     "metadata": {},
     "output_type": "execute_result"
    }
   ],
   "source": [
    "ord('A')"
   ]
  },
  {
   "cell_type": "code",
   "execution_count": 79,
   "metadata": {},
   "outputs": [
    {
     "data": {
      "text/plain": [
       "97"
      ]
     },
     "execution_count": 79,
     "metadata": {},
     "output_type": "execute_result"
    }
   ],
   "source": [
    "ord('a')"
   ]
  },
  {
   "cell_type": "code",
   "execution_count": 80,
   "metadata": {},
   "outputs": [
    {
     "data": {
      "text/plain": [
       "1103"
      ]
     },
     "execution_count": 80,
     "metadata": {},
     "output_type": "execute_result"
    }
   ],
   "source": [
    "ord('я')"
   ]
  },
  {
   "cell_type": "code",
   "execution_count": 81,
   "metadata": {},
   "outputs": [
    {
     "data": {
      "text/plain": [
       "1071"
      ]
     },
     "execution_count": 81,
     "metadata": {},
     "output_type": "execute_result"
    }
   ],
   "source": [
    "ord('Я')"
   ]
  },
  {
   "cell_type": "code",
   "execution_count": 82,
   "metadata": {},
   "outputs": [
    {
     "data": {
      "text/plain": [
       "128522"
      ]
     },
     "execution_count": 82,
     "metadata": {},
     "output_type": "execute_result"
    }
   ],
   "source": [
    "ord('😊')"
   ]
  },
  {
   "cell_type": "code",
   "execution_count": 83,
   "metadata": {},
   "outputs": [
    {
     "data": {
      "text/plain": [
       "False"
      ]
     },
     "execution_count": 83,
     "metadata": {},
     "output_type": "execute_result"
    }
   ],
   "source": [
    "'GJDDF' > 'abc'"
   ]
  },
  {
   "cell_type": "code",
   "execution_count": 84,
   "metadata": {},
   "outputs": [
    {
     "data": {
      "text/plain": [
       "True"
      ]
     },
     "execution_count": 84,
     "metadata": {},
     "output_type": "execute_result"
    }
   ],
   "source": [
    "'abcd' > 'abc'"
   ]
  },
  {
   "cell_type": "markdown",
   "metadata": {},
   "source": [
    "## 2. Форматирование строк <a class=\"anchor\" id=\"chapter2\"></a>"
   ]
  },
  {
   "cell_type": "markdown",
   "metadata": {},
   "source": [
    "**Форматирование** — это способ создания строки, которая может состоять из неизменяющейся части текста и изменяющейся, куда подставляются значения из переменных, выражений и т.д. Следовательно, в строке форматирования какая-то часть будет динамически меняться за счет входных значений. В Python существует несколько способов форматирования строк, каждый со своими преимуществами и особенностями. Мы рассмотрим основные из них: оператор `%`, метод `.format()` и `F-строки`."
   ]
  },
  {
   "cell_type": "markdown",
   "metadata": {},
   "source": [
    "С помощью форматирования строк можно, например, создавать персонифицированные письма или отчеты. "
   ]
  },
  {
   "cell_type": "code",
   "execution_count": 85,
   "metadata": {},
   "outputs": [],
   "source": [
    "text = \"\"\"Уважаемый, Иван Петрович! Напоминаем Вам, что 01.09.2025 истекает \n",
    "срок действия договора, стоимость его продления составляет 2500 руб.\"\"\""
   ]
  },
  {
   "cell_type": "code",
   "execution_count": 86,
   "metadata": {},
   "outputs": [
    {
     "name": "stdout",
     "output_type": "stream",
     "text": [
      "Уважаемый, Иван Петрович! Напоминаем Вам, что 01.09.2025 истекает \n",
      "срок действия договора, стоимость его продления составляет 2500 руб.\n"
     ]
    }
   ],
   "source": [
    "print(text)"
   ]
  },
  {
   "cell_type": "code",
   "execution_count": 87,
   "metadata": {},
   "outputs": [],
   "source": [
    "name = 'Иван'\n",
    "mid_name = 'Петрович'\n",
    "date = '01.09.2025'\n",
    "balance = 2500"
   ]
  },
  {
   "cell_type": "code",
   "execution_count": 88,
   "metadata": {},
   "outputs": [
    {
     "name": "stdout",
     "output_type": "stream",
     "text": [
      "Уважаемый, Иван Петрович! Напоминаем Вам, что 01.09.2025 истекает\n",
      "срок действия договора, стоимость его продления составляет 2500 руб.\n"
     ]
    }
   ],
   "source": [
    "print('Уважаемый, ' + name + \" \" + mid_name + \"! Напоминаем Вам, что \" + date + \"\"\" истекает\n",
    "срок действия договора, стоимость его продления составляет \"\"\" + str(balance) + \" руб.\") "
   ]
  },
  {
   "cell_type": "code",
   "execution_count": 89,
   "metadata": {},
   "outputs": [],
   "source": [
    "name = 'Олег'\n",
    "mid_name = 'Викторович'\n",
    "date = '02.09.2025'\n",
    "balance = 3200"
   ]
  },
  {
   "cell_type": "code",
   "execution_count": 90,
   "metadata": {},
   "outputs": [
    {
     "name": "stdout",
     "output_type": "stream",
     "text": [
      "Уважаемый, Олег Викторович! Напоминаем Вам, что 02.09.2025 истекает\n",
      "срок действия договора, стоимость его продления составляет 3200 руб.\n"
     ]
    }
   ],
   "source": [
    "print('Уважаемый, ' + name + \" \" + mid_name + \"! Напоминаем Вам, что \" + date + \"\"\" истекает\n",
    "срок действия договора, стоимость его продления составляет \"\"\" + str(balance) + \" руб.\") "
   ]
  },
  {
   "cell_type": "markdown",
   "metadata": {},
   "source": [
    "### 2.1. Оператор % (старый стиль) <a id=\"section_2_1\"></a>"
   ]
  },
  {
   "cell_type": "markdown",
   "metadata": {},
   "source": [
    "Оператор `%` используется для вставки значений в строковые шаблоны. В определенных местах вашей шаблонной строки вы указываете специальные плейсхолдеры `%s`, `%d`, `%f` и др.), куда необходимо подставить значение. "
   ]
  },
  {
   "cell_type": "code",
   "execution_count": 91,
   "metadata": {},
   "outputs": [
    {
     "data": {
      "image/png": "[encoded data removed]",
      "text/plain": [
       "<IPython.core.display.Image object>"
      ]
     },
     "execution_count": 91,
     "metadata": {
      "image/png": {
       "width": "850"
      }
     },
     "output_type": "execute_result"
    }
   ],
   "source": [
    "Image(\"pic7.png\", width=\"850\")"
   ]
  },
  {
   "cell_type": "code",
   "execution_count": 92,
   "metadata": {},
   "outputs": [
    {
     "name": "stdout",
     "output_type": "stream",
     "text": [
      "Уважаемый, Иван Петрович! Напоминаем Вам, что 01.09.2025 истекает\n",
      "срок действия договора, стоимость его продления составляет 2500 руб. \n",
      "Иван Петрович, не забудьте пополнить баланс.\n"
     ]
    }
   ],
   "source": [
    "name = 'Иван'\n",
    "mid_name = 'Петрович'\n",
    "date = '01.09.2025'\n",
    "balance = 2500\n",
    "\n",
    "print(\"\"\"Уважаемый, %s %s! Напоминаем Вам, что %s истекает\n",
    "срок действия договора, стоимость его продления составляет %d руб. \n",
    "%s %s, не забудьте пополнить баланс.\"\"\" % (name, mid_name, date, balance, name, mid_name)) "
   ]
  },
  {
   "cell_type": "code",
   "execution_count": 93,
   "metadata": {},
   "outputs": [
    {
     "name": "stdout",
     "output_type": "stream",
     "text": [
      "5.000000 + 7.000000 = 12.000000\n"
     ]
    }
   ],
   "source": [
    "first = 5\n",
    "second = 7\n",
    "print('%f + %f = %f' % (first, second, first + second))"
   ]
  },
  {
   "cell_type": "code",
   "execution_count": 94,
   "metadata": {},
   "outputs": [
    {
     "name": "stdout",
     "output_type": "stream",
     "text": [
      "π = 3.14\n",
      "π = 3.1416\n",
      "π = 3.14159000\n"
     ]
    }
   ],
   "source": [
    "pi = 3.14159\n",
    "print(\"π = %.2f\" % pi)  # 2 знака после запятой\n",
    "print(\"π = %.4f\" % pi)  # 4 знака после запятой\n",
    "print(\"π = %.8f\" % pi)  # 8 знаков после запятой"
   ]
  },
  {
   "cell_type": "markdown",
   "metadata": {},
   "source": [
    "# Задание 6\n",
    "\n",
    "Используя оператор `%` создайте строку, которая выводит информацию о сотруднике:\n",
    "\n",
    "_Пример:_\n",
    "\n",
    "_In:_\n",
    "\n",
    "_`Имя и Фамилия: \"Иван Сергеев\"`_\n",
    "\n",
    "_`Должность: \"старший аналитик\"`_\n",
    "\n",
    "_`Опыт работы (в годах): 3`_\n",
    "\n",
    "_Out:_\n",
    "\n",
    "_`Сотрудник Иван Сергеев работает на должности старший аналитик, его опыт работы в годах - 3.`_\n"
   ]
  },
  {
   "cell_type": "code",
   "execution_count": 51,
   "metadata": {},
   "outputs": [
    {
     "name": "stdout",
     "output_type": "stream",
     "text": [
      "Сотрудник Иван Сергеев работает на должности старший аналитик, его опыт работы в месяцах - 3.\n"
     ]
    }
   ],
   "source": [
    "# здесь напишите решение задания 6 ≧◠‿◠≦\n",
    "\n",
    "name = 'Иван Сергеев'\n",
    "position = 'старший аналитик'\n",
    "experience = 3\n",
    "\n",
    "print('Сотрудник %s работает на должности %s, его опыт работы в месяцах - %d.' % (name, position, experience))"
   ]
  },
  {
   "cell_type": "markdown",
   "metadata": {},
   "source": [
    "### 2.2. Метод format() (новый стиль) <a id=\"section_2_2\"></a>"
   ]
  },
  {
   "cell_type": "markdown",
   "metadata": {},
   "source": [
    "Более современный и гибкий способ форматирования, появившийся в Python 2.6."
   ]
  },
  {
   "cell_type": "code",
   "execution_count": 96,
   "metadata": {},
   "outputs": [
    {
     "name": "stdout",
     "output_type": "stream",
     "text": [
      "Меня зовут Петр, мне 30 лет\n"
     ]
    }
   ],
   "source": [
    "name = \"Петр\"\n",
    "age = 30\n",
    "print(\"Меня зовут {}, мне {} лет\".format(name, age))"
   ]
  },
  {
   "cell_type": "markdown",
   "metadata": {},
   "source": [
    "Можно использовать позиционные аргументы."
   ]
  },
  {
   "cell_type": "code",
   "execution_count": 97,
   "metadata": {},
   "outputs": [
    {
     "name": "stdout",
     "output_type": "stream",
     "text": [
      "Маша любит кофе, кофе любит Маша\n"
     ]
    }
   ],
   "source": [
    "print(\"{0} любит {1}, {1} любит {0}\".format(\"Маша\", \"кофе\"))"
   ]
  },
  {
   "cell_type": "markdown",
   "metadata": {},
   "source": [
    "Можно использовать именованные аргументы."
   ]
  },
  {
   "cell_type": "code",
   "execution_count": 98,
   "metadata": {},
   "outputs": [
    {
     "name": "stdout",
     "output_type": "stream",
     "text": [
      "Имя: Иван, Возраст: 25\n"
     ]
    }
   ],
   "source": [
    "print(\"Имя: {name}, Возраст: {age}\".format(name=\"Иван\", age=25))"
   ]
  },
  {
   "cell_type": "markdown",
   "metadata": {},
   "source": [
    "Форматирование чисел."
   ]
  },
  {
   "cell_type": "code",
   "execution_count": 99,
   "metadata": {},
   "outputs": [
    {
     "name": "stdout",
     "output_type": "stream",
     "text": [
      "π = 3.142\n"
     ]
    }
   ],
   "source": [
    "pi = 3.14159\n",
    "print(\"π = {:.3f}\".format(pi)) # 3 знака после запятой"
   ]
  },
  {
   "cell_type": "markdown",
   "metadata": {},
   "source": [
    "Пример выравнивания текста:\n",
    "\n",
    "- `{:<10}` — поле шириной 10 символов с выравниванием по левому краю.\n",
    "\n",
    "- `{:^10}` — поле шириной 10 символов с выравниванием по центру.\n",
    "\n",
    "- `{:>10}` — поле шириной 10 символов с выравниванием по правому краю.\n",
    "\n",
    "- Символ `|` разделяет столбцы."
   ]
  },
  {
   "cell_type": "code",
   "execution_count": 100,
   "metadata": {},
   "outputs": [
    {
     "name": "stdout",
     "output_type": "stream",
     "text": [
      "Слева      |   Центр    |     Справа\n"
     ]
    }
   ],
   "source": [
    "print(\"{:<10} | {:^10} | {:>10}\".format(\"Слева\", \"Центр\", \"Справа\"))"
   ]
  },
  {
   "cell_type": "code",
   "execution_count": 101,
   "metadata": {},
   "outputs": [
    {
     "name": "stdout",
     "output_type": "stream",
     "text": [
      "Уважаемый, Петр Петрович! Напоминаем Вам, что 01.09.2025 истекает\n",
      "срок действия договора, стоимость его продления составляет 2500 руб. \n",
      "Петр Петрович, не забудьте пополнить баланс.\n"
     ]
    }
   ],
   "source": [
    "print(\"\"\"Уважаемый, {0} {1}! Напоминаем Вам, что {2} истекает\n",
    "срок действия договора, стоимость его продления составляет {3} руб. \n",
    "{0} {1}, не забудьте пополнить баланс.\"\"\".format(name, mid_name, date, balance)) "
   ]
  },
  {
   "cell_type": "code",
   "execution_count": 102,
   "metadata": {},
   "outputs": [
    {
     "name": "stdout",
     "output_type": "stream",
     "text": [
      "Уважаемый, Петр Петрович! Напоминаем Вам, что 01.09.2025 истекает\n",
      "срок действия договора, стоимость его продления составляет 2500 руб. \n",
      "Петр Петрович, не забудьте пополнить баланс.\n"
     ]
    }
   ],
   "source": [
    "print(\"\"\"Уважаемый, {n} {m}! Напоминаем Вам, что {d} истекает\n",
    "срок действия договора, стоимость его продления составляет {b} руб. \n",
    "{n} {m}, не забудьте пополнить баланс.\"\"\".format(n=name, m=mid_name, d=date, b=balance)) "
   ]
  },
  {
   "cell_type": "markdown",
   "metadata": {},
   "source": [
    "# Задание 7\n",
    "\n",
    "Используя метод `format()` создайте строку, которая выводит информацию о сотруднике:\n",
    "\n",
    "_Пример:_\n",
    "\n",
    "_In:_\n",
    "\n",
    "_`Имя и Фамилия: \"Иван Сергеев\"`_\n",
    "\n",
    "_`Должность: \"старший аналитик\"`_\n",
    "\n",
    "_`Опыт работы (в годах): 3`_\n",
    "\n",
    "_Out:_\n",
    "\n",
    "_`Сотрудник Иван Сергеев работает на должности старший аналитик, его опыт работы в годах - 3.`_\n"
   ]
  },
  {
   "cell_type": "code",
   "execution_count": 53,
   "metadata": {},
   "outputs": [
    {
     "name": "stdout",
     "output_type": "stream",
     "text": [
      "Сотрудник Иван Сергеев работает на должности старший аналитик, его опыт работы в месяцах - 3.\n"
     ]
    }
   ],
   "source": [
    "# здесь напишите решение задания 7 ʕ•́ᴥ•̀ʔ\n",
    "\n",
    "name = 'Иван Сергеев'\n",
    "position = 'старший аналитик'\n",
    "experience = 3\n",
    "\n",
    "print('Сотрудник {0} работает на должности {1}, его опыт работы в месяцах - {2}.'.format(name, position, experience))\n"
   ]
  },
  {
   "cell_type": "markdown",
   "metadata": {},
   "source": [
    "### 2.3. F-строки <a id=\"section_2_3\"></a>"
   ]
  },
  {
   "cell_type": "markdown",
   "metadata": {},
   "source": [
    "**F-строки** (или форматированные строки) — это удобный способ встраивания переменных и выражений прямо в строку, появившийся в Python&nbsp;3.6. Они заменяют старые способы форматирования, такие как `%` и `format()`. Подробнее про [F-строки](https://peps.python.org/pep-0498/)."
   ]
  },
  {
   "cell_type": "code",
   "execution_count": 104,
   "metadata": {},
   "outputs": [
    {
     "name": "stdout",
     "output_type": "stream",
     "text": [
      "Уважаемый, Иван Петрович! Напоминаем Вам, что 01.09.2025 истекает\n",
      "срок действия договора, стоимость его продления составляет 2500 руб. \n",
      "Иван Петрович, не забудьте пополнить баланс.\n"
     ]
    }
   ],
   "source": [
    "name = 'Иван'\n",
    "mid_name = 'Петрович'\n",
    "date = '01.09.2025'\n",
    "balance = 2500\n",
    "\n",
    "print(f\"\"\"Уважаемый, {name} {mid_name}! Напоминаем Вам, что {date} истекает\n",
    "срок действия договора, стоимость его продления составляет {balance} руб. \n",
    "{name} {mid_name}, не забудьте пополнить баланс.\"\"\")"
   ]
  },
  {
   "cell_type": "markdown",
   "metadata": {},
   "source": [
    "В фигурных скобках `{}`  внутри f-строки можно указывать не только имена переменных, но и записывать любые выражения. Сперва они будут вычислены, а затем найденный результат подставится на место фигурных скобок."
   ]
  },
  {
   "cell_type": "code",
   "execution_count": 105,
   "metadata": {},
   "outputs": [
    {
     "name": "stdout",
     "output_type": "stream",
     "text": [
      "Баланс после списания: -901.0 руб.\n"
     ]
    }
   ],
   "source": [
    "balance = 450.5\n",
    "text = f\"Баланс после списания: {-balance * 2} руб.\"\n",
    "print(text)"
   ]
  },
  {
   "cell_type": "markdown",
   "metadata": {},
   "source": [
    "Внутри фигурных скобок можно у объектов вызывать методы или использовать встроенные функции."
   ]
  },
  {
   "cell_type": "code",
   "execution_count": 106,
   "metadata": {},
   "outputs": [
    {
     "name": "stdout",
     "output_type": "stream",
     "text": [
      "Дорогой иван ПЕТРОВ,\n",
      "Вам нужно погасить задолженность в размере 65.12 руб.\n"
     ]
    }
   ],
   "source": [
    "name = 'Иван'\n",
    "mid_name = 'Петров'\n",
    "balance = -32.56\n",
    "\n",
    "text = f\"\"\"Дорогой {name.lower()} {mid_name.upper()},\n",
    "Вам нужно погасить задолженность в размере {abs(-balance * 2)} руб.\"\"\"  # меняем регистр\n",
    "\n",
    "print(text)"
   ]
  },
  {
   "cell_type": "code",
   "execution_count": 107,
   "metadata": {},
   "outputs": [
    {
     "name": "stdout",
     "output_type": "stream",
     "text": [
      "Привет, ИЛЬЯ. Добро пожаловать!\n"
     ]
    }
   ],
   "source": [
    "greeting = 'Привет'\n",
    "name = 'Илья'\n",
    "message2 = f'{greeting}, {name.upper()}. Добро пожаловать!'\n",
    "print(message2)"
   ]
  },
  {
   "cell_type": "code",
   "execution_count": 108,
   "metadata": {},
   "outputs": [
    {
     "name": "stdout",
     "output_type": "stream",
     "text": [
      "4 умножить на 11 равно 44\n"
     ]
    }
   ],
   "source": [
    "calculation = f'4 умножить на 11 равно {4*11}'\n",
    "print(calculation)"
   ]
  },
  {
   "cell_type": "code",
   "execution_count": 109,
   "metadata": {},
   "outputs": [
    {
     "name": "stdout",
     "output_type": "stream",
     "text": [
      "Число Пи равно 3.1416\n"
     ]
    }
   ],
   "source": [
    "pi = 3.1415926535\n",
    "sentence = f'Число Пи равно {pi:.4f}'  # четыре знака после разделителя\n",
    "print(sentence)"
   ]
  },
  {
   "cell_type": "code",
   "execution_count": 110,
   "metadata": {},
   "outputs": [
    {
     "name": "stdout",
     "output_type": "stream",
     "text": [
      "Python     |   Python   |     Python\n"
     ]
    }
   ],
   "source": [
    "text = \"Python\"\n",
    "print(f\"{text:<10} | {text:^10} | {text:>10}\")  # выравнивание"
   ]
  },
  {
   "cell_type": "code",
   "execution_count": 111,
   "metadata": {},
   "outputs": [
    {
     "name": "stdout",
     "output_type": "stream",
     "text": [
      "1,000,000\n"
     ]
    }
   ],
   "source": [
    "number = 1000000\n",
    "print(f\"{number:,}\")  # разделители тысяч"
   ]
  },
  {
   "cell_type": "code",
   "execution_count": 112,
   "metadata": {},
   "outputs": [
    {
     "name": "stdout",
     "output_type": "stream",
     "text": [
      "87.5%\n"
     ]
    }
   ],
   "source": [
    "value = 0.875\n",
    "print(f\"{value:.1%}\")  # проценты"
   ]
  },
  {
   "cell_type": "code",
   "execution_count": 113,
   "metadata": {},
   "outputs": [
    {
     "name": "stdout",
     "output_type": "stream",
     "text": [
      "00042\n"
     ]
    }
   ],
   "source": [
    "number = 42\n",
    "print(f\"{number:05d}\")  # ведущие нули"
   ]
  },
  {
   "cell_type": "code",
   "execution_count": 114,
   "metadata": {},
   "outputs": [
    {
     "data": {
      "text/plain": [
       "'+42'"
      ]
     },
     "execution_count": 114,
     "metadata": {},
     "output_type": "execute_result"
    }
   ],
   "source": [
    "name = 'Анна'\n",
    "f\"{42:+}\""
   ]
  },
  {
   "cell_type": "markdown",
   "metadata": {},
   "source": [
    "| Формат     | Описание                          | Пример            | Вывод          |\n",
    "| ---------- | --------------------------------- | ----------------- | -------------- |\n",
    "| `:.2f`     | Число с плавающей точкой, 2 знака | `f\"{3.1415:.2f}\"` | `3.14`         |\n",
    "| `:.3e`     | Экспоненциальная форма            | `f\"{3.1415:.1e}\"` | `3.1e+00`    |\n",
    "| `:<10`     | Выравнивание влево, ширина 10     | `f\"{name:<10}\"`   | `'Анна      '` |\n",
    "| `:^10`     | Выравнивание по центру            | `f\"{name:^10}\"`   | `'   Анна   '` |\n",
    "| `:>10`     | Выравнивание вправо               | `f\"{name:>10}\"`   | `'      Анна'` |\n",
    "| `:0>5`     | Заполнение нулями слева           | `f\"{42:0>5}\"`     | `'00042'`      |\n",
    "| `:+`       | Явный знак для чисел              | `f\"{42:+}\"`       | `+42`          |\n",
    "| `:.2%`     | Процентный формат                 | `f\"{0.856:.2%}\"`  | `'85.60%'`     |\n"
   ]
  },
  {
   "cell_type": "markdown",
   "metadata": {},
   "source": [
    "# Задание 8\n",
    "\n",
    "Используя `F-строки` создайте строку, которая выводит информацию о сотруднике:\n",
    "\n",
    "_Пример:_\n",
    "\n",
    "_In:_\n",
    "\n",
    "_`Имя и Фамилия: \"Иван Сергеев\"`_\n",
    "\n",
    "_`Должность: \"старший аналитик\"`_\n",
    "\n",
    "_`Опыт работы (в годах): 3`_\n",
    "\n",
    "_Out:_\n",
    "\n",
    "_`Сотрудник Иван Сергеев работает на должности старший аналитик, его опыт работы в месяцах - 36.`_\n"
   ]
  },
  {
   "cell_type": "code",
   "execution_count": 50,
   "metadata": {},
   "outputs": [
    {
     "name": "stdout",
     "output_type": "stream",
     "text": [
      "Сотрудник Иван Сергеев работает на должности старший аналитик, его опыт работы в месяцах - 36.\n"
     ]
    }
   ],
   "source": [
    "# здесь напишите решение задания 8 (*‿*✿) \n",
    "\n",
    "name = 'Иван Сергеев'\n",
    "position = 'старший аналитик'\n",
    "experience = 3\n",
    "\n",
    "print(f'Сотрудник {name} работает на должности {position}, его опыт работы в месяцах - {experience * 12}.')"
   ]
  },
  {
   "cell_type": "markdown",
   "metadata": {},
   "source": [
    "Мы рассмотрели несколько способов форматирования строк: оператор `%`, метод `.format()` и `f-строки`. Оператор `%` — это старый стиль, где подстановка значений происходит через спецификаторы типа, такие как %s для строк или %d для целых чисел; он прост, но при работе с большим количеством переменных становится менее читаемым. Метод `.format()` появился позже и обеспечивает большую гибкость: позволяет использовать позиционные и именованные аргументы, задавать точность чисел и выравнивание, но синтаксис может быть громоздким для сложных выражений. Современные `f-строки`, появившиеся в Python 3.6, сочетают простоту и мощность: они позволяют вставлять значения переменных и любые выражения прямо внутрь строки, поддерживают форматирование чисел, выравнивание и процентные представления, делая код более читаемым и компактным. Каждый из этих способов имеет свои преимущества и недостатки, но для новых проектов обычно рекомендуется использовать `f-строки` за их удобство и выразительность."
   ]
  },
  {
   "cell_type": "markdown",
   "metadata": {},
   "source": [
    "| Критерий                  | Оператор `%`                                         | Метод `.format()`                                                | F-строки (Python 3.6+)                                      |\n",
    "| ------------------------- | ---------------------------------------------------- | ---------------------------------------------------------------- | ----------------------------------------------------------- |\n",
    "| **Синтаксис**             | `\"Имя: %s, Возраст: %d\" % (name, age)`               | `\"Имя: {}, Возраст: {}\".format(name, age)`                       | `f\"Имя: {name}, Возраст: {age}\"`                            |\n",
    "| **Поддержка Python**      | Все версии                                           | Python 2.6+                                                      | Python 3.6+                                                 |\n",
    "| **Преимущества**          | Простота, старый стиль                               | Гибкость, именованные аргументы, форматирование                  | Максимальная читаемость, любые выражения, современный стиль |\n",
    "| **Недостатки**            | Сложно читать с множеством переменных, мало гибкости | Иногда громоздко, особенно для выражений                         | Требует Python 3.6+, нельзя использовать в старых версиях   |\n"
   ]
  },
  {
   "cell_type": "markdown",
   "metadata": {},
   "source": [
    "<div style=\"font-family: monospace; white-space: pre; text-align: left; line-height: 1.1;\">\n",
    "\n",
    "<span style=\"color:#0000FF;\">⠀⠀⠀⠀⠀⠀⠀⠀⠀⣠⣶⣶⣶⣦⠀⠀</span>\n",
    "<span style=\"color:#004CFF;\">⠀⠀⣠⣤⣤⣄⣀⣾⣿⠟⠛⠻⢿⣷⠀</span>\n",
    "<span style=\"color:#007FFF;\">⢰⣿⡿⠛⠙⠻⣿⣿⠁⠀⠀ ⠀⣶⢿⡇</span>\n",
    "<span style=\"color:#00BFFF;\">⢿⣿⣇⠀⠀⠀⠈⠏⠀⠀⠀ <strong>Спасибо за занятие!</strong></span>\n",
    "<span style=\"color:#00FF7F;\">⠀⠻⣿⣷⣦⣤⣀⠀⠀⠀ ⠀⣾⡿⠃⠀</span>\n",
    "<span style=\"color:#00FF00;\">⠀⠀⠀⠀⠉⠉⠻⣿⣄⣴⣿⠟⠀⠀⠀</span>\n",
    "<span style=\"color:#007F00;\">⠀⠀⠀⠀⠀⠀⠀⠀⣿⡿⠟⠁⠀⠀⠀</span>\n",
    "\n",
    "</div>\n"
   ]
  }
 ],
 "metadata": {
  "kernelspec": {
   "display_name": "Python 3 (ipykernel)",
   "language": "python",
   "name": "python3"
  },
  "language_info": {
   "codemirror_mode": {
    "name": "ipython",
    "version": 3
   },
   "file_extension": ".py",
   "mimetype": "text/x-python",
   "name": "python",
   "nbconvert_exporter": "python",
   "pygments_lexer": "ipython3",
   "version": "3.11.5"
  }
 },
 "nbformat": 4,
 "nbformat_minor": 2
}
