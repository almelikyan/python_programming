{
 "cells": [
  {
   "cell_type": "markdown",
   "metadata": {},
   "source": [
    "# Курс \"Программирование на Python\"\n",
    "\n",
    "\n",
    "# Тема 7. Работа с файлами"
   ]
  },
  {
   "cell_type": "markdown",
   "metadata": {},
   "source": [
    "## Содержание\n",
    "* [1. Чтение из файла](#chapter1)\n",
    "* [2. Запись в файл](#chapter2)"
   ]
  },
  {
   "cell_type": "markdown",
   "metadata": {},
   "source": [
    "Над файлами можно выполнять следующие основные операции:\n",
    "- **Чтение** — получение данных из файла.\n",
    "- **Добавление** — добавление данных в файл.\n",
    "- **Запись** — сохранение данных в файл.\n",
    "- **Закрытие** — освобождение ресурсов после работы с файлом."
   ]
  },
  {
   "cell_type": "markdown",
   "metadata": {},
   "source": [
    "## 1. Чтение из файла <a class=\"anchor\" id=\"chapter1\"></a>"
   ]
  },
  {
   "cell_type": "markdown",
   "metadata": {},
   "source": [
    "Если указать не полный путь к файлу, а только его название, то поиск файла будет осуществляться в рабочей директории. Можно вывести путь к текущей рабочей директории."
   ]
  },
  {
   "cell_type": "code",
   "execution_count": 1,
   "metadata": {},
   "outputs": [
    {
     "data": {
      "text/plain": [
       "'/Users/alice/Desktop/Программирование на Python 2025/Занятие_3_25.09.2025'"
      ]
     },
     "execution_count": 1,
     "metadata": {},
     "output_type": "execute_result"
    }
   ],
   "source": [
    "import os\n",
    "os.getcwd()"
   ]
  },
  {
   "cell_type": "markdown",
   "metadata": {},
   "source": [
    "Метод `.listdir()` возвращает список файлов директории. Получив его можно в цикле обработать все файлы в директории."
   ]
  },
  {
   "cell_type": "code",
   "execution_count": 2,
   "metadata": {},
   "outputs": [
    {
     "data": {
      "text/plain": [
       "['task1.txt',\n",
       " 'Python_5_sets_dicts.ipynb',\n",
       " 'task2.txt',\n",
       " 'task3.txt',\n",
       " 'Task2_solutions.ipynb',\n",
       " '.DS_Store',\n",
       " 'Task3.ipynb',\n",
       " 'list.txt',\n",
       " 'config.txt',\n",
       " 'pic13.png',\n",
       " 'try1.txt',\n",
       " 'Python_5_sets_dicts_solutions.ipynb',\n",
       " 'pic12.png',\n",
       " 'try2.txt',\n",
       " 'task3.txt.censored.txt',\n",
       " 'pic15.png',\n",
       " 'Python_6_functions.ipynb',\n",
       " 'pic14.png',\n",
       " 'pic16.png',\n",
       " 'pic17.png',\n",
       " 'Task2.ipynb',\n",
       " 'pic19.png',\n",
       " 'method1.txt',\n",
       " 'pic18.png',\n",
       " 'pic20.png',\n",
       " 'zen_reserve.txt',\n",
       " 'zen.txt',\n",
       " 'pic21.png',\n",
       " 'resumes.txt',\n",
       " 'text.txt',\n",
       " '.ipynb_checkpoints',\n",
       " 'zen_ru.txt',\n",
       " 'Python_7_files.ipynb',\n",
       " 'list2.txt',\n",
       " 'try.webp',\n",
       " 'Python_7_files_solutions.ipynb',\n",
       " 'Python_6_functions_solutions.ipynb',\n",
       " 'list1.txt',\n",
       " 'new.txt']"
      ]
     },
     "execution_count": 2,
     "metadata": {},
     "output_type": "execute_result"
    }
   ],
   "source": [
    "os.listdir()"
   ]
  },
  {
   "cell_type": "markdown",
   "metadata": {},
   "source": [
    "Для работы с файлом его нужно сначала открыть с помощью функции `open()`."
   ]
  },
  {
   "cell_type": "markdown",
   "metadata": {},
   "source": [
    "Функция `open()` возвращает файловый объект. У нее несколько аргументов, из которых ключевые:\n",
    "\n",
    "- путь к файлу `file`, \n",
    "- режим открытия файла `mode`. \n",
    "\n",
    "Возможные режимы открытия файла (`mode`):\n",
    "\n",
    "- `r` - read, только чтение, файл должен существовать, указатель ставится в начало файла;\n",
    "- `w` - write, только запись, если файл с таким именем существовал, он будет перезаписан, если нет, то будет создан, указатель ставится в начало файла;\n",
    "- `a` - append, только запись в конец файла, если файла нет, то будет создан, указатель ставится в конец файла;\n",
    "- `x` - exclusive creation, создание нового файла, только запись, выдаст ошибку, если файл существует;\n",
    "- `+` - добавляется к любому базовому режиму, чтобы разрешить и чтение, и запись, например (`r+`, `w+`);\n",
    "- `b` – бинарный режим (например, `rb`, `wb`), чтение и запись идут в байтах (`bytes`), а не в строках (`str`).\n",
    "\n",
    "\n",
    "Если не передать второй аргумент, то файл автоматически откроется в режиме чтения `r`.\n",
    "\n",
    "Можно также указать параметр `encoding`. Если работаем с кириллицей или языками со спецсимволами, то лучше задать `utf8`."
   ]
  },
  {
   "cell_type": "markdown",
   "metadata": {},
   "source": [
    "Прочитаем содержимое файла `zen.txt`. Можно предварительно вывести содержимое файла через утилиту cat."
   ]
  },
  {
   "cell_type": "code",
   "execution_count": 3,
   "metadata": {},
   "outputs": [
    {
     "name": "stdout",
     "output_type": "stream",
     "text": [
      "BeaXtiful is better than ugly.\r",
      "\r\n",
      "\tExplicit is better than implicit.\r",
      "\r\n",
      "Simple is better than complex.\r",
      "\r\n",
      "\tComplex is better than complicated.\r",
      "\r\n",
      "Flat is better than nested.\r",
      "\r\n",
      "\tSparse is better than dense.\r",
      "\r\n",
      "Readability counts.\r",
      "\r\n",
      "\tSpecial cases aren't special enough to break the rules.\r",
      "\r\n",
      "Although practicality beats purity.\r",
      "\r\n",
      "\tErrors should never pass silently.\r",
      "\r\n",
      "Unless explicitly silenced.\r",
      "\r\n",
      "\tIn the face of ambiguity, refuse the temptation to guess.\r",
      "\r\n",
      "There should be one-- and preferably only one --obvious way to do it.\r",
      "\r\n",
      "\tAlthough that way may not be obvious at first unless you're Dutch.\r",
      "\r\n",
      "Now is better than never.\r",
      "\r\n",
      "\tAlthough never is often better than *right* now.\r",
      "\r\n",
      "If the implementation is hard to explain, it's a bad idea.\r",
      "\r\n",
      "\tIf the implementation is easy to explain, it may be a good idea.\r",
      "\r\n",
      "Namespaces are one honking great idea -- let's do more of those!\r\n",
      " Thank you.\r\n",
      " For your attention"
     ]
    }
   ],
   "source": [
    "!cat zen.txt"
   ]
  },
  {
   "cell_type": "markdown",
   "metadata": {},
   "source": [
    "Можно сделать копию файла с другим именем."
   ]
  },
  {
   "cell_type": "code",
   "execution_count": 4,
   "metadata": {},
   "outputs": [
    {
     "data": {
      "text/plain": [
       "'zen_copy.txt'"
      ]
     },
     "execution_count": 4,
     "metadata": {},
     "output_type": "execute_result"
    }
   ],
   "source": [
    "import shutil\n",
    "shutil.copy(\"zen.txt\", \"zen_copy.txt\")"
   ]
  },
  {
   "cell_type": "markdown",
   "metadata": {},
   "source": [
    "Можно переименовать файл"
   ]
  },
  {
   "cell_type": "code",
   "execution_count": 5,
   "metadata": {},
   "outputs": [],
   "source": [
    "import os\n",
    "os.rename(\"zen_copy.txt\", \"zen_reserve.txt\")"
   ]
  },
  {
   "cell_type": "code",
   "execution_count": 6,
   "metadata": {},
   "outputs": [
    {
     "name": "stdout",
     "output_type": "stream",
     "text": [
      "BeaXtiful is better than ugly.\n",
      "\tExplicit is better than implicit.\n",
      "Simple is better than complex.\n",
      "\tComplex is better than complicated.\n",
      "Flat is better than nested.\n",
      "\tSparse is better than dense.\n",
      "Readability counts.\n",
      "\tSpecial cases aren't special enough to break the rules.\n",
      "Although practicality beats purity.\n",
      "\tErrors should never pass silently.\n",
      "Unless explicitly silenced.\n",
      "\tIn the face of ambiguity, refuse the temptation to guess.\n",
      "There should be one-- and preferably only one --obvious way to do it.\n",
      "\tAlthough that way may not be obvious at first unless you're Dutch.\n",
      "Now is better than never.\n",
      "\tAlthough never is often better than *right* now.\n",
      "If the implementation is hard to explain, it's a bad idea.\n",
      "\tIf the implementation is easy to explain, it may be a good idea.\n",
      "Namespaces are one honking great idea -- let's do more of those!\n",
      " Thank you.\n",
      " For your attention\n"
     ]
    }
   ],
   "source": [
    "f = open(\"zen.txt\")  # открыли файл для чтения, находящийся в той же директории\n",
    "s = f.read()  # прочитали\n",
    "print(s)  # выводим содержимое файла"
   ]
  },
  {
   "cell_type": "markdown",
   "metadata": {},
   "source": [
    "Функция `open()` вернула объект типа `file` — переменную, которую можно использовать, чтобы работать с файлом. Затем мы считали содержимое файла в строку `s`, и вывели эту строку."
   ]
  },
  {
   "cell_type": "markdown",
   "metadata": {},
   "source": [
    "Попробуем снова прочитать файл."
   ]
  },
  {
   "cell_type": "code",
   "execution_count": 7,
   "metadata": {},
   "outputs": [
    {
     "name": "stdout",
     "output_type": "stream",
     "text": [
      "\n"
     ]
    }
   ],
   "source": [
    "s = f.read()  # снова прочитали\n",
    "print(s)  # ничего не выводится"
   ]
  },
  {
   "cell_type": "markdown",
   "metadata": {},
   "source": [
    "После повторной попытки прочитать содержимое файла ничего не выводится. Чтобы понять причину обсудим как работает **позиционирование**. \n",
    "\n",
    "При работе с файлами есть понятие **позиции указателя** — это как курсор в тексте: где он стоит, туда будет производиться чтение или запись.\n",
    "\n",
    "При открытии файла указатель находится в начале (позиция `0`). При операциях чтения (`read()`) или записи (`write()`) указатель автоматически сдвигается вперед на количество прочитанных или записанных байт.\n",
    "\n",
    "После однократного прочтения файла указатель остается в его конце. Чтобы второй раз прочитать файл нужно сдвинуть указатель в начало. Для работы с файловым указателем используются следующие методы:\n",
    "\n",
    "- `tell()` - определение текущей позиции указателя (в байтах от начала);\n",
    "- `read(n)` - чтение n символов от места нахождения указателя;\n",
    "- `seek(offset, whence)` - размещение указателя в определенном месте файла.\n",
    "\n",
    "`tell()` часто используют вместе с методом `seek(offset, whence)`, который перемещает файловый указатель.\n",
    "\n",
    "Параметры метода `seek()`:\n",
    "- `offset`: смещение в байтах (может быть отрицательным)\n",
    "- `whence` (опционально, по умолчанию 0):\n",
    "    - 0 — отсчет от начала файла \n",
    "    - 1 — отсчет от текущей позиции \n",
    "    - 2 — отсчет от конца файла "
   ]
  },
  {
   "cell_type": "code",
   "execution_count": 8,
   "metadata": {},
   "outputs": [],
   "source": [
    "f.close()  # закрыли файл"
   ]
  },
  {
   "cell_type": "markdown",
   "metadata": {},
   "source": [
    "Закроем файл, если забыть это сделать, то другое приложение не сможет его открыть (например, чтобы в него что-нибудь записать)."
   ]
  },
  {
   "cell_type": "markdown",
   "metadata": {},
   "source": [
    "Снова откроем файл и отследим перемещение файлового указателя."
   ]
  },
  {
   "cell_type": "code",
   "execution_count": 9,
   "metadata": {},
   "outputs": [
    {
     "name": "stdout",
     "output_type": "stream",
     "text": [
      "Позиция файлового указателя: 0\n",
      "BeaXtiful \n",
      "is better \n",
      "than ugly.\n",
      "Позиция файлового указателя: 30\n",
      "Позиция файлового указателя: 0\n",
      "Позиция файлового указателя: 5\n",
      "iful \n"
     ]
    }
   ],
   "source": [
    "f = open(\"zen.txt\", \"r\")\n",
    "print(\"Позиция файлового указателя:\", f.tell())  # 0 — в начале файла\n",
    "\n",
    "s1 = f.read(10)  # прочитали 10 символов\n",
    "print(s1)  # вывели прочитанные символы\n",
    "\n",
    "s2 = f.read(10)  # прочитали следующие 10 символов\n",
    "print(s2)\n",
    "\n",
    "s3 = f.read(10)  # прочитали следующие 10 символов\n",
    "print(s3)\n",
    "\n",
    "print(\"Позиция файлового указателя:\", f.tell())   \n",
    "\n",
    "f.seek(0)  # вернулись в начало файла\n",
    "print(\"Позиция файлового указателя:\", f.tell())   \n",
    "\n",
    "f.seek(5)  # сдвинулись на 5-й байт \n",
    "print(\"Позиция файлового указателя:\", f.tell())   \n",
    "\n",
    "s4 = f.read(5)  # прочитали 5 символов\n",
    "print(s4)\n",
    "\n",
    "f.close()  # закрыли файл"
   ]
  },
  {
   "cell_type": "code",
   "execution_count": 10,
   "metadata": {},
   "outputs": [
    {
     "name": "stdout",
     "output_type": "stream",
     "text": [
      "BeaXtiful \n",
      "BeaXtiful \n"
     ]
    }
   ],
   "source": [
    "f = open(\"zen.txt\") \n",
    "s1 = f.read(10)  # прочитали 10 символов\n",
    "print(s1) # вывели прочитанные символы\n",
    "\n",
    "f.seek(0)  # вернули файловый указатель в начало\n",
    "\n",
    "s2 = f.read(10)  # прочитали 10 символов\n",
    "print(s2)\n",
    "\n",
    "f.close()  # закрыли файл"
   ]
  },
  {
   "cell_type": "markdown",
   "metadata": {},
   "source": [
    "Заменим один символ."
   ]
  },
  {
   "cell_type": "code",
   "execution_count": 11,
   "metadata": {},
   "outputs": [
    {
     "name": "stdout",
     "output_type": "stream",
     "text": [
      "BeaXtiful is better than ugly.\n",
      "\tExplicit is better than implicit.\n",
      "Simple is better than complex.\n",
      "\tComplex is better than complicated.\n",
      "Flat is better than nested.\n",
      "\tSparse is better than dense.\n",
      "Readability counts.\n",
      "\tSpecial cases aren't special enough to break the rules.\n",
      "Although practicality beats purity.\n",
      "\tErrors should never pass silently.\n",
      "Unless explicitly silenced.\n",
      "\tIn the face of ambiguity, refuse the temptation to guess.\n",
      "There should be one-- and preferably only one --obvious way to do it.\n",
      "\tAlthough that way may not be obvious at first unless you're Dutch.\n",
      "Now is better than never.\n",
      "\tAlthough never is often better than *right* now.\n",
      "If the implementation is hard to explain, it's a bad idea.\n",
      "\tIf the implementation is easy to explain, it may be a good idea.\n",
      "Namespaces are one honking great idea -- let's do more of those!\n",
      " Thank you.\n",
      " For your attention\n"
     ]
    }
   ],
   "source": [
    "f = open(\"zen.txt\", \"r+\")\n",
    "f.seek(3)  # ставим указатель на 4-й символ\n",
    "f.write(\"X\") # записываем символ \"X\" (заменяем символ)\n",
    "f.seek(0)  # возвращаемся в начало\n",
    "s = f.read()  # читаем весь файл\n",
    "print(s)  # выводим\n",
    "f.close()  # закрыли файл"
   ]
  },
  {
   "cell_type": "markdown",
   "metadata": {},
   "source": [
    "Можно передвигать файловый указатель не относительно начала файла (по умолчанию), а от текущего его положения."
   ]
  },
  {
   "cell_type": "code",
   "execution_count": 12,
   "metadata": {},
   "outputs": [
    {
     "name": "stdout",
     "output_type": "stream",
     "text": [
      "Первые 10 символов:  BeaXtiful \n",
      "Позиция файлового указателя: 10\n",
      "Позиция файлового указателя: 5\n"
     ]
    }
   ],
   "source": [
    "f = open(\"zen.txt\", \"r\")\n",
    "print('Первые 10 символов: ', f.read(10))\n",
    "print('Позиция файлового указателя:', f.tell())\n",
    "f.seek(f.tell() - 5)  # на 5 позиций назад от текущей позиции\n",
    "print('Позиция файлового указателя:', f.tell())"
   ]
  },
  {
   "cell_type": "markdown",
   "metadata": {},
   "source": [
    "Когда мы хотим работать с байтовыми смещениями (`offset`) точно в «байтах», а не в «символах», нужно открывать файл в бинарном режиме (`rb`, `r+b` и т.п.)."
   ]
  },
  {
   "cell_type": "code",
   "execution_count": 13,
   "metadata": {},
   "outputs": [
    {
     "name": "stdout",
     "output_type": "stream",
     "text": [
      "b'ion'\n",
      "ion\n"
     ]
    }
   ],
   "source": [
    "f = open(\"zen.txt\", 'rb')  # откроем файл в бинарном режиме\n",
    "\n",
    "f.seek(-3, 2)  # перемещаемся на 3 байта назад от конца файла\n",
    "\n",
    "last3 = f.read(3)  # читаем 3 байта\n",
    "\n",
    "print(last3)  # выводим прочитанное\n",
    "print(last3.decode(\"utf-8\"))  # декодируем в строку\n",
    "f.close()  # закрыли файл"
   ]
  },
  {
   "cell_type": "markdown",
   "metadata": {},
   "source": [
    "Декодирование - это перевод байтов в символы. Обратный процесс (строка → байты) называется кодирование."
   ]
  },
  {
   "cell_type": "markdown",
   "metadata": {},
   "source": [
    "Поработаем с русскоязычным файлом."
   ]
  },
  {
   "cell_type": "code",
   "execution_count": 14,
   "metadata": {},
   "outputs": [
    {
     "name": "stdout",
     "output_type": "stream",
     "text": [
      "е!\n"
     ]
    }
   ],
   "source": [
    "f = open(\"zen_ru.txt\", 'rb')  # откроем файл на русском языке\n",
    "\n",
    "f.seek(-3, 2)  # перемещаемся на 3 байта назад от конца файла\n",
    "\n",
    "last3 = f.read(3)  # читаем 3 байта\n",
    "\n",
    "print(last3.decode(\"utf-8\"))  # декодируем в строку\n",
    "f.close()  # закрыли файл"
   ]
  },
  {
   "cell_type": "markdown",
   "metadata": {},
   "source": [
    "Почему из русскоязычного файла прочиталось 2 символа?\n",
    "\n",
    "Уточним что такое `символ` и что такое `байт`.\n",
    "\n",
    "`Байт` — это единица хранения.\n",
    "\n",
    "`Символ` (character / str) это — логическая единица текста. При хранении на диске символ кодируется в байтах через кодировку (UTF-8, UTF-16 и т.д.). В UTF-8 один символ может занимать от 1 до 4 байт.\n",
    "\n",
    "В кодировке UTF-8 все символы кириллицы (А, Б, В … я, ё, ю и т. д.) занимают 2 байта. Выведем сколько занимают байт разные символы. "
   ]
  },
  {
   "cell_type": "code",
   "execution_count": 15,
   "metadata": {},
   "outputs": [
    {
     "name": "stdout",
     "output_type": "stream",
     "text": [
      "1\n",
      "2\n",
      "1\n",
      "3\n",
      "4\n"
     ]
    }
   ],
   "source": [
    "print(len(\"F\".encode(\"utf-8\")))     \n",
    "print(len(\"Ю\".encode(\"utf-8\")))\n",
    "print(len(\":\".encode(\"utf-8\")))  \n",
    "print(len(\"字\".encode(\"utf-8\")))    \n",
    "print(len(\"😊\".encode(\"utf-8\")))   "
   ]
  },
  {
   "cell_type": "markdown",
   "metadata": {},
   "source": [
    "Можно открывать файлы с помощью ключевого слова `with`. Тогда файл закроется автоматически, когда закончатся вложенные операции."
   ]
  },
  {
   "cell_type": "code",
   "execution_count": 16,
   "metadata": {},
   "outputs": [
    {
     "name": "stdout",
     "output_type": "stream",
     "text": [
      "BeaXtiful is better than ugly.\n",
      "\tExplicit is better than implicit.\n",
      "Simple is better than complex.\n",
      "\tComplex is better than complicated.\n",
      "Flat is better than nested.\n",
      "\tSparse is better than dense.\n",
      "Readability counts.\n",
      "\tSpecial cases aren't special enough to break the rules.\n",
      "Although practicality beats purity.\n",
      "\tErrors should never pass silently.\n",
      "Unless explicitly silenced.\n",
      "\tIn the face of ambiguity, refuse the temptation to guess.\n",
      "There should be one-- and preferably only one --obvious way to do it.\n",
      "\tAlthough that way may not be obvious at first unless you're Dutch.\n",
      "Now is better than never.\n",
      "\tAlthough never is often better than *right* now.\n",
      "If the implementation is hard to explain, it's a bad idea.\n",
      "\tIf the implementation is easy to explain, it may be a good idea.\n",
      "Namespaces are one honking great idea -- let's do more of those!\n",
      " Thank you.\n",
      " For your attention\n"
     ]
    }
   ],
   "source": [
    "with open('zen.txt') as f:  # открыли файл, не указали режим, по умолчанию - чтение\n",
    "    read_data = f.read()  # считали данные из файла в переменную\n",
    "    print(read_data)\n",
    "# операции закончились, файл сам закрылся"
   ]
  },
  {
   "cell_type": "markdown",
   "metadata": {},
   "source": [
    "Функция `read()` считывает весь файл в одну большую строковую переменную. Это не всегда бывает удобно.\n",
    "\n",
    "Метод `readline()` позволяет не загружать файл целиком в память, а считывать его построчно. Знаком остановки является `\\n`."
   ]
  },
  {
   "cell_type": "code",
   "execution_count": 17,
   "metadata": {},
   "outputs": [
    {
     "name": "stdout",
     "output_type": "stream",
     "text": [
      "BeaXtiful is better than ugly.\n",
      "\n",
      "---next line---\n",
      "\n",
      "\tExplicit is better than implicit.\n",
      "\n"
     ]
    }
   ],
   "source": [
    "with open('zen.txt') as f: \n",
    "    first_line = f.readline() \n",
    "    print(first_line)\n",
    "    print('---next line---\\n')\n",
    "    second_line = f.readline() \n",
    "    print(second_line)"
   ]
  },
  {
   "cell_type": "code",
   "execution_count": 18,
   "metadata": {},
   "outputs": [
    {
     "data": {
      "text/plain": [
       "'\\tExplicit is better than implicit.\\n'"
      ]
     },
     "execution_count": 18,
     "metadata": {},
     "output_type": "execute_result"
    }
   ],
   "source": [
    "second_line  # с табуляцией и переходом на новую строку"
   ]
  },
  {
   "cell_type": "code",
   "execution_count": 19,
   "metadata": {},
   "outputs": [
    {
     "data": {
      "text/plain": [
       "'Explicit is better than implicit.'"
      ]
     },
     "execution_count": 19,
     "metadata": {},
     "output_type": "execute_result"
    }
   ],
   "source": [
    "second_line.strip()  # без специальных символов"
   ]
  },
  {
   "cell_type": "markdown",
   "metadata": {},
   "source": [
    "Чтобы считать содердимое файла в список, элементами которого будут строки, можно использовать метод `.readlines()`."
   ]
  },
  {
   "cell_type": "code",
   "execution_count": 20,
   "metadata": {},
   "outputs": [
    {
     "name": "stdout",
     "output_type": "stream",
     "text": [
      "['BeaXtiful is better than ugly.\\n', '\\tExplicit is better than implicit.\\n', 'Simple is better than complex.\\n', '\\tComplex is better than complicated.\\n', 'Flat is better than nested.\\n', '\\tSparse is better than dense.\\n', 'Readability counts.\\n', \"\\tSpecial cases aren't special enough to break the rules.\\n\", 'Although practicality beats purity.\\n', '\\tErrors should never pass silently.\\n', 'Unless explicitly silenced.\\n', '\\tIn the face of ambiguity, refuse the temptation to guess.\\n', 'There should be one-- and preferably only one --obvious way to do it.\\n', \"\\tAlthough that way may not be obvious at first unless you're Dutch.\\n\", 'Now is better than never.\\n', '\\tAlthough never is often better than *right* now.\\n', \"If the implementation is hard to explain, it's a bad idea.\\n\", '\\tIf the implementation is easy to explain, it may be a good idea.\\n', \"Namespaces are one honking great idea -- let's do more of those!\\n\", ' Thank you.\\n', ' For your attention']\n"
     ]
    }
   ],
   "source": [
    "with open('zen.txt') as f: \n",
    "    lines = f.readlines()\n",
    "    print(lines)  # каждая строка заканчивается \\n"
   ]
  },
  {
   "cell_type": "code",
   "execution_count": 21,
   "metadata": {},
   "outputs": [
    {
     "name": "stdout",
     "output_type": "stream",
     "text": [
      "1 BeaXtiful is better than ugly.\n",
      "2 \tExplicit is better than implicit.\n",
      "3 Simple is better than complex.\n",
      "4 \tComplex is better than complicated.\n",
      "5 Flat is better than nested.\n",
      "6 \tSparse is better than dense.\n",
      "7 Readability counts.\n",
      "8 \tSpecial cases aren't special enough to break the rules.\n",
      "9 Although practicality beats purity.\n",
      "10 \tErrors should never pass silently.\n",
      "11 Unless explicitly silenced.\n",
      "12 \tIn the face of ambiguity, refuse the temptation to guess.\n",
      "13 There should be one-- and preferably only one --obvious way to do it.\n",
      "14 \tAlthough that way may not be obvious at first unless you're Dutch.\n",
      "15 Now is better than never.\n",
      "16 \tAlthough never is often better than *right* now.\n",
      "17 If the implementation is hard to explain, it's a bad idea.\n",
      "18 \tIf the implementation is easy to explain, it may be a good idea.\n",
      "19 Namespaces are one honking great idea -- let's do more of those!\n",
      "20  Thank you.\n",
      "21  For your attention"
     ]
    }
   ],
   "source": [
    "# теперь можено вывести файл по строкам, пронумеровав их\n",
    "for i, line in enumerate(lines, 1):\n",
    "    print(i, line, end=\"\")"
   ]
  },
  {
   "cell_type": "code",
   "execution_count": 22,
   "metadata": {},
   "outputs": [
    {
     "name": "stdout",
     "output_type": "stream",
     "text": [
      "1 BeaXtiful is better than ugly.\n",
      "2 \tExplicit is better than implicit.\n",
      "3 Simple is better than complex.\n",
      "4 \tComplex is better than complicated.\n",
      "5 Flat is better than nested.\n",
      "6 \tSparse is better than dense.\n",
      "7 Readability counts.\n",
      "8 \tSpecial cases aren't special enough to break the rules.\n",
      "9 Although practicality beats purity.\n",
      "10 \tErrors should never pass silently.\n",
      "11 Unless explicitly silenced.\n",
      "12 \tIn the face of ambiguity, refuse the temptation to guess.\n",
      "13 There should be one-- and preferably only one --obvious way to do it.\n",
      "14 \tAlthough that way may not be obvious at first unless you're Dutch.\n",
      "15 Now is better than never.\n",
      "16 \tAlthough never is often better than *right* now.\n",
      "17 If the implementation is hard to explain, it's a bad idea.\n",
      "18 \tIf the implementation is easy to explain, it may be a good idea.\n",
      "19 Namespaces are one honking great idea -- let's do more of those!\n",
      "20  Thank you.\n",
      "21  For your attention"
     ]
    }
   ],
   "source": [
    "# Можно не создавать отдельный список, а итерировать сразу файловый объект.\n",
    "with open('zen.txt') as f: \n",
    "    for i, line in enumerate(f, 1):\n",
    "        print(i, line, end=\"\")"
   ]
  },
  {
   "cell_type": "markdown",
   "metadata": {},
   "source": [
    "## 2. Запись в файл <a class=\"anchor\" id=\"chapter2\"></a>"
   ]
  },
  {
   "cell_type": "markdown",
   "metadata": {},
   "source": [
    "Чтобы содать файл и записать в него что-то, нужно открыть его на запись. Это делается путём передачи функции `open()` второго аргумента `\"w\"`. Если файл, который вы пытаетесь открыть на запись, уже существует, он будет удалён без предупреждения. Записывать информацию в файл, открытый на запись, можно с помощью метода `write()`."
   ]
  },
  {
   "cell_type": "code",
   "execution_count": 23,
   "metadata": {},
   "outputs": [
    {
     "data": {
      "text/plain": [
       "21"
      ]
     },
     "execution_count": 23,
     "metadata": {},
     "output_type": "execute_result"
    }
   ],
   "source": [
    "f = open(\"new.txt\", \"w+\")  # открыли на запись и чтение\n",
    "f.write(\"Hello, HSE students!\\n\")  # возвращает количество записанных байт"
   ]
  },
  {
   "cell_type": "markdown",
   "metadata": {},
   "source": [
    "Проверьте, что в текущей директории был создан файл. Теперь отразим его содержимое."
   ]
  },
  {
   "cell_type": "code",
   "execution_count": 24,
   "metadata": {},
   "outputs": [
    {
     "name": "stdout",
     "output_type": "stream",
     "text": [
      "Hello, HSE students!\n",
      "\n"
     ]
    }
   ],
   "source": [
    "# отразим содержимое файла\n",
    "f.seek(0)  # вернем указатель в начало\n",
    "x = f.read()\n",
    "print(x)\n",
    "f.close()"
   ]
  },
  {
   "cell_type": "markdown",
   "metadata": {},
   "source": [
    "Сейчас мы перезапишем этот файл."
   ]
  },
  {
   "cell_type": "code",
   "execution_count": 25,
   "metadata": {},
   "outputs": [],
   "source": [
    "# изменим содержимое файла\n",
    "f = open(\"new.txt\", \"w\")\n",
    "mystring = 'I like Python!\\n'\n",
    "f.write(mystring)\n",
    "f.close()"
   ]
  },
  {
   "cell_type": "code",
   "execution_count": 26,
   "metadata": {},
   "outputs": [
    {
     "name": "stdout",
     "output_type": "stream",
     "text": [
      "I like Python!\n",
      "\n"
     ]
    }
   ],
   "source": [
    "# отразим содержимое файла\n",
    "f = open(\"new.txt\", \"r\")\n",
    "x = f.read()\n",
    "print(x)\n",
    "f.close()"
   ]
  },
  {
   "cell_type": "markdown",
   "metadata": {},
   "source": [
    "Сейчас допишем в этот файл."
   ]
  },
  {
   "cell_type": "code",
   "execution_count": 27,
   "metadata": {},
   "outputs": [],
   "source": [
    "mystring = \"I study in HSE!\"\n",
    "f = open(\"new.txt\", \"a\")  # открываем на дописывание\n",
    "f.write(mystring)\n",
    "f.close()"
   ]
  },
  {
   "cell_type": "code",
   "execution_count": 28,
   "metadata": {},
   "outputs": [
    {
     "name": "stdout",
     "output_type": "stream",
     "text": [
      "I like Python!\n",
      "I study in HSE!\n"
     ]
    }
   ],
   "source": [
    "# отразим содержимое файла\n",
    "f = open(\"new.txt\", \"r\")\n",
    "x = f.read()\n",
    "print(x)\n",
    "f.close()"
   ]
  },
  {
   "cell_type": "markdown",
   "metadata": {},
   "source": [
    "Теперь попробуем записать в файл zen.txt дополнительные строки."
   ]
  },
  {
   "cell_type": "code",
   "execution_count": 29,
   "metadata": {},
   "outputs": [
    {
     "name": "stdout",
     "output_type": "stream",
     "text": [
      "BeaXtiful is better than ugly.\n",
      "\tExplicit is better than implicit.\n",
      "Simple is better than complex.\n",
      "\tComplex is better than complicated.\n",
      "Flat is better than nested.\n",
      "\tSparse is better than dense.\n",
      "Readability counts.\n",
      "\tSpecial cases aren't special enough to break the rules.\n",
      "Although practicality beats purity.\n",
      "\tErrors should never pass silently.\n",
      "Unless explicitly silenced.\n",
      "\tIn the face of ambiguity, refuse the temptation to guess.\n",
      "There should be one-- and preferably only one --obvious way to do it.\n",
      "\tAlthough that way may not be obvious at first unless you're Dutch.\n",
      "Now is better than never.\n",
      "\tAlthough never is often better than *right* now.\n",
      "If the implementation is hard to explain, it's a bad idea.\n",
      "\tIf the implementation is easy to explain, it may be a good idea.\n",
      "Namespaces are one honking great idea -- let's do more of those!\n",
      " Thank you.\n",
      " For your attention\n",
      " Thank you.\n",
      " For your attention\n"
     ]
    }
   ],
   "source": [
    "with open('zen.txt', 'a+') as f:  # открыли файл\n",
    "    f.write('\\n Thank you.\\n For your attention') # дозаписали строки в файл\n",
    "    f.seek(0)\n",
    "    x = f.read()\n",
    "    print(x)"
   ]
  },
  {
   "cell_type": "markdown",
   "metadata": {},
   "source": [
    "Сохранение списка строк в файл."
   ]
  },
  {
   "cell_type": "code",
   "execution_count": 30,
   "metadata": {},
   "outputs": [
    {
     "name": "stdout",
     "output_type": "stream",
     "text": [
      "Первая строка\n",
      "Вторая строка\n",
      "Третья строка\n",
      "\n"
     ]
    }
   ],
   "source": [
    "lines = [\"Первая строка\", \"Вторая строка\", \"Третья строка\"]\n",
    "\n",
    "# запись\n",
    "with open(\"list1.txt\", \"w+\") as file:\n",
    "    for line in lines:\n",
    "        file.write(line + \"\\n\")\n",
    "    file.seek(0)\n",
    "    s = file.read()\n",
    "    print(s)"
   ]
  },
  {
   "cell_type": "markdown",
   "metadata": {},
   "source": [
    "Чтение из файла и преобразование обратно в список строк."
   ]
  },
  {
   "cell_type": "code",
   "execution_count": 31,
   "metadata": {},
   "outputs": [
    {
     "name": "stdout",
     "output_type": "stream",
     "text": [
      "['Первая строка', 'Вторая строка', 'Третья строка']\n"
     ]
    }
   ],
   "source": [
    "# чтение\n",
    "with open(\"list1.txt\", \"r\") as file:\n",
    "    lines_from_file = [line.strip() for line in file]\n",
    "    print(lines_from_file)"
   ]
  },
  {
   "cell_type": "markdown",
   "metadata": {},
   "source": [
    "Метод `writelines()` записывает последовательность строк в файл. При этом он не добавляет автоматически символы новой строки.\n",
    "\n",
    "Особенности `writelines()`:\n",
    "- Не добавляет автоматически переносы строк (\\n).\n",
    "- Принимает любую итерируемую последовательность - списки, кортежи, генераторы.\n",
    "- Все элементы должны быть строками - иначе будет ошибка.\n",
    "- Возвращает None - в отличие от write(), который возвращает количество записанных байт.\n",
    "- Более эффективен для записи множества строк по сравнению с циклом c write()."
   ]
  },
  {
   "cell_type": "code",
   "execution_count": 32,
   "metadata": {},
   "outputs": [
    {
     "name": "stdout",
     "output_type": "stream",
     "text": [
      "Первая строка\n",
      "Вторая строка\n",
      "Третья строка\n",
      "\n"
     ]
    }
   ],
   "source": [
    "lines = [\"Первая строка\\n\", \"Вторая строка\\n\", \"Третья строка\\n\"]\n",
    "\n",
    "with open(\"list2.txt\", \"w+\") as file:\n",
    "    file.writelines(lines)\n",
    "    file.seek(0)\n",
    "    s = file.read()\n",
    "    print(s)"
   ]
  },
  {
   "cell_type": "markdown",
   "metadata": {},
   "source": [
    "# Задание 1\n",
    "\n",
    "Написать функцию `sum_ints_in_file(filename)`, принимающую на вход имя файла, содержащего целые числа (каждое число на новой строке). Функция должна вернуть сумму этих чисел. Файл может содержать пустые строки, их следует игнорировать. Не забудьте закрыть файл.\n",
    "\n",
    "_Пример:_\n",
    "\n",
    "_In: `task1.txt`_\n",
    "\n",
    "_Out: `210`_"
   ]
  },
  {
   "cell_type": "code",
   "execution_count": 1,
   "metadata": {},
   "outputs": [],
   "source": [
    "# Создаем тестовый файл с числами и пустыми строками\n",
    "with open(\"task1.txt\", \"w\") as file:\n",
    "    file.write(\"10\\n\")\n",
    "    file.write(\"20\\n\")\n",
    "    file.write(\"\\n\")  \n",
    "    file.write(\"30\\n\")\n",
    "    file.write(\"40\\n\")\n",
    "    file.write(\"50\\n\")\n",
    "    file.write(\"\\n\")  \n",
    "    file.write(\"\\n\")  \n",
    "    file.write(\"60\\n\")"
   ]
  },
  {
   "cell_type": "code",
   "execution_count": 2,
   "metadata": {},
   "outputs": [],
   "source": [
    "# здесь напишите решение задания 1 ♡‧₊˚✧ ૮ ˶ᵔ ᵕ ᵔ˶ ა ✧˚₊‧♡\n",
    "def sum_ints_in_file(filename):\n",
    "    with open(filename, 'r') as file:\n",
    "        total = 0\n",
    "        for line in file:\n",
    "            if line.strip():\n",
    "                total += int(line.strip())\n",
    "        return total"
   ]
  },
  {
   "cell_type": "code",
   "execution_count": 3,
   "metadata": {},
   "outputs": [
    {
     "data": {
      "text/plain": [
       "210"
      ]
     },
     "execution_count": 3,
     "metadata": {},
     "output_type": "execute_result"
    }
   ],
   "source": [
    "sum_ints_in_file('task1.txt')"
   ]
  },
  {
   "cell_type": "markdown",
   "metadata": {},
   "source": [
    "# Задание 2\n",
    "\n",
    "Написать функцию `seq(a, b, filename)`, создающую файл filename и записывающую в неё целые числа от `a` до `b` включительно, каждое число на своей строке."
   ]
  },
  {
   "cell_type": "code",
   "execution_count": 4,
   "metadata": {},
   "outputs": [],
   "source": [
    "# здесь напишите решение задания 2 (..＞◡＜..)\n",
    "def seq(a, b, filename):\n",
    "    with open(filename, 'w') as file:\n",
    "        for i in range(a, b + 1):\n",
    "            file.write(f\"{i}\\n\")"
   ]
  },
  {
   "cell_type": "code",
   "execution_count": 5,
   "metadata": {},
   "outputs": [],
   "source": [
    "seq(2, 10, 'task2.txt')"
   ]
  },
  {
   "cell_type": "markdown",
   "metadata": {},
   "source": [
    "# Задание 3\n",
    "\n",
    "Написать функцию `censore_haha(filename)`, считывающую файл с именем, лежащем в переменной filename и записывающим его в новый файл, имя которого получается добавлением к концу имени исходного файла `.censored.txt`. При записи в новый файл все вхождения слова haha должны быть заменены на `[censored]`.\n",
    "Например, если функция была вызвана как `censore_haha('test.txt')`, она должна создать файл `test.txt.censored.txt` и записать в него отцензурированную версию исходного файла."
   ]
  },
  {
   "cell_type": "code",
   "execution_count": 6,
   "metadata": {},
   "outputs": [],
   "source": [
    "# Создаем тестовый файл\n",
    "with open('task3.txt', 'w') as f:\n",
    "    f.write(\"Это haha тестовый файл.\\n\")\n",
    "    f.write(\"Здесь есть haha и еще раз haha.\\n\")\n",
    "    f.write(\"А это строка без цензуры.\\n\")"
   ]
  },
  {
   "cell_type": "code",
   "execution_count": 7,
   "metadata": {},
   "outputs": [],
   "source": [
    "# здесь напишите решение задания 3 /ᐠ｡‸｡ᐟ\\\n",
    "def censore_haha(filename):\n",
    "    # Формируем имя нового файла\n",
    "    new_filename = filename + '.censored.txt'\n",
    "    \n",
    "    # Читаем исходный файл и заменяем \"haha\" на \"[censored]\"\n",
    "    with open(filename, 'r') as input_file:\n",
    "        content = input_file.read()\n",
    "        censored_content = content.replace('haha', '[censored]')\n",
    "    \n",
    "    # Записываем результат в новый файл\n",
    "    with open(new_filename, 'w') as output_file:\n",
    "        output_file.write(censored_content)"
   ]
  },
  {
   "cell_type": "code",
   "execution_count": 8,
   "metadata": {},
   "outputs": [],
   "source": [
    "censore_haha('task3.txt')"
   ]
  },
  {
   "cell_type": "markdown",
   "metadata": {},
   "source": [
    "# Задание 4\n",
    "\n",
    "Напишите функцию `read_config(filename)`, которая читает файл конфигурации и возвращает данные в виде словаря. Файл имеет простой формат, где каждая строка содержит пару \"ключ:значение\", разделенные двоеточием.\n",
    "\n",
    "_In:_\n",
    "\n",
    "`host:localhost`\n",
    "\n",
    "`port:8080`\n",
    "\n",
    "`username:admin`\n",
    "\n",
    "_Out: `{'host': 'localhost', 'port': '8080', 'username': 'admin'}`_\n"
   ]
  },
  {
   "cell_type": "code",
   "execution_count": 9,
   "metadata": {},
   "outputs": [],
   "source": [
    "# Создаем тестовый файл\n",
    "with open('config.txt', 'w') as f:\n",
    "    f.write(\"host:localhost\\n\")\n",
    "    f.write(\"port:8080\\n\")\n",
    "    f.write(\"username:admin\\n\")\n",
    "    f.write(\"password:secret123\\n\")\n",
    "    f.write(\"database:myapp_db\\n\")\n",
    "    f.write(\"timeout:30\\n\")\n",
    "    f.write(\"debug:true\\n\")\n",
    "    f.write(\"language:ru\\n\")\n",
    "    f.write(\"theme:dark\\n\")\n",
    "    f.write(\"max_connections:100\\n\")"
   ]
  },
  {
   "cell_type": "code",
   "execution_count": 10,
   "metadata": {},
   "outputs": [
    {
     "name": "stdout",
     "output_type": "stream",
     "text": [
      "{'host': 'localhost', 'port': '8080', 'username': 'admin', 'password': 'secret123', 'database': 'myapp_db', 'timeout': '30', 'debug': 'true', 'language': 'ru', 'theme': 'dark', 'max_connections': '100'}\n"
     ]
    }
   ],
   "source": [
    "# Здесь запишите решение задания 4 (⊃｡•́‿•̀｡)⊃━✿✿✿\n",
    "def read_config(filename):\n",
    "    config = {}\n",
    "    with open(filename, 'r') as file:\n",
    "        for line in file:\n",
    "            key, value = line.strip().split(':')\n",
    "            config[key] = value\n",
    "    return config\n",
    "\n",
    "# Читаем конфигурацию\n",
    "config = read_config('config.txt')\n",
    "print(config)"
   ]
  },
  {
   "cell_type": "markdown",
   "metadata": {},
   "source": [
    "⠀⠀⠀⠀⠀⠀⠀⠀⠀⠀⠀⠀⠀⠀⠀⠀⠀⠀⠀⠀⠀⠀⠀⠀⠀⠀⠀⣀⡤⠤⢤⣤⣀⠀⠀⠀⠀⠀⠀⠀⠀⠀⠀⠀⠀⠀⠀⠀⠀⠀⠀⠀⠀\n",
    "⠀⠀⠀⠀⠀⠀⢀⣀⣀⣀⣀⠀⠀⠀⠀⠀⠀⠀⠀⠀⠀⠀⠀⠀⢀⡶⠋⠁⠀⠀⠀⠈⠙⣿⣦⠀⠀⠀⠀⠀⠀⠀⠀⠀⠀⠀⠀⠀⠀⠀⠀⠀⠀\n",
    "⠀⠀⢀⣴⣾⣿⡿⠿⠿⠿⢿⣿⣿⣶⣦⣀⠀⠀⠀⠀⢀⣀⡀⢀⣾⠇⠀⠀⠀⠀⠀⠀⠀⢸⣿⡇⠀⠀⠀⠀⠀⠀⠀⠀⠀⠀⠀⠀⠀⠀⠀⠀⠀\n",
    "⠀⣴⣿⣿⠟⠁⠀⠀⠀⠀⠀⠈⠙⢻⣿⣿⣷⣦⣄⡀⣸⣿⡿⠈⢿⣆⠀⠀⠀⠀⠀⠠⣤⣿⠟⠁⠀⠀⠀⠀⠀⠀⠀⠀⠀⠀⠀⠀⠀⠀⠀⠀⠀\n",
    "⢰⣿⣿⡇⠀⠀⠀⠀⠀⠀⠀⠀⠀⢸⣿⣿⡏⠙⠛⠛⠛⠉⠀⠀⠈⠻⣦⣄⠀⠀⠀⠀⠀⠀⠀⠀⠀⠀⠀⠀⠀⠀⠀⠀⣠⣤⠀⠀⠀⠀⠀⠀⠀\n",
    "⢸⣿⣿⡇⠀⠀⠀⠀⠀⠀⠀⠀⠀⢸⣿⣿⡇⠀⠀⠀⠀⠀⠀⠀⠀⠀⠈⠉⠛⠳⠶⢤⣤⣤⣤⣤⣤⣤⡤⠤⠖⠒⠚⢉⣿⣿⡇⠀⠀⠀⠀⠀⠀\n",
    "⠈⣿⣿⣧⡀⠀⠀⠀⠀⠀⠀⠀⠀⢸⣿⣿⡇⠀⠀⠀⠀⠀⢠⣾⣷⠀⠀⢀⣠⣤⣄⡀⠀⠀⠀⠀⠀⢀⣴⣶⣦⡄⠀⢸⣿⣿⡇⠀⠀⣼⣷⡀⠀\n",
    "⠀⠈⢿⣿⣷⣄⠀⠀⠀⠀⣲⡄⠀⢸⣿⣿⡇⢠⣴⣦⠀⠀⣿⣿⣿⢀⣾⣿⣿⠋⢙⡃⠀⢰⣿⣿⣀⡿⢁⣿⣿⣷⠀⢸⣿⣿⣇⠀⢠⣿⣿⠇⠀\n",
    "⠀⠀⠀⠈⠙⠛⠛⠒⠒⠚⠋⠁⠀⢸⣿⣿⡇⣼⣿⣿⡆⠀⣿⣿⣿⢸⣿⣿⡇⢰⣿⣿⡆⢸⣿⣿⣿⠁⣸⣿⣿⡏⠀⢸⣿⣿⣿⣴⣿⣿⠋⠀⠀\n",
    "⠀⠀⠀⠀⠀⠀⠀⠀⠀⠀⠀⠀⠀⣸⣿⣿⠁⣿⣿⣿⡷⠾⣿⣿⣿⠸⣿⣿⣧⣾⣿⣿⡇⣾⣿⣿⡏⠀⣿⣿⣿⠇⠀⢸⣿⣿⣿⢿⣯⡁⠀⠀⠀\n",
    "⠀⠀⠀⠀⠀⠀⠀⠀⠀⠀⠀⠤⠴⠿⠟⠁⠀⢸⣿⣿⠃⠀⢿⣿⣿⠀⣿⠙⠛⠉⢻⣿⠿⠋⠛⠛⠁⠀⣿⣿⣿⠀⢠⣿⣿⣿⡿⠈⢿⣿⣦⡀⠀\n",
    "⠀⠀⠀⠀⠀⠀⠀⠀⠀⠀⠀⣠⠴⠓⢦⣄⠀⠀⠛⠛⠀⠀⠈⠻⢿⡿⠋⠀⢠⡖⠋⠙⠳⣄⠀⠀⠀⠀⠻⣿⣿⣠⠟⠀⠛⠛⠁⠀⠀⠻⣿⣿⣄\n",
    "⠀⠀⠀⠀⠀⠀⠀⠀⠀⠀⣾⠁⠀⠐⠛⠋⠀⠀⣠⣤⡄⠀⢀⣀⡀⠀⠀⠀⢸⣄⣤⣤⠄⢹⣇⠀⢀⣶⣦⠈⠉⢀⣤⣄⠀⠀⣤⣄⡀⠀⠀⠉⠉\n",
    "⠀⠀⠀⠀⠀⠀⠀⠀⠀⠀⠙⠦⣀⣀⣀⣀⠤⣾⣿⣿⠇⠀⣸⣿⣷⠀⠀⠀⣼⣿⣿⢥⣀⣸⣿⠤⣿⣿⣿⠀⠀⣾⣿⡏⠀⠀⢸⣿⡏⠀⠀⠀⠀\n",
    "⠀⠀⠀⠀⠀⠀⠀⠀⠀⠀⠀⠀⠀⠀⠀⠀⠀⣿⣿⣿⠀⣰⠿⣿⣿⡇⠀⢀⣿⣿⣿⠀⢀⣿⠁⠀⣿⣿⡟⠀⢀⣿⣿⡇⠀⠀⣼⡟⠀⠀⠀⠀⠀\n",
    "⠀⠀⠀⠀⠀⠀⠀⠀⠀⠀⠀⠀⠀⠀⠀⠀⠀⠙⠿⠿⠾⠋⢰⣿⣿⡧⠖⠉⠹⢿⣿⣴⡿⠃⠀⠀⠈⠻⠿⠴⠋⠙⠿⣿⣤⠾⠋⠀⠀⠀⠀⠀⠀\n",
    "⠀⠀⠀⠀⠀⠀⠀⠀⠀⠀⠀⠀⠀⠀⠀⠀⠀⠀⣀⡤⠴⠚⢹⣿⣿⠀⠀⠀⠀⠀⠀⠀⠀⠀⠀⠀⠀⠀⠀⠀⠀⠀⠀⠀⠀⠀⠀⠀⠀⠀⠀⠀⠀\n",
    "⠀⠀⠀⠀⠀⠀⠀⠀⠀⠀⠀⠀⠀⠀⠀⢀⣴⠟⠁⠀⠀⢀⣿⣿⠇⠀⠀⠀⠀⠀⠀⠀⠀⠀⠀⠀⠀⠀⠀⠀⠀⠀⠀⠀⠀⠀⠀⠀⠀⠀⠀⠀⠀\n",
    "⠀⠀⠀⠀⠀⠀⠀⠀⠀⠀⠀⠀⠀⠀⠀⠸⣧⠀⠀⠀⣠⣾⡿⠃⠀⠀⠀⠀⠀⠀⠀⠀⠀⠀⠀⠀⠀⠀⠀⠀⠀⠀⠀⠀⠀⠀⠀⠀⠀⠀⠀⠀⠀\n",
    "⠀⠀⠀⠀⠀⠀⠀⠀⠀⠀⠀⠀⠀⠀⠀⠀⠉⠓⠒⠚⠛⠉⠀⠀⠀⠀⠀⠀⠀⠀⠀⠀⠀⠀⠀⠀⠀⠀⠀⠀⠀⠀⠀⠀⠀⠀⠀⠀⠀⠀⠀⠀⠀"
   ]
  }
 ],
 "metadata": {
  "kernelspec": {
   "display_name": "Python 3 (ipykernel)",
   "language": "python",
   "name": "python3"
  },
  "language_info": {
   "codemirror_mode": {
    "name": "ipython",
    "version": 3
   },
   "file_extension": ".py",
   "mimetype": "text/x-python",
   "name": "python",
   "nbconvert_exporter": "python",
   "pygments_lexer": "ipython3",
   "version": "3.11.5"
  }
 },
 "nbformat": 4,
 "nbformat_minor": 2
}
