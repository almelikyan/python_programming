{
 "cells": [
  {
   "cell_type": "markdown",
   "metadata": {},
   "source": [
    "# Курс \"Программирование на Python\"\n",
    "\n",
    "\n",
    "# Тема 9. Библиотека pandas и графики"
   ]
  },
  {
   "cell_type": "markdown",
   "metadata": {},
   "source": [
    "* [1. Библиотека pandas](#chapter1)\n",
    "* [2. Загрузка данных](#chapter2)\n",
    "* [3. Именованные ссылки и копирование](#chapter3)\n",
    "* [4. Вывод строк, столбцов и значений](#chapter4)\n",
    "* [5. Информация о датафрейме](#chapter5)\n",
    "* [6. Описательный анализ данных](#chapter6) \n",
    "* [7. Сводные таблицы и группировки](#chapter7)\n",
    "* [8. Частотный анализ данных](#chapter8)\n",
    "* [9. Графический анализ данных](#chapter9)\n",
    "* [10. Оценка нормальности распределения](#chapter10)\n",
    "* [11. Построение графиков в библиотеке matplotlib](#chapter11)"
   ]
  },
  {
   "cell_type": "markdown",
   "metadata": {},
   "source": [
    "## 1. Библиотека pandas <a class=\"anchor\" id=\"chapter1\"></a>"
   ]
  },
  {
   "cell_type": "markdown",
   "metadata": {},
   "source": [
    "**Pandas** — программная библиотека на языке Python для обработки и анализа данных. Предоставляет специальные структуры данных и операции для манипулирования числовыми таблицами и временными рядами. Название библиотеки происходит от эконометрического термина «панельные данные», используемого для описания многомерных структурированных наборов информации."
   ]
  },
  {
   "cell_type": "markdown",
   "metadata": {},
   "source": [
    "Библиотека pandas содержит набор модулей и функций, которые облегчают выполнения некоторых операций с использованием языка программирования Python. В нашем случае использование библиотеки облегчит предварительную обработку данных и последующий их анализ. Позволит получить хорошо структурированные и наглядные таблицы, содержащие статистические показатели, рассчитанные на основе данных."
   ]
  },
  {
   "cell_type": "markdown",
   "metadata": {},
   "source": [
    "[Шпаргалка по pandas](https://pandas.pydata.org/Pandas_Cheat_Sheet.pdf)"
   ]
  },
  {
   "cell_type": "markdown",
   "metadata": {},
   "source": [
    "Преимущества pandas:\n",
    "- удобное представление таблиц;\n",
    "- много готовых методов для работы с данными;\n",
    "- простота использования;\n",
    "- простой синтаксис;\n",
    "- строенные визуализации;\n",
    "- работает с разными форматами хранения начальных данных.\n",
    "\n",
    "Недостатки pandas:\n",
    "- высокое потребление памяти;\n",
    "- медленная работа с очень большими данными."
   ]
  },
  {
   "cell_type": "markdown",
   "metadata": {},
   "source": [
    "При импортировании библиотеки pandas мы её переименовываем в pd, и в дальнейшем будем к ней обращаться по названию pd."
   ]
  },
  {
   "cell_type": "code",
   "execution_count": 20,
   "metadata": {},
   "outputs": [],
   "source": [
    "import pandas as pd"
   ]
  },
  {
   "cell_type": "markdown",
   "metadata": {},
   "source": [
    "В pandas реализованы типы данных с разным числом измерений: \n",
    "- одномерный тип (просто ряд) — Series,\n",
    "- двумерный (таблица) — DataFrame, \n",
    "- трёхмерный — Panel. "
   ]
  },
  {
   "cell_type": "markdown",
   "metadata": {},
   "source": [
    "## 2. Загрузка данных <a class=\"anchor\" id=\"chapter2\"></a>"
   ]
  },
  {
   "cell_type": "markdown",
   "metadata": {},
   "source": [
    "Откроем файл с названием **brics**, у него разрешение **csv** (сomma-separated values). Для этого используем метод **read_csv**. Для открытия других типов файлов используются соответствующие методы:\n",
    "\n",
    "- **read_excel** для файлов созданных в MS Excel и имеющих разрешения xls или xlsx;\n",
    "- **read_html** для веб-страниц, написанных на языке HTML;\n",
    "- **read_stata** для файлов, созданных в Stata и имеющих разрешение dta, и т.д.\n",
    "\n",
    "Наряду с названием файла методу **read_csv** можно передать ряд параметров, определяющих порядок обработки данных при считывании из файла. Подробнее про параметры метода можно прочесть по [ссылке]( https://pandas.pydata.org/docs/reference/api/pandas.read_csv.html)\n"
   ]
  },
  {
   "cell_type": "markdown",
   "metadata": {},
   "source": [
    "Считываем содержимое файла, в дальнейшем будем к нему обращаться по имени df. Файл находится в той же директории, что и текущий ноутбук."
   ]
  },
  {
   "cell_type": "code",
   "execution_count": 21,
   "metadata": {},
   "outputs": [],
   "source": [
    "df = pd.read_csv(\"brics.csv\")"
   ]
  },
  {
   "cell_type": "markdown",
   "metadata": {},
   "source": [
    "Функция `type()` возвращает тип объекта."
   ]
  },
  {
   "cell_type": "code",
   "execution_count": 22,
   "metadata": {},
   "outputs": [
    {
     "data": {
      "text/plain": [
       "pandas.core.frame.DataFrame"
      ]
     },
     "execution_count": 22,
     "metadata": {},
     "output_type": "execute_result"
    }
   ],
   "source": [
    "type(df)"
   ]
  },
  {
   "cell_type": "markdown",
   "metadata": {},
   "source": [
    "Создан объект `DataFrame`. Отразим его содержимое."
   ]
  },
  {
   "cell_type": "code",
   "execution_count": 23,
   "metadata": {},
   "outputs": [
    {
     "data": {
      "text/html": [
       "<div>\n",
       "<style scoped>\n",
       "    .dataframe tbody tr th:only-of-type {\n",
       "        vertical-align: middle;\n",
       "    }\n",
       "\n",
       "    .dataframe tbody tr th {\n",
       "        vertical-align: top;\n",
       "    }\n",
       "\n",
       "    .dataframe thead th {\n",
       "        text-align: right;\n",
       "    }\n",
       "</style>\n",
       "<table border=\"1\" class=\"dataframe\">\n",
       "  <thead>\n",
       "    <tr style=\"text-align: right;\">\n",
       "      <th></th>\n",
       "      <th>id</th>\n",
       "      <th>country</th>\n",
       "      <th>capital</th>\n",
       "      <th>area</th>\n",
       "      <th>population</th>\n",
       "    </tr>\n",
       "  </thead>\n",
       "  <tbody>\n",
       "    <tr>\n",
       "      <th>0</th>\n",
       "      <td>BR</td>\n",
       "      <td>Brasil</td>\n",
       "      <td>Brazilia</td>\n",
       "      <td>8.516</td>\n",
       "      <td>212.60</td>\n",
       "    </tr>\n",
       "    <tr>\n",
       "      <th>1</th>\n",
       "      <td>RU</td>\n",
       "      <td>Russia</td>\n",
       "      <td>Moscow</td>\n",
       "      <td>17.130</td>\n",
       "      <td>143.50</td>\n",
       "    </tr>\n",
       "    <tr>\n",
       "      <th>2</th>\n",
       "      <td>IN</td>\n",
       "      <td>India</td>\n",
       "      <td>New Delhi</td>\n",
       "      <td>3.287</td>\n",
       "      <td>1451.00</td>\n",
       "    </tr>\n",
       "    <tr>\n",
       "      <th>3</th>\n",
       "      <td>CH</td>\n",
       "      <td>China</td>\n",
       "      <td>Beijing</td>\n",
       "      <td>9.597</td>\n",
       "      <td>1409.00</td>\n",
       "    </tr>\n",
       "    <tr>\n",
       "      <th>4</th>\n",
       "      <td>SA</td>\n",
       "      <td>South Africa</td>\n",
       "      <td>Pretoria</td>\n",
       "      <td>1.221</td>\n",
       "      <td>64.01</td>\n",
       "    </tr>\n",
       "  </tbody>\n",
       "</table>\n",
       "</div>"
      ],
      "text/plain": [
       "   id       country    capital    area  population\n",
       "0  BR        Brasil   Brazilia   8.516      212.60\n",
       "1  RU        Russia     Moscow  17.130      143.50\n",
       "2  IN         India  New Delhi   3.287     1451.00\n",
       "3  CH         China    Beijing   9.597     1409.00\n",
       "4  SA  South Africa   Pretoria   1.221       64.01"
      ]
     },
     "execution_count": 23,
     "metadata": {},
     "output_type": "execute_result"
    }
   ],
   "source": [
    "df"
   ]
  },
  {
   "cell_type": "markdown",
   "metadata": {},
   "source": [
    "Первая строка из файла автоматически становится индексами столбцов. У строк по умолчанию нет индексов, и им присваиваются номера начиная с 0 (левая колонка). Можно было бы загрузить файл так, чтобы первый столбец рассматривался как столбец с именами строк (индексами), для этого надо передать **pd.read_csv()** параметр **index_col** с номером нужного столбца."
   ]
  },
  {
   "cell_type": "code",
   "execution_count": 24,
   "metadata": {},
   "outputs": [
    {
     "data": {
      "text/html": [
       "<div>\n",
       "<style scoped>\n",
       "    .dataframe tbody tr th:only-of-type {\n",
       "        vertical-align: middle;\n",
       "    }\n",
       "\n",
       "    .dataframe tbody tr th {\n",
       "        vertical-align: top;\n",
       "    }\n",
       "\n",
       "    .dataframe thead th {\n",
       "        text-align: right;\n",
       "    }\n",
       "</style>\n",
       "<table border=\"1\" class=\"dataframe\">\n",
       "  <thead>\n",
       "    <tr style=\"text-align: right;\">\n",
       "      <th></th>\n",
       "      <th>country</th>\n",
       "      <th>capital</th>\n",
       "      <th>area</th>\n",
       "      <th>population</th>\n",
       "    </tr>\n",
       "    <tr>\n",
       "      <th>id</th>\n",
       "      <th></th>\n",
       "      <th></th>\n",
       "      <th></th>\n",
       "      <th></th>\n",
       "    </tr>\n",
       "  </thead>\n",
       "  <tbody>\n",
       "    <tr>\n",
       "      <th>BR</th>\n",
       "      <td>Brasil</td>\n",
       "      <td>Brazilia</td>\n",
       "      <td>8.516</td>\n",
       "      <td>212.60</td>\n",
       "    </tr>\n",
       "    <tr>\n",
       "      <th>RU</th>\n",
       "      <td>Russia</td>\n",
       "      <td>Moscow</td>\n",
       "      <td>17.130</td>\n",
       "      <td>143.50</td>\n",
       "    </tr>\n",
       "    <tr>\n",
       "      <th>IN</th>\n",
       "      <td>India</td>\n",
       "      <td>New Delhi</td>\n",
       "      <td>3.287</td>\n",
       "      <td>1451.00</td>\n",
       "    </tr>\n",
       "    <tr>\n",
       "      <th>CH</th>\n",
       "      <td>China</td>\n",
       "      <td>Beijing</td>\n",
       "      <td>9.597</td>\n",
       "      <td>1409.00</td>\n",
       "    </tr>\n",
       "    <tr>\n",
       "      <th>SA</th>\n",
       "      <td>South Africa</td>\n",
       "      <td>Pretoria</td>\n",
       "      <td>1.221</td>\n",
       "      <td>64.01</td>\n",
       "    </tr>\n",
       "  </tbody>\n",
       "</table>\n",
       "</div>"
      ],
      "text/plain": [
       "         country    capital    area  population\n",
       "id                                             \n",
       "BR        Brasil   Brazilia   8.516      212.60\n",
       "RU        Russia     Moscow  17.130      143.50\n",
       "IN         India  New Delhi   3.287     1451.00\n",
       "CH         China    Beijing   9.597     1409.00\n",
       "SA  South Africa   Pretoria   1.221       64.01"
      ]
     },
     "execution_count": 24,
     "metadata": {},
     "output_type": "execute_result"
    }
   ],
   "source": [
    "df = pd.read_csv(\"brics.csv\", index_col=0)  # указали, что первая колонка станет индексами строк\n",
    "df"
   ]
  },
  {
   "cell_type": "markdown",
   "metadata": {},
   "source": [
    "Теперь столбец слева (индекс) состоит не из последовательных чисел, а из строк."
   ]
  },
  {
   "cell_type": "code",
   "execution_count": 25,
   "metadata": {},
   "outputs": [
    {
     "data": {
      "text/html": [
       "<div>\n",
       "<style scoped>\n",
       "    .dataframe tbody tr th:only-of-type {\n",
       "        vertical-align: middle;\n",
       "    }\n",
       "\n",
       "    .dataframe tbody tr th {\n",
       "        vertical-align: top;\n",
       "    }\n",
       "\n",
       "    .dataframe thead th {\n",
       "        text-align: right;\n",
       "    }\n",
       "</style>\n",
       "<table border=\"1\" class=\"dataframe\">\n",
       "  <thead>\n",
       "    <tr style=\"text-align: right;\">\n",
       "      <th></th>\n",
       "      <th>id</th>\n",
       "      <th>country</th>\n",
       "      <th>capital</th>\n",
       "      <th>area</th>\n",
       "      <th>population</th>\n",
       "    </tr>\n",
       "  </thead>\n",
       "  <tbody>\n",
       "    <tr>\n",
       "      <th>0</th>\n",
       "      <td>BR</td>\n",
       "      <td>Brasil</td>\n",
       "      <td>Brazilia</td>\n",
       "      <td>8.516</td>\n",
       "      <td>212.60</td>\n",
       "    </tr>\n",
       "    <tr>\n",
       "      <th>1</th>\n",
       "      <td>RU</td>\n",
       "      <td>Russia</td>\n",
       "      <td>Moscow</td>\n",
       "      <td>17.130</td>\n",
       "      <td>143.50</td>\n",
       "    </tr>\n",
       "    <tr>\n",
       "      <th>2</th>\n",
       "      <td>IN</td>\n",
       "      <td>India</td>\n",
       "      <td>New Delhi</td>\n",
       "      <td>3.287</td>\n",
       "      <td>1451.00</td>\n",
       "    </tr>\n",
       "    <tr>\n",
       "      <th>3</th>\n",
       "      <td>CH</td>\n",
       "      <td>China</td>\n",
       "      <td>Beijing</td>\n",
       "      <td>9.597</td>\n",
       "      <td>1409.00</td>\n",
       "    </tr>\n",
       "    <tr>\n",
       "      <th>4</th>\n",
       "      <td>SA</td>\n",
       "      <td>South Africa</td>\n",
       "      <td>Pretoria</td>\n",
       "      <td>1.221</td>\n",
       "      <td>64.01</td>\n",
       "    </tr>\n",
       "  </tbody>\n",
       "</table>\n",
       "</div>"
      ],
      "text/plain": [
       "   id       country    capital    area  population\n",
       "0  BR        Brasil   Brazilia   8.516      212.60\n",
       "1  RU        Russia     Moscow  17.130      143.50\n",
       "2  IN         India  New Delhi   3.287     1451.00\n",
       "3  CH         China    Beijing   9.597     1409.00\n",
       "4  SA  South Africa   Pretoria   1.221       64.01"
      ]
     },
     "execution_count": 25,
     "metadata": {},
     "output_type": "execute_result"
    }
   ],
   "source": [
    "df = pd.read_csv(\"brics.csv\")\n",
    "df"
   ]
  },
  {
   "cell_type": "markdown",
   "metadata": {},
   "source": [
    "Можно поменять индекс строк не на этапе считывания данных из файла, а позднее."
   ]
  },
  {
   "cell_type": "code",
   "execution_count": 26,
   "metadata": {},
   "outputs": [
    {
     "data": {
      "text/html": [
       "<div>\n",
       "<style scoped>\n",
       "    .dataframe tbody tr th:only-of-type {\n",
       "        vertical-align: middle;\n",
       "    }\n",
       "\n",
       "    .dataframe tbody tr th {\n",
       "        vertical-align: top;\n",
       "    }\n",
       "\n",
       "    .dataframe thead th {\n",
       "        text-align: right;\n",
       "    }\n",
       "</style>\n",
       "<table border=\"1\" class=\"dataframe\">\n",
       "  <thead>\n",
       "    <tr style=\"text-align: right;\">\n",
       "      <th></th>\n",
       "      <th>country</th>\n",
       "      <th>capital</th>\n",
       "      <th>area</th>\n",
       "      <th>population</th>\n",
       "    </tr>\n",
       "    <tr>\n",
       "      <th>id</th>\n",
       "      <th></th>\n",
       "      <th></th>\n",
       "      <th></th>\n",
       "      <th></th>\n",
       "    </tr>\n",
       "  </thead>\n",
       "  <tbody>\n",
       "    <tr>\n",
       "      <th>BR</th>\n",
       "      <td>Brasil</td>\n",
       "      <td>Brazilia</td>\n",
       "      <td>8.516</td>\n",
       "      <td>212.60</td>\n",
       "    </tr>\n",
       "    <tr>\n",
       "      <th>RU</th>\n",
       "      <td>Russia</td>\n",
       "      <td>Moscow</td>\n",
       "      <td>17.130</td>\n",
       "      <td>143.50</td>\n",
       "    </tr>\n",
       "    <tr>\n",
       "      <th>IN</th>\n",
       "      <td>India</td>\n",
       "      <td>New Delhi</td>\n",
       "      <td>3.287</td>\n",
       "      <td>1451.00</td>\n",
       "    </tr>\n",
       "    <tr>\n",
       "      <th>CH</th>\n",
       "      <td>China</td>\n",
       "      <td>Beijing</td>\n",
       "      <td>9.597</td>\n",
       "      <td>1409.00</td>\n",
       "    </tr>\n",
       "    <tr>\n",
       "      <th>SA</th>\n",
       "      <td>South Africa</td>\n",
       "      <td>Pretoria</td>\n",
       "      <td>1.221</td>\n",
       "      <td>64.01</td>\n",
       "    </tr>\n",
       "  </tbody>\n",
       "</table>\n",
       "</div>"
      ],
      "text/plain": [
       "         country    capital    area  population\n",
       "id                                             \n",
       "BR        Brasil   Brazilia   8.516      212.60\n",
       "RU        Russia     Moscow  17.130      143.50\n",
       "IN         India  New Delhi   3.287     1451.00\n",
       "CH         China    Beijing   9.597     1409.00\n",
       "SA  South Africa   Pretoria   1.221       64.01"
      ]
     },
     "execution_count": 26,
     "metadata": {},
     "output_type": "execute_result"
    }
   ],
   "source": [
    "df = df.set_index('id')\n",
    "df"
   ]
  },
  {
   "cell_type": "markdown",
   "metadata": {},
   "source": [
    "Строка датафрейма называется «наблюдением» (observation), а столбец — «переменной» (variable). Данные в столбце должны быть однородны (например, может быть столбец, состоящий только из чисел или только из строк (string), но не может быть столбца, в котором есть и текстовые, и числовые значения), а в отдельной сроке таблицы данные могут быть разнородны."
   ]
  },
  {
   "cell_type": "markdown",
   "metadata": {},
   "source": [
    "## 3. Именованные ссылки и копирование <a class=\"anchor\" id=\"chapter3\"></a>"
   ]
  },
  {
   "cell_type": "markdown",
   "metadata": {},
   "source": [
    "#### Ситуация 1: несколько имён у одного датафрейма"
   ]
  },
  {
   "cell_type": "markdown",
   "metadata": {},
   "source": [
    "У нас есть объект DataFrame c именованной ссылкой на него `df`. То есть, `df` - это имя объекта, у объекта может быть несколько имён. В этом случае, для обращения к нему можно использовать любое из них."
   ]
  },
  {
   "cell_type": "code",
   "execution_count": 27,
   "metadata": {},
   "outputs": [
    {
     "data": {
      "text/html": [
       "<div>\n",
       "<style scoped>\n",
       "    .dataframe tbody tr th:only-of-type {\n",
       "        vertical-align: middle;\n",
       "    }\n",
       "\n",
       "    .dataframe tbody tr th {\n",
       "        vertical-align: top;\n",
       "    }\n",
       "\n",
       "    .dataframe thead th {\n",
       "        text-align: right;\n",
       "    }\n",
       "</style>\n",
       "<table border=\"1\" class=\"dataframe\">\n",
       "  <thead>\n",
       "    <tr style=\"text-align: right;\">\n",
       "      <th></th>\n",
       "      <th>country</th>\n",
       "      <th>capital</th>\n",
       "      <th>area</th>\n",
       "      <th>population</th>\n",
       "    </tr>\n",
       "    <tr>\n",
       "      <th>id</th>\n",
       "      <th></th>\n",
       "      <th></th>\n",
       "      <th></th>\n",
       "      <th></th>\n",
       "    </tr>\n",
       "  </thead>\n",
       "  <tbody>\n",
       "    <tr>\n",
       "      <th>BR</th>\n",
       "      <td>Brasil</td>\n",
       "      <td>Brazilia</td>\n",
       "      <td>8.516</td>\n",
       "      <td>212.60</td>\n",
       "    </tr>\n",
       "    <tr>\n",
       "      <th>RU</th>\n",
       "      <td>Russia</td>\n",
       "      <td>Moscow</td>\n",
       "      <td>17.130</td>\n",
       "      <td>143.50</td>\n",
       "    </tr>\n",
       "    <tr>\n",
       "      <th>IN</th>\n",
       "      <td>India</td>\n",
       "      <td>New Delhi</td>\n",
       "      <td>3.287</td>\n",
       "      <td>1451.00</td>\n",
       "    </tr>\n",
       "    <tr>\n",
       "      <th>CH</th>\n",
       "      <td>China</td>\n",
       "      <td>Beijing</td>\n",
       "      <td>9.597</td>\n",
       "      <td>1409.00</td>\n",
       "    </tr>\n",
       "    <tr>\n",
       "      <th>SA</th>\n",
       "      <td>South Africa</td>\n",
       "      <td>Pretoria</td>\n",
       "      <td>1.221</td>\n",
       "      <td>64.01</td>\n",
       "    </tr>\n",
       "  </tbody>\n",
       "</table>\n",
       "</div>"
      ],
      "text/plain": [
       "         country    capital    area  population\n",
       "id                                             \n",
       "BR        Brasil   Brazilia   8.516      212.60\n",
       "RU        Russia     Moscow  17.130      143.50\n",
       "IN         India  New Delhi   3.287     1451.00\n",
       "CH         China    Beijing   9.597     1409.00\n",
       "SA  South Africa   Pretoria   1.221       64.01"
      ]
     },
     "execution_count": 27,
     "metadata": {},
     "output_type": "execute_result"
    }
   ],
   "source": [
    "df = pd.read_csv(\"brics.csv\", index_col=0) \n",
    "df"
   ]
  },
  {
   "cell_type": "code",
   "execution_count": 28,
   "metadata": {},
   "outputs": [],
   "source": [
    "df2 = df  # у объекта df появляется второе имя (именованная ссылка на него) df2"
   ]
  },
  {
   "cell_type": "code",
   "execution_count": 29,
   "metadata": {},
   "outputs": [
    {
     "data": {
      "text/plain": [
       "5247963280"
      ]
     },
     "execution_count": 29,
     "metadata": {},
     "output_type": "execute_result"
    }
   ],
   "source": [
    "id(df)"
   ]
  },
  {
   "cell_type": "code",
   "execution_count": 30,
   "metadata": {},
   "outputs": [
    {
     "data": {
      "text/plain": [
       "5247963280"
      ]
     },
     "execution_count": 30,
     "metadata": {},
     "output_type": "execute_result"
    }
   ],
   "source": [
    "id(df2)"
   ]
  },
  {
   "cell_type": "markdown",
   "metadata": {},
   "source": [
    "Идентификаторы объектов одинаковые."
   ]
  },
  {
   "cell_type": "code",
   "execution_count": 31,
   "metadata": {},
   "outputs": [
    {
     "data": {
      "text/html": [
       "<div>\n",
       "<style scoped>\n",
       "    .dataframe tbody tr th:only-of-type {\n",
       "        vertical-align: middle;\n",
       "    }\n",
       "\n",
       "    .dataframe tbody tr th {\n",
       "        vertical-align: top;\n",
       "    }\n",
       "\n",
       "    .dataframe thead th {\n",
       "        text-align: right;\n",
       "    }\n",
       "</style>\n",
       "<table border=\"1\" class=\"dataframe\">\n",
       "  <thead>\n",
       "    <tr style=\"text-align: right;\">\n",
       "      <th></th>\n",
       "      <th>country</th>\n",
       "      <th>capital</th>\n",
       "      <th>area</th>\n",
       "      <th>population</th>\n",
       "    </tr>\n",
       "    <tr>\n",
       "      <th>id</th>\n",
       "      <th></th>\n",
       "      <th></th>\n",
       "      <th></th>\n",
       "      <th></th>\n",
       "    </tr>\n",
       "  </thead>\n",
       "  <tbody>\n",
       "    <tr>\n",
       "      <th>BR</th>\n",
       "      <td>Brasil</td>\n",
       "      <td>Brazilia</td>\n",
       "      <td>8.516</td>\n",
       "      <td>212.60</td>\n",
       "    </tr>\n",
       "    <tr>\n",
       "      <th>RU</th>\n",
       "      <td>Russia</td>\n",
       "      <td>Moscow</td>\n",
       "      <td>17.130</td>\n",
       "      <td>143.50</td>\n",
       "    </tr>\n",
       "    <tr>\n",
       "      <th>IN</th>\n",
       "      <td>India</td>\n",
       "      <td>New Delhi</td>\n",
       "      <td>3.287</td>\n",
       "      <td>1451.00</td>\n",
       "    </tr>\n",
       "    <tr>\n",
       "      <th>CH</th>\n",
       "      <td>China</td>\n",
       "      <td>Beijing</td>\n",
       "      <td>9.597</td>\n",
       "      <td>1409.00</td>\n",
       "    </tr>\n",
       "    <tr>\n",
       "      <th>SA</th>\n",
       "      <td>South Africa</td>\n",
       "      <td>Pretoria</td>\n",
       "      <td>1.221</td>\n",
       "      <td>64.01</td>\n",
       "    </tr>\n",
       "  </tbody>\n",
       "</table>\n",
       "</div>"
      ],
      "text/plain": [
       "         country    capital    area  population\n",
       "id                                             \n",
       "BR        Brasil   Brazilia   8.516      212.60\n",
       "RU        Russia     Moscow  17.130      143.50\n",
       "IN         India  New Delhi   3.287     1451.00\n",
       "CH         China    Beijing   9.597     1409.00\n",
       "SA  South Africa   Pretoria   1.221       64.01"
      ]
     },
     "execution_count": 31,
     "metadata": {},
     "output_type": "execute_result"
    }
   ],
   "source": [
    "df2"
   ]
  },
  {
   "cell_type": "code",
   "execution_count": 32,
   "metadata": {},
   "outputs": [],
   "source": [
    "df2['new'] = 'new'  # меняем объект используя имя df2"
   ]
  },
  {
   "cell_type": "code",
   "execution_count": 33,
   "metadata": {},
   "outputs": [
    {
     "data": {
      "text/html": [
       "<div>\n",
       "<style scoped>\n",
       "    .dataframe tbody tr th:only-of-type {\n",
       "        vertical-align: middle;\n",
       "    }\n",
       "\n",
       "    .dataframe tbody tr th {\n",
       "        vertical-align: top;\n",
       "    }\n",
       "\n",
       "    .dataframe thead th {\n",
       "        text-align: right;\n",
       "    }\n",
       "</style>\n",
       "<table border=\"1\" class=\"dataframe\">\n",
       "  <thead>\n",
       "    <tr style=\"text-align: right;\">\n",
       "      <th></th>\n",
       "      <th>country</th>\n",
       "      <th>capital</th>\n",
       "      <th>area</th>\n",
       "      <th>population</th>\n",
       "      <th>new</th>\n",
       "    </tr>\n",
       "    <tr>\n",
       "      <th>id</th>\n",
       "      <th></th>\n",
       "      <th></th>\n",
       "      <th></th>\n",
       "      <th></th>\n",
       "      <th></th>\n",
       "    </tr>\n",
       "  </thead>\n",
       "  <tbody>\n",
       "    <tr>\n",
       "      <th>BR</th>\n",
       "      <td>Brasil</td>\n",
       "      <td>Brazilia</td>\n",
       "      <td>8.516</td>\n",
       "      <td>212.60</td>\n",
       "      <td>new</td>\n",
       "    </tr>\n",
       "    <tr>\n",
       "      <th>RU</th>\n",
       "      <td>Russia</td>\n",
       "      <td>Moscow</td>\n",
       "      <td>17.130</td>\n",
       "      <td>143.50</td>\n",
       "      <td>new</td>\n",
       "    </tr>\n",
       "    <tr>\n",
       "      <th>IN</th>\n",
       "      <td>India</td>\n",
       "      <td>New Delhi</td>\n",
       "      <td>3.287</td>\n",
       "      <td>1451.00</td>\n",
       "      <td>new</td>\n",
       "    </tr>\n",
       "    <tr>\n",
       "      <th>CH</th>\n",
       "      <td>China</td>\n",
       "      <td>Beijing</td>\n",
       "      <td>9.597</td>\n",
       "      <td>1409.00</td>\n",
       "      <td>new</td>\n",
       "    </tr>\n",
       "    <tr>\n",
       "      <th>SA</th>\n",
       "      <td>South Africa</td>\n",
       "      <td>Pretoria</td>\n",
       "      <td>1.221</td>\n",
       "      <td>64.01</td>\n",
       "      <td>new</td>\n",
       "    </tr>\n",
       "  </tbody>\n",
       "</table>\n",
       "</div>"
      ],
      "text/plain": [
       "         country    capital    area  population  new\n",
       "id                                                  \n",
       "BR        Brasil   Brazilia   8.516      212.60  new\n",
       "RU        Russia     Moscow  17.130      143.50  new\n",
       "IN         India  New Delhi   3.287     1451.00  new\n",
       "CH         China    Beijing   9.597     1409.00  new\n",
       "SA  South Africa   Pretoria   1.221       64.01  new"
      ]
     },
     "execution_count": 33,
     "metadata": {},
     "output_type": "execute_result"
    }
   ],
   "source": [
    "df2  # выводим содержимое изменённого объекта"
   ]
  },
  {
   "cell_type": "code",
   "execution_count": 34,
   "metadata": {},
   "outputs": [
    {
     "data": {
      "text/html": [
       "<div>\n",
       "<style scoped>\n",
       "    .dataframe tbody tr th:only-of-type {\n",
       "        vertical-align: middle;\n",
       "    }\n",
       "\n",
       "    .dataframe tbody tr th {\n",
       "        vertical-align: top;\n",
       "    }\n",
       "\n",
       "    .dataframe thead th {\n",
       "        text-align: right;\n",
       "    }\n",
       "</style>\n",
       "<table border=\"1\" class=\"dataframe\">\n",
       "  <thead>\n",
       "    <tr style=\"text-align: right;\">\n",
       "      <th></th>\n",
       "      <th>country</th>\n",
       "      <th>capital</th>\n",
       "      <th>area</th>\n",
       "      <th>population</th>\n",
       "      <th>new</th>\n",
       "    </tr>\n",
       "    <tr>\n",
       "      <th>id</th>\n",
       "      <th></th>\n",
       "      <th></th>\n",
       "      <th></th>\n",
       "      <th></th>\n",
       "      <th></th>\n",
       "    </tr>\n",
       "  </thead>\n",
       "  <tbody>\n",
       "    <tr>\n",
       "      <th>BR</th>\n",
       "      <td>Brasil</td>\n",
       "      <td>Brazilia</td>\n",
       "      <td>8.516</td>\n",
       "      <td>212.60</td>\n",
       "      <td>new</td>\n",
       "    </tr>\n",
       "    <tr>\n",
       "      <th>RU</th>\n",
       "      <td>Russia</td>\n",
       "      <td>Moscow</td>\n",
       "      <td>17.130</td>\n",
       "      <td>143.50</td>\n",
       "      <td>new</td>\n",
       "    </tr>\n",
       "    <tr>\n",
       "      <th>IN</th>\n",
       "      <td>India</td>\n",
       "      <td>New Delhi</td>\n",
       "      <td>3.287</td>\n",
       "      <td>1451.00</td>\n",
       "      <td>new</td>\n",
       "    </tr>\n",
       "    <tr>\n",
       "      <th>CH</th>\n",
       "      <td>China</td>\n",
       "      <td>Beijing</td>\n",
       "      <td>9.597</td>\n",
       "      <td>1409.00</td>\n",
       "      <td>new</td>\n",
       "    </tr>\n",
       "    <tr>\n",
       "      <th>SA</th>\n",
       "      <td>South Africa</td>\n",
       "      <td>Pretoria</td>\n",
       "      <td>1.221</td>\n",
       "      <td>64.01</td>\n",
       "      <td>new</td>\n",
       "    </tr>\n",
       "  </tbody>\n",
       "</table>\n",
       "</div>"
      ],
      "text/plain": [
       "         country    capital    area  population  new\n",
       "id                                                  \n",
       "BR        Brasil   Brazilia   8.516      212.60  new\n",
       "RU        Russia     Moscow  17.130      143.50  new\n",
       "IN         India  New Delhi   3.287     1451.00  new\n",
       "CH         China    Beijing   9.597     1409.00  new\n",
       "SA  South Africa   Pretoria   1.221       64.01  new"
      ]
     },
     "execution_count": 34,
     "metadata": {},
     "output_type": "execute_result"
    }
   ],
   "source": [
    "df  # при обращении к объекту по имени df мы получаем тот же самый уже изменённый объект"
   ]
  },
  {
   "cell_type": "markdown",
   "metadata": {},
   "source": [
    "#### Ситуация 2: копирование датафрейма с присвоением копии другого имени  "
   ]
  },
  {
   "cell_type": "markdown",
   "metadata": {},
   "source": [
    "Мы можем на основе существующего объекта создать его копию (второй объект). У них будут разные имена, и модификация одного из объектов не повлияет на другой."
   ]
  },
  {
   "cell_type": "code",
   "execution_count": 35,
   "metadata": {},
   "outputs": [],
   "source": [
    "df = pd.read_csv(\"brics.csv\", index_col=0)  # заново считываем файл"
   ]
  },
  {
   "cell_type": "code",
   "execution_count": 36,
   "metadata": {},
   "outputs": [
    {
     "data": {
      "text/html": [
       "<div>\n",
       "<style scoped>\n",
       "    .dataframe tbody tr th:only-of-type {\n",
       "        vertical-align: middle;\n",
       "    }\n",
       "\n",
       "    .dataframe tbody tr th {\n",
       "        vertical-align: top;\n",
       "    }\n",
       "\n",
       "    .dataframe thead th {\n",
       "        text-align: right;\n",
       "    }\n",
       "</style>\n",
       "<table border=\"1\" class=\"dataframe\">\n",
       "  <thead>\n",
       "    <tr style=\"text-align: right;\">\n",
       "      <th></th>\n",
       "      <th>country</th>\n",
       "      <th>capital</th>\n",
       "      <th>area</th>\n",
       "      <th>population</th>\n",
       "    </tr>\n",
       "    <tr>\n",
       "      <th>id</th>\n",
       "      <th></th>\n",
       "      <th></th>\n",
       "      <th></th>\n",
       "      <th></th>\n",
       "    </tr>\n",
       "  </thead>\n",
       "  <tbody>\n",
       "    <tr>\n",
       "      <th>BR</th>\n",
       "      <td>Brasil</td>\n",
       "      <td>Brazilia</td>\n",
       "      <td>8.516</td>\n",
       "      <td>212.60</td>\n",
       "    </tr>\n",
       "    <tr>\n",
       "      <th>RU</th>\n",
       "      <td>Russia</td>\n",
       "      <td>Moscow</td>\n",
       "      <td>17.130</td>\n",
       "      <td>143.50</td>\n",
       "    </tr>\n",
       "    <tr>\n",
       "      <th>IN</th>\n",
       "      <td>India</td>\n",
       "      <td>New Delhi</td>\n",
       "      <td>3.287</td>\n",
       "      <td>1451.00</td>\n",
       "    </tr>\n",
       "    <tr>\n",
       "      <th>CH</th>\n",
       "      <td>China</td>\n",
       "      <td>Beijing</td>\n",
       "      <td>9.597</td>\n",
       "      <td>1409.00</td>\n",
       "    </tr>\n",
       "    <tr>\n",
       "      <th>SA</th>\n",
       "      <td>South Africa</td>\n",
       "      <td>Pretoria</td>\n",
       "      <td>1.221</td>\n",
       "      <td>64.01</td>\n",
       "    </tr>\n",
       "  </tbody>\n",
       "</table>\n",
       "</div>"
      ],
      "text/plain": [
       "         country    capital    area  population\n",
       "id                                             \n",
       "BR        Brasil   Brazilia   8.516      212.60\n",
       "RU        Russia     Moscow  17.130      143.50\n",
       "IN         India  New Delhi   3.287     1451.00\n",
       "CH         China    Beijing   9.597     1409.00\n",
       "SA  South Africa   Pretoria   1.221       64.01"
      ]
     },
     "execution_count": 36,
     "metadata": {},
     "output_type": "execute_result"
    }
   ],
   "source": [
    "df"
   ]
  },
  {
   "cell_type": "code",
   "execution_count": 37,
   "metadata": {},
   "outputs": [],
   "source": [
    "df3 = df.copy()  # создаём копию датафрейма присваивая ей имя df3"
   ]
  },
  {
   "cell_type": "code",
   "execution_count": 38,
   "metadata": {},
   "outputs": [
    {
     "data": {
      "text/plain": [
       "5247861712"
      ]
     },
     "execution_count": 38,
     "metadata": {},
     "output_type": "execute_result"
    }
   ],
   "source": [
    "id(df)"
   ]
  },
  {
   "cell_type": "code",
   "execution_count": 39,
   "metadata": {},
   "outputs": [
    {
     "data": {
      "text/plain": [
       "5247971664"
      ]
     },
     "execution_count": 39,
     "metadata": {},
     "output_type": "execute_result"
    }
   ],
   "source": [
    "id(df3)"
   ]
  },
  {
   "cell_type": "markdown",
   "metadata": {},
   "source": [
    "Идентификаторы объектов разные."
   ]
  },
  {
   "cell_type": "code",
   "execution_count": 40,
   "metadata": {},
   "outputs": [
    {
     "data": {
      "text/html": [
       "<div>\n",
       "<style scoped>\n",
       "    .dataframe tbody tr th:only-of-type {\n",
       "        vertical-align: middle;\n",
       "    }\n",
       "\n",
       "    .dataframe tbody tr th {\n",
       "        vertical-align: top;\n",
       "    }\n",
       "\n",
       "    .dataframe thead th {\n",
       "        text-align: right;\n",
       "    }\n",
       "</style>\n",
       "<table border=\"1\" class=\"dataframe\">\n",
       "  <thead>\n",
       "    <tr style=\"text-align: right;\">\n",
       "      <th></th>\n",
       "      <th>country</th>\n",
       "      <th>capital</th>\n",
       "      <th>area</th>\n",
       "      <th>population</th>\n",
       "    </tr>\n",
       "    <tr>\n",
       "      <th>id</th>\n",
       "      <th></th>\n",
       "      <th></th>\n",
       "      <th></th>\n",
       "      <th></th>\n",
       "    </tr>\n",
       "  </thead>\n",
       "  <tbody>\n",
       "    <tr>\n",
       "      <th>BR</th>\n",
       "      <td>Brasil</td>\n",
       "      <td>Brazilia</td>\n",
       "      <td>8.516</td>\n",
       "      <td>212.60</td>\n",
       "    </tr>\n",
       "    <tr>\n",
       "      <th>RU</th>\n",
       "      <td>Russia</td>\n",
       "      <td>Moscow</td>\n",
       "      <td>17.130</td>\n",
       "      <td>143.50</td>\n",
       "    </tr>\n",
       "    <tr>\n",
       "      <th>IN</th>\n",
       "      <td>India</td>\n",
       "      <td>New Delhi</td>\n",
       "      <td>3.287</td>\n",
       "      <td>1451.00</td>\n",
       "    </tr>\n",
       "    <tr>\n",
       "      <th>CH</th>\n",
       "      <td>China</td>\n",
       "      <td>Beijing</td>\n",
       "      <td>9.597</td>\n",
       "      <td>1409.00</td>\n",
       "    </tr>\n",
       "    <tr>\n",
       "      <th>SA</th>\n",
       "      <td>South Africa</td>\n",
       "      <td>Pretoria</td>\n",
       "      <td>1.221</td>\n",
       "      <td>64.01</td>\n",
       "    </tr>\n",
       "  </tbody>\n",
       "</table>\n",
       "</div>"
      ],
      "text/plain": [
       "         country    capital    area  population\n",
       "id                                             \n",
       "BR        Brasil   Brazilia   8.516      212.60\n",
       "RU        Russia     Moscow  17.130      143.50\n",
       "IN         India  New Delhi   3.287     1451.00\n",
       "CH         China    Beijing   9.597     1409.00\n",
       "SA  South Africa   Pretoria   1.221       64.01"
      ]
     },
     "execution_count": 40,
     "metadata": {},
     "output_type": "execute_result"
    }
   ],
   "source": [
    "df3"
   ]
  },
  {
   "cell_type": "code",
   "execution_count": 41,
   "metadata": {},
   "outputs": [],
   "source": [
    "df3['new'] = 0  # меняем датафрейм, имеющий имя df3"
   ]
  },
  {
   "cell_type": "code",
   "execution_count": 42,
   "metadata": {},
   "outputs": [
    {
     "data": {
      "text/html": [
       "<div>\n",
       "<style scoped>\n",
       "    .dataframe tbody tr th:only-of-type {\n",
       "        vertical-align: middle;\n",
       "    }\n",
       "\n",
       "    .dataframe tbody tr th {\n",
       "        vertical-align: top;\n",
       "    }\n",
       "\n",
       "    .dataframe thead th {\n",
       "        text-align: right;\n",
       "    }\n",
       "</style>\n",
       "<table border=\"1\" class=\"dataframe\">\n",
       "  <thead>\n",
       "    <tr style=\"text-align: right;\">\n",
       "      <th></th>\n",
       "      <th>country</th>\n",
       "      <th>capital</th>\n",
       "      <th>area</th>\n",
       "      <th>population</th>\n",
       "      <th>new</th>\n",
       "    </tr>\n",
       "    <tr>\n",
       "      <th>id</th>\n",
       "      <th></th>\n",
       "      <th></th>\n",
       "      <th></th>\n",
       "      <th></th>\n",
       "      <th></th>\n",
       "    </tr>\n",
       "  </thead>\n",
       "  <tbody>\n",
       "    <tr>\n",
       "      <th>BR</th>\n",
       "      <td>Brasil</td>\n",
       "      <td>Brazilia</td>\n",
       "      <td>8.516</td>\n",
       "      <td>212.60</td>\n",
       "      <td>0</td>\n",
       "    </tr>\n",
       "    <tr>\n",
       "      <th>RU</th>\n",
       "      <td>Russia</td>\n",
       "      <td>Moscow</td>\n",
       "      <td>17.130</td>\n",
       "      <td>143.50</td>\n",
       "      <td>0</td>\n",
       "    </tr>\n",
       "    <tr>\n",
       "      <th>IN</th>\n",
       "      <td>India</td>\n",
       "      <td>New Delhi</td>\n",
       "      <td>3.287</td>\n",
       "      <td>1451.00</td>\n",
       "      <td>0</td>\n",
       "    </tr>\n",
       "    <tr>\n",
       "      <th>CH</th>\n",
       "      <td>China</td>\n",
       "      <td>Beijing</td>\n",
       "      <td>9.597</td>\n",
       "      <td>1409.00</td>\n",
       "      <td>0</td>\n",
       "    </tr>\n",
       "    <tr>\n",
       "      <th>SA</th>\n",
       "      <td>South Africa</td>\n",
       "      <td>Pretoria</td>\n",
       "      <td>1.221</td>\n",
       "      <td>64.01</td>\n",
       "      <td>0</td>\n",
       "    </tr>\n",
       "  </tbody>\n",
       "</table>\n",
       "</div>"
      ],
      "text/plain": [
       "         country    capital    area  population  new\n",
       "id                                                  \n",
       "BR        Brasil   Brazilia   8.516      212.60    0\n",
       "RU        Russia     Moscow  17.130      143.50    0\n",
       "IN         India  New Delhi   3.287     1451.00    0\n",
       "CH         China    Beijing   9.597     1409.00    0\n",
       "SA  South Africa   Pretoria   1.221       64.01    0"
      ]
     },
     "execution_count": 42,
     "metadata": {},
     "output_type": "execute_result"
    }
   ],
   "source": [
    "df3"
   ]
  },
  {
   "cell_type": "code",
   "execution_count": 43,
   "metadata": {},
   "outputs": [
    {
     "data": {
      "text/html": [
       "<div>\n",
       "<style scoped>\n",
       "    .dataframe tbody tr th:only-of-type {\n",
       "        vertical-align: middle;\n",
       "    }\n",
       "\n",
       "    .dataframe tbody tr th {\n",
       "        vertical-align: top;\n",
       "    }\n",
       "\n",
       "    .dataframe thead th {\n",
       "        text-align: right;\n",
       "    }\n",
       "</style>\n",
       "<table border=\"1\" class=\"dataframe\">\n",
       "  <thead>\n",
       "    <tr style=\"text-align: right;\">\n",
       "      <th></th>\n",
       "      <th>country</th>\n",
       "      <th>capital</th>\n",
       "      <th>area</th>\n",
       "      <th>population</th>\n",
       "    </tr>\n",
       "    <tr>\n",
       "      <th>id</th>\n",
       "      <th></th>\n",
       "      <th></th>\n",
       "      <th></th>\n",
       "      <th></th>\n",
       "    </tr>\n",
       "  </thead>\n",
       "  <tbody>\n",
       "    <tr>\n",
       "      <th>BR</th>\n",
       "      <td>Brasil</td>\n",
       "      <td>Brazilia</td>\n",
       "      <td>8.516</td>\n",
       "      <td>212.60</td>\n",
       "    </tr>\n",
       "    <tr>\n",
       "      <th>RU</th>\n",
       "      <td>Russia</td>\n",
       "      <td>Moscow</td>\n",
       "      <td>17.130</td>\n",
       "      <td>143.50</td>\n",
       "    </tr>\n",
       "    <tr>\n",
       "      <th>IN</th>\n",
       "      <td>India</td>\n",
       "      <td>New Delhi</td>\n",
       "      <td>3.287</td>\n",
       "      <td>1451.00</td>\n",
       "    </tr>\n",
       "    <tr>\n",
       "      <th>CH</th>\n",
       "      <td>China</td>\n",
       "      <td>Beijing</td>\n",
       "      <td>9.597</td>\n",
       "      <td>1409.00</td>\n",
       "    </tr>\n",
       "    <tr>\n",
       "      <th>SA</th>\n",
       "      <td>South Africa</td>\n",
       "      <td>Pretoria</td>\n",
       "      <td>1.221</td>\n",
       "      <td>64.01</td>\n",
       "    </tr>\n",
       "  </tbody>\n",
       "</table>\n",
       "</div>"
      ],
      "text/plain": [
       "         country    capital    area  population\n",
       "id                                             \n",
       "BR        Brasil   Brazilia   8.516      212.60\n",
       "RU        Russia     Moscow  17.130      143.50\n",
       "IN         India  New Delhi   3.287     1451.00\n",
       "CH         China    Beijing   9.597     1409.00\n",
       "SA  South Africa   Pretoria   1.221       64.01"
      ]
     },
     "execution_count": 43,
     "metadata": {},
     "output_type": "execute_result"
    }
   ],
   "source": [
    "df  # объект с именем df не поменялся"
   ]
  },
  {
   "cell_type": "markdown",
   "metadata": {},
   "source": [
    "## 4. Вывод строк, столбцов и значений <a class=\"anchor\" id=\"chapter4\"></a>"
   ]
  },
  {
   "cell_type": "markdown",
   "metadata": {},
   "source": [
    "Можно вывести один столбце в виде ряда (series), указав его названия в одинарных квадратных скобках."
   ]
  },
  {
   "cell_type": "code",
   "execution_count": 44,
   "metadata": {},
   "outputs": [
    {
     "data": {
      "text/plain": [
       "id\n",
       "BR     8.516\n",
       "RU    17.130\n",
       "IN     3.287\n",
       "CH     9.597\n",
       "SA     1.221\n",
       "Name: area, dtype: float64"
      ]
     },
     "execution_count": 44,
     "metadata": {},
     "output_type": "execute_result"
    }
   ],
   "source": [
    "df['area']"
   ]
  },
  {
   "cell_type": "code",
   "execution_count": 45,
   "metadata": {},
   "outputs": [
    {
     "data": {
      "text/plain": [
       "pandas.core.series.Series"
      ]
     },
     "execution_count": 45,
     "metadata": {},
     "output_type": "execute_result"
    }
   ],
   "source": [
    "type(df['area'])"
   ]
  },
  {
   "cell_type": "markdown",
   "metadata": {},
   "source": [
    "При использовании двойных квадратных скобок выводится таблица (`dataframe`)."
   ]
  },
  {
   "cell_type": "code",
   "execution_count": 46,
   "metadata": {},
   "outputs": [
    {
     "data": {
      "text/html": [
       "<div>\n",
       "<style scoped>\n",
       "    .dataframe tbody tr th:only-of-type {\n",
       "        vertical-align: middle;\n",
       "    }\n",
       "\n",
       "    .dataframe tbody tr th {\n",
       "        vertical-align: top;\n",
       "    }\n",
       "\n",
       "    .dataframe thead th {\n",
       "        text-align: right;\n",
       "    }\n",
       "</style>\n",
       "<table border=\"1\" class=\"dataframe\">\n",
       "  <thead>\n",
       "    <tr style=\"text-align: right;\">\n",
       "      <th></th>\n",
       "      <th>area</th>\n",
       "    </tr>\n",
       "    <tr>\n",
       "      <th>id</th>\n",
       "      <th></th>\n",
       "    </tr>\n",
       "  </thead>\n",
       "  <tbody>\n",
       "    <tr>\n",
       "      <th>BR</th>\n",
       "      <td>8.516</td>\n",
       "    </tr>\n",
       "    <tr>\n",
       "      <th>RU</th>\n",
       "      <td>17.130</td>\n",
       "    </tr>\n",
       "    <tr>\n",
       "      <th>IN</th>\n",
       "      <td>3.287</td>\n",
       "    </tr>\n",
       "    <tr>\n",
       "      <th>CH</th>\n",
       "      <td>9.597</td>\n",
       "    </tr>\n",
       "    <tr>\n",
       "      <th>SA</th>\n",
       "      <td>1.221</td>\n",
       "    </tr>\n",
       "  </tbody>\n",
       "</table>\n",
       "</div>"
      ],
      "text/plain": [
       "      area\n",
       "id        \n",
       "BR   8.516\n",
       "RU  17.130\n",
       "IN   3.287\n",
       "CH   9.597\n",
       "SA   1.221"
      ]
     },
     "execution_count": 46,
     "metadata": {},
     "output_type": "execute_result"
    }
   ],
   "source": [
    "df[['area']]"
   ]
  },
  {
   "cell_type": "code",
   "execution_count": 47,
   "metadata": {},
   "outputs": [
    {
     "data": {
      "text/plain": [
       "pandas.core.frame.DataFrame"
      ]
     },
     "execution_count": 47,
     "metadata": {},
     "output_type": "execute_result"
    }
   ],
   "source": [
    "type(df[['area']])"
   ]
  },
  {
   "cell_type": "markdown",
   "metadata": {},
   "source": [
    "Можно вывести несколько столбцов, указав их индексы в любом порядке. При этом один столбец можно вывести несколько раз. "
   ]
  },
  {
   "cell_type": "code",
   "execution_count": 48,
   "metadata": {},
   "outputs": [
    {
     "data": {
      "text/html": [
       "<div>\n",
       "<style scoped>\n",
       "    .dataframe tbody tr th:only-of-type {\n",
       "        vertical-align: middle;\n",
       "    }\n",
       "\n",
       "    .dataframe tbody tr th {\n",
       "        vertical-align: top;\n",
       "    }\n",
       "\n",
       "    .dataframe thead th {\n",
       "        text-align: right;\n",
       "    }\n",
       "</style>\n",
       "<table border=\"1\" class=\"dataframe\">\n",
       "  <thead>\n",
       "    <tr style=\"text-align: right;\">\n",
       "      <th></th>\n",
       "      <th>area</th>\n",
       "      <th>country</th>\n",
       "      <th>area</th>\n",
       "    </tr>\n",
       "    <tr>\n",
       "      <th>id</th>\n",
       "      <th></th>\n",
       "      <th></th>\n",
       "      <th></th>\n",
       "    </tr>\n",
       "  </thead>\n",
       "  <tbody>\n",
       "    <tr>\n",
       "      <th>BR</th>\n",
       "      <td>8.516</td>\n",
       "      <td>Brasil</td>\n",
       "      <td>8.516</td>\n",
       "    </tr>\n",
       "    <tr>\n",
       "      <th>RU</th>\n",
       "      <td>17.130</td>\n",
       "      <td>Russia</td>\n",
       "      <td>17.130</td>\n",
       "    </tr>\n",
       "    <tr>\n",
       "      <th>IN</th>\n",
       "      <td>3.287</td>\n",
       "      <td>India</td>\n",
       "      <td>3.287</td>\n",
       "    </tr>\n",
       "    <tr>\n",
       "      <th>CH</th>\n",
       "      <td>9.597</td>\n",
       "      <td>China</td>\n",
       "      <td>9.597</td>\n",
       "    </tr>\n",
       "    <tr>\n",
       "      <th>SA</th>\n",
       "      <td>1.221</td>\n",
       "      <td>South Africa</td>\n",
       "      <td>1.221</td>\n",
       "    </tr>\n",
       "  </tbody>\n",
       "</table>\n",
       "</div>"
      ],
      "text/plain": [
       "      area       country    area\n",
       "id                              \n",
       "BR   8.516        Brasil   8.516\n",
       "RU  17.130        Russia  17.130\n",
       "IN   3.287         India   3.287\n",
       "CH   9.597         China   9.597\n",
       "SA   1.221  South Africa   1.221"
      ]
     },
     "execution_count": 48,
     "metadata": {},
     "output_type": "execute_result"
    }
   ],
   "source": [
    "df[['area', 'country', 'area']]"
   ]
  },
  {
   "cell_type": "markdown",
   "metadata": {},
   "source": [
    "Можно вывести строку, указав её индекс, при этом нужно использовать метод `loc`."
   ]
  },
  {
   "cell_type": "code",
   "execution_count": 49,
   "metadata": {},
   "outputs": [
    {
     "data": {
      "text/html": [
       "<div>\n",
       "<style scoped>\n",
       "    .dataframe tbody tr th:only-of-type {\n",
       "        vertical-align: middle;\n",
       "    }\n",
       "\n",
       "    .dataframe tbody tr th {\n",
       "        vertical-align: top;\n",
       "    }\n",
       "\n",
       "    .dataframe thead th {\n",
       "        text-align: right;\n",
       "    }\n",
       "</style>\n",
       "<table border=\"1\" class=\"dataframe\">\n",
       "  <thead>\n",
       "    <tr style=\"text-align: right;\">\n",
       "      <th></th>\n",
       "      <th>country</th>\n",
       "      <th>capital</th>\n",
       "      <th>area</th>\n",
       "      <th>population</th>\n",
       "    </tr>\n",
       "    <tr>\n",
       "      <th>id</th>\n",
       "      <th></th>\n",
       "      <th></th>\n",
       "      <th></th>\n",
       "      <th></th>\n",
       "    </tr>\n",
       "  </thead>\n",
       "  <tbody>\n",
       "    <tr>\n",
       "      <th>RU</th>\n",
       "      <td>Russia</td>\n",
       "      <td>Moscow</td>\n",
       "      <td>17.13</td>\n",
       "      <td>143.5</td>\n",
       "    </tr>\n",
       "  </tbody>\n",
       "</table>\n",
       "</div>"
      ],
      "text/plain": [
       "   country capital   area  population\n",
       "id                                   \n",
       "RU  Russia  Moscow  17.13       143.5"
      ]
     },
     "execution_count": 49,
     "metadata": {},
     "output_type": "execute_result"
    }
   ],
   "source": [
    "df.loc[['RU']]"
   ]
  },
  {
   "cell_type": "markdown",
   "metadata": {},
   "source": [
    "Можно вывести несколько строк, перечислив их индексы. При этом можно вывести одну и ту же строку несколько раз."
   ]
  },
  {
   "cell_type": "code",
   "execution_count": 50,
   "metadata": {},
   "outputs": [
    {
     "data": {
      "text/html": [
       "<div>\n",
       "<style scoped>\n",
       "    .dataframe tbody tr th:only-of-type {\n",
       "        vertical-align: middle;\n",
       "    }\n",
       "\n",
       "    .dataframe tbody tr th {\n",
       "        vertical-align: top;\n",
       "    }\n",
       "\n",
       "    .dataframe thead th {\n",
       "        text-align: right;\n",
       "    }\n",
       "</style>\n",
       "<table border=\"1\" class=\"dataframe\">\n",
       "  <thead>\n",
       "    <tr style=\"text-align: right;\">\n",
       "      <th></th>\n",
       "      <th>country</th>\n",
       "      <th>capital</th>\n",
       "      <th>area</th>\n",
       "      <th>population</th>\n",
       "    </tr>\n",
       "    <tr>\n",
       "      <th>id</th>\n",
       "      <th></th>\n",
       "      <th></th>\n",
       "      <th></th>\n",
       "      <th></th>\n",
       "    </tr>\n",
       "  </thead>\n",
       "  <tbody>\n",
       "    <tr>\n",
       "      <th>RU</th>\n",
       "      <td>Russia</td>\n",
       "      <td>Moscow</td>\n",
       "      <td>17.130</td>\n",
       "      <td>143.50</td>\n",
       "    </tr>\n",
       "    <tr>\n",
       "      <th>SA</th>\n",
       "      <td>South Africa</td>\n",
       "      <td>Pretoria</td>\n",
       "      <td>1.221</td>\n",
       "      <td>64.01</td>\n",
       "    </tr>\n",
       "    <tr>\n",
       "      <th>BR</th>\n",
       "      <td>Brasil</td>\n",
       "      <td>Brazilia</td>\n",
       "      <td>8.516</td>\n",
       "      <td>212.60</td>\n",
       "    </tr>\n",
       "    <tr>\n",
       "      <th>RU</th>\n",
       "      <td>Russia</td>\n",
       "      <td>Moscow</td>\n",
       "      <td>17.130</td>\n",
       "      <td>143.50</td>\n",
       "    </tr>\n",
       "  </tbody>\n",
       "</table>\n",
       "</div>"
      ],
      "text/plain": [
       "         country   capital    area  population\n",
       "id                                            \n",
       "RU        Russia    Moscow  17.130      143.50\n",
       "SA  South Africa  Pretoria   1.221       64.01\n",
       "BR        Brasil  Brazilia   8.516      212.60\n",
       "RU        Russia    Moscow  17.130      143.50"
      ]
     },
     "execution_count": 50,
     "metadata": {},
     "output_type": "execute_result"
    }
   ],
   "source": [
    "df.loc[['RU', 'SA', 'BR', 'RU']]"
   ]
  },
  {
   "cell_type": "markdown",
   "metadata": {},
   "source": [
    "Метод `at` позволяет обратиться к конкретному элементу таблицы по индексу строки и столбца. Сначала передаётся индекс строки, а потом индекс столбца. Работает быстрее, чем loc(), если нужно найти одно значение."
   ]
  },
  {
   "cell_type": "code",
   "execution_count": 51,
   "metadata": {},
   "outputs": [
    {
     "data": {
      "text/plain": [
       "'Moscow'"
      ]
     },
     "execution_count": 51,
     "metadata": {},
     "output_type": "execute_result"
    }
   ],
   "source": [
    "df.at['RU', 'capital'] "
   ]
  },
  {
   "cell_type": "markdown",
   "metadata": {},
   "source": [
    "То же самое можно получить с помощью метода `loc`."
   ]
  },
  {
   "cell_type": "code",
   "execution_count": 52,
   "metadata": {},
   "outputs": [
    {
     "data": {
      "text/plain": [
       "'Moscow'"
      ]
     },
     "execution_count": 52,
     "metadata": {},
     "output_type": "execute_result"
    }
   ],
   "source": [
    "df.loc['RU', 'capital']  "
   ]
  },
  {
   "cell_type": "markdown",
   "metadata": {},
   "source": [
    "Ещё один вариант получения значения на пересечении столбца и строки."
   ]
  },
  {
   "cell_type": "code",
   "execution_count": 53,
   "metadata": {},
   "outputs": [
    {
     "data": {
      "text/plain": [
       "'Moscow'"
      ]
     },
     "execution_count": 53,
     "metadata": {},
     "output_type": "execute_result"
    }
   ],
   "source": [
    "df['capital']['RU'] "
   ]
  },
  {
   "cell_type": "markdown",
   "metadata": {},
   "source": [
    "Методу `loc` можно передать список из нескольких столбцов и строк."
   ]
  },
  {
   "cell_type": "code",
   "execution_count": 54,
   "metadata": {},
   "outputs": [
    {
     "data": {
      "text/html": [
       "<div>\n",
       "<style scoped>\n",
       "    .dataframe tbody tr th:only-of-type {\n",
       "        vertical-align: middle;\n",
       "    }\n",
       "\n",
       "    .dataframe tbody tr th {\n",
       "        vertical-align: top;\n",
       "    }\n",
       "\n",
       "    .dataframe thead th {\n",
       "        text-align: right;\n",
       "    }\n",
       "</style>\n",
       "<table border=\"1\" class=\"dataframe\">\n",
       "  <thead>\n",
       "    <tr style=\"text-align: right;\">\n",
       "      <th></th>\n",
       "      <th>capital</th>\n",
       "      <th>population</th>\n",
       "    </tr>\n",
       "    <tr>\n",
       "      <th>id</th>\n",
       "      <th></th>\n",
       "      <th></th>\n",
       "    </tr>\n",
       "  </thead>\n",
       "  <tbody>\n",
       "    <tr>\n",
       "      <th>RU</th>\n",
       "      <td>Moscow</td>\n",
       "      <td>143.5</td>\n",
       "    </tr>\n",
       "    <tr>\n",
       "      <th>BR</th>\n",
       "      <td>Brazilia</td>\n",
       "      <td>212.6</td>\n",
       "    </tr>\n",
       "  </tbody>\n",
       "</table>\n",
       "</div>"
      ],
      "text/plain": [
       "     capital  population\n",
       "id                      \n",
       "RU    Moscow       143.5\n",
       "BR  Brazilia       212.6"
      ]
     },
     "execution_count": 54,
     "metadata": {},
     "output_type": "execute_result"
    }
   ],
   "source": [
    "df.loc[['RU', 'BR'], ['capital', 'population']]"
   ]
  },
  {
   "cell_type": "code",
   "execution_count": 55,
   "metadata": {},
   "outputs": [
    {
     "data": {
      "text/html": [
       "<div>\n",
       "<style scoped>\n",
       "    .dataframe tbody tr th:only-of-type {\n",
       "        vertical-align: middle;\n",
       "    }\n",
       "\n",
       "    .dataframe tbody tr th {\n",
       "        vertical-align: top;\n",
       "    }\n",
       "\n",
       "    .dataframe thead th {\n",
       "        text-align: right;\n",
       "    }\n",
       "</style>\n",
       "<table border=\"1\" class=\"dataframe\">\n",
       "  <thead>\n",
       "    <tr style=\"text-align: right;\">\n",
       "      <th></th>\n",
       "      <th>country</th>\n",
       "      <th>capital</th>\n",
       "      <th>area</th>\n",
       "      <th>population</th>\n",
       "    </tr>\n",
       "    <tr>\n",
       "      <th>id</th>\n",
       "      <th></th>\n",
       "      <th></th>\n",
       "      <th></th>\n",
       "      <th></th>\n",
       "    </tr>\n",
       "  </thead>\n",
       "  <tbody>\n",
       "    <tr>\n",
       "      <th>RU</th>\n",
       "      <td>Russia</td>\n",
       "      <td>Moscow</td>\n",
       "      <td>17.130</td>\n",
       "      <td>143.5</td>\n",
       "    </tr>\n",
       "    <tr>\n",
       "      <th>BR</th>\n",
       "      <td>Brasil</td>\n",
       "      <td>Brazilia</td>\n",
       "      <td>8.516</td>\n",
       "      <td>212.6</td>\n",
       "    </tr>\n",
       "  </tbody>\n",
       "</table>\n",
       "</div>"
      ],
      "text/plain": [
       "   country   capital    area  population\n",
       "id                                      \n",
       "RU  Russia    Moscow  17.130       143.5\n",
       "BR  Brasil  Brazilia   8.516       212.6"
      ]
     },
     "execution_count": 55,
     "metadata": {},
     "output_type": "execute_result"
    }
   ],
   "source": [
    "df.loc[['RU', 'BR'], :]  # вместо списка столбцов можно передать :, что означает \"все столбцы\""
   ]
  },
  {
   "cell_type": "code",
   "execution_count": 56,
   "metadata": {},
   "outputs": [
    {
     "data": {
      "text/html": [
       "<div>\n",
       "<style scoped>\n",
       "    .dataframe tbody tr th:only-of-type {\n",
       "        vertical-align: middle;\n",
       "    }\n",
       "\n",
       "    .dataframe tbody tr th {\n",
       "        vertical-align: top;\n",
       "    }\n",
       "\n",
       "    .dataframe thead th {\n",
       "        text-align: right;\n",
       "    }\n",
       "</style>\n",
       "<table border=\"1\" class=\"dataframe\">\n",
       "  <thead>\n",
       "    <tr style=\"text-align: right;\">\n",
       "      <th></th>\n",
       "      <th>capital</th>\n",
       "      <th>population</th>\n",
       "    </tr>\n",
       "    <tr>\n",
       "      <th>id</th>\n",
       "      <th></th>\n",
       "      <th></th>\n",
       "    </tr>\n",
       "  </thead>\n",
       "  <tbody>\n",
       "    <tr>\n",
       "      <th>BR</th>\n",
       "      <td>Brazilia</td>\n",
       "      <td>212.60</td>\n",
       "    </tr>\n",
       "    <tr>\n",
       "      <th>RU</th>\n",
       "      <td>Moscow</td>\n",
       "      <td>143.50</td>\n",
       "    </tr>\n",
       "    <tr>\n",
       "      <th>IN</th>\n",
       "      <td>New Delhi</td>\n",
       "      <td>1451.00</td>\n",
       "    </tr>\n",
       "    <tr>\n",
       "      <th>CH</th>\n",
       "      <td>Beijing</td>\n",
       "      <td>1409.00</td>\n",
       "    </tr>\n",
       "    <tr>\n",
       "      <th>SA</th>\n",
       "      <td>Pretoria</td>\n",
       "      <td>64.01</td>\n",
       "    </tr>\n",
       "  </tbody>\n",
       "</table>\n",
       "</div>"
      ],
      "text/plain": [
       "      capital  population\n",
       "id                       \n",
       "BR   Brazilia      212.60\n",
       "RU     Moscow      143.50\n",
       "IN  New Delhi     1451.00\n",
       "CH    Beijing     1409.00\n",
       "SA   Pretoria       64.01"
      ]
     },
     "execution_count": 56,
     "metadata": {},
     "output_type": "execute_result"
    }
   ],
   "source": [
    "df.loc[:, ['capital', 'population']]  # вместо списка строк можно передать :, что означает \"все строки\""
   ]
  },
  {
   "cell_type": "markdown",
   "metadata": {},
   "source": [
    "Метод `loc` работает с установленными индексами строк и столбцов, а если необходимо использовать их порядковые номера, то используется метод `iloc`."
   ]
  },
  {
   "cell_type": "code",
   "execution_count": 57,
   "metadata": {},
   "outputs": [
    {
     "data": {
      "text/html": [
       "<div>\n",
       "<style scoped>\n",
       "    .dataframe tbody tr th:only-of-type {\n",
       "        vertical-align: middle;\n",
       "    }\n",
       "\n",
       "    .dataframe tbody tr th {\n",
       "        vertical-align: top;\n",
       "    }\n",
       "\n",
       "    .dataframe thead th {\n",
       "        text-align: right;\n",
       "    }\n",
       "</style>\n",
       "<table border=\"1\" class=\"dataframe\">\n",
       "  <thead>\n",
       "    <tr style=\"text-align: right;\">\n",
       "      <th></th>\n",
       "      <th>country</th>\n",
       "      <th>capital</th>\n",
       "      <th>area</th>\n",
       "      <th>population</th>\n",
       "    </tr>\n",
       "    <tr>\n",
       "      <th>id</th>\n",
       "      <th></th>\n",
       "      <th></th>\n",
       "      <th></th>\n",
       "      <th></th>\n",
       "    </tr>\n",
       "  </thead>\n",
       "  <tbody>\n",
       "    <tr>\n",
       "      <th>RU</th>\n",
       "      <td>Russia</td>\n",
       "      <td>Moscow</td>\n",
       "      <td>17.13</td>\n",
       "      <td>143.5</td>\n",
       "    </tr>\n",
       "  </tbody>\n",
       "</table>\n",
       "</div>"
      ],
      "text/plain": [
       "   country capital   area  population\n",
       "id                                   \n",
       "RU  Russia  Moscow  17.13       143.5"
      ]
     },
     "execution_count": 57,
     "metadata": {},
     "output_type": "execute_result"
    }
   ],
   "source": [
    "df.iloc[[1]]  # вторая строка"
   ]
  },
  {
   "cell_type": "code",
   "execution_count": 58,
   "metadata": {},
   "outputs": [
    {
     "data": {
      "text/plain": [
       "17.13"
      ]
     },
     "execution_count": 58,
     "metadata": {},
     "output_type": "execute_result"
    }
   ],
   "source": [
    "df.iloc[1, 2]  # ячейка во второй строке, третьем столбце"
   ]
  },
  {
   "cell_type": "markdown",
   "metadata": {},
   "source": [
    "Аналогично метод `at` позволяет найти значение по установленным индексам строки и столбца. А методу `iat` передаются порядковые номера строки и столбца.  "
   ]
  },
  {
   "cell_type": "code",
   "execution_count": 59,
   "metadata": {},
   "outputs": [
    {
     "data": {
      "text/html": [
       "<div>\n",
       "<style scoped>\n",
       "    .dataframe tbody tr th:only-of-type {\n",
       "        vertical-align: middle;\n",
       "    }\n",
       "\n",
       "    .dataframe tbody tr th {\n",
       "        vertical-align: top;\n",
       "    }\n",
       "\n",
       "    .dataframe thead th {\n",
       "        text-align: right;\n",
       "    }\n",
       "</style>\n",
       "<table border=\"1\" class=\"dataframe\">\n",
       "  <thead>\n",
       "    <tr style=\"text-align: right;\">\n",
       "      <th></th>\n",
       "      <th>country</th>\n",
       "      <th>capital</th>\n",
       "      <th>area</th>\n",
       "      <th>population</th>\n",
       "    </tr>\n",
       "    <tr>\n",
       "      <th>id</th>\n",
       "      <th></th>\n",
       "      <th></th>\n",
       "      <th></th>\n",
       "      <th></th>\n",
       "    </tr>\n",
       "  </thead>\n",
       "  <tbody>\n",
       "    <tr>\n",
       "      <th>BR</th>\n",
       "      <td>Brasil</td>\n",
       "      <td>Brazilia</td>\n",
       "      <td>8.516</td>\n",
       "      <td>212.60</td>\n",
       "    </tr>\n",
       "    <tr>\n",
       "      <th>RU</th>\n",
       "      <td>Russia</td>\n",
       "      <td>Moscow</td>\n",
       "      <td>17.130</td>\n",
       "      <td>143.50</td>\n",
       "    </tr>\n",
       "    <tr>\n",
       "      <th>IN</th>\n",
       "      <td>India</td>\n",
       "      <td>New Delhi</td>\n",
       "      <td>3.287</td>\n",
       "      <td>1451.00</td>\n",
       "    </tr>\n",
       "    <tr>\n",
       "      <th>CH</th>\n",
       "      <td>China</td>\n",
       "      <td>Beijing</td>\n",
       "      <td>9.597</td>\n",
       "      <td>1409.00</td>\n",
       "    </tr>\n",
       "    <tr>\n",
       "      <th>SA</th>\n",
       "      <td>South Africa</td>\n",
       "      <td>Pretoria</td>\n",
       "      <td>1.221</td>\n",
       "      <td>64.01</td>\n",
       "    </tr>\n",
       "  </tbody>\n",
       "</table>\n",
       "</div>"
      ],
      "text/plain": [
       "         country    capital    area  population\n",
       "id                                             \n",
       "BR        Brasil   Brazilia   8.516      212.60\n",
       "RU        Russia     Moscow  17.130      143.50\n",
       "IN         India  New Delhi   3.287     1451.00\n",
       "CH         China    Beijing   9.597     1409.00\n",
       "SA  South Africa   Pretoria   1.221       64.01"
      ]
     },
     "execution_count": 59,
     "metadata": {},
     "output_type": "execute_result"
    }
   ],
   "source": [
    "df"
   ]
  },
  {
   "cell_type": "code",
   "execution_count": 60,
   "metadata": {},
   "outputs": [
    {
     "data": {
      "text/plain": [
       "'Moscow'"
      ]
     },
     "execution_count": 60,
     "metadata": {},
     "output_type": "execute_result"
    }
   ],
   "source": [
    "df.at['RU', 'capital']"
   ]
  },
  {
   "cell_type": "code",
   "execution_count": 61,
   "metadata": {},
   "outputs": [
    {
     "data": {
      "text/plain": [
       "'Moscow'"
      ]
     },
     "execution_count": 61,
     "metadata": {},
     "output_type": "execute_result"
    }
   ],
   "source": [
    "df.iat[1, 1]  # второй столбец, вторая строка"
   ]
  },
  {
   "cell_type": "markdown",
   "metadata": {},
   "source": [
    "Узнать индекс строки."
   ]
  },
  {
   "cell_type": "code",
   "execution_count": 62,
   "metadata": {},
   "outputs": [
    {
     "name": "stdout",
     "output_type": "stream",
     "text": [
      "1\n",
      "3\n"
     ]
    }
   ],
   "source": [
    "print(df.index.get_loc('RU'))\n",
    "print(df.index.get_loc('CH'))"
   ]
  },
  {
   "cell_type": "markdown",
   "metadata": {},
   "source": [
    "Узнать индекс столбца."
   ]
  },
  {
   "cell_type": "code",
   "execution_count": 63,
   "metadata": {},
   "outputs": [
    {
     "name": "stdout",
     "output_type": "stream",
     "text": [
      "1\n",
      "3\n"
     ]
    }
   ],
   "source": [
    "print(df.columns.get_loc('capital'))\n",
    "print(df.columns.get_loc('population'))"
   ]
  },
  {
   "cell_type": "markdown",
   "metadata": {},
   "source": [
    "### Работа с индексами столбцов и строк"
   ]
  },
  {
   "cell_type": "markdown",
   "metadata": {},
   "source": [
    "Можно вывести индексы столбцов и строк в виде списка."
   ]
  },
  {
   "cell_type": "code",
   "execution_count": 64,
   "metadata": {},
   "outputs": [
    {
     "data": {
      "text/plain": [
       "Index(['BR', 'RU', 'IN', 'CH', 'SA'], dtype='object', name='id')"
      ]
     },
     "execution_count": 64,
     "metadata": {},
     "output_type": "execute_result"
    }
   ],
   "source": [
    "df.index  # вывести индексы строк"
   ]
  },
  {
   "cell_type": "code",
   "execution_count": 65,
   "metadata": {},
   "outputs": [
    {
     "data": {
      "text/plain": [
       "Index(['country', 'capital', 'area', 'population'], dtype='object')"
      ]
     },
     "execution_count": 65,
     "metadata": {},
     "output_type": "execute_result"
    }
   ],
   "source": [
    "df.columns  # вывести индексы столбцов"
   ]
  },
  {
   "cell_type": "markdown",
   "metadata": {},
   "source": [
    "Можно изменить индексы столбцов"
   ]
  },
  {
   "cell_type": "code",
   "execution_count": 66,
   "metadata": {},
   "outputs": [
    {
     "data": {
      "text/html": [
       "<div>\n",
       "<style scoped>\n",
       "    .dataframe tbody tr th:only-of-type {\n",
       "        vertical-align: middle;\n",
       "    }\n",
       "\n",
       "    .dataframe tbody tr th {\n",
       "        vertical-align: top;\n",
       "    }\n",
       "\n",
       "    .dataframe thead th {\n",
       "        text-align: right;\n",
       "    }\n",
       "</style>\n",
       "<table border=\"1\" class=\"dataframe\">\n",
       "  <thead>\n",
       "    <tr style=\"text-align: right;\">\n",
       "      <th></th>\n",
       "      <th>country_new</th>\n",
       "      <th>capital_new</th>\n",
       "      <th>area_old</th>\n",
       "      <th>populat_new</th>\n",
       "    </tr>\n",
       "    <tr>\n",
       "      <th>id</th>\n",
       "      <th></th>\n",
       "      <th></th>\n",
       "      <th></th>\n",
       "      <th></th>\n",
       "    </tr>\n",
       "  </thead>\n",
       "  <tbody>\n",
       "    <tr>\n",
       "      <th>BR</th>\n",
       "      <td>Brasil</td>\n",
       "      <td>Brazilia</td>\n",
       "      <td>8.516</td>\n",
       "      <td>212.60</td>\n",
       "    </tr>\n",
       "    <tr>\n",
       "      <th>RU</th>\n",
       "      <td>Russia</td>\n",
       "      <td>Moscow</td>\n",
       "      <td>17.130</td>\n",
       "      <td>143.50</td>\n",
       "    </tr>\n",
       "    <tr>\n",
       "      <th>IN</th>\n",
       "      <td>India</td>\n",
       "      <td>New Delhi</td>\n",
       "      <td>3.287</td>\n",
       "      <td>1451.00</td>\n",
       "    </tr>\n",
       "    <tr>\n",
       "      <th>CH</th>\n",
       "      <td>China</td>\n",
       "      <td>Beijing</td>\n",
       "      <td>9.597</td>\n",
       "      <td>1409.00</td>\n",
       "    </tr>\n",
       "    <tr>\n",
       "      <th>SA</th>\n",
       "      <td>South Africa</td>\n",
       "      <td>Pretoria</td>\n",
       "      <td>1.221</td>\n",
       "      <td>64.01</td>\n",
       "    </tr>\n",
       "  </tbody>\n",
       "</table>\n",
       "</div>"
      ],
      "text/plain": [
       "     country_new capital_new  area_old  populat_new\n",
       "id                                                 \n",
       "BR        Brasil    Brazilia     8.516       212.60\n",
       "RU        Russia      Moscow    17.130       143.50\n",
       "IN         India   New Delhi     3.287      1451.00\n",
       "CH         China     Beijing     9.597      1409.00\n",
       "SA  South Africa    Pretoria     1.221        64.01"
      ]
     },
     "execution_count": 66,
     "metadata": {},
     "output_type": "execute_result"
    }
   ],
   "source": [
    "df.columns = ['country_new', 'capital_new', 'area_old', 'populat_new'] \n",
    "df"
   ]
  },
  {
   "cell_type": "markdown",
   "metadata": {},
   "source": [
    "Слово id при отображении датафрейма — имя столбца с индексами. Можно его удалить"
   ]
  },
  {
   "cell_type": "code",
   "execution_count": 67,
   "metadata": {},
   "outputs": [],
   "source": [
    "df.index.name = None  # убрать имя столбца с индексами"
   ]
  },
  {
   "cell_type": "code",
   "execution_count": 68,
   "metadata": {},
   "outputs": [
    {
     "data": {
      "text/html": [
       "<div>\n",
       "<style scoped>\n",
       "    .dataframe tbody tr th:only-of-type {\n",
       "        vertical-align: middle;\n",
       "    }\n",
       "\n",
       "    .dataframe tbody tr th {\n",
       "        vertical-align: top;\n",
       "    }\n",
       "\n",
       "    .dataframe thead th {\n",
       "        text-align: right;\n",
       "    }\n",
       "</style>\n",
       "<table border=\"1\" class=\"dataframe\">\n",
       "  <thead>\n",
       "    <tr style=\"text-align: right;\">\n",
       "      <th></th>\n",
       "      <th>country_new</th>\n",
       "      <th>capital_new</th>\n",
       "      <th>area_old</th>\n",
       "      <th>populat_new</th>\n",
       "    </tr>\n",
       "  </thead>\n",
       "  <tbody>\n",
       "    <tr>\n",
       "      <th>BR</th>\n",
       "      <td>Brasil</td>\n",
       "      <td>Brazilia</td>\n",
       "      <td>8.516</td>\n",
       "      <td>212.60</td>\n",
       "    </tr>\n",
       "    <tr>\n",
       "      <th>RU</th>\n",
       "      <td>Russia</td>\n",
       "      <td>Moscow</td>\n",
       "      <td>17.130</td>\n",
       "      <td>143.50</td>\n",
       "    </tr>\n",
       "    <tr>\n",
       "      <th>IN</th>\n",
       "      <td>India</td>\n",
       "      <td>New Delhi</td>\n",
       "      <td>3.287</td>\n",
       "      <td>1451.00</td>\n",
       "    </tr>\n",
       "    <tr>\n",
       "      <th>CH</th>\n",
       "      <td>China</td>\n",
       "      <td>Beijing</td>\n",
       "      <td>9.597</td>\n",
       "      <td>1409.00</td>\n",
       "    </tr>\n",
       "    <tr>\n",
       "      <th>SA</th>\n",
       "      <td>South Africa</td>\n",
       "      <td>Pretoria</td>\n",
       "      <td>1.221</td>\n",
       "      <td>64.01</td>\n",
       "    </tr>\n",
       "  </tbody>\n",
       "</table>\n",
       "</div>"
      ],
      "text/plain": [
       "     country_new capital_new  area_old  populat_new\n",
       "BR        Brasil    Brazilia     8.516       212.60\n",
       "RU        Russia      Moscow    17.130       143.50\n",
       "IN         India   New Delhi     3.287      1451.00\n",
       "CH         China     Beijing     9.597      1409.00\n",
       "SA  South Africa    Pretoria     1.221        64.01"
      ]
     },
     "execution_count": 68,
     "metadata": {},
     "output_type": "execute_result"
    }
   ],
   "source": [
    "df"
   ]
  },
  {
   "cell_type": "markdown",
   "metadata": {},
   "source": [
    "### Срезы"
   ]
  },
  {
   "cell_type": "code",
   "execution_count": 69,
   "metadata": {},
   "outputs": [
    {
     "data": {
      "text/html": [
       "<div>\n",
       "<style scoped>\n",
       "    .dataframe tbody tr th:only-of-type {\n",
       "        vertical-align: middle;\n",
       "    }\n",
       "\n",
       "    .dataframe tbody tr th {\n",
       "        vertical-align: top;\n",
       "    }\n",
       "\n",
       "    .dataframe thead th {\n",
       "        text-align: right;\n",
       "    }\n",
       "</style>\n",
       "<table border=\"1\" class=\"dataframe\">\n",
       "  <thead>\n",
       "    <tr style=\"text-align: right;\">\n",
       "      <th></th>\n",
       "      <th>country_new</th>\n",
       "      <th>capital_new</th>\n",
       "      <th>area_old</th>\n",
       "      <th>populat_new</th>\n",
       "    </tr>\n",
       "  </thead>\n",
       "  <tbody>\n",
       "    <tr>\n",
       "      <th>BR</th>\n",
       "      <td>Brasil</td>\n",
       "      <td>Brazilia</td>\n",
       "      <td>8.516</td>\n",
       "      <td>212.60</td>\n",
       "    </tr>\n",
       "    <tr>\n",
       "      <th>RU</th>\n",
       "      <td>Russia</td>\n",
       "      <td>Moscow</td>\n",
       "      <td>17.130</td>\n",
       "      <td>143.50</td>\n",
       "    </tr>\n",
       "    <tr>\n",
       "      <th>IN</th>\n",
       "      <td>India</td>\n",
       "      <td>New Delhi</td>\n",
       "      <td>3.287</td>\n",
       "      <td>1451.00</td>\n",
       "    </tr>\n",
       "    <tr>\n",
       "      <th>CH</th>\n",
       "      <td>China</td>\n",
       "      <td>Beijing</td>\n",
       "      <td>9.597</td>\n",
       "      <td>1409.00</td>\n",
       "    </tr>\n",
       "    <tr>\n",
       "      <th>SA</th>\n",
       "      <td>South Africa</td>\n",
       "      <td>Pretoria</td>\n",
       "      <td>1.221</td>\n",
       "      <td>64.01</td>\n",
       "    </tr>\n",
       "  </tbody>\n",
       "</table>\n",
       "</div>"
      ],
      "text/plain": [
       "     country_new capital_new  area_old  populat_new\n",
       "BR        Brasil    Brazilia     8.516       212.60\n",
       "RU        Russia      Moscow    17.130       143.50\n",
       "IN         India   New Delhi     3.287      1451.00\n",
       "CH         China     Beijing     9.597      1409.00\n",
       "SA  South Africa    Pretoria     1.221        64.01"
      ]
     },
     "execution_count": 69,
     "metadata": {},
     "output_type": "execute_result"
    }
   ],
   "source": [
    "df"
   ]
  },
  {
   "cell_type": "markdown",
   "metadata": {},
   "source": [
    "Срез осуществляется по срокам на основе числовых индексов. Нумерация начинается с 0, последний элемент не включается в вывод."
   ]
  },
  {
   "cell_type": "code",
   "execution_count": 70,
   "metadata": {},
   "outputs": [
    {
     "data": {
      "text/html": [
       "<div>\n",
       "<style scoped>\n",
       "    .dataframe tbody tr th:only-of-type {\n",
       "        vertical-align: middle;\n",
       "    }\n",
       "\n",
       "    .dataframe tbody tr th {\n",
       "        vertical-align: top;\n",
       "    }\n",
       "\n",
       "    .dataframe thead th {\n",
       "        text-align: right;\n",
       "    }\n",
       "</style>\n",
       "<table border=\"1\" class=\"dataframe\">\n",
       "  <thead>\n",
       "    <tr style=\"text-align: right;\">\n",
       "      <th></th>\n",
       "      <th>country_new</th>\n",
       "      <th>capital_new</th>\n",
       "      <th>area_old</th>\n",
       "      <th>populat_new</th>\n",
       "    </tr>\n",
       "  </thead>\n",
       "  <tbody>\n",
       "    <tr>\n",
       "      <th>IN</th>\n",
       "      <td>India</td>\n",
       "      <td>New Delhi</td>\n",
       "      <td>3.287</td>\n",
       "      <td>1451.0</td>\n",
       "    </tr>\n",
       "    <tr>\n",
       "      <th>CH</th>\n",
       "      <td>China</td>\n",
       "      <td>Beijing</td>\n",
       "      <td>9.597</td>\n",
       "      <td>1409.0</td>\n",
       "    </tr>\n",
       "  </tbody>\n",
       "</table>\n",
       "</div>"
      ],
      "text/plain": [
       "   country_new capital_new  area_old  populat_new\n",
       "IN       India   New Delhi     3.287       1451.0\n",
       "CH       China     Beijing     9.597       1409.0"
      ]
     },
     "execution_count": 70,
     "metadata": {},
     "output_type": "execute_result"
    }
   ],
   "source": [
    "df[2:4]  # с 3-ей по 4-ую строки"
   ]
  },
  {
   "cell_type": "code",
   "execution_count": 71,
   "metadata": {},
   "outputs": [
    {
     "data": {
      "text/html": [
       "<div>\n",
       "<style scoped>\n",
       "    .dataframe tbody tr th:only-of-type {\n",
       "        vertical-align: middle;\n",
       "    }\n",
       "\n",
       "    .dataframe tbody tr th {\n",
       "        vertical-align: top;\n",
       "    }\n",
       "\n",
       "    .dataframe thead th {\n",
       "        text-align: right;\n",
       "    }\n",
       "</style>\n",
       "<table border=\"1\" class=\"dataframe\">\n",
       "  <thead>\n",
       "    <tr style=\"text-align: right;\">\n",
       "      <th></th>\n",
       "      <th>country_new</th>\n",
       "      <th>capital_new</th>\n",
       "      <th>area_old</th>\n",
       "      <th>populat_new</th>\n",
       "    </tr>\n",
       "  </thead>\n",
       "  <tbody>\n",
       "    <tr>\n",
       "      <th>RU</th>\n",
       "      <td>Russia</td>\n",
       "      <td>Moscow</td>\n",
       "      <td>17.130</td>\n",
       "      <td>143.5</td>\n",
       "    </tr>\n",
       "    <tr>\n",
       "      <th>IN</th>\n",
       "      <td>India</td>\n",
       "      <td>New Delhi</td>\n",
       "      <td>3.287</td>\n",
       "      <td>1451.0</td>\n",
       "    </tr>\n",
       "    <tr>\n",
       "      <th>CH</th>\n",
       "      <td>China</td>\n",
       "      <td>Beijing</td>\n",
       "      <td>9.597</td>\n",
       "      <td>1409.0</td>\n",
       "    </tr>\n",
       "  </tbody>\n",
       "</table>\n",
       "</div>"
      ],
      "text/plain": [
       "   country_new capital_new  area_old  populat_new\n",
       "RU      Russia      Moscow    17.130        143.5\n",
       "IN       India   New Delhi     3.287       1451.0\n",
       "CH       China     Beijing     9.597       1409.0"
      ]
     },
     "execution_count": 71,
     "metadata": {},
     "output_type": "execute_result"
    }
   ],
   "source": [
    "df['RU':'CH']  # срез по срокам на основе текстовых индексов, крайние элементы включены в вывод"
   ]
  },
  {
   "cell_type": "code",
   "execution_count": 72,
   "metadata": {},
   "outputs": [
    {
     "data": {
      "text/html": [
       "<div>\n",
       "<style scoped>\n",
       "    .dataframe tbody tr th:only-of-type {\n",
       "        vertical-align: middle;\n",
       "    }\n",
       "\n",
       "    .dataframe tbody tr th {\n",
       "        vertical-align: top;\n",
       "    }\n",
       "\n",
       "    .dataframe thead th {\n",
       "        text-align: right;\n",
       "    }\n",
       "</style>\n",
       "<table border=\"1\" class=\"dataframe\">\n",
       "  <thead>\n",
       "    <tr style=\"text-align: right;\">\n",
       "      <th></th>\n",
       "      <th>country_new</th>\n",
       "      <th>capital_new</th>\n",
       "      <th>area_old</th>\n",
       "      <th>populat_new</th>\n",
       "    </tr>\n",
       "  </thead>\n",
       "  <tbody>\n",
       "    <tr>\n",
       "      <th>BR</th>\n",
       "      <td>Brasil</td>\n",
       "      <td>Brazilia</td>\n",
       "      <td>8.516</td>\n",
       "      <td>212.6</td>\n",
       "    </tr>\n",
       "  </tbody>\n",
       "</table>\n",
       "</div>"
      ],
      "text/plain": [
       "   country_new capital_new  area_old  populat_new\n",
       "BR      Brasil    Brazilia     8.516        212.6"
      ]
     },
     "execution_count": 72,
     "metadata": {},
     "output_type": "execute_result"
    }
   ],
   "source": [
    "df[0:1]  # первая строка"
   ]
  },
  {
   "cell_type": "code",
   "execution_count": 73,
   "metadata": {},
   "outputs": [
    {
     "data": {
      "text/html": [
       "<div>\n",
       "<style scoped>\n",
       "    .dataframe tbody tr th:only-of-type {\n",
       "        vertical-align: middle;\n",
       "    }\n",
       "\n",
       "    .dataframe tbody tr th {\n",
       "        vertical-align: top;\n",
       "    }\n",
       "\n",
       "    .dataframe thead th {\n",
       "        text-align: right;\n",
       "    }\n",
       "</style>\n",
       "<table border=\"1\" class=\"dataframe\">\n",
       "  <thead>\n",
       "    <tr style=\"text-align: right;\">\n",
       "      <th></th>\n",
       "      <th>country_new</th>\n",
       "      <th>capital_new</th>\n",
       "      <th>area_old</th>\n",
       "      <th>populat_new</th>\n",
       "    </tr>\n",
       "  </thead>\n",
       "  <tbody>\n",
       "    <tr>\n",
       "      <th>BR</th>\n",
       "      <td>Brasil</td>\n",
       "      <td>Brazilia</td>\n",
       "      <td>8.516</td>\n",
       "      <td>212.6</td>\n",
       "    </tr>\n",
       "    <tr>\n",
       "      <th>RU</th>\n",
       "      <td>Russia</td>\n",
       "      <td>Moscow</td>\n",
       "      <td>17.130</td>\n",
       "      <td>143.5</td>\n",
       "    </tr>\n",
       "    <tr>\n",
       "      <th>IN</th>\n",
       "      <td>India</td>\n",
       "      <td>New Delhi</td>\n",
       "      <td>3.287</td>\n",
       "      <td>1451.0</td>\n",
       "    </tr>\n",
       "  </tbody>\n",
       "</table>\n",
       "</div>"
      ],
      "text/plain": [
       "   country_new capital_new  area_old  populat_new\n",
       "BR      Brasil    Brazilia     8.516        212.6\n",
       "RU      Russia      Moscow    17.130        143.5\n",
       "IN       India   New Delhi     3.287       1451.0"
      ]
     },
     "execution_count": 73,
     "metadata": {},
     "output_type": "execute_result"
    }
   ],
   "source": [
    "df[:3]  # первые три строки, начальный элемент среза не указан"
   ]
  },
  {
   "cell_type": "code",
   "execution_count": 74,
   "metadata": {},
   "outputs": [
    {
     "data": {
      "text/html": [
       "<div>\n",
       "<style scoped>\n",
       "    .dataframe tbody tr th:only-of-type {\n",
       "        vertical-align: middle;\n",
       "    }\n",
       "\n",
       "    .dataframe tbody tr th {\n",
       "        vertical-align: top;\n",
       "    }\n",
       "\n",
       "    .dataframe thead th {\n",
       "        text-align: right;\n",
       "    }\n",
       "</style>\n",
       "<table border=\"1\" class=\"dataframe\">\n",
       "  <thead>\n",
       "    <tr style=\"text-align: right;\">\n",
       "      <th></th>\n",
       "      <th>country_new</th>\n",
       "      <th>capital_new</th>\n",
       "      <th>area_old</th>\n",
       "      <th>populat_new</th>\n",
       "    </tr>\n",
       "  </thead>\n",
       "  <tbody>\n",
       "    <tr>\n",
       "      <th>IN</th>\n",
       "      <td>India</td>\n",
       "      <td>New Delhi</td>\n",
       "      <td>3.287</td>\n",
       "      <td>1451.00</td>\n",
       "    </tr>\n",
       "    <tr>\n",
       "      <th>CH</th>\n",
       "      <td>China</td>\n",
       "      <td>Beijing</td>\n",
       "      <td>9.597</td>\n",
       "      <td>1409.00</td>\n",
       "    </tr>\n",
       "    <tr>\n",
       "      <th>SA</th>\n",
       "      <td>South Africa</td>\n",
       "      <td>Pretoria</td>\n",
       "      <td>1.221</td>\n",
       "      <td>64.01</td>\n",
       "    </tr>\n",
       "  </tbody>\n",
       "</table>\n",
       "</div>"
      ],
      "text/plain": [
       "     country_new capital_new  area_old  populat_new\n",
       "IN         India   New Delhi     3.287      1451.00\n",
       "CH         China     Beijing     9.597      1409.00\n",
       "SA  South Africa    Pretoria     1.221        64.01"
      ]
     },
     "execution_count": 74,
     "metadata": {},
     "output_type": "execute_result"
    }
   ],
   "source": [
    "df[-3:]  # последние три строки"
   ]
  },
  {
   "cell_type": "code",
   "execution_count": 75,
   "metadata": {},
   "outputs": [
    {
     "data": {
      "text/html": [
       "<div>\n",
       "<style scoped>\n",
       "    .dataframe tbody tr th:only-of-type {\n",
       "        vertical-align: middle;\n",
       "    }\n",
       "\n",
       "    .dataframe tbody tr th {\n",
       "        vertical-align: top;\n",
       "    }\n",
       "\n",
       "    .dataframe thead th {\n",
       "        text-align: right;\n",
       "    }\n",
       "</style>\n",
       "<table border=\"1\" class=\"dataframe\">\n",
       "  <thead>\n",
       "    <tr style=\"text-align: right;\">\n",
       "      <th></th>\n",
       "      <th>country_new</th>\n",
       "      <th>capital_new</th>\n",
       "      <th>area_old</th>\n",
       "      <th>populat_new</th>\n",
       "    </tr>\n",
       "  </thead>\n",
       "  <tbody>\n",
       "    <tr>\n",
       "      <th>IN</th>\n",
       "      <td>India</td>\n",
       "      <td>New Delhi</td>\n",
       "      <td>3.287</td>\n",
       "      <td>1451.00</td>\n",
       "    </tr>\n",
       "    <tr>\n",
       "      <th>CH</th>\n",
       "      <td>China</td>\n",
       "      <td>Beijing</td>\n",
       "      <td>9.597</td>\n",
       "      <td>1409.00</td>\n",
       "    </tr>\n",
       "    <tr>\n",
       "      <th>SA</th>\n",
       "      <td>South Africa</td>\n",
       "      <td>Pretoria</td>\n",
       "      <td>1.221</td>\n",
       "      <td>64.01</td>\n",
       "    </tr>\n",
       "  </tbody>\n",
       "</table>\n",
       "</div>"
      ],
      "text/plain": [
       "     country_new capital_new  area_old  populat_new\n",
       "IN         India   New Delhi     3.287      1451.00\n",
       "CH         China     Beijing     9.597      1409.00\n",
       "SA  South Africa    Pretoria     1.221        64.01"
      ]
     },
     "execution_count": 75,
     "metadata": {},
     "output_type": "execute_result"
    }
   ],
   "source": [
    "df[2:]  # последние три строки"
   ]
  },
  {
   "cell_type": "markdown",
   "metadata": {},
   "source": [
    "## 5. Информация о датафрейме <a class=\"anchor\" id=\"chapter5\"></a>"
   ]
  },
  {
   "cell_type": "markdown",
   "metadata": {},
   "source": [
    "### Файл с данными про ноутбуки"
   ]
  },
  {
   "cell_type": "markdown",
   "metadata": {},
   "source": [
    "[Источник данных](https://www.kaggle.com/datasets/bhavikjikadara/brand-laptops-dataset)\n",
    "\n",
    "The dataset presents a collection of 991 unique laptops sourced from the 'Smartprix' website. Enriched with 22 features including laptop name, price in Indian rupees, processor, GPU, and more, it provides valuable insights for building robust price prediction models and effective recommendation systems. Updated as of January 14, 2024, this dataset is a reliable foundation for exploring the intricate landscape of laptop pricing dynamics and consumer preferences.\n",
    "\n",
    "Описание переменных:\n",
    "\n",
    "- Brand: The name of the laptop brand.\n",
    "- Model: The specific model or series of the laptop.\n",
    "- Price: The price of the laptop in Indian rupees.\n",
    "- Rating: The rating assigned to each laptop based on its specifications.\n",
    "- Processor brand: The brand of the processor used in the laptop.\n",
    "- Processor tier: The performance tier or category of the processor.\n",
    "- Number of Cores: The number of processing cores in the processor.\n",
    "- Number of Threads: The number of threads supported by the processor.\n",
    "- Ram memory: The amount of RAM used in the laptop.\n",
    "- Primary storage type: The type of primary storage (e.g., HDD, SSD).\n",
    "- Primary storage capacity: The capacity of the primary storage in the laptop.\n",
    "- Secondary storage type: The type of secondary storage, if available.\n",
    "- Secondary storage capacity: The capacity of the secondary storage in the laptop.\n",
    "- GPU brand: The brand of the graphics processing unit (GPU).\n",
    "- GPU type: The type of the GPU.\n",
    "- Is Touch screen: Indicates whether the laptop has a touch screen feature.\n",
    "- Display size: The size of the laptop display in inches.\n",
    "- Resolution width: The width resolution of the display.\n",
    "- Resolution height: The height resolution of the display.\n",
    "- OS: The operating system installed on the laptop.\n",
    "- Year of warranty: The duration of the warranty provided for the laptop, usually in years"
   ]
  },
  {
   "cell_type": "code",
   "execution_count": 76,
   "metadata": {},
   "outputs": [],
   "source": [
    "df = pd.read_csv(\"laptops.csv\") "
   ]
  },
  {
   "cell_type": "code",
   "execution_count": 77,
   "metadata": {},
   "outputs": [
    {
     "data": {
      "text/html": [
       "<div>\n",
       "<style scoped>\n",
       "    .dataframe tbody tr th:only-of-type {\n",
       "        vertical-align: middle;\n",
       "    }\n",
       "\n",
       "    .dataframe tbody tr th {\n",
       "        vertical-align: top;\n",
       "    }\n",
       "\n",
       "    .dataframe thead th {\n",
       "        text-align: right;\n",
       "    }\n",
       "</style>\n",
       "<table border=\"1\" class=\"dataframe\">\n",
       "  <thead>\n",
       "    <tr style=\"text-align: right;\">\n",
       "      <th></th>\n",
       "      <th>index</th>\n",
       "      <th>brand</th>\n",
       "      <th>Model</th>\n",
       "      <th>Price</th>\n",
       "      <th>Rating</th>\n",
       "      <th>processor_brand</th>\n",
       "      <th>processor_tier</th>\n",
       "      <th>num_cores</th>\n",
       "      <th>num_threads</th>\n",
       "      <th>ram_memory</th>\n",
       "      <th>...</th>\n",
       "      <th>secondary_storage_type</th>\n",
       "      <th>secondary_storage_capacity</th>\n",
       "      <th>gpu_brand</th>\n",
       "      <th>gpu_type</th>\n",
       "      <th>is_touch_screen</th>\n",
       "      <th>display_size</th>\n",
       "      <th>resolution_width</th>\n",
       "      <th>resolution_height</th>\n",
       "      <th>OS</th>\n",
       "      <th>year_of_warranty</th>\n",
       "    </tr>\n",
       "  </thead>\n",
       "  <tbody>\n",
       "    <tr>\n",
       "      <th>0</th>\n",
       "      <td>1</td>\n",
       "      <td>tecno</td>\n",
       "      <td>Tecno Megabook T1 Laptop (11th Gen Core i3/ 8G...</td>\n",
       "      <td>23990</td>\n",
       "      <td>63</td>\n",
       "      <td>intel</td>\n",
       "      <td>core i3</td>\n",
       "      <td>2</td>\n",
       "      <td>4</td>\n",
       "      <td>8</td>\n",
       "      <td>...</td>\n",
       "      <td>No secondary storage</td>\n",
       "      <td>0</td>\n",
       "      <td>intel</td>\n",
       "      <td>integrated</td>\n",
       "      <td>False</td>\n",
       "      <td>15.6</td>\n",
       "      <td>1920</td>\n",
       "      <td>1080</td>\n",
       "      <td>windows</td>\n",
       "      <td>1</td>\n",
       "    </tr>\n",
       "    <tr>\n",
       "      <th>1</th>\n",
       "      <td>2</td>\n",
       "      <td>tecno</td>\n",
       "      <td>Tecno Megabook T1 Laptop (11th Gen Core i7/ 16...</td>\n",
       "      <td>35990</td>\n",
       "      <td>67</td>\n",
       "      <td>intel</td>\n",
       "      <td>core i7</td>\n",
       "      <td>4</td>\n",
       "      <td>8</td>\n",
       "      <td>16</td>\n",
       "      <td>...</td>\n",
       "      <td>No secondary storage</td>\n",
       "      <td>0</td>\n",
       "      <td>intel</td>\n",
       "      <td>integrated</td>\n",
       "      <td>False</td>\n",
       "      <td>15.6</td>\n",
       "      <td>1920</td>\n",
       "      <td>1080</td>\n",
       "      <td>windows</td>\n",
       "      <td>1</td>\n",
       "    </tr>\n",
       "    <tr>\n",
       "      <th>2</th>\n",
       "      <td>3</td>\n",
       "      <td>hp</td>\n",
       "      <td>HP Victus 15-fb0157AX Gaming Laptop (AMD Ryzen...</td>\n",
       "      <td>51100</td>\n",
       "      <td>73</td>\n",
       "      <td>amd</td>\n",
       "      <td>ryzen 5</td>\n",
       "      <td>6</td>\n",
       "      <td>12</td>\n",
       "      <td>8</td>\n",
       "      <td>...</td>\n",
       "      <td>No secondary storage</td>\n",
       "      <td>0</td>\n",
       "      <td>amd</td>\n",
       "      <td>dedicated</td>\n",
       "      <td>False</td>\n",
       "      <td>15.6</td>\n",
       "      <td>1920</td>\n",
       "      <td>1080</td>\n",
       "      <td>windows</td>\n",
       "      <td>1</td>\n",
       "    </tr>\n",
       "    <tr>\n",
       "      <th>3</th>\n",
       "      <td>4</td>\n",
       "      <td>acer</td>\n",
       "      <td>Acer Extensa EX214-53 Laptop (12th Gen Core i5...</td>\n",
       "      <td>39990</td>\n",
       "      <td>62</td>\n",
       "      <td>intel</td>\n",
       "      <td>core i5</td>\n",
       "      <td>12</td>\n",
       "      <td>16</td>\n",
       "      <td>8</td>\n",
       "      <td>...</td>\n",
       "      <td>No secondary storage</td>\n",
       "      <td>0</td>\n",
       "      <td>intel</td>\n",
       "      <td>integrated</td>\n",
       "      <td>False</td>\n",
       "      <td>14.0</td>\n",
       "      <td>1920</td>\n",
       "      <td>1080</td>\n",
       "      <td>windows</td>\n",
       "      <td>1</td>\n",
       "    </tr>\n",
       "    <tr>\n",
       "      <th>4</th>\n",
       "      <td>5</td>\n",
       "      <td>lenovo</td>\n",
       "      <td>Lenovo V15 82KDA01BIH Laptop (AMD Ryzen 3 5300...</td>\n",
       "      <td>28580</td>\n",
       "      <td>62</td>\n",
       "      <td>amd</td>\n",
       "      <td>ryzen 3</td>\n",
       "      <td>4</td>\n",
       "      <td>8</td>\n",
       "      <td>8</td>\n",
       "      <td>...</td>\n",
       "      <td>No secondary storage</td>\n",
       "      <td>0</td>\n",
       "      <td>amd</td>\n",
       "      <td>integrated</td>\n",
       "      <td>False</td>\n",
       "      <td>15.6</td>\n",
       "      <td>1920</td>\n",
       "      <td>1080</td>\n",
       "      <td>windows</td>\n",
       "      <td>1</td>\n",
       "    </tr>\n",
       "    <tr>\n",
       "      <th>...</th>\n",
       "      <td>...</td>\n",
       "      <td>...</td>\n",
       "      <td>...</td>\n",
       "      <td>...</td>\n",
       "      <td>...</td>\n",
       "      <td>...</td>\n",
       "      <td>...</td>\n",
       "      <td>...</td>\n",
       "      <td>...</td>\n",
       "      <td>...</td>\n",
       "      <td>...</td>\n",
       "      <td>...</td>\n",
       "      <td>...</td>\n",
       "      <td>...</td>\n",
       "      <td>...</td>\n",
       "      <td>...</td>\n",
       "      <td>...</td>\n",
       "      <td>...</td>\n",
       "      <td>...</td>\n",
       "      <td>...</td>\n",
       "      <td>...</td>\n",
       "    </tr>\n",
       "    <tr>\n",
       "      <th>986</th>\n",
       "      <td>998</td>\n",
       "      <td>asus</td>\n",
       "      <td>Asus Vivobook Pro 15 M6500QC-HN542WS Laptop (R...</td>\n",
       "      <td>65990</td>\n",
       "      <td>68</td>\n",
       "      <td>amd</td>\n",
       "      <td>ryzen 5</td>\n",
       "      <td>6</td>\n",
       "      <td>12</td>\n",
       "      <td>16</td>\n",
       "      <td>...</td>\n",
       "      <td>No secondary storage</td>\n",
       "      <td>0</td>\n",
       "      <td>nvidia</td>\n",
       "      <td>dedicated</td>\n",
       "      <td>False</td>\n",
       "      <td>15.6</td>\n",
       "      <td>1920</td>\n",
       "      <td>1080</td>\n",
       "      <td>windows</td>\n",
       "      <td>1</td>\n",
       "    </tr>\n",
       "    <tr>\n",
       "      <th>987</th>\n",
       "      <td>999</td>\n",
       "      <td>msi</td>\n",
       "      <td>MSI Thin GF63 12VE-070IN Gaming Laptop (12th G...</td>\n",
       "      <td>91990</td>\n",
       "      <td>73</td>\n",
       "      <td>intel</td>\n",
       "      <td>core i7</td>\n",
       "      <td>10</td>\n",
       "      <td>16</td>\n",
       "      <td>16</td>\n",
       "      <td>...</td>\n",
       "      <td>No secondary storage</td>\n",
       "      <td>0</td>\n",
       "      <td>nvidia</td>\n",
       "      <td>dedicated</td>\n",
       "      <td>False</td>\n",
       "      <td>15.6</td>\n",
       "      <td>1920</td>\n",
       "      <td>1080</td>\n",
       "      <td>windows</td>\n",
       "      <td>2</td>\n",
       "    </tr>\n",
       "    <tr>\n",
       "      <th>988</th>\n",
       "      <td>1000</td>\n",
       "      <td>asus</td>\n",
       "      <td>Asus Vivobook Go 15 2023 E1504FA-NJ522WS Lapto...</td>\n",
       "      <td>44990</td>\n",
       "      <td>59</td>\n",
       "      <td>amd</td>\n",
       "      <td>ryzen 5</td>\n",
       "      <td>4</td>\n",
       "      <td>8</td>\n",
       "      <td>8</td>\n",
       "      <td>...</td>\n",
       "      <td>No secondary storage</td>\n",
       "      <td>0</td>\n",
       "      <td>amd</td>\n",
       "      <td>integrated</td>\n",
       "      <td>False</td>\n",
       "      <td>15.6</td>\n",
       "      <td>1920</td>\n",
       "      <td>1080</td>\n",
       "      <td>windows</td>\n",
       "      <td>1</td>\n",
       "    </tr>\n",
       "    <tr>\n",
       "      <th>989</th>\n",
       "      <td>1001</td>\n",
       "      <td>asus</td>\n",
       "      <td>Asus Zenbook 14 2023 UM3402YA-KP541WS Laptop (...</td>\n",
       "      <td>67990</td>\n",
       "      <td>68</td>\n",
       "      <td>amd</td>\n",
       "      <td>ryzen 5</td>\n",
       "      <td>6</td>\n",
       "      <td>12</td>\n",
       "      <td>16</td>\n",
       "      <td>...</td>\n",
       "      <td>No secondary storage</td>\n",
       "      <td>0</td>\n",
       "      <td>amd</td>\n",
       "      <td>integrated</td>\n",
       "      <td>False</td>\n",
       "      <td>14.0</td>\n",
       "      <td>2560</td>\n",
       "      <td>1600</td>\n",
       "      <td>windows</td>\n",
       "      <td>1</td>\n",
       "    </tr>\n",
       "    <tr>\n",
       "      <th>990</th>\n",
       "      <td>1002</td>\n",
       "      <td>hp</td>\n",
       "      <td>HP Chromebook 15a-na0008TU Laptop (Intel Celer...</td>\n",
       "      <td>20990</td>\n",
       "      <td>37</td>\n",
       "      <td>intel</td>\n",
       "      <td>celeron</td>\n",
       "      <td>2</td>\n",
       "      <td>2</td>\n",
       "      <td>4</td>\n",
       "      <td>...</td>\n",
       "      <td>No secondary storage</td>\n",
       "      <td>0</td>\n",
       "      <td>intel</td>\n",
       "      <td>integrated</td>\n",
       "      <td>False</td>\n",
       "      <td>15.6</td>\n",
       "      <td>1366</td>\n",
       "      <td>768</td>\n",
       "      <td>chrome</td>\n",
       "      <td>1</td>\n",
       "    </tr>\n",
       "  </tbody>\n",
       "</table>\n",
       "<p>991 rows × 22 columns</p>\n",
       "</div>"
      ],
      "text/plain": [
       "     index   brand                                              Model  Price  \\\n",
       "0        1   tecno  Tecno Megabook T1 Laptop (11th Gen Core i3/ 8G...  23990   \n",
       "1        2   tecno  Tecno Megabook T1 Laptop (11th Gen Core i7/ 16...  35990   \n",
       "2        3      hp  HP Victus 15-fb0157AX Gaming Laptop (AMD Ryzen...  51100   \n",
       "3        4    acer  Acer Extensa EX214-53 Laptop (12th Gen Core i5...  39990   \n",
       "4        5  lenovo  Lenovo V15 82KDA01BIH Laptop (AMD Ryzen 3 5300...  28580   \n",
       "..     ...     ...                                                ...    ...   \n",
       "986    998    asus  Asus Vivobook Pro 15 M6500QC-HN542WS Laptop (R...  65990   \n",
       "987    999     msi  MSI Thin GF63 12VE-070IN Gaming Laptop (12th G...  91990   \n",
       "988   1000    asus  Asus Vivobook Go 15 2023 E1504FA-NJ522WS Lapto...  44990   \n",
       "989   1001    asus  Asus Zenbook 14 2023 UM3402YA-KP541WS Laptop (...  67990   \n",
       "990   1002      hp  HP Chromebook 15a-na0008TU Laptop (Intel Celer...  20990   \n",
       "\n",
       "     Rating processor_brand processor_tier  num_cores  num_threads  \\\n",
       "0        63           intel        core i3          2            4   \n",
       "1        67           intel        core i7          4            8   \n",
       "2        73             amd        ryzen 5          6           12   \n",
       "3        62           intel        core i5         12           16   \n",
       "4        62             amd        ryzen 3          4            8   \n",
       "..      ...             ...            ...        ...          ...   \n",
       "986      68             amd        ryzen 5          6           12   \n",
       "987      73           intel        core i7         10           16   \n",
       "988      59             amd        ryzen 5          4            8   \n",
       "989      68             amd        ryzen 5          6           12   \n",
       "990      37           intel        celeron          2            2   \n",
       "\n",
       "     ram_memory  ... secondary_storage_type  secondary_storage_capacity  \\\n",
       "0             8  ...   No secondary storage                           0   \n",
       "1            16  ...   No secondary storage                           0   \n",
       "2             8  ...   No secondary storage                           0   \n",
       "3             8  ...   No secondary storage                           0   \n",
       "4             8  ...   No secondary storage                           0   \n",
       "..          ...  ...                    ...                         ...   \n",
       "986          16  ...   No secondary storage                           0   \n",
       "987          16  ...   No secondary storage                           0   \n",
       "988           8  ...   No secondary storage                           0   \n",
       "989          16  ...   No secondary storage                           0   \n",
       "990           4  ...   No secondary storage                           0   \n",
       "\n",
       "    gpu_brand    gpu_type is_touch_screen display_size  resolution_width  \\\n",
       "0       intel  integrated           False         15.6              1920   \n",
       "1       intel  integrated           False         15.6              1920   \n",
       "2         amd   dedicated           False         15.6              1920   \n",
       "3       intel  integrated           False         14.0              1920   \n",
       "4         amd  integrated           False         15.6              1920   \n",
       "..        ...         ...             ...          ...               ...   \n",
       "986    nvidia   dedicated           False         15.6              1920   \n",
       "987    nvidia   dedicated           False         15.6              1920   \n",
       "988       amd  integrated           False         15.6              1920   \n",
       "989       amd  integrated           False         14.0              2560   \n",
       "990     intel  integrated           False         15.6              1366   \n",
       "\n",
       "     resolution_height       OS  year_of_warranty  \n",
       "0                 1080  windows                 1  \n",
       "1                 1080  windows                 1  \n",
       "2                 1080  windows                 1  \n",
       "3                 1080  windows                 1  \n",
       "4                 1080  windows                 1  \n",
       "..                 ...      ...               ...  \n",
       "986               1080  windows                 1  \n",
       "987               1080  windows                 2  \n",
       "988               1080  windows                 1  \n",
       "989               1600  windows                 1  \n",
       "990                768   chrome                 1  \n",
       "\n",
       "[991 rows x 22 columns]"
      ]
     },
     "execution_count": 77,
     "metadata": {},
     "output_type": "execute_result"
    }
   ],
   "source": [
    "df"
   ]
  },
  {
   "cell_type": "markdown",
   "metadata": {},
   "source": [
    "Метод `info()` возвращает сводную информацию о числе строк и столбцов, названиях столбцов и типах данных в них, числе ненулевых значений в каждом столбце."
   ]
  },
  {
   "cell_type": "code",
   "execution_count": 78,
   "metadata": {},
   "outputs": [
    {
     "name": "stdout",
     "output_type": "stream",
     "text": [
      "<class 'pandas.core.frame.DataFrame'>\n",
      "RangeIndex: 991 entries, 0 to 990\n",
      "Data columns (total 22 columns):\n",
      " #   Column                      Non-Null Count  Dtype  \n",
      "---  ------                      --------------  -----  \n",
      " 0   index                       991 non-null    int64  \n",
      " 1   brand                       991 non-null    object \n",
      " 2   Model                       991 non-null    object \n",
      " 3   Price                       991 non-null    int64  \n",
      " 4   Rating                      991 non-null    int64  \n",
      " 5   processor_brand             991 non-null    object \n",
      " 6   processor_tier              991 non-null    object \n",
      " 7   num_cores                   991 non-null    int64  \n",
      " 8   num_threads                 991 non-null    int64  \n",
      " 9   ram_memory                  991 non-null    int64  \n",
      " 10  primary_storage_type        991 non-null    object \n",
      " 11  primary_storage_capacity    991 non-null    int64  \n",
      " 12  secondary_storage_type      991 non-null    object \n",
      " 13  secondary_storage_capacity  991 non-null    int64  \n",
      " 14  gpu_brand                   991 non-null    object \n",
      " 15  gpu_type                    991 non-null    object \n",
      " 16  is_touch_screen             991 non-null    bool   \n",
      " 17  display_size                991 non-null    float64\n",
      " 18  resolution_width            991 non-null    int64  \n",
      " 19  resolution_height           991 non-null    int64  \n",
      " 20  OS                          991 non-null    object \n",
      " 21  year_of_warranty            991 non-null    object \n",
      "dtypes: bool(1), float64(1), int64(10), object(10)\n",
      "memory usage: 163.7+ KB\n"
     ]
    }
   ],
   "source": [
    "df.info()"
   ]
  },
  {
   "cell_type": "code",
   "execution_count": 79,
   "metadata": {},
   "outputs": [
    {
     "data": {
      "text/plain": [
       "year_of_warranty\n",
       "1                 900\n",
       "2                  63\n",
       "No information     18\n",
       "3                  10\n",
       "Name: count, dtype: int64"
      ]
     },
     "execution_count": 79,
     "metadata": {},
     "output_type": "execute_result"
    }
   ],
   "source": [
    "df['year_of_warranty'].value_counts()"
   ]
  },
  {
   "cell_type": "markdown",
   "metadata": {},
   "source": [
    "В выводе выше указано, что в датафрейме содержаться 991 строка (991 entries) и 22 колонки (22 columns). Указаны названия колонок, их тип и число ненулевых значений в каждой колонке. Для строковых переменных тип данных object, для столбцов, содержащих целые числа - типа данных int64, а для столбцов, содержащих числа с плавающей точкой - тип данных float64."
   ]
  },
  {
   "cell_type": "code",
   "execution_count": 80,
   "metadata": {},
   "outputs": [
    {
     "data": {
      "text/html": [
       "<div>\n",
       "<style scoped>\n",
       "    .dataframe tbody tr th:only-of-type {\n",
       "        vertical-align: middle;\n",
       "    }\n",
       "\n",
       "    .dataframe tbody tr th {\n",
       "        vertical-align: top;\n",
       "    }\n",
       "\n",
       "    .dataframe thead th {\n",
       "        text-align: right;\n",
       "    }\n",
       "</style>\n",
       "<table border=\"1\" class=\"dataframe\">\n",
       "  <thead>\n",
       "    <tr style=\"text-align: right;\">\n",
       "      <th></th>\n",
       "      <th>index</th>\n",
       "      <th>brand</th>\n",
       "      <th>Model</th>\n",
       "      <th>Price</th>\n",
       "      <th>Rating</th>\n",
       "      <th>processor_brand</th>\n",
       "      <th>processor_tier</th>\n",
       "      <th>num_cores</th>\n",
       "      <th>num_threads</th>\n",
       "      <th>ram_memory</th>\n",
       "      <th>...</th>\n",
       "      <th>secondary_storage_type</th>\n",
       "      <th>secondary_storage_capacity</th>\n",
       "      <th>gpu_brand</th>\n",
       "      <th>gpu_type</th>\n",
       "      <th>is_touch_screen</th>\n",
       "      <th>display_size</th>\n",
       "      <th>resolution_width</th>\n",
       "      <th>resolution_height</th>\n",
       "      <th>OS</th>\n",
       "      <th>year_of_warranty</th>\n",
       "    </tr>\n",
       "  </thead>\n",
       "  <tbody>\n",
       "    <tr>\n",
       "      <th>0</th>\n",
       "      <td>1</td>\n",
       "      <td>tecno</td>\n",
       "      <td>Tecno Megabook T1 Laptop (11th Gen Core i3/ 8G...</td>\n",
       "      <td>23990</td>\n",
       "      <td>63</td>\n",
       "      <td>intel</td>\n",
       "      <td>core i3</td>\n",
       "      <td>2</td>\n",
       "      <td>4</td>\n",
       "      <td>8</td>\n",
       "      <td>...</td>\n",
       "      <td>No secondary storage</td>\n",
       "      <td>0</td>\n",
       "      <td>intel</td>\n",
       "      <td>integrated</td>\n",
       "      <td>False</td>\n",
       "      <td>15.6</td>\n",
       "      <td>1920</td>\n",
       "      <td>1080</td>\n",
       "      <td>windows</td>\n",
       "      <td>1</td>\n",
       "    </tr>\n",
       "    <tr>\n",
       "      <th>1</th>\n",
       "      <td>2</td>\n",
       "      <td>tecno</td>\n",
       "      <td>Tecno Megabook T1 Laptop (11th Gen Core i7/ 16...</td>\n",
       "      <td>35990</td>\n",
       "      <td>67</td>\n",
       "      <td>intel</td>\n",
       "      <td>core i7</td>\n",
       "      <td>4</td>\n",
       "      <td>8</td>\n",
       "      <td>16</td>\n",
       "      <td>...</td>\n",
       "      <td>No secondary storage</td>\n",
       "      <td>0</td>\n",
       "      <td>intel</td>\n",
       "      <td>integrated</td>\n",
       "      <td>False</td>\n",
       "      <td>15.6</td>\n",
       "      <td>1920</td>\n",
       "      <td>1080</td>\n",
       "      <td>windows</td>\n",
       "      <td>1</td>\n",
       "    </tr>\n",
       "    <tr>\n",
       "      <th>2</th>\n",
       "      <td>3</td>\n",
       "      <td>hp</td>\n",
       "      <td>HP Victus 15-fb0157AX Gaming Laptop (AMD Ryzen...</td>\n",
       "      <td>51100</td>\n",
       "      <td>73</td>\n",
       "      <td>amd</td>\n",
       "      <td>ryzen 5</td>\n",
       "      <td>6</td>\n",
       "      <td>12</td>\n",
       "      <td>8</td>\n",
       "      <td>...</td>\n",
       "      <td>No secondary storage</td>\n",
       "      <td>0</td>\n",
       "      <td>amd</td>\n",
       "      <td>dedicated</td>\n",
       "      <td>False</td>\n",
       "      <td>15.6</td>\n",
       "      <td>1920</td>\n",
       "      <td>1080</td>\n",
       "      <td>windows</td>\n",
       "      <td>1</td>\n",
       "    </tr>\n",
       "    <tr>\n",
       "      <th>3</th>\n",
       "      <td>4</td>\n",
       "      <td>acer</td>\n",
       "      <td>Acer Extensa EX214-53 Laptop (12th Gen Core i5...</td>\n",
       "      <td>39990</td>\n",
       "      <td>62</td>\n",
       "      <td>intel</td>\n",
       "      <td>core i5</td>\n",
       "      <td>12</td>\n",
       "      <td>16</td>\n",
       "      <td>8</td>\n",
       "      <td>...</td>\n",
       "      <td>No secondary storage</td>\n",
       "      <td>0</td>\n",
       "      <td>intel</td>\n",
       "      <td>integrated</td>\n",
       "      <td>False</td>\n",
       "      <td>14.0</td>\n",
       "      <td>1920</td>\n",
       "      <td>1080</td>\n",
       "      <td>windows</td>\n",
       "      <td>1</td>\n",
       "    </tr>\n",
       "    <tr>\n",
       "      <th>4</th>\n",
       "      <td>5</td>\n",
       "      <td>lenovo</td>\n",
       "      <td>Lenovo V15 82KDA01BIH Laptop (AMD Ryzen 3 5300...</td>\n",
       "      <td>28580</td>\n",
       "      <td>62</td>\n",
       "      <td>amd</td>\n",
       "      <td>ryzen 3</td>\n",
       "      <td>4</td>\n",
       "      <td>8</td>\n",
       "      <td>8</td>\n",
       "      <td>...</td>\n",
       "      <td>No secondary storage</td>\n",
       "      <td>0</td>\n",
       "      <td>amd</td>\n",
       "      <td>integrated</td>\n",
       "      <td>False</td>\n",
       "      <td>15.6</td>\n",
       "      <td>1920</td>\n",
       "      <td>1080</td>\n",
       "      <td>windows</td>\n",
       "      <td>1</td>\n",
       "    </tr>\n",
       "  </tbody>\n",
       "</table>\n",
       "<p>5 rows × 22 columns</p>\n",
       "</div>"
      ],
      "text/plain": [
       "   index   brand                                              Model  Price  \\\n",
       "0      1   tecno  Tecno Megabook T1 Laptop (11th Gen Core i3/ 8G...  23990   \n",
       "1      2   tecno  Tecno Megabook T1 Laptop (11th Gen Core i7/ 16...  35990   \n",
       "2      3      hp  HP Victus 15-fb0157AX Gaming Laptop (AMD Ryzen...  51100   \n",
       "3      4    acer  Acer Extensa EX214-53 Laptop (12th Gen Core i5...  39990   \n",
       "4      5  lenovo  Lenovo V15 82KDA01BIH Laptop (AMD Ryzen 3 5300...  28580   \n",
       "\n",
       "   Rating processor_brand processor_tier  num_cores  num_threads  ram_memory  \\\n",
       "0      63           intel        core i3          2            4           8   \n",
       "1      67           intel        core i7          4            8          16   \n",
       "2      73             amd        ryzen 5          6           12           8   \n",
       "3      62           intel        core i5         12           16           8   \n",
       "4      62             amd        ryzen 3          4            8           8   \n",
       "\n",
       "   ... secondary_storage_type  secondary_storage_capacity gpu_brand  \\\n",
       "0  ...   No secondary storage                           0     intel   \n",
       "1  ...   No secondary storage                           0     intel   \n",
       "2  ...   No secondary storage                           0       amd   \n",
       "3  ...   No secondary storage                           0     intel   \n",
       "4  ...   No secondary storage                           0       amd   \n",
       "\n",
       "     gpu_type is_touch_screen display_size  resolution_width  \\\n",
       "0  integrated           False         15.6              1920   \n",
       "1  integrated           False         15.6              1920   \n",
       "2   dedicated           False         15.6              1920   \n",
       "3  integrated           False         14.0              1920   \n",
       "4  integrated           False         15.6              1920   \n",
       "\n",
       "   resolution_height       OS  year_of_warranty  \n",
       "0               1080  windows                 1  \n",
       "1               1080  windows                 1  \n",
       "2               1080  windows                 1  \n",
       "3               1080  windows                 1  \n",
       "4               1080  windows                 1  \n",
       "\n",
       "[5 rows x 22 columns]"
      ]
     },
     "execution_count": 80,
     "metadata": {},
     "output_type": "execute_result"
    }
   ],
   "source": [
    "df.head()  # отобразить первые пять записей"
   ]
  },
  {
   "cell_type": "code",
   "execution_count": 81,
   "metadata": {},
   "outputs": [
    {
     "data": {
      "text/html": [
       "<div>\n",
       "<style scoped>\n",
       "    .dataframe tbody tr th:only-of-type {\n",
       "        vertical-align: middle;\n",
       "    }\n",
       "\n",
       "    .dataframe tbody tr th {\n",
       "        vertical-align: top;\n",
       "    }\n",
       "\n",
       "    .dataframe thead th {\n",
       "        text-align: right;\n",
       "    }\n",
       "</style>\n",
       "<table border=\"1\" class=\"dataframe\">\n",
       "  <thead>\n",
       "    <tr style=\"text-align: right;\">\n",
       "      <th></th>\n",
       "      <th>index</th>\n",
       "      <th>brand</th>\n",
       "      <th>Model</th>\n",
       "      <th>Price</th>\n",
       "      <th>Rating</th>\n",
       "      <th>processor_brand</th>\n",
       "      <th>processor_tier</th>\n",
       "      <th>num_cores</th>\n",
       "      <th>num_threads</th>\n",
       "      <th>ram_memory</th>\n",
       "      <th>...</th>\n",
       "      <th>secondary_storage_type</th>\n",
       "      <th>secondary_storage_capacity</th>\n",
       "      <th>gpu_brand</th>\n",
       "      <th>gpu_type</th>\n",
       "      <th>is_touch_screen</th>\n",
       "      <th>display_size</th>\n",
       "      <th>resolution_width</th>\n",
       "      <th>resolution_height</th>\n",
       "      <th>OS</th>\n",
       "      <th>year_of_warranty</th>\n",
       "    </tr>\n",
       "  </thead>\n",
       "  <tbody>\n",
       "    <tr>\n",
       "      <th>0</th>\n",
       "      <td>1</td>\n",
       "      <td>tecno</td>\n",
       "      <td>Tecno Megabook T1 Laptop (11th Gen Core i3/ 8G...</td>\n",
       "      <td>23990</td>\n",
       "      <td>63</td>\n",
       "      <td>intel</td>\n",
       "      <td>core i3</td>\n",
       "      <td>2</td>\n",
       "      <td>4</td>\n",
       "      <td>8</td>\n",
       "      <td>...</td>\n",
       "      <td>No secondary storage</td>\n",
       "      <td>0</td>\n",
       "      <td>intel</td>\n",
       "      <td>integrated</td>\n",
       "      <td>False</td>\n",
       "      <td>15.6</td>\n",
       "      <td>1920</td>\n",
       "      <td>1080</td>\n",
       "      <td>windows</td>\n",
       "      <td>1</td>\n",
       "    </tr>\n",
       "    <tr>\n",
       "      <th>1</th>\n",
       "      <td>2</td>\n",
       "      <td>tecno</td>\n",
       "      <td>Tecno Megabook T1 Laptop (11th Gen Core i7/ 16...</td>\n",
       "      <td>35990</td>\n",
       "      <td>67</td>\n",
       "      <td>intel</td>\n",
       "      <td>core i7</td>\n",
       "      <td>4</td>\n",
       "      <td>8</td>\n",
       "      <td>16</td>\n",
       "      <td>...</td>\n",
       "      <td>No secondary storage</td>\n",
       "      <td>0</td>\n",
       "      <td>intel</td>\n",
       "      <td>integrated</td>\n",
       "      <td>False</td>\n",
       "      <td>15.6</td>\n",
       "      <td>1920</td>\n",
       "      <td>1080</td>\n",
       "      <td>windows</td>\n",
       "      <td>1</td>\n",
       "    </tr>\n",
       "    <tr>\n",
       "      <th>2</th>\n",
       "      <td>3</td>\n",
       "      <td>hp</td>\n",
       "      <td>HP Victus 15-fb0157AX Gaming Laptop (AMD Ryzen...</td>\n",
       "      <td>51100</td>\n",
       "      <td>73</td>\n",
       "      <td>amd</td>\n",
       "      <td>ryzen 5</td>\n",
       "      <td>6</td>\n",
       "      <td>12</td>\n",
       "      <td>8</td>\n",
       "      <td>...</td>\n",
       "      <td>No secondary storage</td>\n",
       "      <td>0</td>\n",
       "      <td>amd</td>\n",
       "      <td>dedicated</td>\n",
       "      <td>False</td>\n",
       "      <td>15.6</td>\n",
       "      <td>1920</td>\n",
       "      <td>1080</td>\n",
       "      <td>windows</td>\n",
       "      <td>1</td>\n",
       "    </tr>\n",
       "    <tr>\n",
       "      <th>3</th>\n",
       "      <td>4</td>\n",
       "      <td>acer</td>\n",
       "      <td>Acer Extensa EX214-53 Laptop (12th Gen Core i5...</td>\n",
       "      <td>39990</td>\n",
       "      <td>62</td>\n",
       "      <td>intel</td>\n",
       "      <td>core i5</td>\n",
       "      <td>12</td>\n",
       "      <td>16</td>\n",
       "      <td>8</td>\n",
       "      <td>...</td>\n",
       "      <td>No secondary storage</td>\n",
       "      <td>0</td>\n",
       "      <td>intel</td>\n",
       "      <td>integrated</td>\n",
       "      <td>False</td>\n",
       "      <td>14.0</td>\n",
       "      <td>1920</td>\n",
       "      <td>1080</td>\n",
       "      <td>windows</td>\n",
       "      <td>1</td>\n",
       "    </tr>\n",
       "    <tr>\n",
       "      <th>4</th>\n",
       "      <td>5</td>\n",
       "      <td>lenovo</td>\n",
       "      <td>Lenovo V15 82KDA01BIH Laptop (AMD Ryzen 3 5300...</td>\n",
       "      <td>28580</td>\n",
       "      <td>62</td>\n",
       "      <td>amd</td>\n",
       "      <td>ryzen 3</td>\n",
       "      <td>4</td>\n",
       "      <td>8</td>\n",
       "      <td>8</td>\n",
       "      <td>...</td>\n",
       "      <td>No secondary storage</td>\n",
       "      <td>0</td>\n",
       "      <td>amd</td>\n",
       "      <td>integrated</td>\n",
       "      <td>False</td>\n",
       "      <td>15.6</td>\n",
       "      <td>1920</td>\n",
       "      <td>1080</td>\n",
       "      <td>windows</td>\n",
       "      <td>1</td>\n",
       "    </tr>\n",
       "    <tr>\n",
       "      <th>5</th>\n",
       "      <td>6</td>\n",
       "      <td>apple</td>\n",
       "      <td>Apple MacBook Air 2020 MGND3HN Laptop (Apple M...</td>\n",
       "      <td>70990</td>\n",
       "      <td>45</td>\n",
       "      <td>apple</td>\n",
       "      <td>m1</td>\n",
       "      <td>8</td>\n",
       "      <td>8</td>\n",
       "      <td>8</td>\n",
       "      <td>...</td>\n",
       "      <td>No secondary storage</td>\n",
       "      <td>0</td>\n",
       "      <td>apple</td>\n",
       "      <td>apple</td>\n",
       "      <td>False</td>\n",
       "      <td>13.3</td>\n",
       "      <td>2560</td>\n",
       "      <td>1600</td>\n",
       "      <td>mac</td>\n",
       "      <td>1</td>\n",
       "    </tr>\n",
       "    <tr>\n",
       "      <th>6</th>\n",
       "      <td>7</td>\n",
       "      <td>infinix</td>\n",
       "      <td>Infinix INBook Y2 Plus Laptop (11th Gen Core i...</td>\n",
       "      <td>34990</td>\n",
       "      <td>56</td>\n",
       "      <td>intel</td>\n",
       "      <td>core i5</td>\n",
       "      <td>4</td>\n",
       "      <td>8</td>\n",
       "      <td>16</td>\n",
       "      <td>...</td>\n",
       "      <td>No secondary storage</td>\n",
       "      <td>0</td>\n",
       "      <td>intel</td>\n",
       "      <td>integrated</td>\n",
       "      <td>False</td>\n",
       "      <td>15.6</td>\n",
       "      <td>1920</td>\n",
       "      <td>1080</td>\n",
       "      <td>windows</td>\n",
       "      <td>1</td>\n",
       "    </tr>\n",
       "  </tbody>\n",
       "</table>\n",
       "<p>7 rows × 22 columns</p>\n",
       "</div>"
      ],
      "text/plain": [
       "   index    brand                                              Model  Price  \\\n",
       "0      1    tecno  Tecno Megabook T1 Laptop (11th Gen Core i3/ 8G...  23990   \n",
       "1      2    tecno  Tecno Megabook T1 Laptop (11th Gen Core i7/ 16...  35990   \n",
       "2      3       hp  HP Victus 15-fb0157AX Gaming Laptop (AMD Ryzen...  51100   \n",
       "3      4     acer  Acer Extensa EX214-53 Laptop (12th Gen Core i5...  39990   \n",
       "4      5   lenovo  Lenovo V15 82KDA01BIH Laptop (AMD Ryzen 3 5300...  28580   \n",
       "5      6    apple  Apple MacBook Air 2020 MGND3HN Laptop (Apple M...  70990   \n",
       "6      7  infinix  Infinix INBook Y2 Plus Laptop (11th Gen Core i...  34990   \n",
       "\n",
       "   Rating processor_brand processor_tier  num_cores  num_threads  ram_memory  \\\n",
       "0      63           intel        core i3          2            4           8   \n",
       "1      67           intel        core i7          4            8          16   \n",
       "2      73             amd        ryzen 5          6           12           8   \n",
       "3      62           intel        core i5         12           16           8   \n",
       "4      62             amd        ryzen 3          4            8           8   \n",
       "5      45           apple             m1          8            8           8   \n",
       "6      56           intel        core i5          4            8          16   \n",
       "\n",
       "   ... secondary_storage_type  secondary_storage_capacity gpu_brand  \\\n",
       "0  ...   No secondary storage                           0     intel   \n",
       "1  ...   No secondary storage                           0     intel   \n",
       "2  ...   No secondary storage                           0       amd   \n",
       "3  ...   No secondary storage                           0     intel   \n",
       "4  ...   No secondary storage                           0       amd   \n",
       "5  ...   No secondary storage                           0     apple   \n",
       "6  ...   No secondary storage                           0     intel   \n",
       "\n",
       "     gpu_type is_touch_screen display_size  resolution_width  \\\n",
       "0  integrated           False         15.6              1920   \n",
       "1  integrated           False         15.6              1920   \n",
       "2   dedicated           False         15.6              1920   \n",
       "3  integrated           False         14.0              1920   \n",
       "4  integrated           False         15.6              1920   \n",
       "5       apple           False         13.3              2560   \n",
       "6  integrated           False         15.6              1920   \n",
       "\n",
       "   resolution_height       OS  year_of_warranty  \n",
       "0               1080  windows                 1  \n",
       "1               1080  windows                 1  \n",
       "2               1080  windows                 1  \n",
       "3               1080  windows                 1  \n",
       "4               1080  windows                 1  \n",
       "5               1600      mac                 1  \n",
       "6               1080  windows                 1  \n",
       "\n",
       "[7 rows x 22 columns]"
      ]
     },
     "execution_count": 81,
     "metadata": {},
     "output_type": "execute_result"
    }
   ],
   "source": [
    "df.head(7)  # отобразить первые 7 записей"
   ]
  },
  {
   "cell_type": "code",
   "execution_count": 82,
   "metadata": {},
   "outputs": [
    {
     "data": {
      "text/html": [
       "<div>\n",
       "<style scoped>\n",
       "    .dataframe tbody tr th:only-of-type {\n",
       "        vertical-align: middle;\n",
       "    }\n",
       "\n",
       "    .dataframe tbody tr th {\n",
       "        vertical-align: top;\n",
       "    }\n",
       "\n",
       "    .dataframe thead th {\n",
       "        text-align: right;\n",
       "    }\n",
       "</style>\n",
       "<table border=\"1\" class=\"dataframe\">\n",
       "  <thead>\n",
       "    <tr style=\"text-align: right;\">\n",
       "      <th></th>\n",
       "      <th>index</th>\n",
       "      <th>brand</th>\n",
       "      <th>Model</th>\n",
       "      <th>Price</th>\n",
       "      <th>Rating</th>\n",
       "      <th>processor_brand</th>\n",
       "      <th>processor_tier</th>\n",
       "      <th>num_cores</th>\n",
       "      <th>num_threads</th>\n",
       "      <th>ram_memory</th>\n",
       "      <th>...</th>\n",
       "      <th>secondary_storage_type</th>\n",
       "      <th>secondary_storage_capacity</th>\n",
       "      <th>gpu_brand</th>\n",
       "      <th>gpu_type</th>\n",
       "      <th>is_touch_screen</th>\n",
       "      <th>display_size</th>\n",
       "      <th>resolution_width</th>\n",
       "      <th>resolution_height</th>\n",
       "      <th>OS</th>\n",
       "      <th>year_of_warranty</th>\n",
       "    </tr>\n",
       "  </thead>\n",
       "  <tbody>\n",
       "    <tr>\n",
       "      <th>986</th>\n",
       "      <td>998</td>\n",
       "      <td>asus</td>\n",
       "      <td>Asus Vivobook Pro 15 M6500QC-HN542WS Laptop (R...</td>\n",
       "      <td>65990</td>\n",
       "      <td>68</td>\n",
       "      <td>amd</td>\n",
       "      <td>ryzen 5</td>\n",
       "      <td>6</td>\n",
       "      <td>12</td>\n",
       "      <td>16</td>\n",
       "      <td>...</td>\n",
       "      <td>No secondary storage</td>\n",
       "      <td>0</td>\n",
       "      <td>nvidia</td>\n",
       "      <td>dedicated</td>\n",
       "      <td>False</td>\n",
       "      <td>15.6</td>\n",
       "      <td>1920</td>\n",
       "      <td>1080</td>\n",
       "      <td>windows</td>\n",
       "      <td>1</td>\n",
       "    </tr>\n",
       "    <tr>\n",
       "      <th>987</th>\n",
       "      <td>999</td>\n",
       "      <td>msi</td>\n",
       "      <td>MSI Thin GF63 12VE-070IN Gaming Laptop (12th G...</td>\n",
       "      <td>91990</td>\n",
       "      <td>73</td>\n",
       "      <td>intel</td>\n",
       "      <td>core i7</td>\n",
       "      <td>10</td>\n",
       "      <td>16</td>\n",
       "      <td>16</td>\n",
       "      <td>...</td>\n",
       "      <td>No secondary storage</td>\n",
       "      <td>0</td>\n",
       "      <td>nvidia</td>\n",
       "      <td>dedicated</td>\n",
       "      <td>False</td>\n",
       "      <td>15.6</td>\n",
       "      <td>1920</td>\n",
       "      <td>1080</td>\n",
       "      <td>windows</td>\n",
       "      <td>2</td>\n",
       "    </tr>\n",
       "    <tr>\n",
       "      <th>988</th>\n",
       "      <td>1000</td>\n",
       "      <td>asus</td>\n",
       "      <td>Asus Vivobook Go 15 2023 E1504FA-NJ522WS Lapto...</td>\n",
       "      <td>44990</td>\n",
       "      <td>59</td>\n",
       "      <td>amd</td>\n",
       "      <td>ryzen 5</td>\n",
       "      <td>4</td>\n",
       "      <td>8</td>\n",
       "      <td>8</td>\n",
       "      <td>...</td>\n",
       "      <td>No secondary storage</td>\n",
       "      <td>0</td>\n",
       "      <td>amd</td>\n",
       "      <td>integrated</td>\n",
       "      <td>False</td>\n",
       "      <td>15.6</td>\n",
       "      <td>1920</td>\n",
       "      <td>1080</td>\n",
       "      <td>windows</td>\n",
       "      <td>1</td>\n",
       "    </tr>\n",
       "    <tr>\n",
       "      <th>989</th>\n",
       "      <td>1001</td>\n",
       "      <td>asus</td>\n",
       "      <td>Asus Zenbook 14 2023 UM3402YA-KP541WS Laptop (...</td>\n",
       "      <td>67990</td>\n",
       "      <td>68</td>\n",
       "      <td>amd</td>\n",
       "      <td>ryzen 5</td>\n",
       "      <td>6</td>\n",
       "      <td>12</td>\n",
       "      <td>16</td>\n",
       "      <td>...</td>\n",
       "      <td>No secondary storage</td>\n",
       "      <td>0</td>\n",
       "      <td>amd</td>\n",
       "      <td>integrated</td>\n",
       "      <td>False</td>\n",
       "      <td>14.0</td>\n",
       "      <td>2560</td>\n",
       "      <td>1600</td>\n",
       "      <td>windows</td>\n",
       "      <td>1</td>\n",
       "    </tr>\n",
       "    <tr>\n",
       "      <th>990</th>\n",
       "      <td>1002</td>\n",
       "      <td>hp</td>\n",
       "      <td>HP Chromebook 15a-na0008TU Laptop (Intel Celer...</td>\n",
       "      <td>20990</td>\n",
       "      <td>37</td>\n",
       "      <td>intel</td>\n",
       "      <td>celeron</td>\n",
       "      <td>2</td>\n",
       "      <td>2</td>\n",
       "      <td>4</td>\n",
       "      <td>...</td>\n",
       "      <td>No secondary storage</td>\n",
       "      <td>0</td>\n",
       "      <td>intel</td>\n",
       "      <td>integrated</td>\n",
       "      <td>False</td>\n",
       "      <td>15.6</td>\n",
       "      <td>1366</td>\n",
       "      <td>768</td>\n",
       "      <td>chrome</td>\n",
       "      <td>1</td>\n",
       "    </tr>\n",
       "  </tbody>\n",
       "</table>\n",
       "<p>5 rows × 22 columns</p>\n",
       "</div>"
      ],
      "text/plain": [
       "     index brand                                              Model  Price  \\\n",
       "986    998  asus  Asus Vivobook Pro 15 M6500QC-HN542WS Laptop (R...  65990   \n",
       "987    999   msi  MSI Thin GF63 12VE-070IN Gaming Laptop (12th G...  91990   \n",
       "988   1000  asus  Asus Vivobook Go 15 2023 E1504FA-NJ522WS Lapto...  44990   \n",
       "989   1001  asus  Asus Zenbook 14 2023 UM3402YA-KP541WS Laptop (...  67990   \n",
       "990   1002    hp  HP Chromebook 15a-na0008TU Laptop (Intel Celer...  20990   \n",
       "\n",
       "     Rating processor_brand processor_tier  num_cores  num_threads  \\\n",
       "986      68             amd        ryzen 5          6           12   \n",
       "987      73           intel        core i7         10           16   \n",
       "988      59             amd        ryzen 5          4            8   \n",
       "989      68             amd        ryzen 5          6           12   \n",
       "990      37           intel        celeron          2            2   \n",
       "\n",
       "     ram_memory  ... secondary_storage_type  secondary_storage_capacity  \\\n",
       "986          16  ...   No secondary storage                           0   \n",
       "987          16  ...   No secondary storage                           0   \n",
       "988           8  ...   No secondary storage                           0   \n",
       "989          16  ...   No secondary storage                           0   \n",
       "990           4  ...   No secondary storage                           0   \n",
       "\n",
       "    gpu_brand    gpu_type is_touch_screen display_size  resolution_width  \\\n",
       "986    nvidia   dedicated           False         15.6              1920   \n",
       "987    nvidia   dedicated           False         15.6              1920   \n",
       "988       amd  integrated           False         15.6              1920   \n",
       "989       amd  integrated           False         14.0              2560   \n",
       "990     intel  integrated           False         15.6              1366   \n",
       "\n",
       "     resolution_height       OS  year_of_warranty  \n",
       "986               1080  windows                 1  \n",
       "987               1080  windows                 2  \n",
       "988               1080  windows                 1  \n",
       "989               1600  windows                 1  \n",
       "990                768   chrome                 1  \n",
       "\n",
       "[5 rows x 22 columns]"
      ]
     },
     "execution_count": 82,
     "metadata": {},
     "output_type": "execute_result"
    }
   ],
   "source": [
    "df.tail()  # отобразить последние 5 записей"
   ]
  },
  {
   "cell_type": "code",
   "execution_count": 83,
   "metadata": {},
   "outputs": [
    {
     "data": {
      "text/html": [
       "<div>\n",
       "<style scoped>\n",
       "    .dataframe tbody tr th:only-of-type {\n",
       "        vertical-align: middle;\n",
       "    }\n",
       "\n",
       "    .dataframe tbody tr th {\n",
       "        vertical-align: top;\n",
       "    }\n",
       "\n",
       "    .dataframe thead th {\n",
       "        text-align: right;\n",
       "    }\n",
       "</style>\n",
       "<table border=\"1\" class=\"dataframe\">\n",
       "  <thead>\n",
       "    <tr style=\"text-align: right;\">\n",
       "      <th></th>\n",
       "      <th>index</th>\n",
       "      <th>brand</th>\n",
       "      <th>Model</th>\n",
       "      <th>Price</th>\n",
       "      <th>Rating</th>\n",
       "      <th>processor_brand</th>\n",
       "      <th>processor_tier</th>\n",
       "      <th>num_cores</th>\n",
       "      <th>num_threads</th>\n",
       "      <th>ram_memory</th>\n",
       "      <th>...</th>\n",
       "      <th>secondary_storage_type</th>\n",
       "      <th>secondary_storage_capacity</th>\n",
       "      <th>gpu_brand</th>\n",
       "      <th>gpu_type</th>\n",
       "      <th>is_touch_screen</th>\n",
       "      <th>display_size</th>\n",
       "      <th>resolution_width</th>\n",
       "      <th>resolution_height</th>\n",
       "      <th>OS</th>\n",
       "      <th>year_of_warranty</th>\n",
       "    </tr>\n",
       "  </thead>\n",
       "  <tbody>\n",
       "    <tr>\n",
       "      <th>984</th>\n",
       "      <td>996</td>\n",
       "      <td>asus</td>\n",
       "      <td>Asus Vivobook 16 2023 M1605YA-MB541WS Laptop (...</td>\n",
       "      <td>59990</td>\n",
       "      <td>64</td>\n",
       "      <td>amd</td>\n",
       "      <td>ryzen 5</td>\n",
       "      <td>6</td>\n",
       "      <td>12</td>\n",
       "      <td>16</td>\n",
       "      <td>...</td>\n",
       "      <td>No secondary storage</td>\n",
       "      <td>0</td>\n",
       "      <td>amd</td>\n",
       "      <td>integrated</td>\n",
       "      <td>False</td>\n",
       "      <td>16.0</td>\n",
       "      <td>1920</td>\n",
       "      <td>1200</td>\n",
       "      <td>windows</td>\n",
       "      <td>1</td>\n",
       "    </tr>\n",
       "    <tr>\n",
       "      <th>985</th>\n",
       "      <td>997</td>\n",
       "      <td>acer</td>\n",
       "      <td>Acer Nitro 5 AN515-47 NH.QL3SI.003 Gaming Lapt...</td>\n",
       "      <td>75500</td>\n",
       "      <td>67</td>\n",
       "      <td>amd</td>\n",
       "      <td>ryzen 7</td>\n",
       "      <td>8</td>\n",
       "      <td>16</td>\n",
       "      <td>8</td>\n",
       "      <td>...</td>\n",
       "      <td>No secondary storage</td>\n",
       "      <td>0</td>\n",
       "      <td>nvidia</td>\n",
       "      <td>dedicated</td>\n",
       "      <td>False</td>\n",
       "      <td>15.6</td>\n",
       "      <td>1920</td>\n",
       "      <td>1080</td>\n",
       "      <td>windows</td>\n",
       "      <td>1</td>\n",
       "    </tr>\n",
       "    <tr>\n",
       "      <th>986</th>\n",
       "      <td>998</td>\n",
       "      <td>asus</td>\n",
       "      <td>Asus Vivobook Pro 15 M6500QC-HN542WS Laptop (R...</td>\n",
       "      <td>65990</td>\n",
       "      <td>68</td>\n",
       "      <td>amd</td>\n",
       "      <td>ryzen 5</td>\n",
       "      <td>6</td>\n",
       "      <td>12</td>\n",
       "      <td>16</td>\n",
       "      <td>...</td>\n",
       "      <td>No secondary storage</td>\n",
       "      <td>0</td>\n",
       "      <td>nvidia</td>\n",
       "      <td>dedicated</td>\n",
       "      <td>False</td>\n",
       "      <td>15.6</td>\n",
       "      <td>1920</td>\n",
       "      <td>1080</td>\n",
       "      <td>windows</td>\n",
       "      <td>1</td>\n",
       "    </tr>\n",
       "    <tr>\n",
       "      <th>987</th>\n",
       "      <td>999</td>\n",
       "      <td>msi</td>\n",
       "      <td>MSI Thin GF63 12VE-070IN Gaming Laptop (12th G...</td>\n",
       "      <td>91990</td>\n",
       "      <td>73</td>\n",
       "      <td>intel</td>\n",
       "      <td>core i7</td>\n",
       "      <td>10</td>\n",
       "      <td>16</td>\n",
       "      <td>16</td>\n",
       "      <td>...</td>\n",
       "      <td>No secondary storage</td>\n",
       "      <td>0</td>\n",
       "      <td>nvidia</td>\n",
       "      <td>dedicated</td>\n",
       "      <td>False</td>\n",
       "      <td>15.6</td>\n",
       "      <td>1920</td>\n",
       "      <td>1080</td>\n",
       "      <td>windows</td>\n",
       "      <td>2</td>\n",
       "    </tr>\n",
       "    <tr>\n",
       "      <th>988</th>\n",
       "      <td>1000</td>\n",
       "      <td>asus</td>\n",
       "      <td>Asus Vivobook Go 15 2023 E1504FA-NJ522WS Lapto...</td>\n",
       "      <td>44990</td>\n",
       "      <td>59</td>\n",
       "      <td>amd</td>\n",
       "      <td>ryzen 5</td>\n",
       "      <td>4</td>\n",
       "      <td>8</td>\n",
       "      <td>8</td>\n",
       "      <td>...</td>\n",
       "      <td>No secondary storage</td>\n",
       "      <td>0</td>\n",
       "      <td>amd</td>\n",
       "      <td>integrated</td>\n",
       "      <td>False</td>\n",
       "      <td>15.6</td>\n",
       "      <td>1920</td>\n",
       "      <td>1080</td>\n",
       "      <td>windows</td>\n",
       "      <td>1</td>\n",
       "    </tr>\n",
       "    <tr>\n",
       "      <th>989</th>\n",
       "      <td>1001</td>\n",
       "      <td>asus</td>\n",
       "      <td>Asus Zenbook 14 2023 UM3402YA-KP541WS Laptop (...</td>\n",
       "      <td>67990</td>\n",
       "      <td>68</td>\n",
       "      <td>amd</td>\n",
       "      <td>ryzen 5</td>\n",
       "      <td>6</td>\n",
       "      <td>12</td>\n",
       "      <td>16</td>\n",
       "      <td>...</td>\n",
       "      <td>No secondary storage</td>\n",
       "      <td>0</td>\n",
       "      <td>amd</td>\n",
       "      <td>integrated</td>\n",
       "      <td>False</td>\n",
       "      <td>14.0</td>\n",
       "      <td>2560</td>\n",
       "      <td>1600</td>\n",
       "      <td>windows</td>\n",
       "      <td>1</td>\n",
       "    </tr>\n",
       "    <tr>\n",
       "      <th>990</th>\n",
       "      <td>1002</td>\n",
       "      <td>hp</td>\n",
       "      <td>HP Chromebook 15a-na0008TU Laptop (Intel Celer...</td>\n",
       "      <td>20990</td>\n",
       "      <td>37</td>\n",
       "      <td>intel</td>\n",
       "      <td>celeron</td>\n",
       "      <td>2</td>\n",
       "      <td>2</td>\n",
       "      <td>4</td>\n",
       "      <td>...</td>\n",
       "      <td>No secondary storage</td>\n",
       "      <td>0</td>\n",
       "      <td>intel</td>\n",
       "      <td>integrated</td>\n",
       "      <td>False</td>\n",
       "      <td>15.6</td>\n",
       "      <td>1366</td>\n",
       "      <td>768</td>\n",
       "      <td>chrome</td>\n",
       "      <td>1</td>\n",
       "    </tr>\n",
       "  </tbody>\n",
       "</table>\n",
       "<p>7 rows × 22 columns</p>\n",
       "</div>"
      ],
      "text/plain": [
       "     index brand                                              Model  Price  \\\n",
       "984    996  asus  Asus Vivobook 16 2023 M1605YA-MB541WS Laptop (...  59990   \n",
       "985    997  acer  Acer Nitro 5 AN515-47 NH.QL3SI.003 Gaming Lapt...  75500   \n",
       "986    998  asus  Asus Vivobook Pro 15 M6500QC-HN542WS Laptop (R...  65990   \n",
       "987    999   msi  MSI Thin GF63 12VE-070IN Gaming Laptop (12th G...  91990   \n",
       "988   1000  asus  Asus Vivobook Go 15 2023 E1504FA-NJ522WS Lapto...  44990   \n",
       "989   1001  asus  Asus Zenbook 14 2023 UM3402YA-KP541WS Laptop (...  67990   \n",
       "990   1002    hp  HP Chromebook 15a-na0008TU Laptop (Intel Celer...  20990   \n",
       "\n",
       "     Rating processor_brand processor_tier  num_cores  num_threads  \\\n",
       "984      64             amd        ryzen 5          6           12   \n",
       "985      67             amd        ryzen 7          8           16   \n",
       "986      68             amd        ryzen 5          6           12   \n",
       "987      73           intel        core i7         10           16   \n",
       "988      59             amd        ryzen 5          4            8   \n",
       "989      68             amd        ryzen 5          6           12   \n",
       "990      37           intel        celeron          2            2   \n",
       "\n",
       "     ram_memory  ... secondary_storage_type  secondary_storage_capacity  \\\n",
       "984          16  ...   No secondary storage                           0   \n",
       "985           8  ...   No secondary storage                           0   \n",
       "986          16  ...   No secondary storage                           0   \n",
       "987          16  ...   No secondary storage                           0   \n",
       "988           8  ...   No secondary storage                           0   \n",
       "989          16  ...   No secondary storage                           0   \n",
       "990           4  ...   No secondary storage                           0   \n",
       "\n",
       "    gpu_brand    gpu_type is_touch_screen display_size  resolution_width  \\\n",
       "984       amd  integrated           False         16.0              1920   \n",
       "985    nvidia   dedicated           False         15.6              1920   \n",
       "986    nvidia   dedicated           False         15.6              1920   \n",
       "987    nvidia   dedicated           False         15.6              1920   \n",
       "988       amd  integrated           False         15.6              1920   \n",
       "989       amd  integrated           False         14.0              2560   \n",
       "990     intel  integrated           False         15.6              1366   \n",
       "\n",
       "     resolution_height       OS  year_of_warranty  \n",
       "984               1200  windows                 1  \n",
       "985               1080  windows                 1  \n",
       "986               1080  windows                 1  \n",
       "987               1080  windows                 2  \n",
       "988               1080  windows                 1  \n",
       "989               1600  windows                 1  \n",
       "990                768   chrome                 1  \n",
       "\n",
       "[7 rows x 22 columns]"
      ]
     },
     "execution_count": 83,
     "metadata": {},
     "output_type": "execute_result"
    }
   ],
   "source": [
    "df.tail(7)  # отобразить последние 7 записей"
   ]
  },
  {
   "cell_type": "code",
   "execution_count": 84,
   "metadata": {},
   "outputs": [
    {
     "data": {
      "text/plain": [
       "(991, 22)"
      ]
     },
     "execution_count": 84,
     "metadata": {},
     "output_type": "execute_result"
    }
   ],
   "source": [
    "df.shape  # число строк и столбцов"
   ]
  },
  {
   "cell_type": "code",
   "execution_count": 85,
   "metadata": {},
   "outputs": [
    {
     "data": {
      "text/plain": [
       "991"
      ]
     },
     "execution_count": 85,
     "metadata": {},
     "output_type": "execute_result"
    }
   ],
   "source": [
    "df.shape[0] #число строк"
   ]
  },
  {
   "cell_type": "code",
   "execution_count": 86,
   "metadata": {
    "scrolled": true
   },
   "outputs": [
    {
     "data": {
      "text/plain": [
       "index                           int64\n",
       "brand                          object\n",
       "Model                          object\n",
       "Price                           int64\n",
       "Rating                          int64\n",
       "processor_brand                object\n",
       "processor_tier                 object\n",
       "num_cores                       int64\n",
       "num_threads                     int64\n",
       "ram_memory                      int64\n",
       "primary_storage_type           object\n",
       "primary_storage_capacity        int64\n",
       "secondary_storage_type         object\n",
       "secondary_storage_capacity      int64\n",
       "gpu_brand                      object\n",
       "gpu_type                       object\n",
       "is_touch_screen                  bool\n",
       "display_size                  float64\n",
       "resolution_width                int64\n",
       "resolution_height               int64\n",
       "OS                             object\n",
       "year_of_warranty               object\n",
       "dtype: object"
      ]
     },
     "execution_count": 86,
     "metadata": {},
     "output_type": "execute_result"
    }
   ],
   "source": [
    "df.dtypes  # тип данных в каждом столбце"
   ]
  },
  {
   "cell_type": "markdown",
   "metadata": {},
   "source": [
    "## 6. Описательный анализ данных <a class=\"anchor\" id=\"chapter6\"></a>"
   ]
  },
  {
   "cell_type": "code",
   "execution_count": 87,
   "metadata": {},
   "outputs": [],
   "source": [
    "import numpy as np\n",
    "# разделим на группы метрические и категориальные переменные\n",
    "numeric_features = df.select_dtypes(include=[np.number])\n",
    "categorical_features = df.select_dtypes(exclude=[np.number])"
   ]
  },
  {
   "cell_type": "code",
   "execution_count": 88,
   "metadata": {},
   "outputs": [
    {
     "data": {
      "text/html": [
       "<div>\n",
       "<style scoped>\n",
       "    .dataframe tbody tr th:only-of-type {\n",
       "        vertical-align: middle;\n",
       "    }\n",
       "\n",
       "    .dataframe tbody tr th {\n",
       "        vertical-align: top;\n",
       "    }\n",
       "\n",
       "    .dataframe thead th {\n",
       "        text-align: right;\n",
       "    }\n",
       "</style>\n",
       "<table border=\"1\" class=\"dataframe\">\n",
       "  <thead>\n",
       "    <tr style=\"text-align: right;\">\n",
       "      <th></th>\n",
       "      <th>index</th>\n",
       "      <th>Price</th>\n",
       "      <th>Rating</th>\n",
       "      <th>num_cores</th>\n",
       "      <th>num_threads</th>\n",
       "      <th>ram_memory</th>\n",
       "      <th>primary_storage_capacity</th>\n",
       "      <th>secondary_storage_capacity</th>\n",
       "      <th>display_size</th>\n",
       "      <th>resolution_width</th>\n",
       "      <th>resolution_height</th>\n",
       "    </tr>\n",
       "  </thead>\n",
       "  <tbody>\n",
       "    <tr>\n",
       "      <th>count</th>\n",
       "      <td>991.000000</td>\n",
       "      <td>991.000000</td>\n",
       "      <td>991.000000</td>\n",
       "      <td>991.000000</td>\n",
       "      <td>991.000000</td>\n",
       "      <td>991.000000</td>\n",
       "      <td>991.000000</td>\n",
       "      <td>991.000000</td>\n",
       "      <td>991.000000</td>\n",
       "      <td>991.000000</td>\n",
       "      <td>991.000000</td>\n",
       "    </tr>\n",
       "    <tr>\n",
       "      <th>mean</th>\n",
       "      <td>505.860747</td>\n",
       "      <td>77266.504541</td>\n",
       "      <td>63.931382</td>\n",
       "      <td>8.128153</td>\n",
       "      <td>12.191726</td>\n",
       "      <td>13.047427</td>\n",
       "      <td>610.938446</td>\n",
       "      <td>4.004036</td>\n",
       "      <td>15.171241</td>\n",
       "      <td>2003.503532</td>\n",
       "      <td>1181.227043</td>\n",
       "    </tr>\n",
       "    <tr>\n",
       "      <th>std</th>\n",
       "      <td>287.899458</td>\n",
       "      <td>57384.910269</td>\n",
       "      <td>10.190575</td>\n",
       "      <td>4.215499</td>\n",
       "      <td>5.585115</td>\n",
       "      <td>5.591188</td>\n",
       "      <td>266.927666</td>\n",
       "      <td>33.553936</td>\n",
       "      <td>0.938089</td>\n",
       "      <td>361.965292</td>\n",
       "      <td>263.884019</td>\n",
       "    </tr>\n",
       "    <tr>\n",
       "      <th>min</th>\n",
       "      <td>1.000000</td>\n",
       "      <td>9800.000000</td>\n",
       "      <td>24.000000</td>\n",
       "      <td>2.000000</td>\n",
       "      <td>0.000000</td>\n",
       "      <td>2.000000</td>\n",
       "      <td>32.000000</td>\n",
       "      <td>0.000000</td>\n",
       "      <td>10.100000</td>\n",
       "      <td>1080.000000</td>\n",
       "      <td>768.000000</td>\n",
       "    </tr>\n",
       "    <tr>\n",
       "      <th>25%</th>\n",
       "      <td>258.500000</td>\n",
       "      <td>43595.000000</td>\n",
       "      <td>58.000000</td>\n",
       "      <td>6.000000</td>\n",
       "      <td>8.000000</td>\n",
       "      <td>8.000000</td>\n",
       "      <td>512.000000</td>\n",
       "      <td>0.000000</td>\n",
       "      <td>14.000000</td>\n",
       "      <td>1920.000000</td>\n",
       "      <td>1080.000000</td>\n",
       "    </tr>\n",
       "    <tr>\n",
       "      <th>50%</th>\n",
       "      <td>507.000000</td>\n",
       "      <td>61900.000000</td>\n",
       "      <td>64.000000</td>\n",
       "      <td>8.000000</td>\n",
       "      <td>12.000000</td>\n",
       "      <td>16.000000</td>\n",
       "      <td>512.000000</td>\n",
       "      <td>0.000000</td>\n",
       "      <td>15.600000</td>\n",
       "      <td>1920.000000</td>\n",
       "      <td>1080.000000</td>\n",
       "    </tr>\n",
       "    <tr>\n",
       "      <th>75%</th>\n",
       "      <td>754.500000</td>\n",
       "      <td>89245.000000</td>\n",
       "      <td>71.000000</td>\n",
       "      <td>10.000000</td>\n",
       "      <td>16.000000</td>\n",
       "      <td>16.000000</td>\n",
       "      <td>512.000000</td>\n",
       "      <td>0.000000</td>\n",
       "      <td>15.600000</td>\n",
       "      <td>1920.000000</td>\n",
       "      <td>1200.000000</td>\n",
       "    </tr>\n",
       "    <tr>\n",
       "      <th>max</th>\n",
       "      <td>1002.000000</td>\n",
       "      <td>454490.000000</td>\n",
       "      <td>89.000000</td>\n",
       "      <td>24.000000</td>\n",
       "      <td>32.000000</td>\n",
       "      <td>36.000000</td>\n",
       "      <td>2048.000000</td>\n",
       "      <td>512.000000</td>\n",
       "      <td>18.000000</td>\n",
       "      <td>3840.000000</td>\n",
       "      <td>2560.000000</td>\n",
       "    </tr>\n",
       "  </tbody>\n",
       "</table>\n",
       "</div>"
      ],
      "text/plain": [
       "             index          Price      Rating   num_cores  num_threads  \\\n",
       "count   991.000000     991.000000  991.000000  991.000000   991.000000   \n",
       "mean    505.860747   77266.504541   63.931382    8.128153    12.191726   \n",
       "std     287.899458   57384.910269   10.190575    4.215499     5.585115   \n",
       "min       1.000000    9800.000000   24.000000    2.000000     0.000000   \n",
       "25%     258.500000   43595.000000   58.000000    6.000000     8.000000   \n",
       "50%     507.000000   61900.000000   64.000000    8.000000    12.000000   \n",
       "75%     754.500000   89245.000000   71.000000   10.000000    16.000000   \n",
       "max    1002.000000  454490.000000   89.000000   24.000000    32.000000   \n",
       "\n",
       "       ram_memory  primary_storage_capacity  secondary_storage_capacity  \\\n",
       "count  991.000000                991.000000                  991.000000   \n",
       "mean    13.047427                610.938446                    4.004036   \n",
       "std      5.591188                266.927666                   33.553936   \n",
       "min      2.000000                 32.000000                    0.000000   \n",
       "25%      8.000000                512.000000                    0.000000   \n",
       "50%     16.000000                512.000000                    0.000000   \n",
       "75%     16.000000                512.000000                    0.000000   \n",
       "max     36.000000               2048.000000                  512.000000   \n",
       "\n",
       "       display_size  resolution_width  resolution_height  \n",
       "count    991.000000        991.000000         991.000000  \n",
       "mean      15.171241       2003.503532        1181.227043  \n",
       "std        0.938089        361.965292         263.884019  \n",
       "min       10.100000       1080.000000         768.000000  \n",
       "25%       14.000000       1920.000000        1080.000000  \n",
       "50%       15.600000       1920.000000        1080.000000  \n",
       "75%       15.600000       1920.000000        1200.000000  \n",
       "max       18.000000       3840.000000        2560.000000  "
      ]
     },
     "execution_count": 88,
     "metadata": {},
     "output_type": "execute_result"
    }
   ],
   "source": [
    "numeric_features.describe()  # описательная статистика для метрических переменных"
   ]
  },
  {
   "cell_type": "code",
   "execution_count": 89,
   "metadata": {},
   "outputs": [
    {
     "data": {
      "text/html": [
       "<div>\n",
       "<style scoped>\n",
       "    .dataframe tbody tr th:only-of-type {\n",
       "        vertical-align: middle;\n",
       "    }\n",
       "\n",
       "    .dataframe tbody tr th {\n",
       "        vertical-align: top;\n",
       "    }\n",
       "\n",
       "    .dataframe thead th {\n",
       "        text-align: right;\n",
       "    }\n",
       "</style>\n",
       "<table border=\"1\" class=\"dataframe\">\n",
       "  <thead>\n",
       "    <tr style=\"text-align: right;\">\n",
       "      <th></th>\n",
       "      <th>brand</th>\n",
       "      <th>Model</th>\n",
       "      <th>processor_brand</th>\n",
       "      <th>processor_tier</th>\n",
       "      <th>primary_storage_type</th>\n",
       "      <th>secondary_storage_type</th>\n",
       "      <th>gpu_brand</th>\n",
       "      <th>gpu_type</th>\n",
       "      <th>OS</th>\n",
       "      <th>year_of_warranty</th>\n",
       "    </tr>\n",
       "  </thead>\n",
       "  <tbody>\n",
       "    <tr>\n",
       "      <th>count</th>\n",
       "      <td>991</td>\n",
       "      <td>991</td>\n",
       "      <td>991</td>\n",
       "      <td>991</td>\n",
       "      <td>991</td>\n",
       "      <td>991</td>\n",
       "      <td>991</td>\n",
       "      <td>991</td>\n",
       "      <td>991</td>\n",
       "      <td>991</td>\n",
       "    </tr>\n",
       "    <tr>\n",
       "      <th>unique</th>\n",
       "      <td>26</td>\n",
       "      <td>991</td>\n",
       "      <td>4</td>\n",
       "      <td>15</td>\n",
       "      <td>2</td>\n",
       "      <td>2</td>\n",
       "      <td>5</td>\n",
       "      <td>3</td>\n",
       "      <td>7</td>\n",
       "      <td>4</td>\n",
       "    </tr>\n",
       "    <tr>\n",
       "      <th>top</th>\n",
       "      <td>asus</td>\n",
       "      <td>Tecno Megabook T1 Laptop (11th Gen Core i3/ 8G...</td>\n",
       "      <td>intel</td>\n",
       "      <td>core i5</td>\n",
       "      <td>SSD</td>\n",
       "      <td>No secondary storage</td>\n",
       "      <td>intel</td>\n",
       "      <td>integrated</td>\n",
       "      <td>windows</td>\n",
       "      <td>1</td>\n",
       "    </tr>\n",
       "    <tr>\n",
       "      <th>freq</th>\n",
       "      <td>210</td>\n",
       "      <td>1</td>\n",
       "      <td>705</td>\n",
       "      <td>335</td>\n",
       "      <td>964</td>\n",
       "      <td>976</td>\n",
       "      <td>462</td>\n",
       "      <td>616</td>\n",
       "      <td>924</td>\n",
       "      <td>900</td>\n",
       "    </tr>\n",
       "  </tbody>\n",
       "</table>\n",
       "</div>"
      ],
      "text/plain": [
       "       brand                                              Model  \\\n",
       "count    991                                                991   \n",
       "unique    26                                                991   \n",
       "top     asus  Tecno Megabook T1 Laptop (11th Gen Core i3/ 8G...   \n",
       "freq     210                                                  1   \n",
       "\n",
       "       processor_brand processor_tier primary_storage_type  \\\n",
       "count              991            991                  991   \n",
       "unique               4             15                    2   \n",
       "top              intel        core i5                  SSD   \n",
       "freq               705            335                  964   \n",
       "\n",
       "       secondary_storage_type gpu_brand    gpu_type       OS year_of_warranty  \n",
       "count                     991       991         991      991              991  \n",
       "unique                      2         5           3        7                4  \n",
       "top      No secondary storage     intel  integrated  windows                1  \n",
       "freq                      976       462         616      924              900  "
      ]
     },
     "execution_count": 89,
     "metadata": {},
     "output_type": "execute_result"
    }
   ],
   "source": [
    "categorical_features.describe(include='object')  # описательная статистика для категориальных переменных"
   ]
  },
  {
   "cell_type": "code",
   "execution_count": 90,
   "metadata": {},
   "outputs": [
    {
     "data": {
      "text/html": [
       "<div>\n",
       "<style scoped>\n",
       "    .dataframe tbody tr th:only-of-type {\n",
       "        vertical-align: middle;\n",
       "    }\n",
       "\n",
       "    .dataframe tbody tr th {\n",
       "        vertical-align: top;\n",
       "    }\n",
       "\n",
       "    .dataframe thead th {\n",
       "        text-align: right;\n",
       "    }\n",
       "</style>\n",
       "<table border=\"1\" class=\"dataframe\">\n",
       "  <thead>\n",
       "    <tr style=\"text-align: right;\">\n",
       "      <th></th>\n",
       "      <th>index</th>\n",
       "      <th>Price</th>\n",
       "      <th>Rating</th>\n",
       "      <th>num_cores</th>\n",
       "      <th>num_threads</th>\n",
       "      <th>ram_memory</th>\n",
       "      <th>primary_storage_capacity</th>\n",
       "      <th>secondary_storage_capacity</th>\n",
       "      <th>display_size</th>\n",
       "      <th>resolution_width</th>\n",
       "      <th>resolution_height</th>\n",
       "    </tr>\n",
       "  </thead>\n",
       "  <tbody>\n",
       "    <tr>\n",
       "      <th>count</th>\n",
       "      <td>983.000000</td>\n",
       "      <td>983.000000</td>\n",
       "      <td>983.000000</td>\n",
       "      <td>983.000000</td>\n",
       "      <td>983.000000</td>\n",
       "      <td>983.000000</td>\n",
       "      <td>983.000000</td>\n",
       "      <td>983.000000</td>\n",
       "      <td>983.000000</td>\n",
       "      <td>983.000000</td>\n",
       "      <td>983.000000</td>\n",
       "    </tr>\n",
       "    <tr>\n",
       "      <th>mean</th>\n",
       "      <td>507.793489</td>\n",
       "      <td>77783.992879</td>\n",
       "      <td>64.163784</td>\n",
       "      <td>8.157681</td>\n",
       "      <td>12.282808</td>\n",
       "      <td>13.123093</td>\n",
       "      <td>615.129196</td>\n",
       "      <td>4.036623</td>\n",
       "      <td>15.192675</td>\n",
       "      <td>2008.128179</td>\n",
       "      <td>1184.272635</td>\n",
       "    </tr>\n",
       "    <tr>\n",
       "      <th>std</th>\n",
       "      <td>287.609260</td>\n",
       "      <td>57329.063114</td>\n",
       "      <td>9.878623</td>\n",
       "      <td>4.212357</td>\n",
       "      <td>5.514596</td>\n",
       "      <td>5.550005</td>\n",
       "      <td>263.843606</td>\n",
       "      <td>33.688381</td>\n",
       "      <td>0.904586</td>\n",
       "      <td>359.389349</td>\n",
       "      <td>262.612146</td>\n",
       "    </tr>\n",
       "    <tr>\n",
       "      <th>min</th>\n",
       "      <td>1.000000</td>\n",
       "      <td>15990.000000</td>\n",
       "      <td>35.000000</td>\n",
       "      <td>2.000000</td>\n",
       "      <td>0.000000</td>\n",
       "      <td>4.000000</td>\n",
       "      <td>64.000000</td>\n",
       "      <td>0.000000</td>\n",
       "      <td>10.100000</td>\n",
       "      <td>1080.000000</td>\n",
       "      <td>768.000000</td>\n",
       "    </tr>\n",
       "    <tr>\n",
       "      <th>25%</th>\n",
       "      <td>261.500000</td>\n",
       "      <td>43990.000000</td>\n",
       "      <td>58.000000</td>\n",
       "      <td>6.000000</td>\n",
       "      <td>8.000000</td>\n",
       "      <td>8.000000</td>\n",
       "      <td>512.000000</td>\n",
       "      <td>0.000000</td>\n",
       "      <td>14.000000</td>\n",
       "      <td>1920.000000</td>\n",
       "      <td>1080.000000</td>\n",
       "    </tr>\n",
       "    <tr>\n",
       "      <th>50%</th>\n",
       "      <td>510.000000</td>\n",
       "      <td>61990.000000</td>\n",
       "      <td>64.000000</td>\n",
       "      <td>8.000000</td>\n",
       "      <td>12.000000</td>\n",
       "      <td>16.000000</td>\n",
       "      <td>512.000000</td>\n",
       "      <td>0.000000</td>\n",
       "      <td>15.600000</td>\n",
       "      <td>1920.000000</td>\n",
       "      <td>1080.000000</td>\n",
       "    </tr>\n",
       "    <tr>\n",
       "      <th>75%</th>\n",
       "      <td>756.500000</td>\n",
       "      <td>89844.000000</td>\n",
       "      <td>71.000000</td>\n",
       "      <td>10.000000</td>\n",
       "      <td>16.000000</td>\n",
       "      <td>16.000000</td>\n",
       "      <td>512.000000</td>\n",
       "      <td>0.000000</td>\n",
       "      <td>15.600000</td>\n",
       "      <td>1920.000000</td>\n",
       "      <td>1200.000000</td>\n",
       "    </tr>\n",
       "    <tr>\n",
       "      <th>max</th>\n",
       "      <td>1002.000000</td>\n",
       "      <td>454490.000000</td>\n",
       "      <td>89.000000</td>\n",
       "      <td>24.000000</td>\n",
       "      <td>32.000000</td>\n",
       "      <td>36.000000</td>\n",
       "      <td>2048.000000</td>\n",
       "      <td>512.000000</td>\n",
       "      <td>18.000000</td>\n",
       "      <td>3840.000000</td>\n",
       "      <td>2560.000000</td>\n",
       "    </tr>\n",
       "  </tbody>\n",
       "</table>\n",
       "</div>"
      ],
      "text/plain": [
       "             index          Price      Rating   num_cores  num_threads  \\\n",
       "count   983.000000     983.000000  983.000000  983.000000   983.000000   \n",
       "mean    507.793489   77783.992879   64.163784    8.157681    12.282808   \n",
       "std     287.609260   57329.063114    9.878623    4.212357     5.514596   \n",
       "min       1.000000   15990.000000   35.000000    2.000000     0.000000   \n",
       "25%     261.500000   43990.000000   58.000000    6.000000     8.000000   \n",
       "50%     510.000000   61990.000000   64.000000    8.000000    12.000000   \n",
       "75%     756.500000   89844.000000   71.000000   10.000000    16.000000   \n",
       "max    1002.000000  454490.000000   89.000000   24.000000    32.000000   \n",
       "\n",
       "       ram_memory  primary_storage_capacity  secondary_storage_capacity  \\\n",
       "count  983.000000                983.000000                  983.000000   \n",
       "mean    13.123093                615.129196                    4.036623   \n",
       "std      5.550005                263.843606                   33.688381   \n",
       "min      4.000000                 64.000000                    0.000000   \n",
       "25%      8.000000                512.000000                    0.000000   \n",
       "50%     16.000000                512.000000                    0.000000   \n",
       "75%     16.000000                512.000000                    0.000000   \n",
       "max     36.000000               2048.000000                  512.000000   \n",
       "\n",
       "       display_size  resolution_width  resolution_height  \n",
       "count    983.000000        983.000000         983.000000  \n",
       "mean      15.192675       2008.128179        1184.272635  \n",
       "std        0.904586        359.389349         262.612146  \n",
       "min       10.100000       1080.000000         768.000000  \n",
       "25%       14.000000       1920.000000        1080.000000  \n",
       "50%       15.600000       1920.000000        1080.000000  \n",
       "75%       15.600000       1920.000000        1200.000000  \n",
       "max       18.000000       3840.000000        2560.000000  "
      ]
     },
     "execution_count": 90,
     "metadata": {},
     "output_type": "execute_result"
    }
   ],
   "source": [
    "df[df['Price'] > 15000].describe() \n",
    "# описательная статистика для выборки с ценой более 15000"
   ]
  },
  {
   "cell_type": "code",
   "execution_count": 91,
   "metadata": {},
   "outputs": [
    {
     "data": {
      "text/html": [
       "<div>\n",
       "<style scoped>\n",
       "    .dataframe tbody tr th:only-of-type {\n",
       "        vertical-align: middle;\n",
       "    }\n",
       "\n",
       "    .dataframe tbody tr th {\n",
       "        vertical-align: top;\n",
       "    }\n",
       "\n",
       "    .dataframe thead th {\n",
       "        text-align: right;\n",
       "    }\n",
       "</style>\n",
       "<table border=\"1\" class=\"dataframe\">\n",
       "  <thead>\n",
       "    <tr style=\"text-align: right;\">\n",
       "      <th></th>\n",
       "      <th>Price</th>\n",
       "      <th>display_size</th>\n",
       "    </tr>\n",
       "  </thead>\n",
       "  <tbody>\n",
       "    <tr>\n",
       "      <th>count</th>\n",
       "      <td>991.000000</td>\n",
       "      <td>991.000000</td>\n",
       "    </tr>\n",
       "    <tr>\n",
       "      <th>mean</th>\n",
       "      <td>77266.504541</td>\n",
       "      <td>15.171241</td>\n",
       "    </tr>\n",
       "    <tr>\n",
       "      <th>std</th>\n",
       "      <td>57384.910269</td>\n",
       "      <td>0.938089</td>\n",
       "    </tr>\n",
       "    <tr>\n",
       "      <th>min</th>\n",
       "      <td>9800.000000</td>\n",
       "      <td>10.100000</td>\n",
       "    </tr>\n",
       "    <tr>\n",
       "      <th>25%</th>\n",
       "      <td>43595.000000</td>\n",
       "      <td>14.000000</td>\n",
       "    </tr>\n",
       "    <tr>\n",
       "      <th>50%</th>\n",
       "      <td>61900.000000</td>\n",
       "      <td>15.600000</td>\n",
       "    </tr>\n",
       "    <tr>\n",
       "      <th>75%</th>\n",
       "      <td>89245.000000</td>\n",
       "      <td>15.600000</td>\n",
       "    </tr>\n",
       "    <tr>\n",
       "      <th>max</th>\n",
       "      <td>454490.000000</td>\n",
       "      <td>18.000000</td>\n",
       "    </tr>\n",
       "  </tbody>\n",
       "</table>\n",
       "</div>"
      ],
      "text/plain": [
       "               Price  display_size\n",
       "count     991.000000    991.000000\n",
       "mean    77266.504541     15.171241\n",
       "std     57384.910269      0.938089\n",
       "min      9800.000000     10.100000\n",
       "25%     43595.000000     14.000000\n",
       "50%     61900.000000     15.600000\n",
       "75%     89245.000000     15.600000\n",
       "max    454490.000000     18.000000"
      ]
     },
     "execution_count": 91,
     "metadata": {},
     "output_type": "execute_result"
    }
   ],
   "source": [
    "df[['Price', 'display_size']].describe()  # для выбранных столбцов"
   ]
  },
  {
   "cell_type": "code",
   "execution_count": 92,
   "metadata": {},
   "outputs": [
    {
     "data": {
      "text/plain": [
       "index                           505.860747\n",
       "Price                         77266.504541\n",
       "Rating                           63.931382\n",
       "num_cores                         8.128153\n",
       "num_threads                      12.191726\n",
       "ram_memory                       13.047427\n",
       "primary_storage_capacity        610.938446\n",
       "secondary_storage_capacity        4.004036\n",
       "is_touch_screen                   0.088799\n",
       "display_size                     15.171241\n",
       "resolution_width               2003.503532\n",
       "resolution_height              1181.227043\n",
       "dtype: float64"
      ]
     },
     "execution_count": 92,
     "metadata": {},
     "output_type": "execute_result"
    }
   ],
   "source": [
    "df.mean(numeric_only=True)  # средние значения для метрических переменных"
   ]
  },
  {
   "cell_type": "code",
   "execution_count": 93,
   "metadata": {},
   "outputs": [
    {
     "data": {
      "text/plain": [
       "index                                                                         1\n",
       "brand                                                                      acer\n",
       "Model                         ASUS TUF Gaming A16 Advantage Edition FA617XS-...\n",
       "Price                                                                      9800\n",
       "Rating                                                                       24\n",
       "processor_brand                                                             amd\n",
       "processor_tier                                                          celeron\n",
       "num_cores                                                                     2\n",
       "num_threads                                                                   0\n",
       "ram_memory                                                                    2\n",
       "primary_storage_type                                                        HDD\n",
       "primary_storage_capacity                                                     32\n",
       "secondary_storage_type                                     No secondary storage\n",
       "secondary_storage_capacity                                                    0\n",
       "gpu_brand                                                                   amd\n",
       "gpu_type                                                                  apple\n",
       "is_touch_screen                                                           False\n",
       "display_size                                                               10.1\n",
       "resolution_width                                                           1080\n",
       "resolution_height                                                           768\n",
       "OS                                                                      android\n",
       "year_of_warranty                                                              1\n",
       "dtype: object"
      ]
     },
     "execution_count": 93,
     "metadata": {},
     "output_type": "execute_result"
    }
   ],
   "source": [
    "df.min()  # минимальные значения"
   ]
  },
  {
   "cell_type": "code",
   "execution_count": 94,
   "metadata": {},
   "outputs": [
    {
     "data": {
      "text/plain": [
       "index                                                                      1002\n",
       "brand                                                                 zebronics\n",
       "Model                         iBall Excelance CompBook Laptop (AQC/ 2GB/ 32G...\n",
       "Price                                                                    454490\n",
       "Rating                                                                       89\n",
       "processor_brand                                                           other\n",
       "processor_tier                                                          ryzen 9\n",
       "num_cores                                                                    24\n",
       "num_threads                                                                  32\n",
       "ram_memory                                                                   36\n",
       "primary_storage_type                                                        SSD\n",
       "primary_storage_capacity                                                   2048\n",
       "secondary_storage_type                                                      SSD\n",
       "secondary_storage_capacity                                                  512\n",
       "gpu_brand                                                                nvidia\n",
       "gpu_type                                                             integrated\n",
       "is_touch_screen                                                            True\n",
       "display_size                                                               18.0\n",
       "resolution_width                                                           3840\n",
       "resolution_height                                                          2560\n",
       "OS                                                                      windows\n",
       "year_of_warranty                                                 No information\n",
       "dtype: object"
      ]
     },
     "execution_count": 94,
     "metadata": {},
     "output_type": "execute_result"
    }
   ],
   "source": [
    "df.max()  # максимальные значения"
   ]
  },
  {
   "cell_type": "code",
   "execution_count": 95,
   "metadata": {},
   "outputs": [
    {
     "data": {
      "text/html": [
       "<div>\n",
       "<style scoped>\n",
       "    .dataframe tbody tr th:only-of-type {\n",
       "        vertical-align: middle;\n",
       "    }\n",
       "\n",
       "    .dataframe tbody tr th {\n",
       "        vertical-align: top;\n",
       "    }\n",
       "\n",
       "    .dataframe thead th {\n",
       "        text-align: right;\n",
       "    }\n",
       "</style>\n",
       "<table border=\"1\" class=\"dataframe\">\n",
       "  <thead>\n",
       "    <tr style=\"text-align: right;\">\n",
       "      <th></th>\n",
       "      <th>gpu_brand</th>\n",
       "    </tr>\n",
       "  </thead>\n",
       "  <tbody>\n",
       "    <tr>\n",
       "      <th>0</th>\n",
       "      <td>intel</td>\n",
       "    </tr>\n",
       "  </tbody>\n",
       "</table>\n",
       "</div>"
      ],
      "text/plain": [
       "  gpu_brand\n",
       "0     intel"
      ]
     },
     "execution_count": 95,
     "metadata": {},
     "output_type": "execute_result"
    }
   ],
   "source": [
    "df[['gpu_brand']].mode()  # модальное значение"
   ]
  },
  {
   "cell_type": "code",
   "execution_count": 96,
   "metadata": {},
   "outputs": [
    {
     "data": {
      "text/plain": [
       "61900.0"
      ]
     },
     "execution_count": 96,
     "metadata": {},
     "output_type": "execute_result"
    }
   ],
   "source": [
    "df['Price'].median()  # медиана"
   ]
  },
  {
   "cell_type": "code",
   "execution_count": 97,
   "metadata": {},
   "outputs": [
    {
     "data": {
      "text/plain": [
       "61900.0"
      ]
     },
     "execution_count": 97,
     "metadata": {},
     "output_type": "execute_result"
    }
   ],
   "source": [
    "df['Price'].quantile(0.5)  # медиана / 50-й перцентиль / 2-й квартиль"
   ]
  },
  {
   "cell_type": "code",
   "execution_count": 98,
   "metadata": {},
   "outputs": [
    {
     "data": {
      "text/plain": [
       "3293027926.6280074"
      ]
     },
     "execution_count": 98,
     "metadata": {},
     "output_type": "execute_result"
    }
   ],
   "source": [
    "df['Price'].var()  # дисперсия"
   ]
  },
  {
   "cell_type": "code",
   "execution_count": 99,
   "metadata": {},
   "outputs": [
    {
     "data": {
      "text/plain": [
       "57384.910269408"
      ]
     },
     "execution_count": 99,
     "metadata": {},
     "output_type": "execute_result"
    }
   ],
   "source": [
    "df['Price'].std()  # стандартное отклонение"
   ]
  },
  {
   "cell_type": "code",
   "execution_count": 100,
   "metadata": {},
   "outputs": [
    {
     "data": {
      "text/plain": [
       "32490.0"
      ]
     },
     "execution_count": 100,
     "metadata": {},
     "output_type": "execute_result"
    }
   ],
   "source": [
    "df['Price'].quantile(0.1)  # 10-й перцентиль / 1-й дециль"
   ]
  },
  {
   "cell_type": "code",
   "execution_count": 101,
   "metadata": {},
   "outputs": [
    {
     "data": {
      "text/plain": [
       "43595.0"
      ]
     },
     "execution_count": 101,
     "metadata": {},
     "output_type": "execute_result"
    }
   ],
   "source": [
    "df['Price'].quantile(0.25)  # 25-й перцентиль / 1-й квартиль"
   ]
  },
  {
   "cell_type": "code",
   "execution_count": 102,
   "metadata": {},
   "outputs": [
    {
     "data": {
      "text/plain": [
       "89245.0"
      ]
     },
     "execution_count": 102,
     "metadata": {},
     "output_type": "execute_result"
    }
   ],
   "source": [
    "df['Price'].quantile(0.75)  # 75-й перцентиль / 3-й квартиль"
   ]
  },
  {
   "cell_type": "code",
   "execution_count": 103,
   "metadata": {},
   "outputs": [
    {
     "data": {
      "text/plain": [
       "139990.0"
      ]
     },
     "execution_count": 103,
     "metadata": {},
     "output_type": "execute_result"
    }
   ],
   "source": [
    "df['Price'].quantile(0.9)  # 90-й перцентиль, 9-й дециль"
   ]
  },
  {
   "cell_type": "code",
   "execution_count": 104,
   "metadata": {},
   "outputs": [
    {
     "data": {
      "text/plain": [
       "45650.0"
      ]
     },
     "execution_count": 104,
     "metadata": {},
     "output_type": "execute_result"
    }
   ],
   "source": [
    "df['Price'].quantile(0.75) - df['Price'].quantile(0.25)  # межквартильный размах"
   ]
  },
  {
   "cell_type": "code",
   "execution_count": 105,
   "metadata": {},
   "outputs": [
    {
     "data": {
      "text/plain": [
       "22825.0"
      ]
     },
     "execution_count": 105,
     "metadata": {},
     "output_type": "execute_result"
    }
   ],
   "source": [
    "(df['Price'].quantile(0.75) - df['Price'].quantile(0.25))/2  # межквартильная широта"
   ]
  },
  {
   "cell_type": "code",
   "execution_count": 106,
   "metadata": {},
   "outputs": [
    {
     "data": {
      "text/plain": [
       "4.308710372422284"
      ]
     },
     "execution_count": 106,
     "metadata": {},
     "output_type": "execute_result"
    }
   ],
   "source": [
    "df['Price'].quantile(0.9)/df['Price'].quantile(0.1)  # децильное отношение"
   ]
  },
  {
   "cell_type": "code",
   "execution_count": 107,
   "metadata": {},
   "outputs": [
    {
     "data": {
      "text/plain": [
       "56221.56559405941"
      ]
     },
     "execution_count": 107,
     "metadata": {},
     "output_type": "execute_result"
    }
   ],
   "source": [
    "df[df['Price'] < 100000]['Price'].mean()\n",
    "# среднее значение цены, рассчитанные для ноутбуков ценой выше 100000"
   ]
  },
  {
   "cell_type": "markdown",
   "metadata": {},
   "source": [
    "## 7. Сводные таблицы и группировки <a class=\"anchor\" id=\"chapter7\"></a>"
   ]
  },
  {
   "cell_type": "markdown",
   "metadata": {},
   "source": [
    "Перекодируем переменную цены ноутбука, превратив ее в порядковую:\n",
    "\n",
    "- менее 60000 - низкая цена \n",
    "- от 60000 до 90000 включительно - средняя цена\n",
    "- более 90000 - высокая цена"
   ]
  },
  {
   "cell_type": "markdown",
   "metadata": {},
   "source": [
    "Сначала создадим функцию, меняющую значения переменной."
   ]
  },
  {
   "cell_type": "code",
   "execution_count": 108,
   "metadata": {},
   "outputs": [],
   "source": [
    "def get_price_gr(x):\n",
    "    if x < 60000:\n",
    "        return 'низкая'\n",
    "    elif x >=60000 and x<=90000:\n",
    "        return 'средняя'\n",
    "    elif x>90000:\n",
    "        return 'высокая'"
   ]
  },
  {
   "cell_type": "markdown",
   "metadata": {},
   "source": [
    "Теперь создадим новый столбец, применив эту функцию к существующему столбцу с ценой."
   ]
  },
  {
   "cell_type": "code",
   "execution_count": 109,
   "metadata": {},
   "outputs": [
    {
     "data": {
      "text/html": [
       "<div>\n",
       "<style scoped>\n",
       "    .dataframe tbody tr th:only-of-type {\n",
       "        vertical-align: middle;\n",
       "    }\n",
       "\n",
       "    .dataframe tbody tr th {\n",
       "        vertical-align: top;\n",
       "    }\n",
       "\n",
       "    .dataframe thead th {\n",
       "        text-align: right;\n",
       "    }\n",
       "</style>\n",
       "<table border=\"1\" class=\"dataframe\">\n",
       "  <thead>\n",
       "    <tr style=\"text-align: right;\">\n",
       "      <th></th>\n",
       "      <th>Price</th>\n",
       "      <th>Price_groups</th>\n",
       "    </tr>\n",
       "  </thead>\n",
       "  <tbody>\n",
       "    <tr>\n",
       "      <th>0</th>\n",
       "      <td>23990</td>\n",
       "      <td>низкая</td>\n",
       "    </tr>\n",
       "    <tr>\n",
       "      <th>1</th>\n",
       "      <td>35990</td>\n",
       "      <td>низкая</td>\n",
       "    </tr>\n",
       "    <tr>\n",
       "      <th>2</th>\n",
       "      <td>51100</td>\n",
       "      <td>низкая</td>\n",
       "    </tr>\n",
       "    <tr>\n",
       "      <th>3</th>\n",
       "      <td>39990</td>\n",
       "      <td>низкая</td>\n",
       "    </tr>\n",
       "    <tr>\n",
       "      <th>4</th>\n",
       "      <td>28580</td>\n",
       "      <td>низкая</td>\n",
       "    </tr>\n",
       "    <tr>\n",
       "      <th>5</th>\n",
       "      <td>70990</td>\n",
       "      <td>средняя</td>\n",
       "    </tr>\n",
       "    <tr>\n",
       "      <th>6</th>\n",
       "      <td>34990</td>\n",
       "      <td>низкая</td>\n",
       "    </tr>\n",
       "    <tr>\n",
       "      <th>7</th>\n",
       "      <td>49990</td>\n",
       "      <td>низкая</td>\n",
       "    </tr>\n",
       "    <tr>\n",
       "      <th>8</th>\n",
       "      <td>36990</td>\n",
       "      <td>низкая</td>\n",
       "    </tr>\n",
       "    <tr>\n",
       "      <th>9</th>\n",
       "      <td>59990</td>\n",
       "      <td>низкая</td>\n",
       "    </tr>\n",
       "    <tr>\n",
       "      <th>10</th>\n",
       "      <td>34990</td>\n",
       "      <td>низкая</td>\n",
       "    </tr>\n",
       "    <tr>\n",
       "      <th>11</th>\n",
       "      <td>64990</td>\n",
       "      <td>средняя</td>\n",
       "    </tr>\n",
       "    <tr>\n",
       "      <th>12</th>\n",
       "      <td>52990</td>\n",
       "      <td>низкая</td>\n",
       "    </tr>\n",
       "    <tr>\n",
       "      <th>13</th>\n",
       "      <td>57390</td>\n",
       "      <td>низкая</td>\n",
       "    </tr>\n",
       "    <tr>\n",
       "      <th>14</th>\n",
       "      <td>47490</td>\n",
       "      <td>низкая</td>\n",
       "    </tr>\n",
       "    <tr>\n",
       "      <th>15</th>\n",
       "      <td>153990</td>\n",
       "      <td>высокая</td>\n",
       "    </tr>\n",
       "    <tr>\n",
       "      <th>16</th>\n",
       "      <td>49990</td>\n",
       "      <td>низкая</td>\n",
       "    </tr>\n",
       "    <tr>\n",
       "      <th>17</th>\n",
       "      <td>75990</td>\n",
       "      <td>средняя</td>\n",
       "    </tr>\n",
       "    <tr>\n",
       "      <th>18</th>\n",
       "      <td>55490</td>\n",
       "      <td>низкая</td>\n",
       "    </tr>\n",
       "    <tr>\n",
       "      <th>19</th>\n",
       "      <td>27990</td>\n",
       "      <td>низкая</td>\n",
       "    </tr>\n",
       "  </tbody>\n",
       "</table>\n",
       "</div>"
      ],
      "text/plain": [
       "     Price Price_groups\n",
       "0    23990       низкая\n",
       "1    35990       низкая\n",
       "2    51100       низкая\n",
       "3    39990       низкая\n",
       "4    28580       низкая\n",
       "5    70990      средняя\n",
       "6    34990       низкая\n",
       "7    49990       низкая\n",
       "8    36990       низкая\n",
       "9    59990       низкая\n",
       "10   34990       низкая\n",
       "11   64990      средняя\n",
       "12   52990       низкая\n",
       "13   57390       низкая\n",
       "14   47490       низкая\n",
       "15  153990      высокая\n",
       "16   49990       низкая\n",
       "17   75990      средняя\n",
       "18   55490       низкая\n",
       "19   27990       низкая"
      ]
     },
     "execution_count": 109,
     "metadata": {},
     "output_type": "execute_result"
    }
   ],
   "source": [
    "df['Price_groups'] = df['Price'].apply(get_price_gr)\n",
    "df[['Price', 'Price_groups']].head(20)"
   ]
  },
  {
   "cell_type": "markdown",
   "metadata": {},
   "source": [
    "Проведем частотный анализ новой переменной."
   ]
  },
  {
   "cell_type": "code",
   "execution_count": 110,
   "metadata": {},
   "outputs": [
    {
     "data": {
      "text/plain": [
       "Price_groups\n",
       "низкая     475\n",
       "средняя    278\n",
       "высокая    238\n",
       "Name: count, dtype: int64"
      ]
     },
     "execution_count": 110,
     "metadata": {},
     "output_type": "execute_result"
    }
   ],
   "source": [
    "df.Price_groups.value_counts()"
   ]
  },
  {
   "cell_type": "markdown",
   "metadata": {},
   "source": [
    "Метод `groupby()` позволяет группировать результаты расчётов по одной или нескольким переменным."
   ]
  },
  {
   "cell_type": "code",
   "execution_count": 111,
   "metadata": {},
   "outputs": [
    {
     "data": {
      "text/html": [
       "<div>\n",
       "<style scoped>\n",
       "    .dataframe tbody tr th:only-of-type {\n",
       "        vertical-align: middle;\n",
       "    }\n",
       "\n",
       "    .dataframe tbody tr th {\n",
       "        vertical-align: top;\n",
       "    }\n",
       "\n",
       "    .dataframe thead th {\n",
       "        text-align: right;\n",
       "    }\n",
       "</style>\n",
       "<table border=\"1\" class=\"dataframe\">\n",
       "  <thead>\n",
       "    <tr style=\"text-align: right;\">\n",
       "      <th></th>\n",
       "      <th>Price</th>\n",
       "    </tr>\n",
       "    <tr>\n",
       "      <th>processor_brand</th>\n",
       "      <th></th>\n",
       "    </tr>\n",
       "  </thead>\n",
       "  <tbody>\n",
       "    <tr>\n",
       "      <th>amd</th>\n",
       "      <td>64903.902622</td>\n",
       "    </tr>\n",
       "    <tr>\n",
       "      <th>apple</th>\n",
       "      <td>193875.333333</td>\n",
       "    </tr>\n",
       "    <tr>\n",
       "      <th>intel</th>\n",
       "      <td>79789.222695</td>\n",
       "    </tr>\n",
       "    <tr>\n",
       "      <th>other</th>\n",
       "      <td>20558.000000</td>\n",
       "    </tr>\n",
       "  </tbody>\n",
       "</table>\n",
       "</div>"
      ],
      "text/plain": [
       "                         Price\n",
       "processor_brand               \n",
       "amd               64903.902622\n",
       "apple            193875.333333\n",
       "intel             79789.222695\n",
       "other             20558.000000"
      ]
     },
     "execution_count": 111,
     "metadata": {},
     "output_type": "execute_result"
    }
   ],
   "source": [
    "df.groupby('processor_brand')[['Price']].mean()  # средняя цена для разных процессоров"
   ]
  },
  {
   "cell_type": "code",
   "execution_count": 112,
   "metadata": {},
   "outputs": [
    {
     "data": {
      "text/html": [
       "<div>\n",
       "<style scoped>\n",
       "    .dataframe tbody tr th:only-of-type {\n",
       "        vertical-align: middle;\n",
       "    }\n",
       "\n",
       "    .dataframe tbody tr th {\n",
       "        vertical-align: top;\n",
       "    }\n",
       "\n",
       "    .dataframe thead tr th {\n",
       "        text-align: left;\n",
       "    }\n",
       "\n",
       "    .dataframe thead tr:last-of-type th {\n",
       "        text-align: right;\n",
       "    }\n",
       "</style>\n",
       "<table border=\"1\" class=\"dataframe\">\n",
       "  <thead>\n",
       "    <tr>\n",
       "      <th></th>\n",
       "      <th colspan=\"2\" halign=\"left\">Price</th>\n",
       "    </tr>\n",
       "    <tr>\n",
       "      <th></th>\n",
       "      <th>mean</th>\n",
       "      <th>std</th>\n",
       "    </tr>\n",
       "    <tr>\n",
       "      <th>processor_brand</th>\n",
       "      <th></th>\n",
       "      <th></th>\n",
       "    </tr>\n",
       "  </thead>\n",
       "  <tbody>\n",
       "    <tr>\n",
       "      <th>amd</th>\n",
       "      <td>64903.902622</td>\n",
       "      <td>36456.964084</td>\n",
       "    </tr>\n",
       "    <tr>\n",
       "      <th>apple</th>\n",
       "      <td>193875.333333</td>\n",
       "      <td>95275.550594</td>\n",
       "    </tr>\n",
       "    <tr>\n",
       "      <th>intel</th>\n",
       "      <td>79789.222695</td>\n",
       "      <td>59792.086819</td>\n",
       "    </tr>\n",
       "    <tr>\n",
       "      <th>other</th>\n",
       "      <td>20558.000000</td>\n",
       "      <td>12692.724241</td>\n",
       "    </tr>\n",
       "  </tbody>\n",
       "</table>\n",
       "</div>"
      ],
      "text/plain": [
       "                         Price              \n",
       "                          mean           std\n",
       "processor_brand                             \n",
       "amd               64903.902622  36456.964084\n",
       "apple            193875.333333  95275.550594\n",
       "intel             79789.222695  59792.086819\n",
       "other             20558.000000  12692.724241"
      ]
     },
     "execution_count": 112,
     "metadata": {},
     "output_type": "execute_result"
    }
   ],
   "source": [
    "df.groupby('processor_brand')[['Price']].agg(['mean', 'std'])  # добавим в вывод стандартное отклонение"
   ]
  },
  {
   "cell_type": "code",
   "execution_count": 113,
   "metadata": {},
   "outputs": [
    {
     "data": {
      "text/html": [
       "<div>\n",
       "<style scoped>\n",
       "    .dataframe tbody tr th:only-of-type {\n",
       "        vertical-align: middle;\n",
       "    }\n",
       "\n",
       "    .dataframe tbody tr th {\n",
       "        vertical-align: top;\n",
       "    }\n",
       "\n",
       "    .dataframe thead th {\n",
       "        text-align: right;\n",
       "    }\n",
       "</style>\n",
       "<table border=\"1\" class=\"dataframe\">\n",
       "  <thead>\n",
       "    <tr style=\"text-align: right;\">\n",
       "      <th>OS</th>\n",
       "      <th>android</th>\n",
       "      <th>chrome</th>\n",
       "      <th>dos</th>\n",
       "      <th>mac</th>\n",
       "      <th>other</th>\n",
       "      <th>ubuntu</th>\n",
       "      <th>windows</th>\n",
       "    </tr>\n",
       "    <tr>\n",
       "      <th>processor_brand</th>\n",
       "      <th></th>\n",
       "      <th></th>\n",
       "      <th></th>\n",
       "      <th></th>\n",
       "      <th></th>\n",
       "      <th></th>\n",
       "      <th></th>\n",
       "    </tr>\n",
       "  </thead>\n",
       "  <tbody>\n",
       "    <tr>\n",
       "      <th>amd</th>\n",
       "      <td>NaN</td>\n",
       "      <td>NaN</td>\n",
       "      <td>31759.363636</td>\n",
       "      <td>NaN</td>\n",
       "      <td>NaN</td>\n",
       "      <td>NaN</td>\n",
       "      <td>66328.082031</td>\n",
       "    </tr>\n",
       "    <tr>\n",
       "      <th>apple</th>\n",
       "      <td>NaN</td>\n",
       "      <td>NaN</td>\n",
       "      <td>NaN</td>\n",
       "      <td>193875.333333</td>\n",
       "      <td>NaN</td>\n",
       "      <td>NaN</td>\n",
       "      <td>NaN</td>\n",
       "    </tr>\n",
       "    <tr>\n",
       "      <th>intel</th>\n",
       "      <td>NaN</td>\n",
       "      <td>24677.066667</td>\n",
       "      <td>48146.809524</td>\n",
       "      <td>NaN</td>\n",
       "      <td>NaN</td>\n",
       "      <td>47990.0</td>\n",
       "      <td>82069.121257</td>\n",
       "    </tr>\n",
       "    <tr>\n",
       "      <th>other</th>\n",
       "      <td>14990.0</td>\n",
       "      <td>39551.000000</td>\n",
       "      <td>NaN</td>\n",
       "      <td>NaN</td>\n",
       "      <td>13845.5</td>\n",
       "      <td>NaN</td>\n",
       "      <td>NaN</td>\n",
       "    </tr>\n",
       "  </tbody>\n",
       "</table>\n",
       "</div>"
      ],
      "text/plain": [
       "OS               android        chrome           dos            mac    other  \\\n",
       "processor_brand                                                                \n",
       "amd                  NaN           NaN  31759.363636            NaN      NaN   \n",
       "apple                NaN           NaN           NaN  193875.333333      NaN   \n",
       "intel                NaN  24677.066667  48146.809524            NaN      NaN   \n",
       "other            14990.0  39551.000000           NaN            NaN  13845.5   \n",
       "\n",
       "OS                ubuntu       windows  \n",
       "processor_brand                         \n",
       "amd                  NaN  66328.082031  \n",
       "apple                NaN           NaN  \n",
       "intel            47990.0  82069.121257  \n",
       "other                NaN           NaN  "
      ]
     },
     "execution_count": 113,
     "metadata": {},
     "output_type": "execute_result"
    }
   ],
   "source": [
    "df.groupby(['processor_brand', 'OS'])['Price'].mean().unstack() \n",
    "# добавим в качестве группирующей переменной операционную систему"
   ]
  },
  {
   "cell_type": "code",
   "execution_count": 114,
   "metadata": {},
   "outputs": [
    {
     "data": {
      "text/plain": [
       "processor_brand  OS     \n",
       "amd              dos         31759.363636\n",
       "                 windows     66328.082031\n",
       "apple            mac        193875.333333\n",
       "intel            chrome      24677.066667\n",
       "                 dos         48146.809524\n",
       "                 ubuntu      47990.000000\n",
       "                 windows     82069.121257\n",
       "other            android     14990.000000\n",
       "                 chrome      39551.000000\n",
       "                 other       13845.500000\n",
       "Name: Price, dtype: float64"
      ]
     },
     "execution_count": 114,
     "metadata": {},
     "output_type": "execute_result"
    }
   ],
   "source": [
    "df.groupby(['processor_brand', 'OS'])['Price'].mean()"
   ]
  },
  {
   "cell_type": "code",
   "execution_count": 115,
   "metadata": {},
   "outputs": [
    {
     "data": {
      "text/plain": [
       "processor_brand  OS     \n",
       "amd              dos         31759.363636\n",
       "                 windows     66328.082031\n",
       "apple            mac        193875.333333\n",
       "intel            chrome      24677.066667\n",
       "                 dos         48146.809524\n",
       "                 ubuntu      47990.000000\n",
       "                 windows     82069.121257\n",
       "other            android     14990.000000\n",
       "                 chrome      39551.000000\n",
       "                 other       13845.500000\n",
       "Name: Price, dtype: float64"
      ]
     },
     "execution_count": 115,
     "metadata": {},
     "output_type": "execute_result"
    }
   ],
   "source": [
    "df.groupby(['processor_brand', 'OS'])['Price'].mean()\n",
    "# добавим в качестве группирующей переменной операционную систему"
   ]
  },
  {
   "cell_type": "markdown",
   "metadata": {},
   "source": [
    "При использовании `groupby()` добавляется новый уровень к индексу столбца (мультииндекс), `unstack()` избавляется от второго уровня индекса и добавляет его к столбцам. Для облегчения работы с таблицами и построения графиков нередко проще использовать `unstack()`."
   ]
  },
  {
   "cell_type": "code",
   "execution_count": 116,
   "metadata": {},
   "outputs": [
    {
     "data": {
      "text/plain": [
       "processor_brand  OS     \n",
       "amd              dos         31759.363636\n",
       "                 windows     66328.082031\n",
       "apple            mac        193875.333333\n",
       "intel            chrome      24677.066667\n",
       "                 dos         48146.809524\n",
       "                 ubuntu      47990.000000\n",
       "                 windows     82069.121257\n",
       "other            android     14990.000000\n",
       "                 chrome      39551.000000\n",
       "                 other       13845.500000\n",
       "Name: Price, dtype: float64"
      ]
     },
     "execution_count": 116,
     "metadata": {},
     "output_type": "execute_result"
    }
   ],
   "source": [
    "df.groupby(['processor_brand', 'OS'])['Price'].mean()"
   ]
  },
  {
   "cell_type": "markdown",
   "metadata": {},
   "source": [
    "Без `unstack()` мы получим ряд с двухуровневым индексом."
   ]
  },
  {
   "cell_type": "markdown",
   "metadata": {},
   "source": [
    "Метод `pivot_table()` позволяет создавать сводные таблицы. В примере ниже методу pivot_table передаются три параметра: \n",
    "1. переменная по которой считается статистика (по умолчанию среднее арифметическое),\n",
    "2. переменная для группировки значений среднего по строкам (`index`),\n",
    "3. переменная для группировки значений среднего по столбцам (`columns`)."
   ]
  },
  {
   "cell_type": "code",
   "execution_count": 117,
   "metadata": {},
   "outputs": [
    {
     "data": {
      "text/html": [
       "<div>\n",
       "<style scoped>\n",
       "    .dataframe tbody tr th:only-of-type {\n",
       "        vertical-align: middle;\n",
       "    }\n",
       "\n",
       "    .dataframe tbody tr th {\n",
       "        vertical-align: top;\n",
       "    }\n",
       "\n",
       "    .dataframe thead th {\n",
       "        text-align: right;\n",
       "    }\n",
       "</style>\n",
       "<table border=\"1\" class=\"dataframe\">\n",
       "  <thead>\n",
       "    <tr style=\"text-align: right;\">\n",
       "      <th>primary_storage_type</th>\n",
       "      <th>HDD</th>\n",
       "      <th>SSD</th>\n",
       "    </tr>\n",
       "    <tr>\n",
       "      <th>processor_brand</th>\n",
       "      <th></th>\n",
       "      <th></th>\n",
       "    </tr>\n",
       "  </thead>\n",
       "  <tbody>\n",
       "    <tr>\n",
       "      <th>amd</th>\n",
       "      <td>58228.666667</td>\n",
       "      <td>64979.757576</td>\n",
       "    </tr>\n",
       "    <tr>\n",
       "      <th>apple</th>\n",
       "      <td>NaN</td>\n",
       "      <td>193875.333333</td>\n",
       "    </tr>\n",
       "    <tr>\n",
       "      <th>intel</th>\n",
       "      <td>49200.142857</td>\n",
       "      <td>80728.361111</td>\n",
       "    </tr>\n",
       "    <tr>\n",
       "      <th>other</th>\n",
       "      <td>14227.000000</td>\n",
       "      <td>39551.000000</td>\n",
       "    </tr>\n",
       "  </tbody>\n",
       "</table>\n",
       "</div>"
      ],
      "text/plain": [
       "primary_storage_type           HDD            SSD\n",
       "processor_brand                                  \n",
       "amd                   58228.666667   64979.757576\n",
       "apple                          NaN  193875.333333\n",
       "intel                 49200.142857   80728.361111\n",
       "other                 14227.000000   39551.000000"
      ]
     },
     "execution_count": 117,
     "metadata": {},
     "output_type": "execute_result"
    }
   ],
   "source": [
    "df.pivot_table('Price', index='processor_brand', columns='primary_storage_type') \n",
    "# средняя цена, сгруппированная по процессору и типу основного хранилища"
   ]
  },
  {
   "cell_type": "markdown",
   "metadata": {},
   "source": [
    "Если вместо среднего арифметического нужно посчитать максимальное значение, то добавляется параметр aggfunc=max."
   ]
  },
  {
   "cell_type": "code",
   "execution_count": 118,
   "metadata": {},
   "outputs": [
    {
     "data": {
      "text/html": [
       "<div>\n",
       "<style scoped>\n",
       "    .dataframe tbody tr th:only-of-type {\n",
       "        vertical-align: middle;\n",
       "    }\n",
       "\n",
       "    .dataframe tbody tr th {\n",
       "        vertical-align: top;\n",
       "    }\n",
       "\n",
       "    .dataframe thead th {\n",
       "        text-align: right;\n",
       "    }\n",
       "</style>\n",
       "<table border=\"1\" class=\"dataframe\">\n",
       "  <thead>\n",
       "    <tr style=\"text-align: right;\">\n",
       "      <th>primary_storage_type</th>\n",
       "      <th>HDD</th>\n",
       "      <th>SSD</th>\n",
       "    </tr>\n",
       "    <tr>\n",
       "      <th>processor_brand</th>\n",
       "      <th></th>\n",
       "      <th></th>\n",
       "    </tr>\n",
       "  </thead>\n",
       "  <tbody>\n",
       "    <tr>\n",
       "      <th>amd</th>\n",
       "      <td>115706.0</td>\n",
       "      <td>299990.0</td>\n",
       "    </tr>\n",
       "    <tr>\n",
       "      <th>apple</th>\n",
       "      <td>NaN</td>\n",
       "      <td>399900.0</td>\n",
       "    </tr>\n",
       "    <tr>\n",
       "      <th>intel</th>\n",
       "      <td>96990.0</td>\n",
       "      <td>454490.0</td>\n",
       "    </tr>\n",
       "    <tr>\n",
       "      <th>other</th>\n",
       "      <td>14990.0</td>\n",
       "      <td>39551.0</td>\n",
       "    </tr>\n",
       "  </tbody>\n",
       "</table>\n",
       "</div>"
      ],
      "text/plain": [
       "primary_storage_type       HDD       SSD\n",
       "processor_brand                         \n",
       "amd                   115706.0  299990.0\n",
       "apple                      NaN  399900.0\n",
       "intel                  96990.0  454490.0\n",
       "other                  14990.0   39551.0"
      ]
     },
     "execution_count": 118,
     "metadata": {},
     "output_type": "execute_result"
    }
   ],
   "source": [
    "df.pivot_table('Price', index='processor_brand', columns='primary_storage_type', aggfunc='max')\n",
    "# максимальная цена, сгруппированная по процессору и типу основного хранилища"
   ]
  },
  {
   "cell_type": "code",
   "execution_count": 119,
   "metadata": {},
   "outputs": [
    {
     "data": {
      "text/html": [
       "<div>\n",
       "<style scoped>\n",
       "    .dataframe tbody tr th:only-of-type {\n",
       "        vertical-align: middle;\n",
       "    }\n",
       "\n",
       "    .dataframe tbody tr th {\n",
       "        vertical-align: top;\n",
       "    }\n",
       "\n",
       "    .dataframe thead tr th {\n",
       "        text-align: left;\n",
       "    }\n",
       "\n",
       "    .dataframe thead tr:last-of-type th {\n",
       "        text-align: right;\n",
       "    }\n",
       "</style>\n",
       "<table border=\"1\" class=\"dataframe\">\n",
       "  <thead>\n",
       "    <tr>\n",
       "      <th>primary_storage_type</th>\n",
       "      <th colspan=\"3\" halign=\"left\">HDD</th>\n",
       "      <th colspan=\"3\" halign=\"left\">SSD</th>\n",
       "    </tr>\n",
       "    <tr>\n",
       "      <th>Price_groups</th>\n",
       "      <th>высокая</th>\n",
       "      <th>низкая</th>\n",
       "      <th>средняя</th>\n",
       "      <th>высокая</th>\n",
       "      <th>низкая</th>\n",
       "      <th>средняя</th>\n",
       "    </tr>\n",
       "    <tr>\n",
       "      <th>processor_brand</th>\n",
       "      <th></th>\n",
       "      <th></th>\n",
       "      <th></th>\n",
       "      <th></th>\n",
       "      <th></th>\n",
       "      <th></th>\n",
       "    </tr>\n",
       "  </thead>\n",
       "  <tbody>\n",
       "    <tr>\n",
       "      <th>amd</th>\n",
       "      <td>115706.0</td>\n",
       "      <td>33990.0</td>\n",
       "      <td>NaN</td>\n",
       "      <td>299990.0</td>\n",
       "      <td>59990.0</td>\n",
       "      <td>89799.0</td>\n",
       "    </tr>\n",
       "    <tr>\n",
       "      <th>apple</th>\n",
       "      <td>NaN</td>\n",
       "      <td>NaN</td>\n",
       "      <td>NaN</td>\n",
       "      <td>399900.0</td>\n",
       "      <td>NaN</td>\n",
       "      <td>70990.0</td>\n",
       "    </tr>\n",
       "    <tr>\n",
       "      <th>intel</th>\n",
       "      <td>96990.0</td>\n",
       "      <td>52199.0</td>\n",
       "      <td>86990.0</td>\n",
       "      <td>454490.0</td>\n",
       "      <td>59990.0</td>\n",
       "      <td>90000.0</td>\n",
       "    </tr>\n",
       "    <tr>\n",
       "      <th>other</th>\n",
       "      <td>NaN</td>\n",
       "      <td>14990.0</td>\n",
       "      <td>NaN</td>\n",
       "      <td>NaN</td>\n",
       "      <td>39551.0</td>\n",
       "      <td>NaN</td>\n",
       "    </tr>\n",
       "  </tbody>\n",
       "</table>\n",
       "</div>"
      ],
      "text/plain": [
       "primary_storage_type       HDD                         SSD                  \n",
       "Price_groups           высокая   низкая  средняя   высокая   низкая  средняя\n",
       "processor_brand                                                             \n",
       "amd                   115706.0  33990.0      NaN  299990.0  59990.0  89799.0\n",
       "apple                      NaN      NaN      NaN  399900.0      NaN  70990.0\n",
       "intel                  96990.0  52199.0  86990.0  454490.0  59990.0  90000.0\n",
       "other                      NaN  14990.0      NaN       NaN  39551.0      NaN"
      ]
     },
     "execution_count": 119,
     "metadata": {},
     "output_type": "execute_result"
    }
   ],
   "source": [
    "df.pivot_table('Price', index='processor_brand', columns=['primary_storage_type', 'Price_groups'], aggfunc='max')\n",
    "# группировка по столбцам по двум переменным"
   ]
  },
  {
   "cell_type": "code",
   "execution_count": 120,
   "metadata": {},
   "outputs": [
    {
     "data": {
      "text/html": [
       "<div>\n",
       "<style scoped>\n",
       "    .dataframe tbody tr th:only-of-type {\n",
       "        vertical-align: middle;\n",
       "    }\n",
       "\n",
       "    .dataframe tbody tr th {\n",
       "        vertical-align: top;\n",
       "    }\n",
       "\n",
       "    .dataframe thead tr th {\n",
       "        text-align: left;\n",
       "    }\n",
       "\n",
       "    .dataframe thead tr:last-of-type th {\n",
       "        text-align: right;\n",
       "    }\n",
       "</style>\n",
       "<table border=\"1\" class=\"dataframe\">\n",
       "  <thead>\n",
       "    <tr>\n",
       "      <th></th>\n",
       "      <th colspan=\"6\" halign=\"left\">mean</th>\n",
       "      <th colspan=\"6\" halign=\"left\">median</th>\n",
       "    </tr>\n",
       "    <tr>\n",
       "      <th>primary_storage_type</th>\n",
       "      <th colspan=\"3\" halign=\"left\">HDD</th>\n",
       "      <th colspan=\"3\" halign=\"left\">SSD</th>\n",
       "      <th colspan=\"3\" halign=\"left\">HDD</th>\n",
       "      <th colspan=\"3\" halign=\"left\">SSD</th>\n",
       "    </tr>\n",
       "    <tr>\n",
       "      <th>Price_groups</th>\n",
       "      <th>высокая</th>\n",
       "      <th>низкая</th>\n",
       "      <th>средняя</th>\n",
       "      <th>высокая</th>\n",
       "      <th>низкая</th>\n",
       "      <th>средняя</th>\n",
       "      <th>высокая</th>\n",
       "      <th>низкая</th>\n",
       "      <th>средняя</th>\n",
       "      <th>высокая</th>\n",
       "      <th>низкая</th>\n",
       "      <th>средняя</th>\n",
       "    </tr>\n",
       "    <tr>\n",
       "      <th>processor_brand</th>\n",
       "      <th></th>\n",
       "      <th></th>\n",
       "      <th></th>\n",
       "      <th></th>\n",
       "      <th></th>\n",
       "      <th></th>\n",
       "      <th></th>\n",
       "      <th></th>\n",
       "      <th></th>\n",
       "      <th></th>\n",
       "      <th></th>\n",
       "      <th></th>\n",
       "    </tr>\n",
       "  </thead>\n",
       "  <tbody>\n",
       "    <tr>\n",
       "      <th>amd</th>\n",
       "      <td>115706.0</td>\n",
       "      <td>29490.0</td>\n",
       "      <td>NaN</td>\n",
       "      <td>131711.600000</td>\n",
       "      <td>43150.351351</td>\n",
       "      <td>72367.631579</td>\n",
       "      <td>115706.0</td>\n",
       "      <td>29490.0</td>\n",
       "      <td>NaN</td>\n",
       "      <td>119990.0</td>\n",
       "      <td>43845.0</td>\n",
       "      <td>70095.0</td>\n",
       "    </tr>\n",
       "    <tr>\n",
       "      <th>apple</th>\n",
       "      <td>NaN</td>\n",
       "      <td>NaN</td>\n",
       "      <td>NaN</td>\n",
       "      <td>202652.857143</td>\n",
       "      <td>NaN</td>\n",
       "      <td>70990.000000</td>\n",
       "      <td>NaN</td>\n",
       "      <td>NaN</td>\n",
       "      <td>NaN</td>\n",
       "      <td>179900.0</td>\n",
       "      <td>NaN</td>\n",
       "      <td>70990.0</td>\n",
       "    </tr>\n",
       "    <tr>\n",
       "      <th>intel</th>\n",
       "      <td>96990.0</td>\n",
       "      <td>27923.0</td>\n",
       "      <td>69895.555556</td>\n",
       "      <td>154273.769231</td>\n",
       "      <td>42083.919355</td>\n",
       "      <td>73408.114583</td>\n",
       "      <td>96990.0</td>\n",
       "      <td>25990.0</td>\n",
       "      <td>66780.0</td>\n",
       "      <td>126845.0</td>\n",
       "      <td>42990.0</td>\n",
       "      <td>72244.5</td>\n",
       "    </tr>\n",
       "    <tr>\n",
       "      <th>other</th>\n",
       "      <td>NaN</td>\n",
       "      <td>14227.0</td>\n",
       "      <td>NaN</td>\n",
       "      <td>NaN</td>\n",
       "      <td>39551.000000</td>\n",
       "      <td>NaN</td>\n",
       "      <td>NaN</td>\n",
       "      <td>14701.0</td>\n",
       "      <td>NaN</td>\n",
       "      <td>NaN</td>\n",
       "      <td>39551.0</td>\n",
       "      <td>NaN</td>\n",
       "    </tr>\n",
       "  </tbody>\n",
       "</table>\n",
       "</div>"
      ],
      "text/plain": [
       "                          mean                                        \\\n",
       "primary_storage_type       HDD                                   SSD   \n",
       "Price_groups           высокая   низкая       средняя        высокая   \n",
       "processor_brand                                                        \n",
       "amd                   115706.0  29490.0           NaN  131711.600000   \n",
       "apple                      NaN      NaN           NaN  202652.857143   \n",
       "intel                  96990.0  27923.0  69895.555556  154273.769231   \n",
       "other                      NaN  14227.0           NaN            NaN   \n",
       "\n",
       "                                                    median                    \\\n",
       "primary_storage_type                                   HDD                     \n",
       "Price_groups                низкая       средняя   высокая   низкая  средняя   \n",
       "processor_brand                                                                \n",
       "amd                   43150.351351  72367.631579  115706.0  29490.0      NaN   \n",
       "apple                          NaN  70990.000000       NaN      NaN      NaN   \n",
       "intel                 42083.919355  73408.114583   96990.0  25990.0  66780.0   \n",
       "other                 39551.000000           NaN       NaN  14701.0      NaN   \n",
       "\n",
       "                                                  \n",
       "primary_storage_type       SSD                    \n",
       "Price_groups           высокая   низкая  средняя  \n",
       "processor_brand                                   \n",
       "amd                   119990.0  43845.0  70095.0  \n",
       "apple                 179900.0      NaN  70990.0  \n",
       "intel                 126845.0  42990.0  72244.5  \n",
       "other                      NaN  39551.0      NaN  "
      ]
     },
     "execution_count": 120,
     "metadata": {},
     "output_type": "execute_result"
    }
   ],
   "source": [
    "df.pivot_table('Price', index='processor_brand', columns=['primary_storage_type', 'Price_groups'], \n",
    "               aggfunc=['mean', 'median'])\n",
    "# вывод не только среднего, но и медианы"
   ]
  },
  {
   "cell_type": "markdown",
   "metadata": {},
   "source": [
    "## 8. Частотный анализ данных <a class=\"anchor\" id=\"chapter8\"></a>"
   ]
  },
  {
   "cell_type": "code",
   "execution_count": 121,
   "metadata": {},
   "outputs": [
    {
     "data": {
      "text/html": [
       "<div>\n",
       "<style scoped>\n",
       "    .dataframe tbody tr th:only-of-type {\n",
       "        vertical-align: middle;\n",
       "    }\n",
       "\n",
       "    .dataframe tbody tr th {\n",
       "        vertical-align: top;\n",
       "    }\n",
       "\n",
       "    .dataframe thead th {\n",
       "        text-align: right;\n",
       "    }\n",
       "</style>\n",
       "<table border=\"1\" class=\"dataframe\">\n",
       "  <thead>\n",
       "    <tr style=\"text-align: right;\">\n",
       "      <th></th>\n",
       "      <th>count</th>\n",
       "    </tr>\n",
       "    <tr>\n",
       "      <th>OS</th>\n",
       "      <th></th>\n",
       "    </tr>\n",
       "  </thead>\n",
       "  <tbody>\n",
       "    <tr>\n",
       "      <th>windows</th>\n",
       "      <td>924</td>\n",
       "    </tr>\n",
       "    <tr>\n",
       "      <th>dos</th>\n",
       "      <td>32</td>\n",
       "    </tr>\n",
       "    <tr>\n",
       "      <th>chrome</th>\n",
       "      <td>16</td>\n",
       "    </tr>\n",
       "    <tr>\n",
       "      <th>mac</th>\n",
       "      <td>15</td>\n",
       "    </tr>\n",
       "    <tr>\n",
       "      <th>other</th>\n",
       "      <td>2</td>\n",
       "    </tr>\n",
       "    <tr>\n",
       "      <th>android</th>\n",
       "      <td>1</td>\n",
       "    </tr>\n",
       "    <tr>\n",
       "      <th>ubuntu</th>\n",
       "      <td>1</td>\n",
       "    </tr>\n",
       "  </tbody>\n",
       "</table>\n",
       "</div>"
      ],
      "text/plain": [
       "         count\n",
       "OS            \n",
       "windows    924\n",
       "dos         32\n",
       "chrome      16\n",
       "mac         15\n",
       "other        2\n",
       "android      1\n",
       "ubuntu       1"
      ]
     },
     "execution_count": 121,
     "metadata": {},
     "output_type": "execute_result"
    }
   ],
   "source": [
    "df['OS'].value_counts().to_frame() \n",
    "# частотная таблица, по умолчанию отсортирована в порядке убывания частоты"
   ]
  },
  {
   "cell_type": "code",
   "execution_count": 122,
   "metadata": {},
   "outputs": [
    {
     "data": {
      "text/plain": [
       "OS\n",
       "windows    924\n",
       "dos         32\n",
       "chrome      16\n",
       "mac         15\n",
       "other        2\n",
       "android      1\n",
       "ubuntu       1\n",
       "Name: count, dtype: int64"
      ]
     },
     "execution_count": 122,
     "metadata": {},
     "output_type": "execute_result"
    }
   ],
   "source": [
    "df['OS'].value_counts()"
   ]
  },
  {
   "cell_type": "code",
   "execution_count": 123,
   "metadata": {},
   "outputs": [
    {
     "data": {
      "text/html": [
       "<div>\n",
       "<style scoped>\n",
       "    .dataframe tbody tr th:only-of-type {\n",
       "        vertical-align: middle;\n",
       "    }\n",
       "\n",
       "    .dataframe tbody tr th {\n",
       "        vertical-align: top;\n",
       "    }\n",
       "\n",
       "    .dataframe thead th {\n",
       "        text-align: right;\n",
       "    }\n",
       "</style>\n",
       "<table border=\"1\" class=\"dataframe\">\n",
       "  <thead>\n",
       "    <tr style=\"text-align: right;\">\n",
       "      <th></th>\n",
       "      <th>count</th>\n",
       "    </tr>\n",
       "    <tr>\n",
       "      <th>OS</th>\n",
       "      <th></th>\n",
       "    </tr>\n",
       "  </thead>\n",
       "  <tbody>\n",
       "    <tr>\n",
       "      <th>android</th>\n",
       "      <td>1</td>\n",
       "    </tr>\n",
       "    <tr>\n",
       "      <th>ubuntu</th>\n",
       "      <td>1</td>\n",
       "    </tr>\n",
       "    <tr>\n",
       "      <th>other</th>\n",
       "      <td>2</td>\n",
       "    </tr>\n",
       "    <tr>\n",
       "      <th>mac</th>\n",
       "      <td>15</td>\n",
       "    </tr>\n",
       "    <tr>\n",
       "      <th>chrome</th>\n",
       "      <td>16</td>\n",
       "    </tr>\n",
       "    <tr>\n",
       "      <th>dos</th>\n",
       "      <td>32</td>\n",
       "    </tr>\n",
       "    <tr>\n",
       "      <th>windows</th>\n",
       "      <td>924</td>\n",
       "    </tr>\n",
       "  </tbody>\n",
       "</table>\n",
       "</div>"
      ],
      "text/plain": [
       "         count\n",
       "OS            \n",
       "android      1\n",
       "ubuntu       1\n",
       "other        2\n",
       "mac         15\n",
       "chrome      16\n",
       "dos         32\n",
       "windows    924"
      ]
     },
     "execution_count": 123,
     "metadata": {},
     "output_type": "execute_result"
    }
   ],
   "source": [
    "df['OS'].value_counts(ascending=True).to_frame() \n",
    "# по возрастанию частоты"
   ]
  },
  {
   "cell_type": "code",
   "execution_count": 124,
   "metadata": {},
   "outputs": [
    {
     "data": {
      "text/html": [
       "<div>\n",
       "<style scoped>\n",
       "    .dataframe tbody tr th:only-of-type {\n",
       "        vertical-align: middle;\n",
       "    }\n",
       "\n",
       "    .dataframe tbody tr th {\n",
       "        vertical-align: top;\n",
       "    }\n",
       "\n",
       "    .dataframe thead th {\n",
       "        text-align: right;\n",
       "    }\n",
       "</style>\n",
       "<table border=\"1\" class=\"dataframe\">\n",
       "  <thead>\n",
       "    <tr style=\"text-align: right;\">\n",
       "      <th></th>\n",
       "      <th>count</th>\n",
       "    </tr>\n",
       "    <tr>\n",
       "      <th>OS</th>\n",
       "      <th></th>\n",
       "    </tr>\n",
       "  </thead>\n",
       "  <tbody>\n",
       "    <tr>\n",
       "      <th>android</th>\n",
       "      <td>1</td>\n",
       "    </tr>\n",
       "    <tr>\n",
       "      <th>chrome</th>\n",
       "      <td>16</td>\n",
       "    </tr>\n",
       "    <tr>\n",
       "      <th>dos</th>\n",
       "      <td>32</td>\n",
       "    </tr>\n",
       "    <tr>\n",
       "      <th>mac</th>\n",
       "      <td>15</td>\n",
       "    </tr>\n",
       "    <tr>\n",
       "      <th>other</th>\n",
       "      <td>2</td>\n",
       "    </tr>\n",
       "    <tr>\n",
       "      <th>ubuntu</th>\n",
       "      <td>1</td>\n",
       "    </tr>\n",
       "    <tr>\n",
       "      <th>windows</th>\n",
       "      <td>924</td>\n",
       "    </tr>\n",
       "  </tbody>\n",
       "</table>\n",
       "</div>"
      ],
      "text/plain": [
       "         count\n",
       "OS            \n",
       "android      1\n",
       "chrome      16\n",
       "dos         32\n",
       "mac         15\n",
       "other        2\n",
       "ubuntu       1\n",
       "windows    924"
      ]
     },
     "execution_count": 124,
     "metadata": {},
     "output_type": "execute_result"
    }
   ],
   "source": [
    "df['OS'].value_counts(ascending=True).sort_index().to_frame() \n",
    "# по возрастанию значений"
   ]
  },
  {
   "cell_type": "code",
   "execution_count": 125,
   "metadata": {},
   "outputs": [
    {
     "data": {
      "text/html": [
       "<div>\n",
       "<style scoped>\n",
       "    .dataframe tbody tr th:only-of-type {\n",
       "        vertical-align: middle;\n",
       "    }\n",
       "\n",
       "    .dataframe tbody tr th {\n",
       "        vertical-align: top;\n",
       "    }\n",
       "\n",
       "    .dataframe thead th {\n",
       "        text-align: right;\n",
       "    }\n",
       "</style>\n",
       "<table border=\"1\" class=\"dataframe\">\n",
       "  <thead>\n",
       "    <tr style=\"text-align: right;\">\n",
       "      <th></th>\n",
       "      <th>count</th>\n",
       "    </tr>\n",
       "    <tr>\n",
       "      <th>OS</th>\n",
       "      <th></th>\n",
       "    </tr>\n",
       "  </thead>\n",
       "  <tbody>\n",
       "    <tr>\n",
       "      <th>android</th>\n",
       "      <td>1</td>\n",
       "    </tr>\n",
       "    <tr>\n",
       "      <th>chrome</th>\n",
       "      <td>16</td>\n",
       "    </tr>\n",
       "    <tr>\n",
       "      <th>dos</th>\n",
       "      <td>32</td>\n",
       "    </tr>\n",
       "    <tr>\n",
       "      <th>mac</th>\n",
       "      <td>15</td>\n",
       "    </tr>\n",
       "    <tr>\n",
       "      <th>other</th>\n",
       "      <td>2</td>\n",
       "    </tr>\n",
       "    <tr>\n",
       "      <th>ubuntu</th>\n",
       "      <td>1</td>\n",
       "    </tr>\n",
       "    <tr>\n",
       "      <th>windows</th>\n",
       "      <td>924</td>\n",
       "    </tr>\n",
       "  </tbody>\n",
       "</table>\n",
       "</div>"
      ],
      "text/plain": [
       "         count\n",
       "OS            \n",
       "android      1\n",
       "chrome      16\n",
       "dos         32\n",
       "mac         15\n",
       "other        2\n",
       "ubuntu       1\n",
       "windows    924"
      ]
     },
     "execution_count": 125,
     "metadata": {},
     "output_type": "execute_result"
    }
   ],
   "source": [
    "df['OS'].value_counts(dropna=False).sort_index().to_frame() \n",
    "# пропущенные значения не игнорируются (в этих данных нет пропусков)"
   ]
  },
  {
   "cell_type": "code",
   "execution_count": 126,
   "metadata": {},
   "outputs": [
    {
     "data": {
      "text/plain": [
       "7"
      ]
     },
     "execution_count": 126,
     "metadata": {},
     "output_type": "execute_result"
    }
   ],
   "source": [
    "df['OS'].nunique()  # число уникальных значений переменной"
   ]
  },
  {
   "cell_type": "code",
   "execution_count": 127,
   "metadata": {},
   "outputs": [
    {
     "data": {
      "text/html": [
       "<div>\n",
       "<style scoped>\n",
       "    .dataframe tbody tr th:only-of-type {\n",
       "        vertical-align: middle;\n",
       "    }\n",
       "\n",
       "    .dataframe tbody tr th {\n",
       "        vertical-align: top;\n",
       "    }\n",
       "\n",
       "    .dataframe thead th {\n",
       "        text-align: right;\n",
       "    }\n",
       "</style>\n",
       "<table border=\"1\" class=\"dataframe\">\n",
       "  <thead>\n",
       "    <tr style=\"text-align: right;\">\n",
       "      <th></th>\n",
       "      <th></th>\n",
       "      <th>count</th>\n",
       "    </tr>\n",
       "    <tr>\n",
       "      <th>year_of_warranty</th>\n",
       "      <th>OS</th>\n",
       "      <th></th>\n",
       "    </tr>\n",
       "  </thead>\n",
       "  <tbody>\n",
       "    <tr>\n",
       "      <th rowspan=\"7\" valign=\"top\">1</th>\n",
       "      <th>windows</th>\n",
       "      <td>836</td>\n",
       "    </tr>\n",
       "    <tr>\n",
       "      <th>dos</th>\n",
       "      <td>29</td>\n",
       "    </tr>\n",
       "    <tr>\n",
       "      <th>chrome</th>\n",
       "      <td>16</td>\n",
       "    </tr>\n",
       "    <tr>\n",
       "      <th>mac</th>\n",
       "      <td>15</td>\n",
       "    </tr>\n",
       "    <tr>\n",
       "      <th>other</th>\n",
       "      <td>2</td>\n",
       "    </tr>\n",
       "    <tr>\n",
       "      <th>android</th>\n",
       "      <td>1</td>\n",
       "    </tr>\n",
       "    <tr>\n",
       "      <th>ubuntu</th>\n",
       "      <td>1</td>\n",
       "    </tr>\n",
       "    <tr>\n",
       "      <th>2</th>\n",
       "      <th>windows</th>\n",
       "      <td>63</td>\n",
       "    </tr>\n",
       "    <tr>\n",
       "      <th rowspan=\"2\" valign=\"top\">3</th>\n",
       "      <th>windows</th>\n",
       "      <td>8</td>\n",
       "    </tr>\n",
       "    <tr>\n",
       "      <th>dos</th>\n",
       "      <td>2</td>\n",
       "    </tr>\n",
       "    <tr>\n",
       "      <th rowspan=\"2\" valign=\"top\">No information</th>\n",
       "      <th>windows</th>\n",
       "      <td>17</td>\n",
       "    </tr>\n",
       "    <tr>\n",
       "      <th>dos</th>\n",
       "      <td>1</td>\n",
       "    </tr>\n",
       "  </tbody>\n",
       "</table>\n",
       "</div>"
      ],
      "text/plain": [
       "                          count\n",
       "year_of_warranty OS            \n",
       "1                windows    836\n",
       "                 dos         29\n",
       "                 chrome      16\n",
       "                 mac         15\n",
       "                 other        2\n",
       "                 android      1\n",
       "                 ubuntu       1\n",
       "2                windows     63\n",
       "3                windows      8\n",
       "                 dos          2\n",
       "No information   windows     17\n",
       "                 dos          1"
      ]
     },
     "execution_count": 127,
     "metadata": {},
     "output_type": "execute_result"
    }
   ],
   "source": [
    "df.groupby('year_of_warranty')['OS'].value_counts().to_frame()  # частотная таблица с группировкой"
   ]
  },
  {
   "cell_type": "code",
   "execution_count": 128,
   "metadata": {},
   "outputs": [
    {
     "data": {
      "text/html": [
       "<div>\n",
       "<style scoped>\n",
       "    .dataframe tbody tr th:only-of-type {\n",
       "        vertical-align: middle;\n",
       "    }\n",
       "\n",
       "    .dataframe tbody tr th {\n",
       "        vertical-align: top;\n",
       "    }\n",
       "\n",
       "    .dataframe thead th {\n",
       "        text-align: right;\n",
       "    }\n",
       "</style>\n",
       "<table border=\"1\" class=\"dataframe\">\n",
       "  <thead>\n",
       "    <tr style=\"text-align: right;\">\n",
       "      <th></th>\n",
       "      <th>proportion</th>\n",
       "    </tr>\n",
       "    <tr>\n",
       "      <th>OS</th>\n",
       "      <th></th>\n",
       "    </tr>\n",
       "  </thead>\n",
       "  <tbody>\n",
       "    <tr>\n",
       "      <th>windows</th>\n",
       "      <td>0.932392</td>\n",
       "    </tr>\n",
       "    <tr>\n",
       "      <th>dos</th>\n",
       "      <td>0.032291</td>\n",
       "    </tr>\n",
       "    <tr>\n",
       "      <th>chrome</th>\n",
       "      <td>0.016145</td>\n",
       "    </tr>\n",
       "    <tr>\n",
       "      <th>mac</th>\n",
       "      <td>0.015136</td>\n",
       "    </tr>\n",
       "    <tr>\n",
       "      <th>other</th>\n",
       "      <td>0.002018</td>\n",
       "    </tr>\n",
       "    <tr>\n",
       "      <th>android</th>\n",
       "      <td>0.001009</td>\n",
       "    </tr>\n",
       "    <tr>\n",
       "      <th>ubuntu</th>\n",
       "      <td>0.001009</td>\n",
       "    </tr>\n",
       "  </tbody>\n",
       "</table>\n",
       "</div>"
      ],
      "text/plain": [
       "         proportion\n",
       "OS                 \n",
       "windows    0.932392\n",
       "dos        0.032291\n",
       "chrome     0.016145\n",
       "mac        0.015136\n",
       "other      0.002018\n",
       "android    0.001009\n",
       "ubuntu     0.001009"
      ]
     },
     "execution_count": 128,
     "metadata": {},
     "output_type": "execute_result"
    }
   ],
   "source": [
    "df['OS'].value_counts(normalize=True).to_frame()  # проценты вместо частот"
   ]
  },
  {
   "cell_type": "code",
   "execution_count": 129,
   "metadata": {},
   "outputs": [
    {
     "data": {
      "text/plain": [
       "array(['windows', 'mac', 'dos', 'android', 'chrome', 'other', 'ubuntu'],\n",
       "      dtype=object)"
      ]
     },
     "execution_count": 129,
     "metadata": {},
     "output_type": "execute_result"
    }
   ],
   "source": [
    "df['OS'].unique()  # уникальные значения в столбце"
   ]
  },
  {
   "cell_type": "markdown",
   "metadata": {},
   "source": [
    "## 9. Графический анализ данных <a class=\"anchor\" id=\"chapter9\"></a>"
   ]
  },
  {
   "cell_type": "markdown",
   "metadata": {},
   "source": [
    "При построении гистограммы множество значений признака разбивается на k интервалов, эти интервалы становятся основаниями столбцов. Высота столбца пропорциональна количеству (частоте) значений признака, попадающих в соответствующий интервал."
   ]
  },
  {
   "cell_type": "code",
   "execution_count": 130,
   "metadata": {},
   "outputs": [
    {
     "data": {
      "text/plain": [
       "<Axes: >"
      ]
     },
     "execution_count": 130,
     "metadata": {},
     "output_type": "execute_result"
    },
    {
     "data": {
      "image/png": "[encoded data removed]",
      "text/plain": [
       "<Figure size 640x480 with 1 Axes>"
      ]
     },
     "metadata": {},
     "output_type": "display_data"
    }
   ],
   "source": [
    "df.Price.hist(bins=50)  # параметр bins определяет число столбиков"
   ]
  },
  {
   "cell_type": "code",
   "execution_count": 131,
   "metadata": {},
   "outputs": [
    {
     "data": {
      "text/plain": [
       "<Axes: >"
      ]
     },
     "execution_count": 131,
     "metadata": {},
     "output_type": "execute_result"
    },
    {
     "data": {
      "image/png": "[encoded data removed]",
      "text/plain": [
       "<Figure size 640x480 with 1 Axes>"
      ]
     },
     "metadata": {},
     "output_type": "display_data"
    }
   ],
   "source": [
    "# только для ОС Windows\n",
    "df[df.OS=='windows'].Price.hist(bins=50)"
   ]
  },
  {
   "cell_type": "markdown",
   "metadata": {},
   "source": [
    "Для категориальных переменных лучше строить столбчатую или круговую диаграмму."
   ]
  },
  {
   "cell_type": "code",
   "execution_count": 132,
   "metadata": {},
   "outputs": [
    {
     "data": {
      "text/plain": [
       "<Axes: ylabel='count'>"
      ]
     },
     "execution_count": 132,
     "metadata": {},
     "output_type": "execute_result"
    },
    {
     "data": {
      "image/png": "[encoded data removed]",
      "text/plain": [
       "<Figure size 640x480 with 1 Axes>"
      ]
     },
     "metadata": {},
     "output_type": "display_data"
    }
   ],
   "source": [
    "df.processor_brand.value_counts().plot(kind='pie')"
   ]
  },
  {
   "cell_type": "code",
   "execution_count": 133,
   "metadata": {},
   "outputs": [
    {
     "data": {
      "text/plain": [
       "<Axes: xlabel='processor_brand'>"
      ]
     },
     "execution_count": 133,
     "metadata": {},
     "output_type": "execute_result"
    },
    {
     "data": {
      "image/png": "[encoded data removed]",
      "text/plain": [
       "<Figure size 640x480 with 1 Axes>"
      ]
     },
     "metadata": {},
     "output_type": "display_data"
    }
   ],
   "source": [
    "df.processor_brand.value_counts().plot(kind='bar')"
   ]
  },
  {
   "cell_type": "code",
   "execution_count": 134,
   "metadata": {},
   "outputs": [
    {
     "data": {
      "text/plain": [
       "<Axes: title={'center': 'Processor Brand'}, ylabel='count'>"
      ]
     },
     "execution_count": 134,
     "metadata": {},
     "output_type": "execute_result"
    },
    {
     "data": {
      "image/png": "[encoded data removed]",
      "text/plain": [
       "<Figure size 640x480 with 1 Axes>"
      ]
     },
     "metadata": {},
     "output_type": "display_data"
    }
   ],
   "source": [
    "df.processor_brand.value_counts().plot(kind='pie', title = 'Processor Brand')  # у графика есть название"
   ]
  },
  {
   "cell_type": "markdown",
   "metadata": {},
   "source": [
    "Построим столбчатую диаграмму с группировкой (bar) и с накоплением (stacked)."
   ]
  },
  {
   "cell_type": "code",
   "execution_count": 135,
   "metadata": {},
   "outputs": [
    {
     "data": {
      "text/html": [
       "<div>\n",
       "<style scoped>\n",
       "    .dataframe tbody tr th:only-of-type {\n",
       "        vertical-align: middle;\n",
       "    }\n",
       "\n",
       "    .dataframe tbody tr th {\n",
       "        vertical-align: top;\n",
       "    }\n",
       "\n",
       "    .dataframe thead th {\n",
       "        text-align: right;\n",
       "    }\n",
       "</style>\n",
       "<table border=\"1\" class=\"dataframe\">\n",
       "  <thead>\n",
       "    <tr style=\"text-align: right;\">\n",
       "      <th>Price_groups</th>\n",
       "      <th>высокая</th>\n",
       "      <th>низкая</th>\n",
       "      <th>средняя</th>\n",
       "    </tr>\n",
       "    <tr>\n",
       "      <th>processor_brand</th>\n",
       "      <th></th>\n",
       "      <th></th>\n",
       "      <th></th>\n",
       "    </tr>\n",
       "  </thead>\n",
       "  <tbody>\n",
       "    <tr>\n",
       "      <th>amd</th>\n",
       "      <td>41.0</td>\n",
       "      <td>150.0</td>\n",
       "      <td>76.0</td>\n",
       "    </tr>\n",
       "    <tr>\n",
       "      <th>apple</th>\n",
       "      <td>14.0</td>\n",
       "      <td>NaN</td>\n",
       "      <td>1.0</td>\n",
       "    </tr>\n",
       "    <tr>\n",
       "      <th>intel</th>\n",
       "      <td>183.0</td>\n",
       "      <td>321.0</td>\n",
       "      <td>201.0</td>\n",
       "    </tr>\n",
       "    <tr>\n",
       "      <th>other</th>\n",
       "      <td>NaN</td>\n",
       "      <td>4.0</td>\n",
       "      <td>NaN</td>\n",
       "    </tr>\n",
       "  </tbody>\n",
       "</table>\n",
       "</div>"
      ],
      "text/plain": [
       "Price_groups     высокая  низкая  средняя\n",
       "processor_brand                          \n",
       "amd                 41.0   150.0     76.0\n",
       "apple               14.0     NaN      1.0\n",
       "intel              183.0   321.0    201.0\n",
       "other                NaN     4.0      NaN"
      ]
     },
     "execution_count": 135,
     "metadata": {},
     "output_type": "execute_result"
    }
   ],
   "source": [
    "df.groupby(['processor_brand'])['Price_groups'].value_counts().unstack()"
   ]
  },
  {
   "cell_type": "code",
   "execution_count": 136,
   "metadata": {},
   "outputs": [
    {
     "data": {
      "text/plain": [
       "<Axes: xlabel='processor_brand,Price_groups'>"
      ]
     },
     "execution_count": 136,
     "metadata": {},
     "output_type": "execute_result"
    },
    {
     "data": {
      "image/png": "[encoded data removed]",
      "text/plain": [
       "<Figure size 640x480 with 1 Axes>"
      ]
     },
     "metadata": {},
     "output_type": "display_data"
    }
   ],
   "source": [
    "df.groupby(['processor_brand'])['Price_groups'].value_counts().plot(kind='bar')"
   ]
  },
  {
   "cell_type": "code",
   "execution_count": 137,
   "metadata": {},
   "outputs": [
    {
     "data": {
      "text/plain": [
       "<Axes: xlabel='processor_brand'>"
      ]
     },
     "execution_count": 137,
     "metadata": {},
     "output_type": "execute_result"
    },
    {
     "data": {
      "image/png": "[encoded data removed]",
      "text/plain": [
       "<Figure size 640x480 with 1 Axes>"
      ]
     },
     "metadata": {},
     "output_type": "display_data"
    }
   ],
   "source": [
    "df.groupby(['processor_brand'])['Price_groups'].value_counts().unstack().plot(kind='bar')\n",
    "# столбиковая диаграмма с группировкой"
   ]
  },
  {
   "cell_type": "code",
   "execution_count": 138,
   "metadata": {},
   "outputs": [
    {
     "data": {
      "text/plain": [
       "<Axes: xlabel='processor_brand'>"
      ]
     },
     "execution_count": 138,
     "metadata": {},
     "output_type": "execute_result"
    },
    {
     "data": {
      "image/png": "[encoded data removed]",
      "text/plain": [
       "<Figure size 640x480 with 1 Axes>"
      ]
     },
     "metadata": {},
     "output_type": "display_data"
    }
   ],
   "source": [
    "df.groupby(['processor_brand'])['Price_groups'].value_counts().unstack().plot(kind='bar', stacked=True)\n",
    "# столбиковая диаграмма с накоплением (stacked)"
   ]
  },
  {
   "cell_type": "markdown",
   "metadata": {},
   "source": [
    "Диаграмма рассеяния (scatter plot) — это график, на котором каждая точка отображает пару значений из двух переменных.\n",
    "\n",
    "Ось X → значения одной переменной.\n",
    "\n",
    "Ось Y → значения другой переменной.\n",
    "\n",
    "Каждая точка на графике соответствует одной наблюдаемой паре (x, y).\n",
    "\n",
    "Может использоваться для следующих целей:\n",
    "\n",
    "- увидеть зависимость между переменными (линейная, нелинейная, отсутствие взаимосвязи);\n",
    "\n",
    "- для поиска кластеров или выбросов в данных;\n",
    "\n",
    "- для проверки гипотез о корреляции."
   ]
  },
  {
   "cell_type": "code",
   "execution_count": 139,
   "metadata": {},
   "outputs": [
    {
     "data": {
      "text/plain": [
       "<Axes: xlabel='Price', ylabel='Rating'>"
      ]
     },
     "execution_count": 139,
     "metadata": {},
     "output_type": "execute_result"
    },
    {
     "data": {
      "image/png": "[encoded data removed]",
      "text/plain": [
       "<Figure size 640x480 with 1 Axes>"
      ]
     },
     "metadata": {},
     "output_type": "display_data"
    }
   ],
   "source": [
    "df.plot.scatter(x = 'Price', y = 'Rating')"
   ]
  },
  {
   "cell_type": "markdown",
   "metadata": {},
   "source": [
    "Ящичковая диаграмма — это способ отображения распределения данных на основе пяти числовых характеристик: минимум, первый квартиль (Q1), медиана, третий квартиль (Q3) и максимум. Она позволяет выявлять выбросы."
   ]
  },
  {
   "cell_type": "code",
   "execution_count": 140,
   "metadata": {},
   "outputs": [
    {
     "data": {
      "text/plain": [
       "<Axes: >"
      ]
     },
     "execution_count": 140,
     "metadata": {},
     "output_type": "execute_result"
    },
    {
     "data": {
      "image/png": "[encoded data removed]",
      "text/plain": [
       "<Figure size 640x480 with 1 Axes>"
      ]
     },
     "metadata": {},
     "output_type": "display_data"
    }
   ],
   "source": [
    "df.boxplot(column='Price')"
   ]
  },
  {
   "cell_type": "code",
   "execution_count": 141,
   "metadata": {},
   "outputs": [
    {
     "data": {
      "text/plain": [
       "<Axes: title={'center': 'Price'}, xlabel='OS'>"
      ]
     },
     "execution_count": 141,
     "metadata": {},
     "output_type": "execute_result"
    },
    {
     "data": {
      "image/png": "[encoded data removed]",
      "text/plain": [
       "<Figure size 640x480 with 1 Axes>"
      ]
     },
     "metadata": {},
     "output_type": "display_data"
    }
   ],
   "source": [
    "df.boxplot(column='Price', by='OS')  # ящичковая диаграмма с группировкой"
   ]
  },
  {
   "cell_type": "markdown",
   "metadata": {},
   "source": [
    "## 10. Оценка нормальности распределения <a class=\"anchor\" id=\"chapter10\"></a>"
   ]
  },
  {
   "cell_type": "code",
   "execution_count": 142,
   "metadata": {},
   "outputs": [
    {
     "data": {
      "text/plain": [
       "<Axes: xlabel='Price', ylabel='Density'>"
      ]
     },
     "execution_count": 142,
     "metadata": {},
     "output_type": "execute_result"
    },
    {
     "data": {
      "image/png": "[encoded data removed]",
      "text/plain": [
       "<Figure size 640x480 with 1 Axes>"
      ]
     },
     "metadata": {},
     "output_type": "display_data"
    }
   ],
   "source": [
    "import warnings\n",
    "warnings.filterwarnings('ignore')  # не показываем предупреждения\n",
    "import seaborn as sns\n",
    "\n",
    "sns.distplot(df.Price.dropna())  # график распределения значений"
   ]
  },
  {
   "cell_type": "code",
   "execution_count": 143,
   "metadata": {},
   "outputs": [],
   "source": [
    "from scipy.stats import norm\n",
    "# мпортируем команду, которая задает нормальное распределение"
   ]
  },
  {
   "cell_type": "code",
   "execution_count": 144,
   "metadata": {},
   "outputs": [
    {
     "data": {
      "text/plain": [
       "<Axes: xlabel='Price', ylabel='Density'>"
      ]
     },
     "execution_count": 144,
     "metadata": {},
     "output_type": "execute_result"
    },
    {
     "data": {
      "image/png": "[encoded data removed]",
      "text/plain": [
       "<Figure size 640x480 with 1 Axes>"
      ]
     },
     "metadata": {},
     "output_type": "display_data"
    }
   ],
   "source": [
    "sns.distplot(df.Price.dropna(), fit=norm)  # добавляем график нормального распределения поверх существующего"
   ]
  },
  {
   "cell_type": "code",
   "execution_count": 145,
   "metadata": {},
   "outputs": [
    {
     "data": {
      "text/plain": [
       "<Axes: xlabel='Rating', ylabel='Density'>"
      ]
     },
     "execution_count": 145,
     "metadata": {},
     "output_type": "execute_result"
    },
    {
     "data": {
      "image/png": "[encoded data removed]",
      "text/plain": [
       "<Figure size 640x480 with 1 Axes>"
      ]
     },
     "metadata": {},
     "output_type": "display_data"
    }
   ],
   "source": [
    "sns.distplot(df.Rating.dropna(), fit=norm)"
   ]
  },
  {
   "cell_type": "code",
   "execution_count": 146,
   "metadata": {},
   "outputs": [
    {
     "data": {
      "text/plain": [
       "2.779862726618332"
      ]
     },
     "execution_count": 146,
     "metadata": {},
     "output_type": "execute_result"
    }
   ],
   "source": [
    "df.Price.skew()  # асимметрия"
   ]
  },
  {
   "cell_type": "markdown",
   "metadata": {},
   "source": [
    "Распределение имеет положительную асимметрию. В выборке превалируют дешевые ноутбуки."
   ]
  },
  {
   "cell_type": "code",
   "execution_count": 147,
   "metadata": {},
   "outputs": [
    {
     "data": {
      "text/plain": [
       "10.605194361964383"
      ]
     },
     "execution_count": 147,
     "metadata": {},
     "output_type": "execute_result"
    }
   ],
   "source": [
    "df.Price.kurtosis()  # эксцесс"
   ]
  },
  {
   "cell_type": "markdown",
   "metadata": {},
   "source": [
    "Распределение пиковое, большинство значений сконцентрированы в довольно узком диапазоне."
   ]
  },
  {
   "cell_type": "markdown",
   "metadata": {},
   "source": [
    "## 11. Построение графиков в библиотеке matplotlib <a class=\"anchor\" id=\"chapter11\"></a>"
   ]
  },
  {
   "cell_type": "code",
   "execution_count": 148,
   "metadata": {},
   "outputs": [],
   "source": [
    "import matplotlib.pyplot as plt \n",
    "# используется библиотека matplotlib, а точнее её часть под названием pyplot"
   ]
  },
  {
   "cell_type": "code",
   "execution_count": 149,
   "metadata": {},
   "outputs": [
    {
     "data": {
      "text/plain": [
       "[<matplotlib.lines.Line2D at 0x186856d10>]"
      ]
     },
     "execution_count": 149,
     "metadata": {},
     "output_type": "execute_result"
    },
    {
     "data": {
      "image/png": "[encoded data removed]",
      "text/plain": [
       "<Figure size 640x480 with 1 Axes>"
      ]
     },
     "metadata": {},
     "output_type": "display_data"
    }
   ],
   "source": [
    "plt.plot([1, 2, 3, 4], [1, 4, 9, 16])\n",
    "# функция plot принимает на вход список x-координат, список y-координат и рисует ломаную"
   ]
  },
  {
   "cell_type": "code",
   "execution_count": 150,
   "metadata": {},
   "outputs": [
    {
     "data": {
      "image/png": "[encoded data removed]",
      "text/plain": [
       "<Figure size 640x480 with 1 Axes>"
      ]
     },
     "metadata": {},
     "output_type": "display_data"
    }
   ],
   "source": [
    "plt.plot([1, 2, 3, 4], [1, 4, 9, 16])\n",
    "plt.show()  # чтобы показать только график"
   ]
  },
  {
   "cell_type": "code",
   "execution_count": 151,
   "metadata": {},
   "outputs": [
    {
     "data": {
      "image/png": "[encoded data removed]",
      "text/plain": [
       "<Figure size 640x480 with 1 Axes>"
      ]
     },
     "metadata": {},
     "output_type": "display_data"
    }
   ],
   "source": [
    "plt.plot([1, 2, 3, 4], [1, 4, 9, 16]);  # ; в конце, чтобы показать только график"
   ]
  },
  {
   "cell_type": "code",
   "execution_count": 152,
   "metadata": {},
   "outputs": [
    {
     "data": {
      "image/png": "[encoded data removed]",
      "text/plain": [
       "<Figure size 640x480 with 1 Axes>"
      ]
     },
     "metadata": {},
     "output_type": "display_data"
    }
   ],
   "source": [
    "plt.plot([1, 2, 3, 4], [1, 4, 9, 16], 'o');\n",
    "# график из отдельных точек"
   ]
  },
  {
   "cell_type": "code",
   "execution_count": 153,
   "metadata": {},
   "outputs": [
    {
     "data": {
      "image/png": "[encoded data removed]",
      "text/plain": [
       "<Figure size 640x480 with 1 Axes>"
      ]
     },
     "metadata": {},
     "output_type": "display_data"
    }
   ],
   "source": [
    "plt.plot([1, 2, 3, 4], [1, 4, 9, 16], '-o');\n",
    "# и точки, и линии"
   ]
  },
  {
   "cell_type": "code",
   "execution_count": 155,
   "metadata": {},
   "outputs": [
    {
     "name": "stdout",
     "output_type": "stream",
     "text": [
      "[-5.         -4.94974874 -4.89949749 -4.84924623 -4.79899497 -4.74874372\n",
      " -4.69849246 -4.64824121 -4.59798995 -4.54773869 -4.49748744 -4.44723618\n",
      " -4.39698492 -4.34673367 -4.29648241 -4.24623116 -4.1959799  -4.14572864\n",
      " -4.09547739 -4.04522613 -3.99497487 -3.94472362 -3.89447236 -3.84422111\n",
      " -3.79396985 -3.74371859 -3.69346734 -3.64321608 -3.59296482 -3.54271357\n",
      " -3.49246231 -3.44221106 -3.3919598  -3.34170854 -3.29145729 -3.24120603\n",
      " -3.19095477 -3.14070352 -3.09045226 -3.04020101 -2.98994975 -2.93969849\n",
      " -2.88944724 -2.83919598 -2.78894472 -2.73869347 -2.68844221 -2.63819095\n",
      " -2.5879397  -2.53768844 -2.48743719 -2.43718593 -2.38693467 -2.33668342\n",
      " -2.28643216 -2.2361809  -2.18592965 -2.13567839 -2.08542714 -2.03517588\n",
      " -1.98492462 -1.93467337 -1.88442211 -1.83417085 -1.7839196  -1.73366834\n",
      " -1.68341709 -1.63316583 -1.58291457 -1.53266332 -1.48241206 -1.4321608\n",
      " -1.38190955 -1.33165829 -1.28140704 -1.23115578 -1.18090452 -1.13065327\n",
      " -1.08040201 -1.03015075 -0.9798995  -0.92964824 -0.87939698 -0.82914573\n",
      " -0.77889447 -0.72864322 -0.67839196 -0.6281407  -0.57788945 -0.52763819\n",
      " -0.47738693 -0.42713568 -0.37688442 -0.32663317 -0.27638191 -0.22613065\n",
      " -0.1758794  -0.12562814 -0.07537688 -0.02512563  0.02512563  0.07537688\n",
      "  0.12562814  0.1758794   0.22613065  0.27638191  0.32663317  0.37688442\n",
      "  0.42713568  0.47738693  0.52763819  0.57788945  0.6281407   0.67839196\n",
      "  0.72864322  0.77889447  0.82914573  0.87939698  0.92964824  0.9798995\n",
      "  1.03015075  1.08040201  1.13065327  1.18090452  1.23115578  1.28140704\n",
      "  1.33165829  1.38190955  1.4321608   1.48241206  1.53266332  1.58291457\n",
      "  1.63316583  1.68341709  1.73366834  1.7839196   1.83417085  1.88442211\n",
      "  1.93467337  1.98492462  2.03517588  2.08542714  2.13567839  2.18592965\n",
      "  2.2361809   2.28643216  2.33668342  2.38693467  2.43718593  2.48743719\n",
      "  2.53768844  2.5879397   2.63819095  2.68844221  2.73869347  2.78894472\n",
      "  2.83919598  2.88944724  2.93969849  2.98994975  3.04020101  3.09045226\n",
      "  3.14070352  3.19095477  3.24120603  3.29145729  3.34170854  3.3919598\n",
      "  3.44221106  3.49246231  3.54271357  3.59296482  3.64321608  3.69346734\n",
      "  3.74371859  3.79396985  3.84422111  3.89447236  3.94472362  3.99497487\n",
      "  4.04522613  4.09547739  4.14572864  4.1959799   4.24623116  4.29648241\n",
      "  4.34673367  4.39698492  4.44723618  4.49748744  4.54773869  4.59798995\n",
      "  4.64824121  4.69849246  4.74874372  4.79899497  4.84924623  4.89949749\n",
      "  4.94974874  5.        ]\n",
      "200\n"
     ]
    }
   ],
   "source": [
    "x = np.linspace(-5, 5, 200)\n",
    "# это массив из 200 элементов, состоящий из равномерно разбросанных чисел от -5 до 5\n",
    "print(x)\n",
    "print(len(x))"
   ]
  },
  {
   "cell_type": "code",
   "execution_count": 156,
   "metadata": {},
   "outputs": [
    {
     "data": {
      "text/plain": [
       "array([-5.        , -4.94974874, -4.89949749, -4.84924623, -4.79899497,\n",
       "       -4.74874372, -4.69849246, -4.64824121, -4.59798995, -4.54773869])"
      ]
     },
     "execution_count": 156,
     "metadata": {},
     "output_type": "execute_result"
    }
   ],
   "source": [
    "x[:10]"
   ]
  },
  {
   "cell_type": "code",
   "execution_count": 158,
   "metadata": {},
   "outputs": [
    {
     "data": {
      "image/png": "[encoded data removed]",
      "text/plain": [
       "<Figure size 640x480 with 1 Axes>"
      ]
     },
     "metadata": {},
     "output_type": "display_data"
    }
   ],
   "source": [
    "plt.plot(x, x**2);  # порабола"
   ]
  },
  {
   "cell_type": "code",
   "execution_count": 159,
   "metadata": {},
   "outputs": [
    {
     "data": {
      "image/png": "[encoded data removed]",
      "text/plain": [
       "<Figure size 640x480 with 1 Axes>"
      ]
     },
     "metadata": {},
     "output_type": "display_data"
    }
   ],
   "source": [
    "plt.plot(x, np.sin(x));  # синусоида"
   ]
  },
  {
   "cell_type": "code",
   "execution_count": 164,
   "metadata": {},
   "outputs": [
    {
     "data": {
      "image/png": "[encoded data removed]",
      "text/plain": [
       "<Figure size 640x480 with 1 Axes>"
      ]
     },
     "metadata": {},
     "output_type": "display_data"
    }
   ],
   "source": [
    "x = np.random.random(100)  # случайные числа\n",
    "y = np.random.random(100)\n",
    "plt.plot(x,y, 'o');"
   ]
  },
  {
   "cell_type": "code",
   "execution_count": 165,
   "metadata": {},
   "outputs": [
    {
     "data": {
      "image/png": "[encoded data removed]",
      "text/plain": [
       "<Figure size 640x480 with 1 Axes>"
      ]
     },
     "metadata": {},
     "output_type": "display_data"
    }
   ],
   "source": [
    "plt.scatter(x,y);  # специальная функция для создания диаграммы рассеивания"
   ]
  },
  {
   "cell_type": "code",
   "execution_count": 166,
   "metadata": {},
   "outputs": [
    {
     "data": {
      "image/png": "[encoded data removed]",
      "text/plain": [
       "<Figure size 640x480 with 1 Axes>"
      ]
     },
     "metadata": {},
     "output_type": "display_data"
    }
   ],
   "source": [
    "plt.hist(x);  # гистограмма"
   ]
  },
  {
   "cell_type": "code",
   "execution_count": 167,
   "metadata": {},
   "outputs": [
    {
     "data": {
      "image/png": "[encoded data removed]",
      "text/plain": [
       "<Figure size 640x480 with 1 Axes>"
      ]
     },
     "metadata": {},
     "output_type": "display_data"
    }
   ],
   "source": [
    "x = np.linspace(-1,1,201)\n",
    "plt.plot(x,x**2, label = '$y = x^2$')  # Знак $ используется для записи формулы\n",
    "plt.plot(x,x**3, label = '$y = x^3$')\n",
    "plt.legend(loc='best');"
   ]
  },
  {
   "cell_type": "code",
   "execution_count": 168,
   "metadata": {},
   "outputs": [
    {
     "data": {
      "image/png": "[encoded data removed]",
      "text/plain": [
       "<Figure size 640x480 with 1 Axes>"
      ]
     },
     "metadata": {},
     "output_type": "display_data"
    }
   ],
   "source": [
    "plt.plot([1, 2, 3, 4], [1, 4, 9, 16])\n",
    "plt.ylabel('some numbers')  # подпись оси y\n",
    "plt.axis([0, 6, 0, 20]);  # границы значений по осям\n"
   ]
  },
  {
   "cell_type": "code",
   "execution_count": 169,
   "metadata": {},
   "outputs": [
    {
     "data": {
      "text/plain": [
       "array([0. , 0.2, 0.4, 0.6, 0.8, 1. , 1.2, 1.4, 1.6, 1.8, 2. , 2.2, 2.4,\n",
       "       2.6, 2.8, 3. , 3.2, 3.4, 3.6, 3.8, 4. , 4.2, 4.4, 4.6, 4.8])"
      ]
     },
     "execution_count": 169,
     "metadata": {},
     "output_type": "execute_result"
    }
   ],
   "source": [
    "t = np.arange(0., 5., 0.2)\n",
    "t"
   ]
  },
  {
   "cell_type": "code",
   "execution_count": 170,
   "metadata": {},
   "outputs": [
    {
     "data": {
      "image/png": "[encoded data removed]",
      "text/plain": [
       "<Figure size 640x480 with 1 Axes>"
      ]
     },
     "metadata": {},
     "output_type": "display_data"
    }
   ],
   "source": [
    "# red dashes, blue squares and green triangles\n",
    "plt.plot(t, t, 'r--', t, t**2, 'bs', t, t**3, 'g^');"
   ]
  },
  {
   "cell_type": "code",
   "execution_count": 171,
   "metadata": {},
   "outputs": [
    {
     "data": {
      "image/png": "[encoded data removed]",
      "text/plain": [
       "<Figure size 1200x300 with 3 Axes>"
      ]
     },
     "metadata": {},
     "output_type": "display_data"
    }
   ],
   "source": [
    "# визуализация категориальных переменных\n",
    "names = ['group_a', 'group_b', 'group_c']\n",
    "values = [1, 10, 100]\n",
    "\n",
    "plt.figure(figsize=(12, 3))  # размер графика\n",
    "\n",
    "plt.subplot(131)  # число строк, столбцов и номер графика\n",
    "plt.bar(names, values)\n",
    "plt.subplot(132)\n",
    "plt.scatter(names, values)\n",
    "plt.subplot(133)\n",
    "plt.plot(names, values)\n",
    "plt.suptitle('Categorical Plotting')\n",
    "plt.show()"
   ]
  },
  {
   "cell_type": "code",
   "execution_count": 172,
   "metadata": {
    "scrolled": true
   },
   "outputs": [
    {
     "data": {
      "image/png": "[encoded data removed]",
      "text/plain": [
       "<Figure size 640x480 with 1 Axes>"
      ]
     },
     "metadata": {},
     "output_type": "display_data"
    }
   ],
   "source": [
    "# Gapminder data \n",
    "import numpy as np\n",
    "\n",
    "gdp_cap = [974.5803384,  5937.029525999998,  6223.367465,  4797.231267,  12779.37964,  34435.367439999995,  36126.4927,  29796.04834,  1391.253792,  33692.60508,  1441.284873,  3822.137084,  7446.298803,  12569.85177,  9065.800825,  10680.79282,  1217.032994,  430.0706916,  1713.778686,  2042.09524,  36319.23501,  706.016537,  1704.063724,  13171.63885,  4959.114854,  7006.580419,  986.1478792,  277.5518587,  3632.557798,  9645.06142,  1544.750112,  14619.222719999998,  8948.102923,  22833.30851,  35278.41874,  2082.4815670000007,  6025.3747520000015,  6873.262326000001,  5581.180998,  5728.353514,  12154.08975,  641.3695236000002,  690.8055759,  33207.0844,  30470.0167,  13206.48452,  752.7497265,  32170.37442,  1327.60891,  27538.41188,  5186.050003,  942.6542111,  579.2317429999998,  1201.637154,  3548.3308460000007,  39724.97867,  18008.94444,  36180.78919,  2452.210407,  3540.651564,  11605.71449,  4471.061906,  40675.99635,  25523.2771,  28569.7197,  7320.8802620000015,  31656.06806,  4519.461171,  1463.249282,  1593.06548,  23348.139730000006,  47306.98978,  10461.05868,  1569.331442,  414.5073415,  12057.49928,  1044.770126,  759.3499101,  12451.6558,  1042.581557,  1803.151496,  10956.99112,  11977.57496,  3095.7722710000007,  9253.896111,  3820.17523,  823.6856205,  944.0,  4811.060429,  1091.359778,  36797.93332,  25185.00911,  2749.320965,  619.6768923999998,  2013.977305,  49357.19017,  22316.19287,  2605.94758,  9809.185636,  4172.838464,  7408.905561,  3190.481016,  15389.924680000002,  20509.64777,  19328.70901,  7670.122558,  10808.47561,  863.0884639000002,  1598.435089,  21654.83194,  1712.472136,  9786.534714,  862.5407561000002,  47143.17964,  18678.31435,  25768.25759,  926.1410683,  9269.657808,  28821.0637,  3970.095407,  2602.394995,  4513.480643,  33859.74835,  37506.41907,  4184.548089,  28718.27684,  1107.482182,  7458.396326999998,  882.9699437999999,  18008.50924,  7092.923025,  8458.276384,  1056.380121,  33203.26128,  42951.65309,  10611.46299,  11415.80569,  2441.576404,  3025.349798,  2280.769906,  1271.211593,  469.70929810000007] \n",
    "life_exp = [43.828,  76.423,  72.301,  42.731,  75.32,  81.235,  79.829,  75.635,  64.062,  79.441,  56.728,  65.554,  74.852,  50.728,  72.39,  73.005,  52.295,  49.58,  59.723,  50.43,  80.653,  44.74100000000001,  50.651,  78.553,  72.961,  72.889,  65.152,  46.462,  55.322,  78.782,  48.328,  75.748,  78.273,  76.486,  78.332,  54.791,  72.235,  74.994,  71.33800000000002,  71.878,  51.57899999999999,  58.04,  52.947,  79.313,  80.657,  56.735,  59.448,  79.406,  60.022,  79.483,  70.259,  56.007,  46.38800000000001,  60.916,  70.19800000000001,  82.208,  73.33800000000002,  81.757,  64.69800000000001,  70.65,  70.964,  59.545,  78.885,  80.745,  80.546,  72.567,  82.603,  72.535,  54.11,  67.297,  78.623,  77.58800000000002,  71.993,  42.592,  45.678,  73.952,  59.44300000000001,  48.303,  74.241,  54.467,  64.164,  72.801,  76.195,  66.803,  74.543,  71.164,  42.082,  62.069,  52.90600000000001,  63.785,  79.762,  80.204,  72.899,  56.867,  46.859,  80.196,  75.64,  65.483,  75.53699999999998,  71.752,  71.421,  71.688,  75.563,  78.098,  78.74600000000002,  76.442,  72.476,  46.242,  65.528,  72.777,  63.062,  74.002,  42.56800000000001,  79.972,  74.663,  77.926,  48.159,  49.339,  80.941,  72.396,  58.556,  39.613,  80.884,  81.70100000000002,  74.143,  78.4,  52.517,  70.616,  58.42,  69.819,  73.923,  71.777,  51.542,  79.425,  78.242,  76.384,  73.747,  74.249,  73.422,  62.698,  42.38399999999999,  43.487] \n",
    "pop = [31.889923,  3.600523,  33.333216,  12.420476,  40.301927,  20.434176,  8.199783,  0.708573,  150.448339,  10.392226,  8.078314,  9.119152,  4.552198,  1.639131,  190.010647,  7.322858,  14.326203,  8.390505,  14.131858,  17.696293,  33.390141,  4.369038,  10.238807,  16.284741,  1318.683096,  44.22755,  0.71096,  64.606759,  3.80061,  4.133884,  18.013409,  4.493312,  11.416987,  10.228744,  5.46812,  0.496374,  9.319622,  13.75568,  80.264543,  6.939688,  0.551201,  4.906585,  76.511887,  5.23846,  61.083916,  1.454867,  1.688359,  82.400996,  22.873338,  10.70629,  12.572928,  9.947814,  1.472041,  8.502814,  7.483763,  6.980412,  9.956108,  0.301931,  1110.396331,  223.547,  69.45357,  27.499638,  4.109086,  6.426679,  58.147733,  2.780132,  127.467972,  6.053193,  35.610177,  23.301725,  49.04479,  2.505559,  3.921278,  2.012649,  3.193942,  6.036914,  19.167654,  13.327079,  24.821286,  12.031795,  3.270065,  1.250882,  108.700891,  2.874127,  0.684736,  33.757175,  19.951656,  47.76198,  2.05508,  28.90179,  16.570613,  4.115771,  5.675356,  12.894865,  135.031164,  4.627926,  3.204897,  169.270617,  3.242173,  6.667147,  28.674757,  91.077287,  38.518241,  10.642836,  3.942491,  0.798094,  22.276056,  8.860588,  0.199579,  27.601038,  12.267493,  10.150265,  6.144562,  4.553009,  5.447502,  2.009245,  9.118773,  43.997828,  40.448191,  20.378239,  42.292929,  1.133066,  9.031088,  7.554661,  19.314747,  23.174294,  38.13964,  65.068149,  5.701579,  1.056608,  10.276158,  71.158647,  29.170398,  60.776238,  301.139947,  3.447496,  26.084662,  85.262356,  4.018332,  22.211743,  11.746035,  12.311143] \n",
    "col = ['red',  'green',  'blue',  'blue',  'yellow',  'black',  'green',  'red',  'red',  'green',  'blue',  'yellow',  'green',  'blue',  'yellow',  'green',  'blue',  'blue',  'red',  'blue',  'yellow',  'blue',  'blue',  'yellow',  'red',  'yellow',  'blue',  'blue',  'blue',  'yellow',  'blue',  'green',  'yellow',  'green',  'green',  'blue',  'yellow',  'yellow',  'blue',  'yellow',  'blue',  'blue',  'blue',  'green',  'green',  'blue',  'blue',  'green',  'blue',  'green',  'yellow',  'blue',  'blue',  'yellow',  'yellow',  'red',  'green',  'green',  'red',  'red',  'red',  'red',  'green',  'red',  'green',  'yellow',  'red',  'red',  'blue',  'red',  'red',  'red',  'red',  'blue',  'blue',  'blue',  'blue',  'blue',  'red',  'blue',  'blue',  'blue',  'yellow',  'red',  'green',  'blue',  'blue',  'red',  'blue',  'red',  'green',  'black',  'yellow',  'blue',  'blue',  'green',  'red',  'red',  'yellow',  'yellow',  'yellow',  'red',  'green',  'green',  'yellow',  'blue',  'green',  'blue',  'blue',  'red',  'blue',  'green',  'blue',  'red',  'green',  'green',  'blue',  'blue',  'green',  'red',  'blue',  'blue',  'green',  'green',  'red',  'red',  'blue',  'red',  'blue',  'yellow',  'blue',  'green',  'blue',  'green',  'yellow',  'yellow',  'yellow',  'red',  'red',  'red',  'blue',  'blue'] \n",
    "\n",
    "plt.scatter(x = gdp_cap, y = life_exp, s = np.array(pop) * 2, c = col, alpha = 0.8)\n",
    "\n",
    "plt.xscale('log') \n",
    "plt.xlabel('GDP per Capita [in USD]')\n",
    "plt.ylabel('Life Expectancy [in years]')\n",
    "plt.title('World Development in 2007')\n",
    "plt.xticks([1000,10000,100000], ['1k','10k','100k'])\n",
    "\n",
    "plt.text(1550, 71, 'India')\n",
    "plt.text(5700, 80, 'China')\n",
    "\n",
    "plt.grid(True)\n",
    "\n",
    "plt.show()"
   ]
  },
  {
   "cell_type": "markdown",
   "metadata": {},
   "source": [
    "Про графики в Python:\n",
    "- https://python-graph-gallery.com/\n",
    "- https://www.machinelearningplus.com/plots/top-50-matplotlib-visualizations-the-master-plots-python/"
   ]
  }
 ],
 "metadata": {
  "kernelspec": {
   "display_name": "Python 3 (ipykernel)",
   "language": "python",
   "name": "python3"
  },
  "language_info": {
   "codemirror_mode": {
    "name": "ipython",
    "version": 3
   },
   "file_extension": ".py",
   "mimetype": "text/x-python",
   "name": "python",
   "nbconvert_exporter": "python",
   "pygments_lexer": "ipython3",
   "version": "3.11.5"
  }
 },
 "nbformat": 4,
 "nbformat_minor": 4
}
