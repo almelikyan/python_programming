{
 "cells": [
  {
   "cell_type": "markdown",
   "metadata": {},
   "source": [
    "# Курс \"Программирование на Python\"\n",
    "\n",
    "\n",
    "# Практическое задание №4 (опциональное, 2 балла)"
   ]
  },
  {
   "cell_type": "markdown",
   "metadata": {},
   "source": [
    "## Часть 1. Библиотека numpy"
   ]
  },
  {
   "cell_type": "markdown",
   "metadata": {},
   "source": [
    "Проанализируйте эффективность компании по найму сотрудников. У вас в распоряжении следующие данные по каждому кандидату:\n",
    "- длительность процедуры найма в днях;\n",
    "- количество этапов прохождения собеседований;\n",
    "- оценка кандидата (по шкале от 0 до 100);\n",
    "- зарплатные ожидания кандидатов (в тыс. рублей);\n",
    "- кандидат принят (True если да);\n",
    "- код отдела (от 0 до 3)."
   ]
  },
  {
   "cell_type": "code",
   "execution_count": 2,
   "metadata": {},
   "outputs": [],
   "source": [
    "import numpy as np  # генерируем данные\n",
    "\n",
    "np.random.seed(42)  # для воспроизводимости\n",
    "\n",
    "n = 1000\n",
    "\n",
    "# 0: время найма (5–60 дней)\n",
    "time_to_hire = np.random.randint(5, 61, size=n)\n",
    "\n",
    "# 1: этапы (1–7)\n",
    "stages = np.random.randint(1, 8, size=n)\n",
    "\n",
    "# 2: оценка (0–100)\n",
    "scores = np.random.uniform(40, 100, size=n)\n",
    "\n",
    "# 3: ожидания по зарплате (50–150 тыс.)\n",
    "salary_expect = np.random.uniform(50, 150, size=n)\n",
    "\n",
    "# 4: принят (с вероятностью 0.4)\n",
    "accepted = np.random.choice([0, 1], size=n, p=[0.6, 0.4])\n",
    "\n",
    "# 5: отдел (0 — маркетинг, 1 — разработка, 2 — продажи, 3 — HR)\n",
    "departments = np.random.randint(0, 4, size=n)\n",
    "\n",
    "# Формируем финальный массив\n",
    "data = np.column_stack((time_to_hire, stages, scores, salary_expect, accepted, departments))"
   ]
  },
  {
   "cell_type": "code",
   "execution_count": 3,
   "metadata": {},
   "outputs": [
    {
     "name": "stdout",
     "output_type": "stream",
     "text": [
      "[[ 43.           4.          92.85224555  84.79414116   0.\n",
      "    3.        ]\n",
      " [ 56.           4.          92.31061166  95.03509789   1.\n",
      "    0.        ]\n",
      " [ 33.           1.          41.75483698 124.8826337    0.\n",
      "    2.        ]\n",
      " ...\n",
      " [ 15.           4.          46.03824871  94.25455148   0.\n",
      "    2.        ]\n",
      " [ 58.           7.          54.39244677 114.93223246   0.\n",
      "    2.        ]\n",
      " [ 20.           5.          48.51831939 143.62806215   0.\n",
      "    1.        ]]\n"
     ]
    }
   ],
   "source": [
    "print(data)"
   ]
  },
  {
   "cell_type": "code",
   "execution_count": 4,
   "metadata": {},
   "outputs": [
    {
     "data": {
      "text/plain": [
       "(1000, 6)"
      ]
     },
     "execution_count": 4,
     "metadata": {},
     "output_type": "execute_result"
    }
   ],
   "source": [
    "data.shape"
   ]
  },
  {
   "cell_type": "markdown",
   "metadata": {},
   "source": [
    "Определите следующее:\n",
    "1. среднее, медианное и стандартное отклонение времени найма по всей выборке;\n",
    "2. есть ли разница в среднем времени найма между принятыми и отклонёнными кандидатами;\n",
    "3. среднюю оценку кандидатов, прошедших более 4 этапов;\n",
    "4. долю принятых кандидатов с оценкой выше 80;\n",
    "5. среднюю оценку и долю принятых по отделам."
   ]
  },
  {
   "cell_type": "code",
   "execution_count": 10,
   "metadata": {},
   "outputs": [],
   "source": [
    "# код здесь  (￣▽￣)/♫•*¨*•.¸¸♪ "
   ]
  },
  {
   "cell_type": "markdown",
   "metadata": {},
   "source": [
    "## Часть 2. Библиотека pandas"
   ]
  },
  {
   "cell_type": "markdown",
   "metadata": {},
   "source": [
    "Проанализируйте данные о вакансиях на глобальном рынке труда в сфере ИИ в 2025 году.\n",
    "\n",
    "[Источник](https://www.kaggle.com/datasets/bismasajjad/global-ai-job-market-and-salary-trends-2025)\n",
    "\n",
    "В файле `ai_job_dataset.csv` содержаться следующие переменные:\n",
    "\n",
    "\n",
    "- job_id: Unique identifier for each job posting\n",
    "- job_title: Standardized job title\t\n",
    "- salary_usd:\tAnnual salary in USD\t\n",
    "- salary_currency:\tOriginal salary currency\t\n",
    "- salary_local:\tSalary in local currency\t\n",
    "- experience_level:\tEN (Entry), MI (Mid), SE (Senior), EX (Executive)\t\n",
    "- employment_type:\tFT (Full-time), PT (Part-time), CT (Contract), FL (Freelance)\t\n",
    "- company_location:\tCountry where company is located\t\n",
    "- company_size:\tS (Small <50), M (Medium 50-250), L (Large >250)\t\n",
    "- employee_residence:\tCountry where employee resides\t\n",
    "- remote_ratio:\t0 (No remote), 50 (Hybrid), 100 (Fully remote)\t\n",
    "- required_skills:\tTop 5 required skills (comma-separated)\t\n",
    "- education_required:\tMinimum education requirement\t\n",
    "- years_experience:\tRequired years of experience\t\n",
    "- industry:\tIndustry sector of the company\t\n",
    "- posting_date:\tDate when job was posted\t\n",
    "- application_deadline:\tApplication deadline\t\n",
    "- job_description_length:\tCharacter count of job description\t\n",
    "- benefits_score:\tNumerical score of benefits package (1-10)\t"
   ]
  },
  {
   "cell_type": "markdown",
   "metadata": {},
   "source": [
    "1. Опишите датасет (число наблюдений и переменных, пропущенных значений, типы данных, типы шкал переменных)."
   ]
  },
  {
   "cell_type": "code",
   "execution_count": 20,
   "metadata": {},
   "outputs": [],
   "source": [
    "# код здесь  ≽^•⩊•^≼ "
   ]
  },
  {
   "cell_type": "markdown",
   "metadata": {},
   "source": [
    "2. Отобразите первые пять строк и последние три строки датасета."
   ]
  },
  {
   "cell_type": "code",
   "execution_count": 21,
   "metadata": {},
   "outputs": [],
   "source": [
    "# код здесь (˶ᵔ ᵕ ᵔ˶)"
   ]
  },
  {
   "cell_type": "markdown",
   "metadata": {},
   "source": [
    "3. Установите идентификатор вакансии (job_id) как индекс строк."
   ]
  },
  {
   "cell_type": "code",
   "execution_count": 22,
   "metadata": {},
   "outputs": [],
   "source": [
    "# код здесь ♡‧₊˚✧ ૮ ˶ᵔ ᵕ ᵔ˶ ა ✧˚₊‧♡"
   ]
  },
  {
   "cell_type": "markdown",
   "metadata": {},
   "source": [
    "4. Выведите список названий столбцов таблицы."
   ]
  },
  {
   "cell_type": "code",
   "execution_count": 23,
   "metadata": {},
   "outputs": [],
   "source": [
    "# код здесь (ᵔ◡ᵔ)"
   ]
  },
  {
   "cell_type": "markdown",
   "metadata": {},
   "source": [
    "5. Выведите информацию о проценте непустых ячеек в каждом столбце."
   ]
  },
  {
   "cell_type": "code",
   "execution_count": 24,
   "metadata": {},
   "outputs": [],
   "source": [
    "# код здесь ☆ﾟ.*･｡ﾟ"
   ]
  },
  {
   "cell_type": "markdown",
   "metadata": {},
   "source": [
    "6. Выведите описательные статистики по столбцам, содержащим количественные данные."
   ]
  },
  {
   "cell_type": "code",
   "execution_count": 25,
   "metadata": {},
   "outputs": [],
   "source": [
    "# код здесь (..＞◡＜..)"
   ]
  },
  {
   "cell_type": "markdown",
   "metadata": {},
   "source": [
    "7. Переименуйте столбец \"industry\" в \"industry_comp\"."
   ]
  },
  {
   "cell_type": "code",
   "execution_count": 26,
   "metadata": {},
   "outputs": [],
   "source": [
    "# код здесь /ᐠ｡‸｡ᐟ\\"
   ]
  },
  {
   "cell_type": "markdown",
   "metadata": {},
   "source": [
    "8. Выведите столбцы, характеризующие вознаграждение за работу."
   ]
  },
  {
   "cell_type": "code",
   "execution_count": 27,
   "metadata": {},
   "outputs": [],
   "source": [
    "# код здесь (◕^^◕)"
   ]
  },
  {
   "cell_type": "markdown",
   "metadata": {},
   "source": [
    "9. Выведите название позиции для вакансии с идентификатором AI00056."
   ]
  },
  {
   "cell_type": "code",
   "execution_count": 28,
   "metadata": {},
   "outputs": [],
   "source": [
    "# код здесь ٩(◕‿◕｡)۶"
   ]
  },
  {
   "cell_type": "markdown",
   "metadata": {},
   "source": [
    "10. Отобразите данные о вакансиях, в которых заработная плата выше 200000 долларов США."
   ]
  },
  {
   "cell_type": "code",
   "execution_count": null,
   "metadata": {},
   "outputs": [],
   "source": [
    "# код здесь ʕ ᵔᴥᵔ ʔ"
   ]
  },
  {
   "cell_type": "markdown",
   "metadata": {},
   "source": [
    "11. Создайте новый столбец, в котором размер заработной платы рассчитан в рублях по текущему курсу."
   ]
  },
  {
   "cell_type": "code",
   "execution_count": 29,
   "metadata": {},
   "outputs": [],
   "source": [
    "# код здесь ^⨀ᴥ⨀^"
   ]
  },
  {
   "cell_type": "markdown",
   "metadata": {},
   "source": [
    "12. Создайте новый столбец is_local, который будет иметь значение True, если company_location == employee_residence, и False в противном случае."
   ]
  },
  {
   "cell_type": "code",
   "execution_count": 30,
   "metadata": {},
   "outputs": [],
   "source": [
    "# код здесь ✿˚ ༘ ⋆｡♡˚"
   ]
  },
  {
   "cell_type": "markdown",
   "metadata": {},
   "source": [
    "13. Рассчитайте средние заработные платы для вакансий с различными требованиями к опыту кандидатов."
   ]
  },
  {
   "cell_type": "code",
   "execution_count": 31,
   "metadata": {},
   "outputs": [],
   "source": [
    "# код здесь ∘⋆⋅✯⋅⋆∘"
   ]
  },
  {
   "cell_type": "markdown",
   "metadata": {},
   "source": [
    "14. Рассчитайте минимальные заработные платы для различных должностей для компаний разного размера (в одной таблице). "
   ]
  },
  {
   "cell_type": "code",
   "execution_count": 32,
   "metadata": {},
   "outputs": [],
   "source": [
    "# код здесь (づ๑•ᴗ•๑)づ♡"
   ]
  },
  {
   "cell_type": "markdown",
   "metadata": {},
   "source": [
    "15. Рассчитайте медиану требуемого опыта работы в годах для вакансий в китайских компаниях с требованием уровня образования не ниже магистерского."
   ]
  },
  {
   "cell_type": "code",
   "execution_count": 33,
   "metadata": {},
   "outputs": [],
   "source": [
    "# код здесь ≧◠‿◠≦"
   ]
  },
  {
   "cell_type": "markdown",
   "metadata": {},
   "source": [
    "16. Постройте гистограммы трех различных метрических переменных и опишите их. Столбики первой гистограммы должны быть красного цвета, второй - синего, третьей - зеленого."
   ]
  },
  {
   "cell_type": "code",
   "execution_count": 34,
   "metadata": {},
   "outputs": [],
   "source": [
    "# код здесь ( ੭ ･ᴗ･ )੭"
   ]
  },
  {
   "cell_type": "markdown",
   "metadata": {},
   "source": [
    "17. Постройте диаграмму, демонстрирующую взаимосвязь между размером компании и заработной платой. Добавьте название диаграмме и подписи осям. Обоснуйте выбор диаграммы и прокомментируйте тенденции и взаимосвязи, которые на ней отображены."
   ]
  },
  {
   "cell_type": "code",
   "execution_count": 36,
   "metadata": {},
   "outputs": [],
   "source": [
    "# код здесь ʕ•́ᴥ•̀ʔ"
   ]
  },
  {
   "cell_type": "markdown",
   "metadata": {},
   "source": [
    "18. Постройте ящичковую диаграмму заработной платы. Наблюдаются ли выбросы?"
   ]
  },
  {
   "cell_type": "code",
   "execution_count": 37,
   "metadata": {},
   "outputs": [],
   "source": [
    "# код здесь (*‿*✿) "
   ]
  },
  {
   "cell_type": "markdown",
   "metadata": {},
   "source": [
    "19. Определите топ-5 стран по количеству вакансий. Визуализируйте это с помощью столбчатой диаграммы."
   ]
  },
  {
   "cell_type": "code",
   "execution_count": 38,
   "metadata": {},
   "outputs": [],
   "source": [
    "# код здесь ☆*:.｡.o(≧▽≦)o.｡.:*☆"
   ]
  },
  {
   "cell_type": "markdown",
   "metadata": {},
   "source": [
    "20. Как связаны формат работы и зарплата? Кто получает больше — офисные, гибридные или полностью удалённые работники? Отличаются ли эти тенденции по странам?"
   ]
  },
  {
   "cell_type": "code",
   "execution_count": 39,
   "metadata": {},
   "outputs": [],
   "source": [
    "# код здесь (^◕ᴥ◕^)"
   ]
  },
  {
   "cell_type": "markdown",
   "metadata": {},
   "source": [
    "**Комментарии к заданию и принципам его оценивания:**\n",
    "\n",
    " - Все пункты задания должны сопровождаться _выполненным_ фрагментом кода.\n",
    " - Если Вы полностью выполнили это задание, то получаете за него 8 баллов (отлично). Для получения более высокой оценки нужно выйти за рамки предложенного задания. В случае с текущим заданием это может быть дополнительное самостоятельное изучение инструментов описательного анализа и их применение, или развернутое и глубокое исследование имеющихся данных на основе использования пройденных на занятиях инструментов.\n",
    " - Задание можно выполнять индивидуально или в группе из 2 человек, критерии оценивания при этом не меняются;\n",
    " - В названии загружаемого в Smart LMS файла нужно указать фамилию(ии) автора(ов) работы."
   ]
  },
  {
   "cell_type": "markdown",
   "metadata": {},
   "source": [
    "### Этот файл нужно сохранить как Jupyter Notebook (.ipynb) и загрузить в Smart LMS до 23:55 21 октября."
   ]
  }
 ],
 "metadata": {
  "kernelspec": {
   "display_name": "Python 3 (ipykernel)",
   "language": "python",
   "name": "python3"
  },
  "language_info": {
   "codemirror_mode": {
    "name": "ipython",
    "version": 3
   },
   "file_extension": ".py",
   "mimetype": "text/x-python",
   "name": "python",
   "nbconvert_exporter": "python",
   "pygments_lexer": "ipython3",
   "version": "3.11.5"
  }
 },
 "nbformat": 4,
 "nbformat_minor": 4
}
